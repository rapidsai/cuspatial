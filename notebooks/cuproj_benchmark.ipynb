{
 "cells": [
  {
   "cell_type": "markdown",
   "id": "4655f19f",
   "metadata": {},
   "source": [
    "# Simple cuProj WGS84 to UTM Projection Benchmark\n",
    "\n",
    "This notebook is a simple benchmark of the cuProj library. It compares the performance of the cuProj library to the performance of the [PyProj]https://pyproj4.github.io/pyproj/stable/index.html) library. The benchmark is performed on a single GPU and a single CPU, respectively.\n",
    "\n",
    "## Imports and setup"
   ]
  },
  {
   "cell_type": "code",
   "execution_count": 2,
   "id": "0a8ad0ad",
   "metadata": {},
   "outputs": [],
   "source": [
    "import numpy as np\n",
    "import cupy as cp\n",
    "from cuda import cudart\n",
    "\n",
    "from pyproj import Transformer\n",
    "from cuproj import Transformer as cuTransformer\n",
    "\n",
    "import timeit\n",
    "\n",
    "import matplotlib.pyplot as plt"
   ]
  },
  {
   "cell_type": "markdown",
   "id": "7d94cfbe",
   "metadata": {},
   "source": [
    "The benchmark is performed on a 2D grid of (latitude, longitude) points in the WGS84 (EPSG 4326) coordinate reference system (CRS), transforming them to UTM Zone 10N (EPSG 32610) . The grid is defined around San Francisco, California, USA."
   ]
  },
  {
   "cell_type": "code",
   "execution_count": 3,
   "id": "18f27ef1",
   "metadata": {},
   "outputs": [],
   "source": [
    "# San Francisco bounding box\n",
    "min_corner = (37.7081, -122.5149)\n",
    "max_corner = (37.8324, -122.3573)\n",
    "crs_from = \"EPSG:4326\"\n",
    "crs_to = \"EPSG:32610\""
   ]
  },
  {
   "cell_type": "markdown",
   "id": "dbc73961",
   "metadata": {},
   "source": [
    "The following functions generate a grid and transform all the points on the grid from WGS84 to UTM.\n",
    "There are two versions of the cuProj benchmark: one uses a Cupy ndarray stored in device memory and the other a Numpy ndarray stored in host memory. The latter includes the cost to copy the data from host to device memory, while the former times only the GPU computation."
   ]
  },
  {
   "cell_type": "code",
   "execution_count": 4,
   "id": "af10c517",
   "metadata": {},
   "outputs": [],
   "source": [
    "def run_pyproj(num_points):\n",
    "    grid_side = int(np.sqrt(num_points))\n",
    "    transformer = Transformer.from_crs(crs_from, crs_to)\n",
    "\n",
    "    x, y = np.meshgrid(np.linspace(min_corner[0], max_corner[0], grid_side),\n",
    "                       np.linspace(min_corner[1], max_corner[1], grid_side))\n",
    "\n",
    "    grid = [x.reshape(-1), y.reshape(-1)]\n",
    "\n",
    "    # warmup\n",
    "    transformer.transform(*grid)\n",
    "\n",
    "    t = timeit.Timer(lambda: transformer.transform(*grid))\n",
    "    return t.autorange()\n",
    "\n",
    "def cu_run_and_sync(transformer, grid):\n",
    "  transformer.transform(*grid)\n",
    "  cudart.cudaDeviceSynchronize()\n",
    "\n",
    "def run_cuproj(num_points):\n",
    "    grid_side = int(np.sqrt(num_points))\n",
    "    transformer = cuTransformer.from_crs(crs_from, crs_to)\n",
    "\n",
    "    x, y = cp.meshgrid(cp.linspace(min_corner[0], max_corner[0], grid_side),\n",
    "                       cp.linspace(min_corner[1], max_corner[1], grid_side))\n",
    "\n",
    "    grid = [x.reshape(-1), y.reshape(-1)]\n",
    "\n",
    "    # warmup\n",
    "    cu_run_and_sync(transformer, grid)\n",
    "\n",
    "    t = timeit.Timer(lambda: cu_run_and_sync(transformer, grid))\n",
    "    return t.autorange()\n",
    "\n",
    "def run_cuproj_host_data(num_points):\n",
    "    grid_side = int(np.sqrt(num_points))\n",
    "    transformer = cuTransformer.from_crs(crs_from, crs_to)\n",
    "\n",
    "    x, y = np.meshgrid(np.linspace(min_corner[0], max_corner[0], grid_side),\n",
    "                       np.linspace(min_corner[1], max_corner[1], grid_side))\n",
    "\n",
    "    grid = [x.reshape(-1), y.reshape(-1)]\n",
    "\n",
    "    # warmup\n",
    "    cu_run_and_sync(transformer, grid)\n",
    "\n",
    "    t = timeit.Timer(lambda: cu_run_and_sync(transformer, grid))\n",
    "    return t.autorange()"
   ]
  },
  {
   "cell_type": "markdown",
   "id": "594581d7",
   "metadata": {},
   "source": [
    "## Run Benchmarks\n",
    "\n",
    "Run each benchmark and compute the throughput in points per second."
   ]
  },
  {
   "cell_type": "code",
   "execution_count": 5,
   "id": "1813cc85",
   "metadata": {},
   "outputs": [],
   "source": [
    "num_data_points = 7  # reduce / increase as needed based on available memory\n",
    "min_points = 10**2\n",
    "max_points = 10**(num_data_points + 1)\n",
    "\n",
    "num_points = np.geomspace(min_points, max_points, num_data_points).astype(int)\n",
    "\n",
    "throughput_pyproj = []\n",
    "throughput_cuproj = []\n",
    "throughput_cuproj_host_data = []\n",
    "\n",
    "# pyproj\n",
    "for n in num_points:\n",
    "    iters, time = run_pyproj(n)\n",
    "    throughput_pyproj.append(n / (time / iters))\n",
    "    \n",
    "# cuproj data on device\n",
    "for n in num_points:\n",
    "    iters, time = run_cuproj(n)\n",
    "    throughput_cuproj.append(n / (time / iters))\n",
    "\n",
    "# cuproj including host to device copy\n",
    "for n in num_points:\n",
    "    iters, time = run_cuproj_host_data(n)\n",
    "    throughput_cuproj_host_data.append(n / (time / iters))"
   ]
  },
  {
   "cell_type": "markdown",
   "id": "17425148",
   "metadata": {},
   "source": [
    "## Results\n",
    "\n",
    "Plot the results using matplotlib."
   ]
  },
  {
   "cell_type": "code",
   "execution_count": 6,
   "id": "146c1d60",
   "metadata": {},
   "outputs": [
    {
     "data": {
      "image/png": "[encoded data removed]",
      "text/plain": [
       "<Figure size 640x480 with 1 Axes>"
      ]
     },
     "metadata": {},
     "output_type": "display_data"
    }
   ],
   "source": [
    "mean_throughputs = {'PyProj': throughput_pyproj, \n",
    "          'cuProj (device data)': throughput_cuproj,\n",
    "          'cuProj (host data)': throughput_cuproj_host_data}\n",
    "\n",
    "x = np.arange(len(num_points))\n",
    "width = 0.25\n",
    "\n",
    "fig, ax = plt.subplots()\n",
    "\n",
    "ax.set_yscale('log')\n",
    "ax.set_ylabel('Throughput (points/s)')\n",
    "ax.set_xlabel('Grid size (points)')\n",
    "ax.set_title('WGS84 to UTM Throughput')\n",
    "ax.set_xticks(x)\n",
    "\n",
    "powers = [int(np.log10(n)) for n in num_points]\n",
    "ax.set_xticklabels([f'$10^{n}$' for n in powers])\n",
    "\n",
    "for i, label in enumerate(mean_throughputs.keys()):\n",
    "  rects = ax.bar(x + (i - 1) * width, mean_throughputs[label], width, label=label)\n",
    "\n",
    "ax.legend()\n",
    "fig.tight_layout()\n",
    "plt.show()"
   ]
  },
  {
   "cell_type": "code",
   "execution_count": 7,
   "id": "25a93694",
   "metadata": {},
   "outputs": [
    {
     "data": {
      "text/html": [
       "<div>\n",
       "<style scoped>\n",
       "    .dataframe tbody tr th:only-of-type {\n",
       "        vertical-align: middle;\n",
       "    }\n",
       "\n",
       "    .dataframe tbody tr th {\n",
       "        vertical-align: top;\n",
       "    }\n",
       "\n",
       "    .dataframe thead th {\n",
       "        text-align: right;\n",
       "    }\n",
       "</style>\n",
       "<table border=\"1\" class=\"dataframe\">\n",
       "  <thead>\n",
       "    <tr style=\"text-align: right;\">\n",
       "      <th>Method</th>\n",
       "      <th>PyProj</th>\n",
       "      <th>cuProj (device data)</th>\n",
       "      <th>cuProj (host data)</th>\n",
       "    </tr>\n",
       "    <tr>\n",
       "      <th>Grid size (points)</th>\n",
       "      <th></th>\n",
       "      <th></th>\n",
       "      <th></th>\n",
       "    </tr>\n",
       "  </thead>\n",
       "  <tbody>\n",
       "    <tr>\n",
       "      <th>100</th>\n",
       "      <td>6.459995e+06</td>\n",
       "      <td>4.806236e+06</td>\n",
       "      <td>2.007928e+06</td>\n",
       "    </tr>\n",
       "    <tr>\n",
       "      <th>1000</th>\n",
       "      <td>8.493296e+06</td>\n",
       "      <td>4.302714e+07</td>\n",
       "      <td>1.872568e+07</td>\n",
       "    </tr>\n",
       "    <tr>\n",
       "      <th>10000</th>\n",
       "      <td>8.407354e+06</td>\n",
       "      <td>4.287955e+08</td>\n",
       "      <td>1.688901e+08</td>\n",
       "    </tr>\n",
       "    <tr>\n",
       "      <th>100000</th>\n",
       "      <td>8.420706e+06</td>\n",
       "      <td>4.093483e+09</td>\n",
       "      <td>5.978470e+08</td>\n",
       "    </tr>\n",
       "    <tr>\n",
       "      <th>1000000</th>\n",
       "      <td>8.130198e+06</td>\n",
       "      <td>1.991084e+10</td>\n",
       "      <td>8.545565e+08</td>\n",
       "    </tr>\n",
       "    <tr>\n",
       "      <th>10000000</th>\n",
       "      <td>8.158363e+06</td>\n",
       "      <td>3.160979e+10</td>\n",
       "      <td>8.050473e+08</td>\n",
       "    </tr>\n",
       "    <tr>\n",
       "      <th>100000000</th>\n",
       "      <td>8.184815e+06</td>\n",
       "      <td>3.167797e+10</td>\n",
       "      <td>6.592773e+08</td>\n",
       "    </tr>\n",
       "    <tr>\n",
       "      <th>1000000000</th>\n",
       "      <td>8.172385e+06</td>\n",
       "      <td>3.353269e+10</td>\n",
       "      <td>6.513598e+08</td>\n",
       "    </tr>\n",
       "  </tbody>\n",
       "</table>\n",
       "</div>"
      ],
      "text/plain": [
       "Method                    PyProj  cuProj (device data)  cuProj (host data)\n",
       "Grid size (points)                                                        \n",
       "100                 6.459995e+06          4.806236e+06        2.007928e+06\n",
       "1000                8.493296e+06          4.302714e+07        1.872568e+07\n",
       "10000               8.407354e+06          4.287955e+08        1.688901e+08\n",
       "100000              8.420706e+06          4.093483e+09        5.978470e+08\n",
       "1000000             8.130198e+06          1.991084e+10        8.545565e+08\n",
       "10000000            8.158363e+06          3.160979e+10        8.050473e+08\n",
       "100000000           8.184815e+06          3.167797e+10        6.592773e+08\n",
       "1000000000          8.172385e+06          3.353269e+10        6.513598e+08"
      ]
     },
     "execution_count": 7,
     "metadata": {},
     "output_type": "execute_result"
    }
   ],
   "source": [
    "import pandas as pd\n",
    "\n",
    "# display a data table of the mean throughputs\n",
    "# for each of the 3 methods\n",
    "df = pd.DataFrame(mean_throughputs, index=num_points)\n",
    "df.index.name = 'Grid size (points)'\n",
    "df.columns.name = 'Method'\n",
    "df"
   ]
  },
  {
   "cell_type": "code",
   "execution_count": 8,
   "id": "36ded72f",
   "metadata": {},
   "outputs": [
    {
     "name": "stdout",
     "output_type": "stream",
     "text": [
      "cuProj Speedup for 1,000,000,000 points: 4103.17x\n"
     ]
    }
   ],
   "source": [
    "# compute peak speedup\n",
    "n = format(num_points[-1], ',')\n",
    "print(f\"cuProj Speedup for {n} points: {mean_throughputs['cuProj (device data)'][-1] / mean_throughputs['PyProj'][-1] :.2f}x\")\n"
   ]
  }
 ],
 "metadata": {
  "kernelspec": {
   "display_name": "Python 3 (ipykernel)",
   "language": "python",
   "name": "python3"
  },
  "language_info": {
   "codemirror_mode": {
    "name": "ipython",
    "version": 3
   },
   "file_extension": ".py",
   "mimetype": "text/x-python",
   "name": "python",
   "nbconvert_exporter": "python",
   "pygments_lexer": "ipython3",
   "version": "3.10.12"
  }
 },
 "nbformat": 4,
 "nbformat_minor": 5
}
