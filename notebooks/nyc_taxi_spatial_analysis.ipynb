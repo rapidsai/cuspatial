{
 "cells": [
  {
   "cell_type": "code",
   "execution_count": 1,
   "metadata": {},
   "outputs": [],
   "source": [
    "import cuspatial\n",
    "import geopandas as gpd\n",
    "import cudf\n",
    "from numba import cuda\n",
    "import numpy as np"
   ]
  },
  {
   "cell_type": "code",
   "execution_count": 2,
   "metadata": {},
   "outputs": [],
   "source": [
    "#for cuXfilter, if remote\n",
    "url = '***.**0.***.**4' # make this your notebook server's url\n",
    "port = '8888'          # set this to your notebook server's port"
   ]
  },
  {
   "cell_type": "markdown",
   "metadata": {},
   "source": [
    "# Get your data"
   ]
  },
  {
   "cell_type": "code",
   "execution_count": 2,
   "metadata": {},
   "outputs": [
    {
     "name": "stdout",
     "output_type": "stream",
     "text": [
      "  % Total    % Received % Xferd  Average Speed   Time    Time     Time  Current\n",
      "                                 Dload  Upload   Total   Spent    Left  Speed\n",
      "100 1001k  100 1001k    0     0   397k      0  0:00:02  0:00:02 --:--:--  397k\n"
     ]
    }
   ],
   "source": [
    "!curl https://s3.amazonaws.com/nyc-tlc/misc/taxi_zones.zip -o zones.zip"
   ]
  },
  {
   "cell_type": "code",
   "execution_count": 3,
   "metadata": {},
   "outputs": [
    {
     "name": "stdout",
     "output_type": "stream",
     "text": [
      "  % Total    % Received % Xferd  Average Speed   Time    Time     Time  Current\n",
      "                                 Dload  Upload   Total   Spent    Left  Speed\n",
      "100 1893M  100 1893M    0     0  4524k      0  0:07:08  0:07:08 --:--:-- 5142k   0     0  4302k      0  0:07:30  0:03:45  0:03:45 4392kM   58 1112M    0     0  4325k      0  0:07:28  0:04:23  0:03:05 4361k\n"
     ]
    }
   ],
   "source": [
    "!curl https://s3.amazonaws.com/nyc-tlc/trip+data/yellow_tripdata_2015-01.csv -o taxi2015.csv"
   ]
  },
  {
   "cell_type": "code",
   "execution_count": 4,
   "metadata": {},
   "outputs": [
    {
     "name": "stdout",
     "output_type": "stream",
     "text": [
      "  % Total    % Received % Xferd  Average Speed   Time    Time     Time  Current\n",
      "                                 Dload  Upload   Total   Spent    Left  Speed\n",
      "100 2881k    0 2881k    0     0   907k      0 --:--:--  0:00:03 --:--:--  907k\n"
     ]
    }
   ],
   "source": [
    "!curl \"https://data.cityofnewyork.us/api/geospatial/tqmj-j8zm?method=export&format=GeoJSON\" > NYC_boroughs.json"
   ]
  },
  {
   "cell_type": "code",
   "execution_count": 3,
   "metadata": {},
   "outputs": [
    {
     "name": "stdout",
     "output_type": "stream",
     "text": [
      "CPU times: user 810 ms, sys: 214 ms, total: 1.02 s\n",
      "Wall time: 1.04 s\n"
     ]
    }
   ],
   "source": [
    "%%time\n",
    "NYC_boroughs = gpd.read_file('NYC_boroughs.json')\n",
    "NYC_boroughs.to_file('NYC_boroughs.shp')\n",
    "NYC_gpu = cuspatial.read_polygon_shapefile('NYC_boroughs.shp')"
   ]
  },
  {
   "cell_type": "markdown",
   "metadata": {},
   "source": [
    "# Let's check out the shape file\n",
    "\n",
    "cuSpatial geometry uses a packed format. In this object, `NYC_gpu`, the first GPU-array in the tuple contains the feature positions `f_pos`. `Feature 0` is the first 24 rings, `Feature 1` is the set of rings from index 24-28, and so forth.\n",
    "\n",
    "`r_pos` are the ring positions of each feature. `Ring 0` is the first 12 coordinate pairs, `Ring 1` is the coordinate pairs from index 12-511, and so forth.\n",
    "\n",
    "Finally the `DataFrame` at position `2` in `NYC_gpu` are the 75519 coordinates used in all 5 features, and the 106 rings that compose them.\n"
   ]
  },
  {
   "cell_type": "code",
   "execution_count": 4,
   "metadata": {},
   "outputs": [
    {
     "name": "stdout",
     "output_type": "stream",
     "text": [
      "(0     24\n",
      "1     28\n",
      "2     55\n",
      "3     73\n",
      "4    107\n",
      "Name: f_pos, dtype: int32, 0         12\n",
      "1        511\n",
      "2        523\n",
      "3        528\n",
      "4        536\n",
      "       ...  \n",
      "102    70054\n",
      "103    70300\n",
      "104    75278\n",
      "105    75291\n",
      "106    75519\n",
      "Name: r_pos, Length: 107, dtype: int32,                x          y\n",
      "0     -73.896809  40.795808\n",
      "1     -73.896785  40.796329\n",
      "2     -73.897131  40.796798\n",
      "3     -73.897883  40.797117\n",
      "4     -73.898521  40.796936\n",
      "...          ...        ...\n",
      "75514 -73.907743  40.872846\n",
      "75515 -73.907465  40.873547\n",
      "75516 -73.907088  40.874326\n",
      "75517 -73.906917  40.875056\n",
      "75518 -73.906651  40.875753\n",
      "\n",
      "[75519 rows x 2 columns])\n"
     ]
    }
   ],
   "source": [
    "print(NYC_gpu)"
   ]
  },
  {
   "cell_type": "code",
   "execution_count": 5,
   "metadata": {},
   "outputs": [
    {
     "name": "stdout",
     "output_type": "stream",
     "text": [
      "             x          y\n",
      "511 -73.898330  40.802413\n",
      "512 -73.899387  40.801936\n",
      "513 -73.899489  40.800901\n",
      "514 -73.900037  40.800909\n",
      "515 -73.899716  40.800799\n",
      "516 -73.899787  40.799510\n",
      "517 -73.900210  40.799264\n",
      "518 -73.899025  40.799172\n",
      "519 -73.898640  40.799101\n",
      "520 -73.897985  40.799604\n",
      "521 -73.896467  40.800790\n"
     ]
    }
   ],
   "source": [
    "t = NYC_gpu[2].iloc[511:522]\n",
    "print(t)"
   ]
  },
  {
   "cell_type": "markdown",
   "metadata": {},
   "source": [
    "You can see above the 11 vertices that make up `Feature 0`, `Ring 1`."
   ]
  },
  {
   "cell_type": "markdown",
   "metadata": {},
   "source": [
    "## Working with Polygons\n",
    "Let's look at and dive into the elements of the read shapefile using cuSpatial"
   ]
  },
  {
   "cell_type": "code",
   "execution_count": 6,
   "metadata": {},
   "outputs": [
    {
     "name": "stdout",
     "output_type": "stream",
     "text": [
      "Polygon Bounds: 0     24\n",
      "1     28\n",
      "2     55\n",
      "3     73\n",
      "4    107\n",
      "Name: f_pos, dtype: int32\n",
      "Last Vertex: 0         12\n",
      "1        511\n",
      "2        523\n",
      "3        528\n",
      "4        536\n",
      "       ...  \n",
      "102    70054\n",
      "103    70300\n",
      "104    75278\n",
      "105    75291\n",
      "106    75519\n",
      "Name: r_pos, Length: 107, dtype: int32\n",
      "Longitude:  0       -73.896809\n",
      "1       -73.896785\n",
      "2       -73.897131\n",
      "3       -73.897883\n",
      "4       -73.898521\n",
      "           ...    \n",
      "75514   -73.907743\n",
      "75515   -73.907465\n",
      "75516   -73.907088\n",
      "75517   -73.906917\n",
      "75518   -73.906651\n",
      "Name: x, Length: 75519, dtype: float64\n",
      "Latitude:  0        40.795808\n",
      "1        40.796329\n",
      "2        40.796798\n",
      "3        40.797117\n",
      "4        40.796936\n",
      "           ...    \n",
      "75514    40.872846\n",
      "75515    40.873547\n",
      "75516    40.874326\n",
      "75517    40.875056\n",
      "75518    40.875753\n",
      "Name: y, Length: 75519, dtype: float64\n"
     ]
    }
   ],
   "source": [
    "print(\"Polygon Bounds:\" , NYC_gpu[0]) # uppper bound of the rings that make up the polygon (feature)\n",
    "print(\"Last Vertex:\" , NYC_gpu[1]) # this is the position of the last vertex in each ring\n",
    "\n",
    "# You can get the lon/lat by \n",
    "print(\"Longitude: \", NYC_gpu[2]['x']) # prints lon\n",
    "print(\"Latitude: \" , NYC_gpu[2]['y']) # prints lat\n",
    "      \n",
    "NYC_gpu[2]['x'] = NYC_gpu[2]['x'].astype(\"float32\")\n",
    "NYC_gpu[2]['y'] = NYC_gpu[2]['y'].astype(\"float32\")"
   ]
  },
  {
   "cell_type": "code",
   "execution_count": 7,
   "metadata": {},
   "outputs": [
    {
     "data": {
      "text/plain": [
       "0       12\n",
       "1      511\n",
       "2      523\n",
       "3      528\n",
       "4      536\n",
       "5      561\n",
       "6      581\n",
       "7     1968\n",
       "8     2065\n",
       "9     2255\n",
       "10    2260\n",
       "11    2389\n",
       "12    2496\n",
       "13    2633\n",
       "14    2638\n",
       "15    2643\n",
       "16    2649\n",
       "17    2657\n",
       "18    2664\n",
       "19    2680\n",
       "20    2685\n",
       "21    2690\n",
       "22    2714\n",
       "23    8509\n",
       "24    8556\n",
       "Name: r_pos, dtype: int32"
      ]
     },
     "execution_count": 7,
     "metadata": {},
     "output_type": "execute_result"
    }
   ],
   "source": [
    "NYC_gpu[1].head(25) #this set of rings are NYC_gpu[1][0] (the first polygon). This data is packed.  "
   ]
  },
  {
   "cell_type": "markdown",
   "metadata": {},
   "source": [
    "## Taxi Data\n",
    "Let's import the taxi data.  Newer years have pickup/drop off location ids that you would have to cross correlate.  Older years, like 2015 give you a lon/lat values.  We'll be using those ideas"
   ]
  },
  {
   "cell_type": "code",
   "execution_count": 8,
   "metadata": {},
   "outputs": [
    {
     "name": "stdout",
     "output_type": "stream",
     "text": [
      "VendorID                   int64\n",
      "tpep_pickup_datetime      object\n",
      "tpep_dropoff_datetime     object\n",
      "passenger_count            int64\n",
      "trip_distance            float64\n",
      "pickup_longitude         float64\n",
      "pickup_latitude          float64\n",
      "RateCodeID                 int64\n",
      "store_and_fwd_flag        object\n",
      "dropoff_longitude        float64\n",
      "dropoff_latitude         float64\n",
      "payment_type               int64\n",
      "fare_amount              float64\n",
      "extra                    float64\n",
      "mta_tax                  float64\n",
      "tip_amount               float64\n",
      "tolls_amount             float64\n",
      "improvement_surcharge    float64\n",
      "total_amount             float64\n",
      "dtype: object\n"
     ]
    }
   ],
   "source": [
    "taxi2015 = cudf.read_csv(\"taxi2015.csv\")\n",
    "print(taxi2015.dtypes)"
   ]
  },
  {
   "cell_type": "code",
   "execution_count": 9,
   "metadata": {},
   "outputs": [
    {
     "data": {
      "text/plain": [
       "VendorID                 12748986\n",
       "tpep_pickup_datetime     12748986\n",
       "tpep_dropoff_datetime    12748986\n",
       "passenger_count          12748986\n",
       "trip_distance            12748986\n",
       "pickup_longitude         12748986\n",
       "pickup_latitude          12748986\n",
       "RateCodeID               12748986\n",
       "store_and_fwd_flag       12748986\n",
       "dropoff_longitude        12748986\n",
       "dropoff_latitude         12748986\n",
       "payment_type             12748986\n",
       "fare_amount              12748986\n",
       "extra                    12748986\n",
       "mta_tax                  12748986\n",
       "tip_amount               12748986\n",
       "tolls_amount             12748986\n",
       "improvement_surcharge    12748983\n",
       "total_amount             12748986\n",
       "dtype: int64"
      ]
     },
     "execution_count": 9,
     "metadata": {},
     "output_type": "execute_result"
    }
   ],
   "source": [
    "taxi2015.count()"
   ]
  },
  {
   "cell_type": "markdown",
   "metadata": {},
   "source": [
    "As you can see, the columns that we're interested in for our spatial analysis are `pickup_longitude`, `pickup_latitude`, `dropoff_longitude`, and `dropoff_latitude`.  However, they are `float64`. If we convert to `float32` we'll have GPU storage for twice as many features. Also, `float32` has plenty of precision for lon/lat computations."
   ]
  },
  {
   "cell_type": "code",
   "execution_count": 10,
   "metadata": {},
   "outputs": [],
   "source": [
    "taxi2015['pickup_longitude'] = taxi2015['pickup_longitude'].astype('float32')\n",
    "taxi2015['pickup_latitude'] = taxi2015['pickup_latitude'].astype('float32')\n",
    "\n",
    "taxi2015['dropoff_longitude'] = taxi2015['dropoff_longitude'].astype('float32')\n",
    "taxi2015['dropoff_latitude'] = taxi2015['dropoff_latitude'].astype('float32')"
   ]
  },
  {
   "cell_type": "markdown",
   "metadata": {},
   "source": [
    "## GPU Point-In-Polygon\n",
    "\n",
    "- 12m pickup locations\n",
    "- 12m dropoff locations\n",
    "- 5 borough features\n",
    "- 107 borough polygons\n",
    "- 75518 borough coordinates\n",
    "\n",
    "Now that we've collected the set of pickup locations and dropoff locations, we can use `cuSpatial.point_in_polygon_bitmap` to quickly determine which pickups and dropoffs occur in each borough. That is, 5 boroughs composed of a total of 107 polygons."
   ]
  },
  {
   "cell_type": "code",
   "execution_count": 11,
   "metadata": {},
   "outputs": [
    {
     "name": "stdout",
     "output_type": "stream",
     "text": [
      "CPU times: user 27.4 s, sys: 27.6 ms, total: 27.5 s\n",
      "Wall time: 27.5 s\n"
     ]
    }
   ],
   "source": [
    "%%time\n",
    "pickups = cuspatial.point_in_polygon_bitmap(taxi2015['pickup_longitude'] , taxi2015['pickup_latitude'], NYC_gpu[0], NYC_gpu[1], NYC_gpu[2]['x'], NYC_gpu[2]['y'])\n",
    "dropoffs = cuspatial.point_in_polygon_bitmap(taxi2015['dropoff_longitude'] , taxi2015['dropoff_latitude'], NYC_gpu[0], NYC_gpu[1], NYC_gpu[2]['x'], NYC_gpu[2]['y'])"
   ]
  },
  {
   "cell_type": "code",
   "execution_count": 12,
   "metadata": {},
   "outputs": [
    {
     "data": {
      "text/html": [
       "<div>\n",
       "<style scoped>\n",
       "    .dataframe tbody tr th:only-of-type {\n",
       "        vertical-align: middle;\n",
       "    }\n",
       "\n",
       "    .dataframe tbody tr th {\n",
       "        vertical-align: top;\n",
       "    }\n",
       "\n",
       "    .dataframe thead th {\n",
       "        text-align: right;\n",
       "    }\n",
       "</style>\n",
       "<table border=\"1\" class=\"dataframe\">\n",
       "  <thead>\n",
       "    <tr style=\"text-align: right;\">\n",
       "      <th></th>\n",
       "      <th>in_polygon_24</th>\n",
       "      <th>in_polygon_28</th>\n",
       "      <th>in_polygon_55</th>\n",
       "      <th>in_polygon_73</th>\n",
       "      <th>in_polygon_107</th>\n",
       "    </tr>\n",
       "  </thead>\n",
       "  <tbody>\n",
       "    <tr>\n",
       "      <th>0</th>\n",
       "      <td>False</td>\n",
       "      <td>False</td>\n",
       "      <td>False</td>\n",
       "      <td>False</td>\n",
       "      <td>True</td>\n",
       "    </tr>\n",
       "    <tr>\n",
       "      <th>1</th>\n",
       "      <td>False</td>\n",
       "      <td>False</td>\n",
       "      <td>False</td>\n",
       "      <td>False</td>\n",
       "      <td>True</td>\n",
       "    </tr>\n",
       "    <tr>\n",
       "      <th>2</th>\n",
       "      <td>False</td>\n",
       "      <td>False</td>\n",
       "      <td>False</td>\n",
       "      <td>False</td>\n",
       "      <td>True</td>\n",
       "    </tr>\n",
       "    <tr>\n",
       "      <th>3</th>\n",
       "      <td>False</td>\n",
       "      <td>False</td>\n",
       "      <td>False</td>\n",
       "      <td>False</td>\n",
       "      <td>True</td>\n",
       "    </tr>\n",
       "    <tr>\n",
       "      <th>4</th>\n",
       "      <td>False</td>\n",
       "      <td>False</td>\n",
       "      <td>False</td>\n",
       "      <td>False</td>\n",
       "      <td>True</td>\n",
       "    </tr>\n",
       "  </tbody>\n",
       "</table>\n",
       "</div>"
      ],
      "text/plain": [
       "   in_polygon_24  in_polygon_28  in_polygon_55  in_polygon_73  in_polygon_107\n",
       "0          False          False          False          False            True\n",
       "1          False          False          False          False            True\n",
       "2          False          False          False          False            True\n",
       "3          False          False          False          False            True\n",
       "4          False          False          False          False            True"
      ]
     },
     "execution_count": 12,
     "metadata": {},
     "output_type": "execute_result"
    }
   ],
   "source": [
    "pickups.head()"
   ]
  },
  {
   "cell_type": "code",
   "execution_count": 13,
   "metadata": {},
   "outputs": [
    {
     "data": {
      "text/html": [
       "<div>\n",
       "<style scoped>\n",
       "    .dataframe tbody tr th:only-of-type {\n",
       "        vertical-align: middle;\n",
       "    }\n",
       "\n",
       "    .dataframe tbody tr th {\n",
       "        vertical-align: top;\n",
       "    }\n",
       "\n",
       "    .dataframe thead th {\n",
       "        text-align: right;\n",
       "    }\n",
       "</style>\n",
       "<table border=\"1\" class=\"dataframe\">\n",
       "  <thead>\n",
       "    <tr style=\"text-align: right;\">\n",
       "      <th></th>\n",
       "      <th>in_polygon_24</th>\n",
       "      <th>in_polygon_28</th>\n",
       "      <th>in_polygon_55</th>\n",
       "      <th>in_polygon_73</th>\n",
       "      <th>in_polygon_107</th>\n",
       "    </tr>\n",
       "  </thead>\n",
       "  <tbody>\n",
       "    <tr>\n",
       "      <th>0</th>\n",
       "      <td>False</td>\n",
       "      <td>False</td>\n",
       "      <td>False</td>\n",
       "      <td>False</td>\n",
       "      <td>True</td>\n",
       "    </tr>\n",
       "    <tr>\n",
       "      <th>1</th>\n",
       "      <td>False</td>\n",
       "      <td>False</td>\n",
       "      <td>False</td>\n",
       "      <td>False</td>\n",
       "      <td>True</td>\n",
       "    </tr>\n",
       "    <tr>\n",
       "      <th>2</th>\n",
       "      <td>False</td>\n",
       "      <td>False</td>\n",
       "      <td>False</td>\n",
       "      <td>False</td>\n",
       "      <td>True</td>\n",
       "    </tr>\n",
       "    <tr>\n",
       "      <th>3</th>\n",
       "      <td>False</td>\n",
       "      <td>False</td>\n",
       "      <td>False</td>\n",
       "      <td>False</td>\n",
       "      <td>True</td>\n",
       "    </tr>\n",
       "    <tr>\n",
       "      <th>4</th>\n",
       "      <td>False</td>\n",
       "      <td>False</td>\n",
       "      <td>False</td>\n",
       "      <td>False</td>\n",
       "      <td>True</td>\n",
       "    </tr>\n",
       "  </tbody>\n",
       "</table>\n",
       "</div>"
      ],
      "text/plain": [
       "   in_polygon_24  in_polygon_28  in_polygon_55  in_polygon_73  in_polygon_107\n",
       "0          False          False          False          False            True\n",
       "1          False          False          False          False            True\n",
       "2          False          False          False          False            True\n",
       "3          False          False          False          False            True\n",
       "4          False          False          False          False            True"
      ]
     },
     "execution_count": 13,
     "metadata": {},
     "output_type": "execute_result"
    }
   ],
   "source": [
    "dropoffs.head()"
   ]
  },
  {
   "cell_type": "markdown",
   "metadata": {},
   "source": [
    "We just computed point in polygon for 25 million points against 75.5k other points in `3.07s`. That's really fast. Simply computing the pairwise distance between all 25m points and the 75.5k polygon coordinates is `25000000*75500=2 trillion` comparisons. We're **NOT going to compare full CPU times**.  We will take a subset, to give you a taste though."
   ]
  },
  {
   "cell_type": "markdown",
   "metadata": {},
   "source": [
    "## CPU Benchmark\n",
    "\n",
    "In the following section we'll pull a single 12 vertex polygon from the source data, create a `Shapely` polygon from it, and use Shapely to run point_in_polygon on a small subset of the 12m taxi pickup and dropoff locations."
   ]
  },
  {
   "cell_type": "code",
   "execution_count": 14,
   "metadata": {},
   "outputs": [
    {
     "name": "stdout",
     "output_type": "stream",
     "text": [
      "             x          y\n",
      "511 -73.898331  40.802414\n",
      "512 -73.899391  40.801937\n",
      "513 -73.899490  40.800900\n",
      "514 -73.900040  40.800907\n",
      "515 -73.899719  40.800800\n",
      "516 -73.899788  40.799511\n",
      "517 -73.900208  40.799263\n",
      "518 -73.899025  40.799171\n",
      "519 -73.898643  40.799103\n",
      "520 -73.897987  40.799603\n",
      "521 -73.896469  40.800789\n",
      "[(-73.89833068847656, 40.80241394042969), (-73.8993911743164, 40.801937103271484), (-73.89949035644531, 40.800899505615234), (-73.90003967285156, 40.800907135009766), (-73.89971923828125, 40.80080032348633), (-73.89978790283203, 40.79951095581055), (-73.90020751953125, 40.79926300048828), (-73.8990249633789, 40.799171447753906), (-73.89864349365234, 40.799102783203125), (-73.89798736572266, 40.79960250854492), (-73.89646911621094, 40.80078887939453)]\n"
     ]
    }
   ],
   "source": [
    "t = NYC_gpu[2].iloc[511:522]\n",
    "print(t)\n",
    "NYC_shape = list(zip(t['x'].tolist(), t['y'].tolist()))\n",
    "print(NYC_shape)"
   ]
  },
  {
   "cell_type": "code",
   "execution_count": 15,
   "metadata": {},
   "outputs": [],
   "source": [
    "from shapely.geometry import Point\n",
    "from shapely.geometry.polygon import Polygon\n",
    "\n",
    "outcome = []\n",
    "outcome_yes = 0\n",
    "outcome_no = 0\n",
    "random_1000 = taxi2015[['pickup_longitude', 'pickup_latitude']]#.iloc[\n",
    "    #np.random.choice(np.arange(taxi2015.shape[0]), 1000000),:]\n",
    "points = [Point(p) for p in list(zip(\n",
    "    random_1000['pickup_latitude'].tolist(), random_1000['pickup_longitude'].tolist()))]\n",
    "polygon = Polygon(NYC_shape)"
   ]
  },
  {
   "cell_type": "code",
   "execution_count": 19,
   "metadata": {},
   "outputs": [
    {
     "name": "stdout",
     "output_type": "stream",
     "text": [
      "yes:  0 no:  12748986\n",
      "CPU times: user 35.8 s, sys: 428 ms, total: 36.2 s\n",
      "Wall time: 36.2 s\n"
     ]
    }
   ],
   "source": [
    "%%time\n",
    "for i in range(0, len(points)):\n",
    "    point = points[i]\n",
    "    if(polygon.contains(point)):\n",
    "        outcome_yes += 1\n",
    "    else:\n",
    "        outcome_no += 1\n",
    "    #outcome.append(point.contains(polygon)) #to keep track of the ride that would start in that polygon\n",
    "print(\"yes: \", outcome_yes, \"no: \" , outcome_no)"
   ]
  },
  {
   "cell_type": "markdown",
   "metadata": {},
   "source": [
    "Is it working?"
   ]
  },
  {
   "cell_type": "code",
   "execution_count": 20,
   "metadata": {},
   "outputs": [
    {
     "name": "stdout",
     "output_type": "stream",
     "text": [
      "True\n"
     ]
    }
   ],
   "source": [
    "center = polygon.centroid\n",
    "print(polygon.contains(center))"
   ]
  },
  {
   "cell_type": "markdown",
   "metadata": {},
   "source": [
    "Yup!"
   ]
  },
  {
   "cell_type": "markdown",
   "metadata": {},
   "source": [
    "\n",
    "## Why? This needs an introduction.\n",
    "\n",
    "Let's make all the booleans into integers (dirty way)"
   ]
  },
  {
   "cell_type": "code",
   "execution_count": 16,
   "metadata": {},
   "outputs": [],
   "source": [
    "pickups = pickups*1\n",
    "dropoffs = dropoffs*1"
   ]
  },
  {
   "cell_type": "code",
   "execution_count": 17,
   "metadata": {},
   "outputs": [
    {
     "name": "stdout",
     "output_type": "stream",
     "text": [
      "     in_polygon_24  in_polygon_28  in_polygon_55  in_polygon_73  \\\n",
      "31               0              0              0              0   \n",
      "61               0              0              0              0   \n",
      "66               0              0              0              0   \n",
      "157              0              0              0              0   \n",
      "159              0              0              0              0   \n",
      "\n",
      "     in_polygon_107  polygon  \n",
      "31                0        0  \n",
      "61                0        0  \n",
      "66                0        0  \n",
      "157               0        0  \n",
      "159               0        0  \n",
      "     in_polygon_24  in_polygon_28  in_polygon_55  in_polygon_73  \\\n",
      "31               0              0              0              0   \n",
      "61               0              0              0              0   \n",
      "66               0              0              0              0   \n",
      "119              0              0              0              0   \n",
      "157              0              0              0              0   \n",
      "\n",
      "     in_polygon_107  polygon  \n",
      "31                0        0  \n",
      "61                0        0  \n",
      "66                0        0  \n",
      "119               0        0  \n",
      "157               0        0  \n",
      "CPU times: user 1.71 s, sys: 11.9 ms, total: 1.72 s\n",
      "Wall time: 1.72 s\n"
     ]
    }
   ],
   "source": [
    "%%time\n",
    "cols = [\"in_polygon_24\", \"in_polygon_28\", \"in_polygon_55\", \"in_polygon_73\", \"in_polygon_107\"] \n",
    "groups = pickups.groupby(cols, method='cudf')\n",
    "# Define a function to apply to each group\n",
    "def mult_add(in_polygon_24, in_polygon_28, in_polygon_55, in_polygon_73, in_polygon_107, polygon):\n",
    "    for i in range(cuda.threadIdx.x, len(in_polygon_24), cuda.blockDim.x):\n",
    "        if(in_polygon_24[i] == 1):\n",
    "            polygon[i] = 24\n",
    "        elif(in_polygon_28[i] == 1):\n",
    "            polygon[i] = 28\n",
    "        elif(in_polygon_55[i] == 1):\n",
    "            polygon[i] = 55\n",
    "        elif(in_polygon_73[i] == 1):\n",
    "            polygon[i] = 73\n",
    "        elif(in_polygon_107[i] == 1):\n",
    "            polygon[i] = 107\n",
    "        else:\n",
    "            polygon[i] = 0\n",
    "\n",
    "pickups = groups.apply_grouped(mult_add,\n",
    "                              incols=[\"in_polygon_24\", \"in_polygon_28\", \"in_polygon_55\", \"in_polygon_73\", \"in_polygon_107\"],\n",
    "                              outcols={'polygon': np.int32},\n",
    "                              # threads per block\n",
    "                              tpb=8)\n",
    "groups = dropoffs.groupby(cols, method='cudf')\n",
    "dropoffs = groups.apply_grouped(mult_add,\n",
    "                              incols=[\"in_polygon_24\", \"in_polygon_28\", \"in_polygon_55\", \"in_polygon_73\", \"in_polygon_107\"],\n",
    "                              outcols={'polygon': np.int32},\n",
    "                              # threads per block\n",
    "                              tpb=8)\n",
    "print(pickups.head())\n",
    "print(dropoffs.head())"
   ]
  },
  {
   "cell_type": "markdown",
   "metadata": {},
   "source": [
    "## Add the outputs to your taxi dataframe"
   ]
  },
  {
   "cell_type": "code",
   "execution_count": 18,
   "metadata": {},
   "outputs": [],
   "source": [
    "taxi2015['pu_brgh'] = pickups['polygon']\n",
    "taxi2015['do_brgh'] = dropoffs['polygon']"
   ]
  },
  {
   "cell_type": "code",
   "execution_count": 19,
   "metadata": {},
   "outputs": [
    {
     "data": {
      "text/html": [
       "<div>\n",
       "<style scoped>\n",
       "    .dataframe tbody tr th:only-of-type {\n",
       "        vertical-align: middle;\n",
       "    }\n",
       "\n",
       "    .dataframe tbody tr th {\n",
       "        vertical-align: top;\n",
       "    }\n",
       "\n",
       "    .dataframe thead th {\n",
       "        text-align: right;\n",
       "    }\n",
       "</style>\n",
       "<table border=\"1\" class=\"dataframe\">\n",
       "  <thead>\n",
       "    <tr style=\"text-align: right;\">\n",
       "      <th></th>\n",
       "      <th>VendorID</th>\n",
       "      <th>tpep_pickup_datetime</th>\n",
       "      <th>tpep_dropoff_datetime</th>\n",
       "      <th>passenger_count</th>\n",
       "      <th>trip_distance</th>\n",
       "      <th>pickup_longitude</th>\n",
       "      <th>pickup_latitude</th>\n",
       "      <th>RateCodeID</th>\n",
       "      <th>store_and_fwd_flag</th>\n",
       "      <th>dropoff_longitude</th>\n",
       "      <th>...</th>\n",
       "      <th>payment_type</th>\n",
       "      <th>fare_amount</th>\n",
       "      <th>extra</th>\n",
       "      <th>mta_tax</th>\n",
       "      <th>tip_amount</th>\n",
       "      <th>tolls_amount</th>\n",
       "      <th>improvement_surcharge</th>\n",
       "      <th>total_amount</th>\n",
       "      <th>pu_brgh</th>\n",
       "      <th>do_brgh</th>\n",
       "    </tr>\n",
       "  </thead>\n",
       "  <tbody>\n",
       "    <tr>\n",
       "      <th>0</th>\n",
       "      <td>2</td>\n",
       "      <td>2015-01-15 19:05:39</td>\n",
       "      <td>2015-01-15 19:23:42</td>\n",
       "      <td>1</td>\n",
       "      <td>1.59</td>\n",
       "      <td>-73.993896</td>\n",
       "      <td>40.750111</td>\n",
       "      <td>1</td>\n",
       "      <td>N</td>\n",
       "      <td>-73.974785</td>\n",
       "      <td>...</td>\n",
       "      <td>1</td>\n",
       "      <td>12.0</td>\n",
       "      <td>1.0</td>\n",
       "      <td>0.5</td>\n",
       "      <td>3.25</td>\n",
       "      <td>0.0</td>\n",
       "      <td>0.3</td>\n",
       "      <td>17.05</td>\n",
       "      <td>107</td>\n",
       "      <td>107</td>\n",
       "    </tr>\n",
       "    <tr>\n",
       "      <th>1</th>\n",
       "      <td>1</td>\n",
       "      <td>2015-01-10 20:33:38</td>\n",
       "      <td>2015-01-10 20:53:28</td>\n",
       "      <td>1</td>\n",
       "      <td>3.30</td>\n",
       "      <td>-74.001648</td>\n",
       "      <td>40.724243</td>\n",
       "      <td>1</td>\n",
       "      <td>N</td>\n",
       "      <td>-73.994415</td>\n",
       "      <td>...</td>\n",
       "      <td>1</td>\n",
       "      <td>14.5</td>\n",
       "      <td>0.5</td>\n",
       "      <td>0.5</td>\n",
       "      <td>2.00</td>\n",
       "      <td>0.0</td>\n",
       "      <td>0.3</td>\n",
       "      <td>17.80</td>\n",
       "      <td>107</td>\n",
       "      <td>107</td>\n",
       "    </tr>\n",
       "    <tr>\n",
       "      <th>2</th>\n",
       "      <td>1</td>\n",
       "      <td>2015-01-10 20:33:38</td>\n",
       "      <td>2015-01-10 20:43:41</td>\n",
       "      <td>1</td>\n",
       "      <td>1.80</td>\n",
       "      <td>-73.963341</td>\n",
       "      <td>40.802788</td>\n",
       "      <td>1</td>\n",
       "      <td>N</td>\n",
       "      <td>-73.951820</td>\n",
       "      <td>...</td>\n",
       "      <td>2</td>\n",
       "      <td>9.5</td>\n",
       "      <td>0.5</td>\n",
       "      <td>0.5</td>\n",
       "      <td>0.00</td>\n",
       "      <td>0.0</td>\n",
       "      <td>0.3</td>\n",
       "      <td>10.80</td>\n",
       "      <td>107</td>\n",
       "      <td>107</td>\n",
       "    </tr>\n",
       "    <tr>\n",
       "      <th>3</th>\n",
       "      <td>1</td>\n",
       "      <td>2015-01-10 20:33:39</td>\n",
       "      <td>2015-01-10 20:35:31</td>\n",
       "      <td>1</td>\n",
       "      <td>0.50</td>\n",
       "      <td>-74.009087</td>\n",
       "      <td>40.713818</td>\n",
       "      <td>1</td>\n",
       "      <td>N</td>\n",
       "      <td>-74.004326</td>\n",
       "      <td>...</td>\n",
       "      <td>2</td>\n",
       "      <td>3.5</td>\n",
       "      <td>0.5</td>\n",
       "      <td>0.5</td>\n",
       "      <td>0.00</td>\n",
       "      <td>0.0</td>\n",
       "      <td>0.3</td>\n",
       "      <td>4.80</td>\n",
       "      <td>107</td>\n",
       "      <td>107</td>\n",
       "    </tr>\n",
       "    <tr>\n",
       "      <th>4</th>\n",
       "      <td>1</td>\n",
       "      <td>2015-01-10 20:33:39</td>\n",
       "      <td>2015-01-10 20:52:58</td>\n",
       "      <td>1</td>\n",
       "      <td>3.00</td>\n",
       "      <td>-73.971176</td>\n",
       "      <td>40.762428</td>\n",
       "      <td>1</td>\n",
       "      <td>N</td>\n",
       "      <td>-74.004181</td>\n",
       "      <td>...</td>\n",
       "      <td>2</td>\n",
       "      <td>15.0</td>\n",
       "      <td>0.5</td>\n",
       "      <td>0.5</td>\n",
       "      <td>0.00</td>\n",
       "      <td>0.0</td>\n",
       "      <td>0.3</td>\n",
       "      <td>16.30</td>\n",
       "      <td>107</td>\n",
       "      <td>107</td>\n",
       "    </tr>\n",
       "  </tbody>\n",
       "</table>\n",
       "<p>5 rows × 21 columns</p>\n",
       "</div>"
      ],
      "text/plain": [
       "   VendorID tpep_pickup_datetime tpep_dropoff_datetime  passenger_count  \\\n",
       "0         2  2015-01-15 19:05:39   2015-01-15 19:23:42                1   \n",
       "1         1  2015-01-10 20:33:38   2015-01-10 20:53:28                1   \n",
       "2         1  2015-01-10 20:33:38   2015-01-10 20:43:41                1   \n",
       "3         1  2015-01-10 20:33:39   2015-01-10 20:35:31                1   \n",
       "4         1  2015-01-10 20:33:39   2015-01-10 20:52:58                1   \n",
       "\n",
       "   trip_distance  pickup_longitude  pickup_latitude  RateCodeID  \\\n",
       "0           1.59        -73.993896        40.750111           1   \n",
       "1           3.30        -74.001648        40.724243           1   \n",
       "2           1.80        -73.963341        40.802788           1   \n",
       "3           0.50        -74.009087        40.713818           1   \n",
       "4           3.00        -73.971176        40.762428           1   \n",
       "\n",
       "  store_and_fwd_flag  dropoff_longitude  ...  payment_type  fare_amount  \\\n",
       "0                  N         -73.974785  ...             1         12.0   \n",
       "1                  N         -73.994415  ...             1         14.5   \n",
       "2                  N         -73.951820  ...             2          9.5   \n",
       "3                  N         -74.004326  ...             2          3.5   \n",
       "4                  N         -74.004181  ...             2         15.0   \n",
       "\n",
       "   extra  mta_tax  tip_amount  tolls_amount  improvement_surcharge  \\\n",
       "0    1.0      0.5        3.25           0.0                    0.3   \n",
       "1    0.5      0.5        2.00           0.0                    0.3   \n",
       "2    0.5      0.5        0.00           0.0                    0.3   \n",
       "3    0.5      0.5        0.00           0.0                    0.3   \n",
       "4    0.5      0.5        0.00           0.0                    0.3   \n",
       "\n",
       "   total_amount  pu_brgh  do_brgh  \n",
       "0         17.05      107      107  \n",
       "1         17.80      107      107  \n",
       "2         10.80      107      107  \n",
       "3          4.80      107      107  \n",
       "4         16.30      107      107  \n",
       "\n",
       "[5 rows x 21 columns]"
      ]
     },
     "execution_count": 19,
     "metadata": {},
     "output_type": "execute_result"
    }
   ],
   "source": [
    "taxi2015.head()"
   ]
  },
  {
   "cell_type": "code",
   "execution_count": 21,
   "metadata": {},
   "outputs": [],
   "source": [
    "taxi2015['all_within_boroughs'] = (taxi2015['pu_brgh'] !=0) & (taxi2015['do_brgh'] != 0)"
   ]
  },
  {
   "cell_type": "code",
   "execution_count": 22,
   "metadata": {},
   "outputs": [
    {
     "data": {
      "text/html": [
       "<div>\n",
       "<style scoped>\n",
       "    .dataframe tbody tr th:only-of-type {\n",
       "        vertical-align: middle;\n",
       "    }\n",
       "\n",
       "    .dataframe tbody tr th {\n",
       "        vertical-align: top;\n",
       "    }\n",
       "\n",
       "    .dataframe thead th {\n",
       "        text-align: right;\n",
       "    }\n",
       "</style>\n",
       "<table border=\"1\" class=\"dataframe\">\n",
       "  <thead>\n",
       "    <tr style=\"text-align: right;\">\n",
       "      <th></th>\n",
       "      <th>VendorID</th>\n",
       "      <th>tpep_pickup_datetime</th>\n",
       "      <th>tpep_dropoff_datetime</th>\n",
       "      <th>passenger_count</th>\n",
       "      <th>trip_distance</th>\n",
       "      <th>pickup_longitude</th>\n",
       "      <th>pickup_latitude</th>\n",
       "      <th>RateCodeID</th>\n",
       "      <th>store_and_fwd_flag</th>\n",
       "      <th>dropoff_longitude</th>\n",
       "      <th>...</th>\n",
       "      <th>fare_amount</th>\n",
       "      <th>extra</th>\n",
       "      <th>mta_tax</th>\n",
       "      <th>tip_amount</th>\n",
       "      <th>tolls_amount</th>\n",
       "      <th>improvement_surcharge</th>\n",
       "      <th>total_amount</th>\n",
       "      <th>pu_brgh</th>\n",
       "      <th>do_brgh</th>\n",
       "      <th>all_within_boroughs</th>\n",
       "    </tr>\n",
       "  </thead>\n",
       "  <tbody>\n",
       "    <tr>\n",
       "      <th>0</th>\n",
       "      <td>2</td>\n",
       "      <td>2015-01-15 19:05:39</td>\n",
       "      <td>2015-01-15 19:23:42</td>\n",
       "      <td>1</td>\n",
       "      <td>1.59</td>\n",
       "      <td>-73.993896</td>\n",
       "      <td>40.750111</td>\n",
       "      <td>1</td>\n",
       "      <td>N</td>\n",
       "      <td>-73.974785</td>\n",
       "      <td>...</td>\n",
       "      <td>12.0</td>\n",
       "      <td>1.0</td>\n",
       "      <td>0.5</td>\n",
       "      <td>3.25</td>\n",
       "      <td>0.0</td>\n",
       "      <td>0.3</td>\n",
       "      <td>17.05</td>\n",
       "      <td>107</td>\n",
       "      <td>107</td>\n",
       "      <td>True</td>\n",
       "    </tr>\n",
       "    <tr>\n",
       "      <th>1</th>\n",
       "      <td>1</td>\n",
       "      <td>2015-01-10 20:33:38</td>\n",
       "      <td>2015-01-10 20:53:28</td>\n",
       "      <td>1</td>\n",
       "      <td>3.30</td>\n",
       "      <td>-74.001648</td>\n",
       "      <td>40.724243</td>\n",
       "      <td>1</td>\n",
       "      <td>N</td>\n",
       "      <td>-73.994415</td>\n",
       "      <td>...</td>\n",
       "      <td>14.5</td>\n",
       "      <td>0.5</td>\n",
       "      <td>0.5</td>\n",
       "      <td>2.00</td>\n",
       "      <td>0.0</td>\n",
       "      <td>0.3</td>\n",
       "      <td>17.80</td>\n",
       "      <td>107</td>\n",
       "      <td>107</td>\n",
       "      <td>True</td>\n",
       "    </tr>\n",
       "    <tr>\n",
       "      <th>2</th>\n",
       "      <td>1</td>\n",
       "      <td>2015-01-10 20:33:38</td>\n",
       "      <td>2015-01-10 20:43:41</td>\n",
       "      <td>1</td>\n",
       "      <td>1.80</td>\n",
       "      <td>-73.963341</td>\n",
       "      <td>40.802788</td>\n",
       "      <td>1</td>\n",
       "      <td>N</td>\n",
       "      <td>-73.951820</td>\n",
       "      <td>...</td>\n",
       "      <td>9.5</td>\n",
       "      <td>0.5</td>\n",
       "      <td>0.5</td>\n",
       "      <td>0.00</td>\n",
       "      <td>0.0</td>\n",
       "      <td>0.3</td>\n",
       "      <td>10.80</td>\n",
       "      <td>107</td>\n",
       "      <td>107</td>\n",
       "      <td>True</td>\n",
       "    </tr>\n",
       "    <tr>\n",
       "      <th>3</th>\n",
       "      <td>1</td>\n",
       "      <td>2015-01-10 20:33:39</td>\n",
       "      <td>2015-01-10 20:35:31</td>\n",
       "      <td>1</td>\n",
       "      <td>0.50</td>\n",
       "      <td>-74.009087</td>\n",
       "      <td>40.713818</td>\n",
       "      <td>1</td>\n",
       "      <td>N</td>\n",
       "      <td>-74.004326</td>\n",
       "      <td>...</td>\n",
       "      <td>3.5</td>\n",
       "      <td>0.5</td>\n",
       "      <td>0.5</td>\n",
       "      <td>0.00</td>\n",
       "      <td>0.0</td>\n",
       "      <td>0.3</td>\n",
       "      <td>4.80</td>\n",
       "      <td>107</td>\n",
       "      <td>107</td>\n",
       "      <td>True</td>\n",
       "    </tr>\n",
       "    <tr>\n",
       "      <th>4</th>\n",
       "      <td>1</td>\n",
       "      <td>2015-01-10 20:33:39</td>\n",
       "      <td>2015-01-10 20:52:58</td>\n",
       "      <td>1</td>\n",
       "      <td>3.00</td>\n",
       "      <td>-73.971176</td>\n",
       "      <td>40.762428</td>\n",
       "      <td>1</td>\n",
       "      <td>N</td>\n",
       "      <td>-74.004181</td>\n",
       "      <td>...</td>\n",
       "      <td>15.0</td>\n",
       "      <td>0.5</td>\n",
       "      <td>0.5</td>\n",
       "      <td>0.00</td>\n",
       "      <td>0.0</td>\n",
       "      <td>0.3</td>\n",
       "      <td>16.30</td>\n",
       "      <td>107</td>\n",
       "      <td>107</td>\n",
       "      <td>True</td>\n",
       "    </tr>\n",
       "  </tbody>\n",
       "</table>\n",
       "<p>5 rows × 22 columns</p>\n",
       "</div>"
      ],
      "text/plain": [
       "   VendorID tpep_pickup_datetime tpep_dropoff_datetime  passenger_count  \\\n",
       "0         2  2015-01-15 19:05:39   2015-01-15 19:23:42                1   \n",
       "1         1  2015-01-10 20:33:38   2015-01-10 20:53:28                1   \n",
       "2         1  2015-01-10 20:33:38   2015-01-10 20:43:41                1   \n",
       "3         1  2015-01-10 20:33:39   2015-01-10 20:35:31                1   \n",
       "4         1  2015-01-10 20:33:39   2015-01-10 20:52:58                1   \n",
       "\n",
       "   trip_distance  pickup_longitude  pickup_latitude  RateCodeID  \\\n",
       "0           1.59        -73.993896        40.750111           1   \n",
       "1           3.30        -74.001648        40.724243           1   \n",
       "2           1.80        -73.963341        40.802788           1   \n",
       "3           0.50        -74.009087        40.713818           1   \n",
       "4           3.00        -73.971176        40.762428           1   \n",
       "\n",
       "  store_and_fwd_flag  dropoff_longitude  ...  fare_amount  extra  mta_tax  \\\n",
       "0                  N         -73.974785  ...         12.0    1.0      0.5   \n",
       "1                  N         -73.994415  ...         14.5    0.5      0.5   \n",
       "2                  N         -73.951820  ...          9.5    0.5      0.5   \n",
       "3                  N         -74.004326  ...          3.5    0.5      0.5   \n",
       "4                  N         -74.004181  ...         15.0    0.5      0.5   \n",
       "\n",
       "   tip_amount  tolls_amount  improvement_surcharge  total_amount  pu_brgh  \\\n",
       "0        3.25           0.0                    0.3         17.05      107   \n",
       "1        2.00           0.0                    0.3         17.80      107   \n",
       "2        0.00           0.0                    0.3         10.80      107   \n",
       "3        0.00           0.0                    0.3          4.80      107   \n",
       "4        0.00           0.0                    0.3         16.30      107   \n",
       "\n",
       "   do_brgh  all_within_boroughs  \n",
       "0      107                 True  \n",
       "1      107                 True  \n",
       "2      107                 True  \n",
       "3      107                 True  \n",
       "4      107                 True  \n",
       "\n",
       "[5 rows x 22 columns]"
      ]
     },
     "execution_count": 22,
     "metadata": {},
     "output_type": "execute_result"
    }
   ],
   "source": [
    "taxi2015.head()"
   ]
  },
  {
   "cell_type": "code",
   "execution_count": 23,
   "metadata": {},
   "outputs": [
    {
     "data": {
      "text/plain": [
       "107    11150551\n",
       "55       642234\n",
       "73       602716\n",
       "0        282552\n",
       "24        68489\n",
       "28         2444\n",
       "Name: do_brgh, dtype: int32"
      ]
     },
     "execution_count": 23,
     "metadata": {},
     "output_type": "execute_result"
    }
   ],
   "source": [
    "taxi2015['do_brgh'].value_counts()"
   ]
  },
  {
   "cell_type": "code",
   "execution_count": 24,
   "metadata": {},
   "outputs": [
    {
     "data": {
      "text/plain": [
       "107    11612331\n",
       "73       640695\n",
       "0        256125\n",
       "55       229807\n",
       "24         9840\n",
       "28          188\n",
       "Name: pu_brgh, dtype: int32"
      ]
     },
     "execution_count": 24,
     "metadata": {},
     "output_type": "execute_result"
    }
   ],
   "source": [
    "taxi2015['pu_brgh'].value_counts()"
   ]
  },
  {
   "cell_type": "code",
   "execution_count": 25,
   "metadata": {},
   "outputs": [
    {
     "data": {
      "text/plain": [
       "True     12434189\n",
       "False      314797\n",
       "Name: all_within_boroughs, dtype: int32"
      ]
     },
     "execution_count": 25,
     "metadata": {},
     "output_type": "execute_result"
    }
   ],
   "source": [
    "taxi2015['all_within_boroughs'].value_counts()"
   ]
  },
  {
   "cell_type": "code",
   "execution_count": 26,
   "metadata": {},
   "outputs": [],
   "source": [
    "taxi2015['interborough']= (taxi2015[[]].assign(interborough=taxi_cor.pu_brgh != taxi_cor.do_brgh))"
   ]
  },
  {
   "cell_type": "code",
   "execution_count": 27,
   "metadata": {},
   "outputs": [
    {
     "data": {
      "text/plain": [
       "False    11052069\n",
       "True      1382120\n",
       "Name: interborough, dtype: int32"
      ]
     },
     "execution_count": 27,
     "metadata": {},
     "output_type": "execute_result"
    }
   ],
   "source": [
    "taxi2015['interborough'].value_counts()"
   ]
  },
  {
   "cell_type": "markdown",
   "metadata": {},
   "source": [
    "# Cleaning the Data\n",
    "Now that we have some great analytics, let's do what we came here to do: get a clean, 5 borough only dataset with no drop offs in the middle of the water. There are two ways to clean the data, made possible by using cuspatial: \n",
    "    1. through cuspatial (no visualization required)\n",
    "    1. through cuxfilter (has awesome visualizations, but it is required to create an output)\n",
    "    \n",
    "## Cleaning with cuspatial \n",
    "With cuSpatial, we can easily query the data on `all_within_boroughs` or where `pu_brgh` and `do_brgh` are `!=0`.  Since we created `all_within_boroughs` mostly for an easy option two, and you'd probably not do that in your spatial workflow, we'll show how to do it the latter way.  "
   ]
  },
  {
   "cell_type": "code",
   "execution_count": 47,
   "metadata": {},
   "outputs": [],
   "source": [
    "taxi_cuS_cor = taxi2015.query('pu_brgh != 0 and do_brgh != 0')\n",
    "taxi_cuS_cor = taxi_cuS_cor.query('do_brgh != 0')"
   ]
  },
  {
   "cell_type": "markdown",
   "metadata": {},
   "source": [
    "The `True` and `False` values don't equal up to our full dataset numbers. The remainder, \"None\" type, will contain the extraborough transportaiton as well as the dirty data.  Good to look at with interest, but outside of our scope.  If you want to clean this data as well, you'll been boundary maps of th rest of the TriState area.  "
   ]
  },
  {
   "cell_type": "markdown",
   "metadata": {},
   "source": [
    "## Cleaning using cuXFilter\n",
    "(You may remember me from other noteboks like...)  \n",
    "\n",
    "First, we're going to have a little fun with this.  All those new parameters we created will be put to use.  We're going to an interactive visualization on the whole `taxi2015` dataset.  In the end you'll be able to see:\n",
    "1. original data pickups\n",
    "1. original data dropoffs\n",
    "1. cuSpatial cleaned pickups\n",
    "1. cuSpatial cleaned dropoffs\n",
    "1. orignal data and cleaned intraborough pickups\n",
    "1. orignal data and cleaned intraborough dropoffs\n",
    "1. orignal data and cleaned interborough pickups\n",
    "1. orignal data and cleaned interborough dropoffs\n",
    "1. and more!\n",
    "\n",
    "To do this, we're going to \n",
    "1. convert the pickup and drop off coordinates from lat/lon to EPSG:4326 format\n",
    "1. prep the bokeh server to show a background map to overlay our data\n",
    "1. create some charts to plot pickup and drop off points\n",
    "1. create some more charts to help filter the data by parameters of interest, like \n",
    " 1. pickup borough by boroguh\n",
    " 1. dropoff borough by borough\n",
    " 1. Whether the trip was interborough\n",
    " 1. and a quick filter on whether or not the whole trip was within NYC's 5 boroughs (yes, the \"easy button\" cleaning filter)"
   ]
  },
  {
   "cell_type": "code",
   "execution_count": 48,
   "metadata": {},
   "outputs": [],
   "source": [
    "import cuxfilter\n",
    "from bokeh import palettes\n",
    "from cuxfilter.layouts import double_feature"
   ]
  },
  {
   "cell_type": "code",
   "execution_count": 49,
   "metadata": {},
   "outputs": [
    {
     "name": "stdout",
     "output_type": "stream",
     "text": [
      "              x             y\n",
      "0 -8.236963e+06  4.975553e+06\n",
      "1 -8.237826e+06  4.971752e+06\n",
      "2 -8.233561e+06  4.983296e+06\n",
      "3 -8.238654e+06  4.970221e+06\n",
      "4 -8.234434e+06  4.977363e+06\n",
      "              x             y\n",
      "0 -8.234835e+06  4.975627e+06\n",
      "1 -8.237021e+06  4.976875e+06\n",
      "2 -8.232279e+06  4.986477e+06\n",
      "3 -8.238124e+06  4.971127e+06\n",
      "4 -8.238108e+06  4.974457e+06\n"
     ]
    }
   ],
   "source": [
    "from pyproj import Proj, Transformer\n",
    "def makeXfilter(x, y):\n",
    "    temp= cudf.DataFrame()\n",
    "    transform_4326_to_3857 = Transformer.from_crs('epsg:4326', 'epsg:3857')\n",
    "    temp['x'], temp['y'] = transform_4326_to_3857.transform(\n",
    "                                                x.to_array(), y.to_array()\n",
    "                                            )\n",
    "    print(temp.head())\n",
    "    return temp.x, temp.y\n",
    "\n",
    "taxi2015['pu_x'], taxi2015['pu_y'] = makeXfilter(taxi2015['pickup_latitude'], taxi2015['pickup_longitude'])\n",
    "taxi2015['do_x'], taxi2015['do_y'] = makeXfilter(taxi2015['dropoff_latitude'],taxi2015['dropoff_longitude'])\n",
    "cux = cuxfilter.DataFrame.from_dataframe(taxi2015)"
   ]
  },
  {
   "cell_type": "code",
   "execution_count": 50,
   "metadata": {},
   "outputs": [],
   "source": [
    "from bokeh.tile_providers import get_provider as gp\n",
    "tile_provider = gp('CARTODBPOSITRON')"
   ]
  },
  {
   "cell_type": "markdown",
   "metadata": {},
   "source": [
    "### Create your charts and launch the dashboard"
   ]
  },
  {
   "cell_type": "code",
   "execution_count": 51,
   "metadata": {},
   "outputs": [],
   "source": [
    "chart0 = cuxfilter.charts.scatter_geo(x='pu_x',\n",
    "                                      y='pu_y',\n",
    "                                      title='NYC Taxi Pickups',\n",
    "                                      aggregate_fn='count',\n",
    "                                      tile_provider=tile_provider, x_range=(-8267428.97,-8207328.23), y_range=(4935861.67,5000548.55))\n",
    "chart1 = cuxfilter.charts.scatter_geo(x='do_x',\n",
    "                                      y='do_y',\n",
    "                                      title='NYC Taxi Dropoffs',\n",
    "                                      aggregate_fn='count',\n",
    "                                      tile_provider=tile_provider, x_range=(-8267428.97,-8207328.23), y_range=(4935861.67,5000548.55))\n",
    "chart2 = cuxfilter.charts.multi_select('all_within_boroughs')\n",
    "chart3 = cuxfilter.charts.multi_select('interborough')\n",
    "chart4 = cuxfilter.charts.multi_select('pu_brgh')\n",
    "chart5 = cuxfilter.charts.multi_select('do_brgh')"
   ]
  },
  {
   "cell_type": "code",
   "execution_count": 54,
   "metadata": {},
   "outputs": [],
   "source": [
    "d = cux.dashboard([chart0, chart1, chart2, chart3, chart4, chart5], layout=cuxfilter.layouts.feature_and_base, theme=cuxfilter.themes.dark, title= 'NYC TAXI DATASET')"
   ]
  },
  {
   "cell_type": "code",
   "execution_count": 55,
   "metadata": {},
   "outputs": [
    {
     "data": {
      "application/vnd.holoviews_exec.v0+json": "",
      "text/html": [
       "<div id='3583'>\n",
       "\n",
       "\n",
       "\n",
       "\n",
       "\n",
       "  <div class=\"bk-root\" id=\"ba6f7270-7de2-40e0-a581-67d01055befa\" data-root-id=\"3583\"></div>\n",
       "</div>\n",
       "<script type=\"application/javascript\">\n",
       "    function msg_handler(msg) {\n",
       "      var metadata = msg.metadata;\n",
       "      var buffers = msg.buffers;\n",
       "      var msg = msg.content.data;\n",
       "      if ((metadata.msg_type == \"Ready\")) {\n",
       "        if (metadata.content) {\n",
       "          console.log(\"Python callback returned following output:\", metadata.content);\n",
       "        }\n",
       "      } else if (metadata.msg_type == \"Error\") {\n",
       "        console.log(\"Python failed with the following traceback:\", metadata.traceback)\n",
       "      } else {\n",
       "        \n",
       "var plot_id = \"3583\";\n",
       "\n",
       "if ((plot_id in window.PyViz.plot_index) && (window.PyViz.plot_index[plot_id] != null)) {\n",
       "  var plot = window.PyViz.plot_index[plot_id];\n",
       "} else if ((Bokeh !== undefined) && (plot_id in Bokeh.index)) {\n",
       "  var plot = Bokeh.index[plot_id];\n",
       "}\n",
       "\n",
       "if (plot == null) {\n",
       "  return\n",
       "}\n",
       "\n",
       "if (plot_id in window.PyViz.receivers) {\n",
       "  var receiver = window.PyViz.receivers[plot_id];\n",
       "} else {\n",
       "  var receiver = new Bokeh.protocol.Receiver();\n",
       "  window.PyViz.receivers[plot_id] = receiver;\n",
       "}\n",
       "\n",
       "if ((buffers != undefined) && (buffers.length > 0)) {\n",
       "  receiver.consume(buffers[0].buffer)\n",
       "} else {\n",
       "  receiver.consume(msg)\n",
       "}\n",
       "\n",
       "const comm_msg = receiver.message;\n",
       "if ((comm_msg != null) && (Object.keys(comm_msg.content).length > 0)) {\n",
       "  plot.model.document.apply_json_patch(comm_msg.content, comm_msg.buffers)\n",
       "}\n",
       "\n",
       "      }\n",
       "    }\n",
       "    if ((window.PyViz == undefined) || (!window.PyViz.comm_manager)) {\n",
       "      console.log(\"Could not find comm manager\")\n",
       "    } else {\n",
       "      window.PyViz.comm_manager.register_target('3583', 'a992d2b48cf542629fb1f36787787c7a', msg_handler);\n",
       "    }\n",
       "    \n",
       "(function(root) {\n",
       "  function embed_document(root) {\n",
       "    \n",
       "  var docs_json = {\"03be8f6e-0062-4bc2-86ec-fbbc702ab624\":{\"roots\":{\"references\":[{\"attributes\":{\"children\":[{\"id\":\"3584\",\"type\":\"Div\"},{\"id\":\"3585\",\"type\":\"HTML\"}],\"margin\":[0,0,0,0],\"min_width\":800,\"name\":\"Column00355\",\"width\":800},\"id\":\"3583\",\"type\":\"Column\"},{\"attributes\":{\"margin\":[5,5,5,5],\"name\":\"Markdown00353\",\"text\":\"<h4>cuxfilter DashBoard</h4>\\n<pre><code>[title] Markdown(str)\\n[chart1] Column(sizing_mode='scale_both', width=1600)\\n[0] Bokeh(Figure)\\n[chart2] Column(sizing_mode='scale_both', width=1600)\\n[0] Bokeh(Figure)\\n[widgets] Column\\n[0] Column(css_classes=['non-handle-temp'], sizing_mode='scale_both')\\n    [0] FloatSlider(bar_color='#8735fb', end=12748986, name='Data Points selected', sizing_mode='scale_both', start=0, value=12748986, width=280)\\n[1] Column(sizing_mode='scale_both', width=400)\\n    [0] MultiSelect(css_classes=['custom-dropdown'], height=200, name='all_within_boroughs', options=[False, True, ''], sizing_mode='scale_both', value=[''], width=280)\\n[2] Column(sizing_mode='scale_both', width=400)\\n    [0] MultiSelect(css_classes=['custom-dropdown'], height=200, name='interborough', options=[None, False, True, ''], sizing_mode='scale_both', value=[''], width=280)\\n[3] Column(sizing_mode='scale_both', width=400)\\n    [0] MultiSelect(css_classes=['custom-dropdown'], height=200, name='pu_brgh', options=[0, 24, 28, 55, ...], sizing_mode='scale_both', value=[''], width=280)\\n[4] Column(sizing_mode='scale_both', width=400)\\n    [0] MultiSelect(css_classes=['custom-dropdown'], height=200, name='do_brgh', options=[0, 24, 28, 55, ...], sizing_mode='scale_both', value=[''], width=280)\\n</code></pre>\"},\"id\":\"3584\",\"type\":\"Div\"},{\"attributes\":{\"margin\":[5,5,5,5],\"name\":\"HTML00351\"},\"id\":\"3585\",\"type\":\"HTML\"}],\"root_ids\":[\"3583\"]},\"title\":\"Bokeh Application\",\"version\":\"1.4.0\"}};\n",
       "  var render_items = [{\"docid\":\"03be8f6e-0062-4bc2-86ec-fbbc702ab624\",\"roots\":{\"3583\":\"ba6f7270-7de2-40e0-a581-67d01055befa\"}}];\n",
       "  root.Bokeh.embed.embed_items_notebook(docs_json, render_items);\n",
       "\n",
       "  }\n",
       "  if (root.Bokeh !== undefined) {\n",
       "    embed_document(root);\n",
       "  } else {\n",
       "    var attempts = 0;\n",
       "    var timer = setInterval(function(root) {\n",
       "      if (root.Bokeh !== undefined) {\n",
       "        clearInterval(timer);\n",
       "        embed_document(root);\n",
       "      } else {\n",
       "        attempts++;\n",
       "        if (attempts > 100) {\n",
       "          clearInterval(timer);\n",
       "          console.log(\"Bokeh: ERROR: Unable to run BokehJS code because BokehJS library is missing\");\n",
       "        }\n",
       "      }\n",
       "    }, 10, root)\n",
       "  }\n",
       "})(window);</script>"
      ],
      "text/plain": [
       "#### cuxfilter DashBoard\n",
       "    \n",
       "    [title] Markdown(str)\n",
       "    [chart1] Column(sizing_mode='scale_both', width=1600)\n",
       "    [0] Bokeh(Figure)\n",
       "    [chart2] Column(sizing_mode='scale_both', width=1600)\n",
       "    [0] Bokeh(Figure)\n",
       "    [widgets] Column\n",
       "    [0] Column(css_classes=['non-handle-temp'], sizing_mode='scale_both')\n",
       "        [0] FloatSlider(bar_color='#8735fb', end=12748986, name='Data Points selected', sizing_mode='scale_both', start=0, value=12748986, width=280)\n",
       "    [1] Column(sizing_mode='scale_both', width=400)\n",
       "        [0] MultiSelect(css_classes=['custom-dropdown'], height=200, name='all_within_boroughs', options=[False, True, ''], sizing_mode='scale_both', value=[''], width=280)\n",
       "    [2] Column(sizing_mode='scale_both', width=400)\n",
       "        [0] MultiSelect(css_classes=['custom-dropdown'], height=200, name='interborough', options=[None, False, True, ''], sizing_mode='scale_both', value=[''], width=280)\n",
       "    [3] Column(sizing_mode='scale_both', width=400)\n",
       "        [0] MultiSelect(css_classes=['custom-dropdown'], height=200, name='pu_brgh', options=[0, 24, 28, 55, ...], sizing_mode='scale_both', value=[''], width=280)\n",
       "    [4] Column(sizing_mode='scale_both', width=400)\n",
       "        [0] MultiSelect(css_classes=['custom-dropdown'], height=200, name='do_brgh', options=[0, 24, 28, 55, ...], sizing_mode='scale_both', value=[''], width=280)"
      ]
     },
     "execution_count": 55,
     "metadata": {
      "application/vnd.holoviews_exec.v0+json": {
       "id": "3583"
      }
     },
     "output_type": "execute_result"
    }
   ],
   "source": [
    "d"
   ]
  },
  {
   "cell_type": "code",
   "execution_count": 56,
   "metadata": {},
   "outputs": [
    {
     "name": "stdout",
     "output_type": "stream",
     "text": [
      "Dashboard running at http://***.**0.***.**4:8888/proxy/55035/\n"
     ]
    }
   ],
   "source": [
    "d.show(url+':'+port)"
   ]
  },
  {
   "cell_type": "markdown",
   "metadata": {},
   "source": [
    "Before you stop the data viz, please \n",
    "1. select `within_all_boroughs` to be `True`.  \n",
    "1. Then, run this next cell.  \n",
    "\n",
    "This will give you a similar result to the `taxi_cuS_cor` dataset.  Then, we'll stop the visualization and compare the two datasets for similarity, just to prove that they are the same."
   ]
  },
  {
   "cell_type": "code",
   "execution_count": 57,
   "metadata": {},
   "outputs": [
    {
     "name": "stdout",
     "output_type": "stream",
     "text": [
      "final query all_within_boroughs==True\n"
     ]
    }
   ],
   "source": [
    "taxi_cuX_cor = d.export()"
   ]
  },
  {
   "cell_type": "code",
   "execution_count": 58,
   "metadata": {},
   "outputs": [
    {
     "data": {
      "text/html": [
       "<div>\n",
       "<style scoped>\n",
       "    .dataframe tbody tr th:only-of-type {\n",
       "        vertical-align: middle;\n",
       "    }\n",
       "\n",
       "    .dataframe tbody tr th {\n",
       "        vertical-align: top;\n",
       "    }\n",
       "\n",
       "    .dataframe thead th {\n",
       "        text-align: right;\n",
       "    }\n",
       "</style>\n",
       "<table border=\"1\" class=\"dataframe\">\n",
       "  <thead>\n",
       "    <tr style=\"text-align: right;\">\n",
       "      <th></th>\n",
       "      <th>VendorID</th>\n",
       "      <th>tpep_pickup_datetime</th>\n",
       "      <th>tpep_dropoff_datetime</th>\n",
       "      <th>passenger_count</th>\n",
       "      <th>trip_distance</th>\n",
       "      <th>pickup_longitude</th>\n",
       "      <th>pickup_latitude</th>\n",
       "      <th>RateCodeID</th>\n",
       "      <th>store_and_fwd_flag</th>\n",
       "      <th>dropoff_longitude</th>\n",
       "      <th>...</th>\n",
       "      <th>improvement_surcharge</th>\n",
       "      <th>total_amount</th>\n",
       "      <th>pu_brgh</th>\n",
       "      <th>do_brgh</th>\n",
       "      <th>all_within_boroughs</th>\n",
       "      <th>interborough</th>\n",
       "      <th>pu_x</th>\n",
       "      <th>pu_y</th>\n",
       "      <th>do_x</th>\n",
       "      <th>do_y</th>\n",
       "    </tr>\n",
       "  </thead>\n",
       "  <tbody>\n",
       "    <tr>\n",
       "      <th>0</th>\n",
       "      <td>2</td>\n",
       "      <td>2015-01-15 19:05:39</td>\n",
       "      <td>2015-01-15 19:23:42</td>\n",
       "      <td>1</td>\n",
       "      <td>1.59</td>\n",
       "      <td>-73.993896</td>\n",
       "      <td>40.750111</td>\n",
       "      <td>1</td>\n",
       "      <td>N</td>\n",
       "      <td>-73.974785</td>\n",
       "      <td>...</td>\n",
       "      <td>0.3</td>\n",
       "      <td>17.05</td>\n",
       "      <td>107</td>\n",
       "      <td>107</td>\n",
       "      <td>True</td>\n",
       "      <td>False</td>\n",
       "      <td>-8.236963e+06</td>\n",
       "      <td>4.975553e+06</td>\n",
       "      <td>-8.234835e+06</td>\n",
       "      <td>4.975627e+06</td>\n",
       "    </tr>\n",
       "    <tr>\n",
       "      <th>1</th>\n",
       "      <td>1</td>\n",
       "      <td>2015-01-10 20:33:38</td>\n",
       "      <td>2015-01-10 20:53:28</td>\n",
       "      <td>1</td>\n",
       "      <td>3.30</td>\n",
       "      <td>-74.001648</td>\n",
       "      <td>40.724243</td>\n",
       "      <td>1</td>\n",
       "      <td>N</td>\n",
       "      <td>-73.994415</td>\n",
       "      <td>...</td>\n",
       "      <td>0.3</td>\n",
       "      <td>17.80</td>\n",
       "      <td>107</td>\n",
       "      <td>107</td>\n",
       "      <td>True</td>\n",
       "      <td>False</td>\n",
       "      <td>-8.237826e+06</td>\n",
       "      <td>4.971752e+06</td>\n",
       "      <td>-8.237021e+06</td>\n",
       "      <td>4.976875e+06</td>\n",
       "    </tr>\n",
       "    <tr>\n",
       "      <th>2</th>\n",
       "      <td>1</td>\n",
       "      <td>2015-01-10 20:33:38</td>\n",
       "      <td>2015-01-10 20:43:41</td>\n",
       "      <td>1</td>\n",
       "      <td>1.80</td>\n",
       "      <td>-73.963341</td>\n",
       "      <td>40.802788</td>\n",
       "      <td>1</td>\n",
       "      <td>N</td>\n",
       "      <td>-73.951820</td>\n",
       "      <td>...</td>\n",
       "      <td>0.3</td>\n",
       "      <td>10.80</td>\n",
       "      <td>107</td>\n",
       "      <td>107</td>\n",
       "      <td>True</td>\n",
       "      <td>False</td>\n",
       "      <td>-8.233561e+06</td>\n",
       "      <td>4.983296e+06</td>\n",
       "      <td>-8.232279e+06</td>\n",
       "      <td>4.986477e+06</td>\n",
       "    </tr>\n",
       "    <tr>\n",
       "      <th>3</th>\n",
       "      <td>1</td>\n",
       "      <td>2015-01-10 20:33:39</td>\n",
       "      <td>2015-01-10 20:35:31</td>\n",
       "      <td>1</td>\n",
       "      <td>0.50</td>\n",
       "      <td>-74.009087</td>\n",
       "      <td>40.713818</td>\n",
       "      <td>1</td>\n",
       "      <td>N</td>\n",
       "      <td>-74.004326</td>\n",
       "      <td>...</td>\n",
       "      <td>0.3</td>\n",
       "      <td>4.80</td>\n",
       "      <td>107</td>\n",
       "      <td>107</td>\n",
       "      <td>True</td>\n",
       "      <td>False</td>\n",
       "      <td>-8.238654e+06</td>\n",
       "      <td>4.970221e+06</td>\n",
       "      <td>-8.238124e+06</td>\n",
       "      <td>4.971127e+06</td>\n",
       "    </tr>\n",
       "    <tr>\n",
       "      <th>4</th>\n",
       "      <td>1</td>\n",
       "      <td>2015-01-10 20:33:39</td>\n",
       "      <td>2015-01-10 20:52:58</td>\n",
       "      <td>1</td>\n",
       "      <td>3.00</td>\n",
       "      <td>-73.971176</td>\n",
       "      <td>40.762428</td>\n",
       "      <td>1</td>\n",
       "      <td>N</td>\n",
       "      <td>-74.004181</td>\n",
       "      <td>...</td>\n",
       "      <td>0.3</td>\n",
       "      <td>16.30</td>\n",
       "      <td>107</td>\n",
       "      <td>107</td>\n",
       "      <td>True</td>\n",
       "      <td>False</td>\n",
       "      <td>-8.234434e+06</td>\n",
       "      <td>4.977363e+06</td>\n",
       "      <td>-8.238108e+06</td>\n",
       "      <td>4.974457e+06</td>\n",
       "    </tr>\n",
       "  </tbody>\n",
       "</table>\n",
       "<p>5 rows × 27 columns</p>\n",
       "</div>"
      ],
      "text/plain": [
       "   VendorID tpep_pickup_datetime tpep_dropoff_datetime  passenger_count  \\\n",
       "0         2  2015-01-15 19:05:39   2015-01-15 19:23:42                1   \n",
       "1         1  2015-01-10 20:33:38   2015-01-10 20:53:28                1   \n",
       "2         1  2015-01-10 20:33:38   2015-01-10 20:43:41                1   \n",
       "3         1  2015-01-10 20:33:39   2015-01-10 20:35:31                1   \n",
       "4         1  2015-01-10 20:33:39   2015-01-10 20:52:58                1   \n",
       "\n",
       "   trip_distance  pickup_longitude  pickup_latitude  RateCodeID  \\\n",
       "0           1.59        -73.993896        40.750111           1   \n",
       "1           3.30        -74.001648        40.724243           1   \n",
       "2           1.80        -73.963341        40.802788           1   \n",
       "3           0.50        -74.009087        40.713818           1   \n",
       "4           3.00        -73.971176        40.762428           1   \n",
       "\n",
       "  store_and_fwd_flag  dropoff_longitude  ...  improvement_surcharge  \\\n",
       "0                  N         -73.974785  ...                    0.3   \n",
       "1                  N         -73.994415  ...                    0.3   \n",
       "2                  N         -73.951820  ...                    0.3   \n",
       "3                  N         -74.004326  ...                    0.3   \n",
       "4                  N         -74.004181  ...                    0.3   \n",
       "\n",
       "   total_amount  pu_brgh  do_brgh  all_within_boroughs  interborough  \\\n",
       "0         17.05      107      107                 True         False   \n",
       "1         17.80      107      107                 True         False   \n",
       "2         10.80      107      107                 True         False   \n",
       "3          4.80      107      107                 True         False   \n",
       "4         16.30      107      107                 True         False   \n",
       "\n",
       "           pu_x          pu_y          do_x          do_y  \n",
       "0 -8.236963e+06  4.975553e+06 -8.234835e+06  4.975627e+06  \n",
       "1 -8.237826e+06  4.971752e+06 -8.237021e+06  4.976875e+06  \n",
       "2 -8.233561e+06  4.983296e+06 -8.232279e+06  4.986477e+06  \n",
       "3 -8.238654e+06  4.970221e+06 -8.238124e+06  4.971127e+06  \n",
       "4 -8.234434e+06  4.977363e+06 -8.238108e+06  4.974457e+06  \n",
       "\n",
       "[5 rows x 27 columns]"
      ]
     },
     "execution_count": 58,
     "metadata": {},
     "output_type": "execute_result"
    }
   ],
   "source": [
    "taxi_cuX_cor.head()"
   ]
  },
  {
   "cell_type": "code",
   "execution_count": 53,
   "metadata": {},
   "outputs": [],
   "source": [
    "d.stop()"
   ]
  },
  {
   "cell_type": "markdown",
   "metadata": {},
   "source": [
    "# Comparing the data\n",
    "Let's checking that the data between the cleaned datasets, `taxi_cuS_cor` and `taxi_cuX_cor` are the same."
   ]
  },
  {
   "cell_type": "code",
   "execution_count": 62,
   "metadata": {},
   "outputs": [
    {
     "name": "stdout",
     "output_type": "stream",
     "text": [
      "   VendorID tpep_pickup_datetime tpep_dropoff_datetime  passenger_count  \\\n",
      "0         2  2015-01-15 19:05:39   2015-01-15 19:23:42                1   \n",
      "1         1  2015-01-10 20:33:38   2015-01-10 20:53:28                1   \n",
      "2         1  2015-01-10 20:33:38   2015-01-10 20:43:41                1   \n",
      "3         1  2015-01-10 20:33:39   2015-01-10 20:35:31                1   \n",
      "4         1  2015-01-10 20:33:39   2015-01-10 20:52:58                1   \n",
      "\n",
      "   trip_distance  pickup_longitude  pickup_latitude  RateCodeID  \\\n",
      "0           1.59        -73.993896        40.750111           1   \n",
      "1           3.30        -74.001648        40.724243           1   \n",
      "2           1.80        -73.963341        40.802788           1   \n",
      "3           0.50        -74.009087        40.713818           1   \n",
      "4           3.00        -73.971176        40.762428           1   \n",
      "\n",
      "  store_and_fwd_flag  dropoff_longitude  ...  improvement_surcharge  \\\n",
      "0                  N         -73.974785  ...                    0.3   \n",
      "1                  N         -73.994415  ...                    0.3   \n",
      "2                  N         -73.951820  ...                    0.3   \n",
      "3                  N         -74.004326  ...                    0.3   \n",
      "4                  N         -74.004181  ...                    0.3   \n",
      "\n",
      "   total_amount  pu_brgh  do_brgh  all_within_boroughs  interborough  \\\n",
      "0         17.05      107      107                 True         False   \n",
      "1         17.80      107      107                 True         False   \n",
      "2         10.80      107      107                 True         False   \n",
      "3          4.80      107      107                 True         False   \n",
      "4         16.30      107      107                 True         False   \n",
      "\n",
      "           pu_x          pu_y          do_x          do_y  \n",
      "0 -8.236963e+06  4.975553e+06 -8.234835e+06  4.975627e+06  \n",
      "1 -8.237826e+06  4.971752e+06 -8.237021e+06  4.976875e+06  \n",
      "2 -8.233561e+06  4.983296e+06 -8.232279e+06  4.986477e+06  \n",
      "3 -8.238654e+06  4.970221e+06 -8.238124e+06  4.971127e+06  \n",
      "4 -8.234434e+06  4.977363e+06 -8.238108e+06  4.974457e+06  \n",
      "\n",
      "[5 rows x 27 columns]\n",
      "   VendorID tpep_pickup_datetime tpep_dropoff_datetime  passenger_count  \\\n",
      "0         2  2015-01-15 19:05:39   2015-01-15 19:23:42                1   \n",
      "1         1  2015-01-10 20:33:38   2015-01-10 20:53:28                1   \n",
      "2         1  2015-01-10 20:33:38   2015-01-10 20:43:41                1   \n",
      "3         1  2015-01-10 20:33:39   2015-01-10 20:35:31                1   \n",
      "4         1  2015-01-10 20:33:39   2015-01-10 20:52:58                1   \n",
      "\n",
      "   trip_distance  pickup_longitude  pickup_latitude  RateCodeID  \\\n",
      "0           1.59        -73.993896        40.750111           1   \n",
      "1           3.30        -74.001648        40.724243           1   \n",
      "2           1.80        -73.963341        40.802788           1   \n",
      "3           0.50        -74.009087        40.713818           1   \n",
      "4           3.00        -73.971176        40.762428           1   \n",
      "\n",
      "  store_and_fwd_flag  dropoff_longitude  ...  improvement_surcharge  \\\n",
      "0                  N         -73.974785  ...                    0.3   \n",
      "1                  N         -73.994415  ...                    0.3   \n",
      "2                  N         -73.951820  ...                    0.3   \n",
      "3                  N         -74.004326  ...                    0.3   \n",
      "4                  N         -74.004181  ...                    0.3   \n",
      "\n",
      "   total_amount  pu_brgh  do_brgh  all_within_boroughs  interborough  \\\n",
      "0         17.05      107      107                 True         False   \n",
      "1         17.80      107      107                 True         False   \n",
      "2         10.80      107      107                 True         False   \n",
      "3          4.80      107      107                 True         False   \n",
      "4         16.30      107      107                 True         False   \n",
      "\n",
      "           pu_x          pu_y          do_x          do_y  \n",
      "0 -8.236963e+06  4.975553e+06 -8.234835e+06  4.975627e+06  \n",
      "1 -8.237826e+06  4.971752e+06 -8.237021e+06  4.976875e+06  \n",
      "2 -8.233561e+06  4.983296e+06 -8.232279e+06  4.986477e+06  \n",
      "3 -8.238654e+06  4.970221e+06 -8.238124e+06  4.971127e+06  \n",
      "4 -8.234434e+06  4.977363e+06 -8.238108e+06  4.974457e+06  \n",
      "\n",
      "[5 rows x 27 columns]\n"
     ]
    }
   ],
   "source": [
    "print(taxi_cuX_cor.head())\n",
    "print(taxi_cuS_cor.head())"
   ]
  },
  {
   "cell_type": "code",
   "execution_count": 67,
   "metadata": {},
   "outputs": [
    {
     "name": "stdout",
     "output_type": "stream",
     "text": [
      "# of differences in column VendorID:  0\n",
      "# of differences in column tpep_pickup_datetime:  0\n",
      "# of differences in column tpep_dropoff_datetime:  0\n",
      "# of differences in column passenger_count:  0\n",
      "# of differences in column trip_distance:  0\n",
      "# of differences in column pickup_longitude:  0\n",
      "# of differences in column pickup_latitude:  0\n",
      "# of differences in column RateCodeID:  0\n",
      "# of differences in column store_and_fwd_flag:  0\n",
      "# of differences in column dropoff_longitude:  0\n",
      "# of differences in column dropoff_latitude:  0\n",
      "# of differences in column payment_type:  0\n",
      "# of differences in column fare_amount:  0\n",
      "# of differences in column extra:  0\n",
      "# of differences in column mta_tax:  0\n",
      "# of differences in column tip_amount:  0\n",
      "# of differences in column tolls_amount:  0\n",
      "# of differences in column improvement_surcharge:  0\n",
      "# of differences in column total_amount:  0\n",
      "# of differences in column pu_brgh:  0\n",
      "# of differences in column do_brgh:  0\n",
      "# of differences in column all_within_boroughs:  0\n",
      "# of differences in column interborough:  0\n",
      "# of differences in column pu_x:  0\n",
      "# of differences in column pu_y:  0\n",
      "# of differences in column do_x:  0\n",
      "# of differences in column do_y:  0\n"
     ]
    }
   ],
   "source": [
    "for i in range(0, len(taxi_cuX_cor.columns)):\n",
    "               diff = (taxi_cuX_cor.iloc[:,i] != taxi_cuS_cor.iloc[:,i]).sum()\n",
    "               print(\"# of differences in column \" + taxi_cuX_cor.columns[i]+ ': ', diff)"
   ]
  },
  {
   "cell_type": "markdown",
   "metadata": {},
   "source": [
    "These should all be 0.  Hooray!"
   ]
  },
  {
   "cell_type": "markdown",
   "metadata": {},
   "source": [
    "# Looking for places of interest\n",
    "So now that we have cleaned data of yellow cab trips, and verified it vusially using cuXFilter, we can use cuSpatial to see who is coming from where and why. One bit of curiousness is why, unlike the rest of the region, does Rockaway/Seaside have so many dropoffs, not almost no pickups.  This happens both with interborough and intraborough travel.  It's also Janurary, so nature tourism seems...unlikely.  Let's find out where these people are coming from.\n",
    "\n",
    "To begin, we have to make a box with the latitudes and longitudes of our area of interest\n",
    "40.633869, -73.748353\n",
    "40.559571, -73.877628"
   ]
  },
  {
   "cell_type": "code",
   "execution_count": 106,
   "metadata": {},
   "outputs": [
    {
     "name": "stdout",
     "output_type": "stream",
     "text": [
      "431\n"
     ]
    }
   ],
   "source": [
    "pu_points_inside = cuspatial.window_points(\n",
    "    40.559571, -73.877628,  40.633869, -73.748353, taxi2015['pickup_latitude'], taxi2015['pickup_longitude']\n",
    ")\n",
    "print(pu_points_inside.shape[0])"
   ]
  },
  {
   "cell_type": "code",
   "execution_count": 107,
   "metadata": {},
   "outputs": [
    {
     "name": "stdout",
     "output_type": "stream",
     "text": [
      "1453\n",
      "              x          y\n",
      "0     40.625492 -73.780495\n",
      "1     40.618229 -73.779617\n",
      "2     40.596161 -73.766403\n",
      "3     40.600056 -73.763321\n",
      "4     40.597908 -73.776009\n",
      "...         ...        ...\n",
      "1448  40.593910 -73.755951\n",
      "1449  40.596855 -73.772598\n",
      "1450  40.599525 -73.782089\n",
      "1451  40.574512 -73.858978\n",
      "1452  40.590324 -73.797195\n",
      "\n",
      "[1453 rows x 2 columns]\n"
     ]
    }
   ],
   "source": [
    "do_points_inside = cuspatial.window_points(\n",
    "    40.559571, -73.877628,  40.633869, -73.748353, taxi2015['dropoff_latitude'], taxi2015['dropoff_longitude']\n",
    ")\n",
    "print(do_points_inside.shape[0])\n",
    "print(do_points_inside)"
   ]
  },
  {
   "cell_type": "markdown",
   "metadata": {},
   "source": [
    "So, that's over 3x the pickup traffic.  Where is this influx coming from?  Let's merge back the other data on these points."
   ]
  },
  {
   "cell_type": "code",
   "execution_count": 108,
   "metadata": {},
   "outputs": [],
   "source": [
    "taxi2015['x'] = taxi2015['dropoff_latitude']\n",
    "taxi2015['y'] = taxi2015['dropoff_longitude']\n",
    "rwys = do_points_inside.merge(taxi2015)"
   ]
  },
  {
   "cell_type": "markdown",
   "metadata": {},
   "source": [
    "Let's also do some time analysis and see the frequency of rides per day.  This requires us to modify the date a bit."
   ]
  },
  {
   "cell_type": "code",
   "execution_count": 109,
   "metadata": {},
   "outputs": [],
   "source": [
    "rwys['tpep_pickup_datetime']=rwys['tpep_pickup_datetime'].str.timestamp2int(format=\"%Y-%m-%d %H:%M:%S\")"
   ]
  },
  {
   "cell_type": "code",
   "execution_count": 110,
   "metadata": {},
   "outputs": [],
   "source": [
    "rwys['tpep_pickup_datetime']=rwys['tpep_pickup_datetime'].astype('datetime64[s]')\n",
    "rwys['dom']=rwys['tpep_pickup_datetime'].dt.day\n",
    "rwys['tod']= rwys['tpep_pickup_datetime'].dt.hour"
   ]
  },
  {
   "cell_type": "code",
   "execution_count": 111,
   "metadata": {},
   "outputs": [
    {
     "name": "stdout",
     "output_type": "stream",
     "text": [
      "    index  dom\n",
      "0      20  135\n",
      "1       8   97\n",
      "2      12   97\n",
      "3      13   94\n",
      "4      14   84\n",
      "5       9   78\n",
      "6      10   63\n",
      "7      11   58\n",
      "8       7   51\n",
      "9      22   48\n",
      "10     21   45\n",
      "11      4   44\n",
      "12      6   44\n",
      "13     17   44\n",
      "14     30   43\n",
      "15      1   41\n",
      "16      5   39\n",
      "17     15   39\n",
      "18     19   38\n",
      "19     29   38\n",
      "20     18   37\n",
      "21     28   37\n",
      "22     16   35\n",
      "23     24   34\n",
      "24     31   32\n",
      "25     25   31\n",
      "26     23   29\n",
      "27      2   28\n",
      "28     26   27\n",
      "29      3   26\n",
      "30     27    9\n"
     ]
    }
   ],
   "source": [
    "day_freq = cudf.DataFrame()\n",
    "day_freq = rwys['dom'].value_counts().reset_index()\n",
    "print(day_freq)"
   ]
  },
  {
   "cell_type": "code",
   "execution_count": null,
   "metadata": {},
   "outputs": [],
   "source": [
    "cux = cuxfilter.DataFrame.from_dataframe(day_freq)\n",
    "chart1 = cuxfilter.charts.bar(\"index\", \"dom\")\n",
    "d = cux.dashboard([chart1], layout=cuxfilter.layouts.single_feature, theme=cuxfilter.themes.dark, title= 'NYC TAXI DATASET')\n",
    "d.show(url+':'+port)"
   ]
  },
  {
   "cell_type": "code",
   "execution_count": null,
   "metadata": {},
   "outputs": [],
   "source": [
    "d.stop()"
   ]
  },
  {
   "cell_type": "code",
   "execution_count": 75,
   "metadata": {},
   "outputs": [
    {
     "name": "stdout",
     "output_type": "stream",
     "text": [
      "0       40.596291\n",
      "1       40.598007\n",
      "2       40.645374\n",
      "3       40.743698\n",
      "4       40.627956\n",
      "          ...    \n",
      "1284    40.644791\n",
      "1285    40.597389\n",
      "1286    40.593876\n",
      "1287    40.644810\n",
      "1288    40.744034\n",
      "Name: pickup_latitude, Length: 1289, dtype: float32 0      -73.766205\n",
      "1      -73.775963\n",
      "2      -73.776764\n",
      "3      -73.991951\n",
      "4      -73.769829\n",
      "          ...    \n",
      "1284   -73.781883\n",
      "1285   -73.772484\n",
      "1286   -73.769615\n",
      "1287   -73.777107\n",
      "1288   -73.928352\n",
      "Name: pickup_longitude, Length: 1289, dtype: float32\n"
     ]
    }
   ],
   "source": [
    "print(rwys['pickup_latitude'], rwys['pickup_longitude'])"
   ]
  },
  {
   "cell_type": "code",
   "execution_count": 76,
   "metadata": {},
   "outputs": [
    {
     "name": "stdout",
     "output_type": "stream",
     "text": [
      "              x             y\n",
      "0 -8.211616e+06  4.952976e+06\n",
      "1 -8.212703e+06  4.953227e+06\n",
      "2 -8.212792e+06  4.960174e+06\n",
      "3 -8.236746e+06  4.974610e+06\n",
      "4 -8.212020e+06  4.957619e+06\n"
     ]
    },
    {
     "data": {
      "text/plain": [
       "1289"
      ]
     },
     "execution_count": 76,
     "metadata": {},
     "output_type": "execute_result"
    }
   ],
   "source": [
    "rwys['rwys_x'], rwys['rwys_y'] = makeXfilter(rwys['pickup_latitude'], rwys['pickup_longitude'])\n",
    "rwys['rwys_x'].count()"
   ]
  },
  {
   "cell_type": "markdown",
   "metadata": {},
   "source": [
    "That's weird.  3/4 of the points dropped, even though they were corrected.  "
   ]
  },
  {
   "cell_type": "code",
   "execution_count": 118,
   "metadata": {},
   "outputs": [
    {
     "name": "stdout",
     "output_type": "stream",
     "text": [
      "              x             y\n",
      "0 -8.213270e+06  4.957294e+06\n",
      "1 -8.236177e+06  4.974817e+06\n",
      "2 -8.210027e+06  4.952227e+06\n",
      "3 -8.212792e+06  4.960174e+06\n",
      "4 -8.212785e+06  4.960163e+06\n"
     ]
    }
   ],
   "source": [
    "rwys['rwys_x'], rwys['rwys_y'] = makeXfilter(rwys['pickup_latitude'], rwys['pickup_longitude'])\n",
    "cux = cuxfilter.DataFrame.from_dataframe(rwys)\n",
    "chart4 = cuxfilter.charts.multi_select('pu_brgh')\n",
    "chart5 = cuxfilter.charts.multi_select('do_brgh')\n",
    "chart7 = cuxfilter.charts.multi_select('all_within_boroughs')\n",
    "chart8 = cuxfilter.charts.multi_select('interborough')\n",
    "chart10 = cuxfilter.charts.multi_select('dom')\n",
    "chart11 = cuxfilter.charts.multi_select('tod')\n",
    "chart9 = cuxfilter.charts.scatter_geo(x='rwys_x',\n",
    "                                      y='rwys_y',\n",
    "                                      title='Where are the drop offs coming from?',\n",
    "                                         add_interaction=True , \n",
    "                                         color_palette=palettes.Purples9 , # use bokeh color palettes to get more pop out colors\n",
    "                                         aggregate_col=\"tod\" , aggregate_fn='max',\n",
    "                                         tile_provider=tile_provider, x_range=(-8267428.97,-8207328.23), y_range=(4935861.67,5000548.55))"
   ]
  },
  {
   "cell_type": "code",
   "execution_count": null,
   "metadata": {},
   "outputs": [],
   "source": [
    "d = cux.dashboard([chart4, chart5,chart7, chart8, chart9, chart10, chart11], layout=cuxfilter.layouts.single_feature, theme=cuxfilter.themes.dark, title= 'NYC TAXI DATASET')\n",
    "d.show(url+':'+port)"
   ]
  },
  {
   "cell_type": "code",
   "execution_count": 43,
   "metadata": {},
   "outputs": [],
   "source": [
    "d.stop()"
   ]
  },
  {
   "cell_type": "markdown",
   "metadata": {},
   "source": [
    "And only because SOMEONE will ask \"why didn't we show 'day of the month' and 'time of the day' on the large visualization?\"..."
   ]
  },
  {
   "cell_type": "code",
   "execution_count": 120,
   "metadata": {},
   "outputs": [],
   "source": [
    "taxi2015['tpep_pickup_datetime']=taxi2015['tpep_pickup_datetime'].str.timestamp2int(format=\"%Y-%m-%d %H:%M:%S\")"
   ]
  },
  {
   "cell_type": "code",
   "execution_count": 121,
   "metadata": {},
   "outputs": [],
   "source": [
    "taxi2015['tpep_pickup_datetime']=taxi2015['tpep_pickup_datetime'].astype('datetime64[s]')\n",
    "taxi2015['dom']=taxi2015['tpep_pickup_datetime'].dt.day\n",
    "taxi2015['tod']= taxi2015['tpep_pickup_datetime'].dt.hour"
   ]
  },
  {
   "cell_type": "code",
   "execution_count": 122,
   "metadata": {},
   "outputs": [],
   "source": [
    "chart0 = cuxfilter.charts.scatter_geo(x='pu_x',\n",
    "                                      y='pu_y',\n",
    "                                      title='NYC Taxi Pickups',\n",
    "                                      aggregate_fn='count',\n",
    "                                      tile_provider=tile_provider, x_range=(-8267428.97,-8207328.23), y_range=(4935861.67,5000548.55))\n",
    "chart1 = cuxfilter.charts.scatter_geo(x='do_x',\n",
    "                                      y='do_y',\n",
    "                                      title='NYC Taxi Dropoffs',\n",
    "                                      aggregate_fn='count',\n",
    "                                      tile_provider=tile_provider, x_range=(-8267428.97,-8207328.23), y_range=(4935861.67,5000548.55))\n",
    "chart2 = cuxfilter.charts.multi_select('all_within_boroughs')\n",
    "chart3 = cuxfilter.charts.multi_select('interborough')\n",
    "chart4 = cuxfilter.charts.multi_select('pu_brgh')\n",
    "chart5 = cuxfilter.charts.multi_select('do_brgh')\n",
    "chart6 = cuxfilter.charts.multi_select('dom')\n",
    "chart7 = cuxfilter.charts.multi_select('tod')"
   ]
  },
  {
   "cell_type": "code",
   "execution_count": null,
   "metadata": {},
   "outputs": [],
   "source": [
    "d = cux.dashboard([chart0, chart1, chart2, chart3, chart4, chart5,chart6, chart7], layout=cuxfilter.layouts.feature_and_base, theme=cuxfilter.themes.dark, title= 'NYC TAXI DATASET')\n",
    "d.show(url+':'+port)"
   ]
  },
  {
   "cell_type": "code",
   "execution_count": null,
   "metadata": {},
   "outputs": [],
   "source": [
    "d.stop()"
   ]
  }
 ],
 "metadata": {
  "kernelspec": {
   "display_name": "Python 3",
   "language": "python",
   "name": "python3"
  },
  "language_info": {
   "codemirror_mode": {
    "name": "ipython",
    "version": 3
   },
   "file_extension": ".py",
   "mimetype": "text/x-python",
   "name": "python",
   "nbconvert_exporter": "python",
   "pygments_lexer": "ipython3",
   "version": "3.6.10"
  }
 },
 "nbformat": 4,
 "nbformat_minor": 4
}
