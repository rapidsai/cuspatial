{
 "cells": [
  {
   "cell_type": "code",
   "execution_count": 1,
   "metadata": {},
   "outputs": [],
   "source": [
    "import cuspatial\n",
    "import geopandas as gpd\n",
    "import cudf\n",
    "from numba import cuda\n",
    "import numpy as np"
   ]
  },
  {
   "cell_type": "markdown",
   "metadata": {},
   "source": [
    "# Get your data"
   ]
  },
  {
   "cell_type": "code",
   "execution_count": 2,
   "metadata": {},
   "outputs": [
    {
     "name": "stdout",
     "output_type": "stream",
     "text": [
      "  % Total    % Received % Xferd  Average Speed   Time    Time     Time  Current\n",
      "                                 Dload  Upload   Total   Spent    Left  Speed\n",
      "100 1001k  100 1001k    0     0   397k      0  0:00:02  0:00:02 --:--:--  397k\n"
     ]
    }
   ],
   "source": [
    "!curl https://s3.amazonaws.com/nyc-tlc/misc/taxi_zones.zip -o zones.zip"
   ]
  },
  {
   "cell_type": "code",
   "execution_count": 3,
   "metadata": {},
   "outputs": [
    {
     "name": "stdout",
     "output_type": "stream",
     "text": [
      "  % Total    % Received % Xferd  Average Speed   Time    Time     Time  Current\n",
      "                                 Dload  Upload   Total   Spent    Left  Speed\n",
      "100 1893M  100 1893M    0     0  4524k      0  0:07:08  0:07:08 --:--:-- 5142k   0     0  4302k      0  0:07:30  0:03:45  0:03:45 4392kM   58 1112M    0     0  4325k      0  0:07:28  0:04:23  0:03:05 4361k\n"
     ]
    }
   ],
   "source": [
    "!curl https://s3.amazonaws.com/nyc-tlc/trip+data/yellow_tripdata_2015-01.csv -o taxi2015.csv"
   ]
  },
  {
   "cell_type": "code",
   "execution_count": 9,
   "metadata": {},
   "outputs": [
    {
     "name": "stdout",
     "output_type": "stream",
     "text": [
      "  % Total    % Received % Xferd  Average Speed   Time    Time     Time  Current\n",
      "                                 Dload  Upload   Total   Spent    Left  Speed\n",
      "100 2881k    0 2881k    0     0  2357k      0 --:--:--  0:00:01 --:--:-- 2359k\n"
     ]
    }
   ],
   "source": [
    "!curl \"https://data.cityofnewyork.us/api/geospatial/tqmj-j8zm?method=export&format=GeoJSON\" > NYC_boroughs.json"
   ]
  },
  {
   "cell_type": "code",
   "execution_count": 2,
   "metadata": {},
   "outputs": [
    {
     "name": "stdout",
     "output_type": "stream",
     "text": [
      "CPU times: user 1.09 s, sys: 519 ms, total: 1.61 s\n",
      "Wall time: 1.67 s\n"
     ]
    }
   ],
   "source": [
    "%%time\n",
    "NYC_boroughs = gpd.read_file('NYC_boroughs.json')\n",
    "NYC_boroughs.to_file('NYC_boroughs.shp')\n",
    "NYC_gpu = cuspatial.read_polygon_shapefile('NYC_boroughs.shp')"
   ]
  },
  {
   "cell_type": "markdown",
   "metadata": {},
   "source": [
    "# Let's check out the shape file\n",
    "\n",
    "cuSpatial geometry uses a packed format. In this object, `NYC_gpu`, the first GPU-array in the tuple contains the feature positions `f_pos`. `Feature 0` is the first 24 rings, `Feature 1` is the set of rings from index 24-28, and so forth.\n",
    "\n",
    "`r_pos` are the ring positions of each feature. `Ring 0` is the first 12 coordinate pairs, `Ring 1` is the coordinate pairs from index 12-511, and so forth.\n",
    "\n",
    "Finally the `DataFrame` at position `2` in `NYC_gpu` are the 75519 coordinates used in all 5 features, and the 106 rings that compose them.\n"
   ]
  },
  {
   "cell_type": "code",
   "execution_count": 27,
   "metadata": {},
   "outputs": [
    {
     "name": "stdout",
     "output_type": "stream",
     "text": [
      "(0     24\n",
      "1     28\n",
      "2     55\n",
      "3     73\n",
      "4    107\n",
      "Name: f_pos, dtype: int32, 0         12\n",
      "1        511\n",
      "2        523\n",
      "3        528\n",
      "4        536\n",
      "       ...  \n",
      "102    70054\n",
      "103    70300\n",
      "104    75278\n",
      "105    75291\n",
      "106    75519\n",
      "Name: r_pos, Length: 107, dtype: int32,                x          y\n",
      "0     -73.896812  40.795807\n",
      "1     -73.896782  40.796329\n",
      "2     -73.897133  40.796799\n",
      "3     -73.897881  40.797115\n",
      "4     -73.898521  40.796936\n",
      "...          ...        ...\n",
      "75514 -73.907745  40.872845\n",
      "75515 -73.907463  40.873547\n",
      "75516 -73.907089  40.874325\n",
      "75517 -73.906914  40.875057\n",
      "75518 -73.906654  40.875751\n",
      "\n",
      "[75519 rows x 2 columns])\n"
     ]
    }
   ],
   "source": [
    "print(NYC_gpu)"
   ]
  },
  {
   "cell_type": "code",
   "execution_count": 4,
   "metadata": {},
   "outputs": [
    {
     "name": "stdout",
     "output_type": "stream",
     "text": [
      "             x          y\n",
      "511 -73.898330  40.802413\n",
      "512 -73.899387  40.801936\n",
      "513 -73.899489  40.800901\n",
      "514 -73.900037  40.800909\n",
      "515 -73.899716  40.800799\n",
      "516 -73.899787  40.799510\n",
      "517 -73.900210  40.799264\n",
      "518 -73.899025  40.799172\n",
      "519 -73.898640  40.799101\n",
      "520 -73.897985  40.799604\n",
      "521 -73.896467  40.800790\n"
     ]
    }
   ],
   "source": [
    "t = NYC_gpu[2].iloc[511:522]\n",
    "print(t)"
   ]
  },
  {
   "cell_type": "markdown",
   "metadata": {},
   "source": [
    "You can see above the 11 vertices that make up `Feature 0`, `Ring 1`."
   ]
  },
  {
   "cell_type": "markdown",
   "metadata": {},
   "source": [
    "## Working with Polygons\n",
    "Let's look at and dive into the elements of the read shapefile using cuSpatial"
   ]
  },
  {
   "cell_type": "code",
   "execution_count": 5,
   "metadata": {},
   "outputs": [
    {
     "name": "stdout",
     "output_type": "stream",
     "text": [
      "Polygon Bounds: 0     24\n",
      "1     28\n",
      "2     55\n",
      "3     73\n",
      "4    107\n",
      "Name: f_pos, dtype: int32\n",
      "Last Vertex: 0         12\n",
      "1        511\n",
      "2        523\n",
      "3        528\n",
      "4        536\n",
      "       ...  \n",
      "102    70054\n",
      "103    70300\n",
      "104    75278\n",
      "105    75291\n",
      "106    75519\n",
      "Name: r_pos, Length: 107, dtype: int32\n",
      "Latitude:  0       -73.896809\n",
      "1       -73.896785\n",
      "2       -73.897131\n",
      "3       -73.897883\n",
      "4       -73.898521\n",
      "           ...    \n",
      "75514   -73.907743\n",
      "75515   -73.907465\n",
      "75516   -73.907088\n",
      "75517   -73.906917\n",
      "75518   -73.906651\n",
      "Name: x, Length: 75519, dtype: float64\n",
      "Longitude:  0        40.795808\n",
      "1        40.796329\n",
      "2        40.796798\n",
      "3        40.797117\n",
      "4        40.796936\n",
      "           ...    \n",
      "75514    40.872846\n",
      "75515    40.873547\n",
      "75516    40.874326\n",
      "75517    40.875056\n",
      "75518    40.875753\n",
      "Name: y, Length: 75519, dtype: float64\n"
     ]
    }
   ],
   "source": [
    "print(\"Polygon Bounds:\" , NYC_gpu[0] # uppper bound of the rings that make up the polygon (feature)\n",
    "print(\"Last Vertex:\" , NYC_gpu[1]) # this is the position of the last vertex in each ring\n",
    "\n",
    "# You can get the lon/lat by \n",
    "print(\"Longitude: \", NYC_gpu[2]['x']) # prints lon\n",
    "print(\"Latitude: \" , NYC_gpu[2]['y']) # prints lat\n",
    "      \n",
    "NYC_gpu[2]['x'] = NYC_gpu[2]['x'].astype(\"float32\")\n",
    "NYC_gpu[2]['y'] = NYC_gpu[2]['y'].astype(\"float32\")"
   ]
  },
  {
   "cell_type": "code",
   "execution_count": 6,
   "metadata": {},
   "outputs": [
    {
     "data": {
      "text/plain": [
       "0       12\n",
       "1      511\n",
       "2      523\n",
       "3      528\n",
       "4      536\n",
       "5      561\n",
       "6      581\n",
       "7     1968\n",
       "8     2065\n",
       "9     2255\n",
       "10    2260\n",
       "11    2389\n",
       "12    2496\n",
       "13    2633\n",
       "14    2638\n",
       "15    2643\n",
       "16    2649\n",
       "17    2657\n",
       "18    2664\n",
       "19    2680\n",
       "20    2685\n",
       "21    2690\n",
       "22    2714\n",
       "23    8509\n",
       "24    8556\n",
       "Name: r_pos, dtype: int32"
      ]
     },
     "execution_count": 6,
     "metadata": {},
     "output_type": "execute_result"
    }
   ],
   "source": [
    "NYC_gpu[1].head(25) #this set of rings are NYC_gpu[1][0] (the first polygon). This data is packed.  "
   ]
  },
  {
   "cell_type": "markdown",
   "metadata": {},
   "source": [
    "## Taxi Data\n",
    "Let's import the taxi data.  Newer years have pickup/drop off location ids that you would have to cross correlate.  Older years, like 2015 give you a lon/lat values.  We'll be using those ideas"
   ]
  },
  {
   "cell_type": "code",
   "execution_count": 7,
   "metadata": {},
   "outputs": [
    {
     "name": "stdout",
     "output_type": "stream",
     "text": [
      "VendorID                   int64\n",
      "tpep_pickup_datetime      object\n",
      "tpep_dropoff_datetime     object\n",
      "passenger_count            int64\n",
      "trip_distance            float64\n",
      "pickup_longitude         float64\n",
      "pickup_latitude          float64\n",
      "RateCodeID                 int64\n",
      "store_and_fwd_flag        object\n",
      "dropoff_longitude        float64\n",
      "dropoff_latitude         float64\n",
      "payment_type               int64\n",
      "fare_amount              float64\n",
      "extra                    float64\n",
      "mta_tax                  float64\n",
      "tip_amount               float64\n",
      "tolls_amount             float64\n",
      "improvement_surcharge    float64\n",
      "total_amount             float64\n",
      "dtype: object\n"
     ]
    }
   ],
   "source": [
    "taxi2015 = cudf.read_csv(\"taxi2015.csv\")\n",
    "print(taxi2015.dtypes)"
   ]
  },
  {
   "cell_type": "code",
   "execution_count": 8,
   "metadata": {},
   "outputs": [
    {
     "data": {
      "text/plain": [
       "VendorID                 12748986\n",
       "tpep_pickup_datetime     12748986\n",
       "tpep_dropoff_datetime    12748986\n",
       "passenger_count          12748986\n",
       "trip_distance            12748986\n",
       "pickup_longitude         12748986\n",
       "pickup_latitude          12748986\n",
       "RateCodeID               12748986\n",
       "store_and_fwd_flag       12748986\n",
       "dropoff_longitude        12748986\n",
       "dropoff_latitude         12748986\n",
       "payment_type             12748986\n",
       "fare_amount              12748986\n",
       "extra                    12748986\n",
       "mta_tax                  12748986\n",
       "tip_amount               12748986\n",
       "tolls_amount             12748986\n",
       "improvement_surcharge    12748983\n",
       "total_amount             12748986\n",
       "dtype: int64"
      ]
     },
     "execution_count": 8,
     "metadata": {},
     "output_type": "execute_result"
    }
   ],
   "source": [
    "taxi2015.count()"
   ]
  },
  {
   "cell_type": "markdown",
   "metadata": {},
   "source": [
    "As you can see, the columns that we're interested in for our spatial analysis are `pickup_longitude`, `pickup_latitude`, `dropoff_longitude`, and `dropoff_latitude`.  However, they are `float64`. If we convert to `float32` we'll have GPU storage for twice as many features. Also, `float32` has plenty of precision for lon/lat computations."
   ]
  },
  {
   "cell_type": "code",
   "execution_count": 9,
   "metadata": {},
   "outputs": [],
   "source": [
    "taxi2015['pickup_longitude'] = taxi2015['pickup_longitude'].astype('float32')\n",
    "taxi2015['pickup_latitude'] = taxi2015['pickup_latitude'].astype('float32')\n",
    "\n",
    "taxi2015['dropoff_longitude'] = taxi2015['dropoff_longitude'].astype('float32')\n",
    "taxi2015['dropoff_latitude'] = taxi2015['dropoff_latitude'].astype('float32')"
   ]
  },
  {
   "cell_type": "markdown",
   "metadata": {},
   "source": [
    "## GPU Point-In-Polygon\n",
    "\n",
    "- 12m pickup locations\n",
    "- 12m dropoff locations\n",
    "- 5 borough features\n",
    "- 107 borough polygons\n",
    "- 75518 borough coordinates\n",
    "\n",
    "Now that we've collected the set of pickup locations and dropoff locations, we can use `cuSpatial.point_in_polygon_bitmap` to quickly determine which pickups and dropoffs occur in each borough. That is, 5 boroughs composed of a total of 107 polygons."
   ]
  },
  {
   "cell_type": "code",
   "execution_count": 33,
   "metadata": {},
   "outputs": [
    {
     "name": "stdout",
     "output_type": "stream",
     "text": [
      "CPU times: user 2.08 s, sys: 976 ms, total: 3.05 s\n",
      "Wall time: 3.07 s\n"
     ]
    }
   ],
   "source": [
    "%%time\n",
    "pickups = cuspatial.point_in_polygon_bitmap(taxi2015['pickup_longitude'] , taxi2015['pickup_latitude'], NYC_gpu[0], NYC_gpu[1], NYC_gpu[2]['x'], NYC_gpu[2]['y'])\n",
    "dropoffs = cuspatial.point_in_polygon_bitmap(taxi2015['dropoff_longitude'] , taxi2015['dropoff_latitude'], NYC_gpu[0], NYC_gpu[1], NYC_gpu[2]['x'], NYC_gpu[2]['y'])"
   ]
  },
  {
   "cell_type": "code",
   "execution_count": 34,
   "metadata": {},
   "outputs": [
    {
     "data": {
      "text/html": [
       "<div>\n",
       "<style scoped>\n",
       "    .dataframe tbody tr th:only-of-type {\n",
       "        vertical-align: middle;\n",
       "    }\n",
       "\n",
       "    .dataframe tbody tr th {\n",
       "        vertical-align: top;\n",
       "    }\n",
       "\n",
       "    .dataframe thead th {\n",
       "        text-align: right;\n",
       "    }\n",
       "</style>\n",
       "<table border=\"1\" class=\"dataframe\">\n",
       "  <thead>\n",
       "    <tr style=\"text-align: right;\">\n",
       "      <th></th>\n",
       "      <th>in_polygon_24</th>\n",
       "      <th>in_polygon_28</th>\n",
       "      <th>in_polygon_55</th>\n",
       "      <th>in_polygon_73</th>\n",
       "      <th>in_polygon_107</th>\n",
       "    </tr>\n",
       "  </thead>\n",
       "  <tbody>\n",
       "    <tr>\n",
       "      <th>0</th>\n",
       "      <td>False</td>\n",
       "      <td>False</td>\n",
       "      <td>False</td>\n",
       "      <td>False</td>\n",
       "      <td>True</td>\n",
       "    </tr>\n",
       "    <tr>\n",
       "      <th>1</th>\n",
       "      <td>False</td>\n",
       "      <td>False</td>\n",
       "      <td>False</td>\n",
       "      <td>False</td>\n",
       "      <td>True</td>\n",
       "    </tr>\n",
       "    <tr>\n",
       "      <th>2</th>\n",
       "      <td>False</td>\n",
       "      <td>False</td>\n",
       "      <td>False</td>\n",
       "      <td>False</td>\n",
       "      <td>True</td>\n",
       "    </tr>\n",
       "    <tr>\n",
       "      <th>3</th>\n",
       "      <td>False</td>\n",
       "      <td>False</td>\n",
       "      <td>False</td>\n",
       "      <td>False</td>\n",
       "      <td>True</td>\n",
       "    </tr>\n",
       "    <tr>\n",
       "      <th>4</th>\n",
       "      <td>False</td>\n",
       "      <td>False</td>\n",
       "      <td>False</td>\n",
       "      <td>False</td>\n",
       "      <td>True</td>\n",
       "    </tr>\n",
       "  </tbody>\n",
       "</table>\n",
       "</div>"
      ],
      "text/plain": [
       "   in_polygon_24  in_polygon_28  in_polygon_55  in_polygon_73  in_polygon_107\n",
       "0          False          False          False          False            True\n",
       "1          False          False          False          False            True\n",
       "2          False          False          False          False            True\n",
       "3          False          False          False          False            True\n",
       "4          False          False          False          False            True"
      ]
     },
     "execution_count": 34,
     "metadata": {},
     "output_type": "execute_result"
    }
   ],
   "source": [
    "pickups.head()"
   ]
  },
  {
   "cell_type": "code",
   "execution_count": 35,
   "metadata": {},
   "outputs": [
    {
     "data": {
      "text/html": [
       "<div>\n",
       "<style scoped>\n",
       "    .dataframe tbody tr th:only-of-type {\n",
       "        vertical-align: middle;\n",
       "    }\n",
       "\n",
       "    .dataframe tbody tr th {\n",
       "        vertical-align: top;\n",
       "    }\n",
       "\n",
       "    .dataframe thead th {\n",
       "        text-align: right;\n",
       "    }\n",
       "</style>\n",
       "<table border=\"1\" class=\"dataframe\">\n",
       "  <thead>\n",
       "    <tr style=\"text-align: right;\">\n",
       "      <th></th>\n",
       "      <th>in_polygon_24</th>\n",
       "      <th>in_polygon_28</th>\n",
       "      <th>in_polygon_55</th>\n",
       "      <th>in_polygon_73</th>\n",
       "      <th>in_polygon_107</th>\n",
       "    </tr>\n",
       "  </thead>\n",
       "  <tbody>\n",
       "    <tr>\n",
       "      <th>0</th>\n",
       "      <td>False</td>\n",
       "      <td>False</td>\n",
       "      <td>False</td>\n",
       "      <td>False</td>\n",
       "      <td>True</td>\n",
       "    </tr>\n",
       "    <tr>\n",
       "      <th>1</th>\n",
       "      <td>False</td>\n",
       "      <td>False</td>\n",
       "      <td>False</td>\n",
       "      <td>False</td>\n",
       "      <td>True</td>\n",
       "    </tr>\n",
       "    <tr>\n",
       "      <th>2</th>\n",
       "      <td>False</td>\n",
       "      <td>False</td>\n",
       "      <td>False</td>\n",
       "      <td>False</td>\n",
       "      <td>True</td>\n",
       "    </tr>\n",
       "    <tr>\n",
       "      <th>3</th>\n",
       "      <td>False</td>\n",
       "      <td>False</td>\n",
       "      <td>False</td>\n",
       "      <td>False</td>\n",
       "      <td>True</td>\n",
       "    </tr>\n",
       "    <tr>\n",
       "      <th>4</th>\n",
       "      <td>False</td>\n",
       "      <td>False</td>\n",
       "      <td>False</td>\n",
       "      <td>False</td>\n",
       "      <td>True</td>\n",
       "    </tr>\n",
       "  </tbody>\n",
       "</table>\n",
       "</div>"
      ],
      "text/plain": [
       "   in_polygon_24  in_polygon_28  in_polygon_55  in_polygon_73  in_polygon_107\n",
       "0          False          False          False          False            True\n",
       "1          False          False          False          False            True\n",
       "2          False          False          False          False            True\n",
       "3          False          False          False          False            True\n",
       "4          False          False          False          False            True"
      ]
     },
     "execution_count": 35,
     "metadata": {},
     "output_type": "execute_result"
    }
   ],
   "source": [
    "dropoffs.head()"
   ]
  },
  {
   "cell_type": "markdown",
   "metadata": {},
   "source": [
    "We just computed point in polygon for 25 million points against 75.5k other points in `3.07s`. That's really fast. Simply computing the pairwise distance between all 25m points and the 75.5k polygon coordinates is `25000000*75500=2 trillion` comparisons. We're **NOT going to compare full CPU times**.  We will take a subset, to give you a taste though."
   ]
  },
  {
   "cell_type": "markdown",
   "metadata": {},
   "source": [
    "## CPU Benchmark\n",
    "\n",
    "In the following section we'll pull a single 12 vertex polygon from the source data, create a `Shapely` polygon from it, and use Shapely to run point_in_polygon on a small subset of the 12m taxi pickup and dropoff locations."
   ]
  },
  {
   "cell_type": "code",
   "execution_count": 13,
   "metadata": {},
   "outputs": [
    {
     "name": "stdout",
     "output_type": "stream",
     "text": [
      "             x          y\n",
      "511 -73.898331  40.802414\n",
      "512 -73.899391  40.801937\n",
      "513 -73.899490  40.800900\n",
      "514 -73.900040  40.800907\n",
      "515 -73.899719  40.800800\n",
      "516 -73.899788  40.799511\n",
      "517 -73.900208  40.799263\n",
      "518 -73.899025  40.799171\n",
      "519 -73.898643  40.799103\n",
      "520 -73.897987  40.799603\n",
      "521 -73.896469  40.800789\n",
      "[(-73.89833068847656, 40.80241394042969), (-73.8993911743164, 40.801937103271484), (-73.89949035644531, 40.800899505615234), (-73.90003967285156, 40.800907135009766), (-73.89971923828125, 40.80080032348633), (-73.89978790283203, 40.79951095581055), (-73.90020751953125, 40.79926300048828), (-73.8990249633789, 40.799171447753906), (-73.89864349365234, 40.799102783203125), (-73.89798736572266, 40.79960250854492), (-73.89646911621094, 40.80078887939453)]\n"
     ]
    }
   ],
   "source": [
    "t = NYC_gpu[2].iloc[511:522]\n",
    "print(t)\n",
    "NYC_shape = list(zip(t['x'].tolist(), t['y'].tolist()))\n",
    "print(NYC_shape)"
   ]
  },
  {
   "cell_type": "code",
   "execution_count": 52,
   "metadata": {},
   "outputs": [],
   "source": [
    "from shapely.geometry import Point\n",
    "from shapely.geometry.polygon import Polygon\n",
    "\n",
    "outcome = []\n",
    "outcome_yes = 0\n",
    "outcome_no = 0\n",
    "random_1000 = taxi2015[['pickup_longitude', 'pickup_latitude']]#.iloc[\n",
    "    #np.random.choice(np.arange(taxi2015.shape[0]), 1000000),:]\n",
    "points = [Point(p) for p in list(zip(\n",
    "    random_1000['pickup_latitude'].tolist(), random_1000['pickup_longitude'].tolist()))]\n",
    "polygon = Polygon(NYC_shape)"
   ]
  },
  {
   "cell_type": "code",
   "execution_count": 53,
   "metadata": {},
   "outputs": [
    {
     "name": "stdout",
     "output_type": "stream",
     "text": [
      "yes:  0 no:  12748986\n",
      "CPU times: user 1min 12s, sys: 87.2 ms, total: 1min 12s\n",
      "Wall time: 1min 12s\n"
     ]
    }
   ],
   "source": [
    "%%time\n",
    "for i in range(0, len(points)):\n",
    "    point = points[i]\n",
    "    if(polygon.contains(point)):\n",
    "        outcome_yes += 1\n",
    "    else:\n",
    "        outcome_no += 1\n",
    "    #outcome.append(point.contains(polygon)) #to keep track of the ride that would start in that polygon\n",
    "print(\"yes: \", outcome_yes, \"no: \" , outcome_no)"
   ]
  },
  {
   "cell_type": "markdown",
   "metadata": {},
   "source": [
    "Is it working?"
   ]
  },
  {
   "cell_type": "code",
   "execution_count": 55,
   "metadata": {},
   "outputs": [
    {
     "name": "stdout",
     "output_type": "stream",
     "text": [
      "True\n"
     ]
    }
   ],
   "source": [
    "center = polygon.centroid\n",
    "print(polygon.contains(center))"
   ]
  },
  {
   "cell_type": "markdown",
   "metadata": {},
   "source": [
    "Yup!"
   ]
  },
  {
   "cell_type": "markdown",
   "metadata": {},
   "source": [
    "\n",
    "## Why? This needs an introduction.\n",
    "\n",
    "Let's make all the booleans into integers (dirty way)"
   ]
  },
  {
   "cell_type": "code",
   "execution_count": 16,
   "metadata": {},
   "outputs": [],
   "source": [
    "pickups = pickups*1\n",
    "dropoffs = dropoffs*1"
   ]
  },
  {
   "cell_type": "code",
   "execution_count": 17,
   "metadata": {},
   "outputs": [
    {
     "name": "stdout",
     "output_type": "stream",
     "text": [
      "     in_polygon_24  in_polygon_28  in_polygon_55  in_polygon_73  \\\n",
      "31               0              0              0              0   \n",
      "61               0              0              0              0   \n",
      "66               0              0              0              0   \n",
      "157              0              0              0              0   \n",
      "159              0              0              0              0   \n",
      "\n",
      "     in_polygon_107  polygon  \n",
      "31                0        0  \n",
      "61                0        0  \n",
      "66                0        0  \n",
      "157               0        0  \n",
      "159               0        0  \n",
      "     in_polygon_24  in_polygon_28  in_polygon_55  in_polygon_73  \\\n",
      "31               0              0              0              0   \n",
      "61               0              0              0              0   \n",
      "66               0              0              0              0   \n",
      "119              0              0              0              0   \n",
      "157              0              0              0              0   \n",
      "\n",
      "     in_polygon_107  polygon  \n",
      "31                0        0  \n",
      "61                0        0  \n",
      "66                0        0  \n",
      "119               0        0  \n",
      "157               0        0  \n",
      "CPU times: user 1.82 s, sys: 612 ms, total: 2.43 s\n",
      "Wall time: 2.43 s\n"
     ]
    }
   ],
   "source": [
    "%%time\n",
    "cols = [\"in_polygon_24\", \"in_polygon_28\", \"in_polygon_55\", \"in_polygon_73\", \"in_polygon_107\"] \n",
    "groups = pickups.groupby(cols, method='cudf')\n",
    "# Define a function to apply to each group\n",
    "def mult_add(in_polygon_24, in_polygon_28, in_polygon_55, in_polygon_73, in_polygon_107, polygon):\n",
    "    for i in range(cuda.threadIdx.x, len(in_polygon_24), cuda.blockDim.x):\n",
    "        if(in_polygon_24[i] == 1):\n",
    "            polygon[i] = 24\n",
    "        elif(in_polygon_28[i] == 1):\n",
    "            polygon[i] = 28\n",
    "        elif(in_polygon_55[i] == 1):\n",
    "            polygon[i] = 55\n",
    "        elif(in_polygon_73[i] == 1):\n",
    "            polygon[i] = 73\n",
    "        elif(in_polygon_107[i] == 1):\n",
    "            polygon[i] = 107\n",
    "        else:\n",
    "            polygon[i] = 0\n",
    "\n",
    "pickups = groups.apply_grouped(mult_add,\n",
    "                              incols=[\"in_polygon_24\", \"in_polygon_28\", \"in_polygon_55\", \"in_polygon_73\", \"in_polygon_107\"],\n",
    "                              outcols={'polygon': np.int32},\n",
    "                              # threads per block\n",
    "                              tpb=8)\n",
    "groups = dropoffs.groupby(cols, method='cudf')\n",
    "dropoffs = groups.apply_grouped(mult_add,\n",
    "                              incols=[\"in_polygon_24\", \"in_polygon_28\", \"in_polygon_55\", \"in_polygon_73\", \"in_polygon_107\"],\n",
    "                              outcols={'polygon': np.int32},\n",
    "                              # threads per block\n",
    "                              tpb=8)\n",
    "print(pickups.head())\n",
    "print(dropoffs.head())"
   ]
  },
  {
   "cell_type": "markdown",
   "metadata": {},
   "source": [
    "## Add the outputs to your taxi dataframe"
   ]
  },
  {
   "cell_type": "code",
   "execution_count": 18,
   "metadata": {},
   "outputs": [],
   "source": [
    "taxi2015['pu_brgh'] = pickups['polygon']\n",
    "taxi2015['do_brgh'] = dropoffs['polygon']"
   ]
  },
  {
   "cell_type": "code",
   "execution_count": 19,
   "metadata": {},
   "outputs": [
    {
     "data": {
      "text/html": [
       "<div>\n",
       "<style scoped>\n",
       "    .dataframe tbody tr th:only-of-type {\n",
       "        vertical-align: middle;\n",
       "    }\n",
       "\n",
       "    .dataframe tbody tr th {\n",
       "        vertical-align: top;\n",
       "    }\n",
       "\n",
       "    .dataframe thead th {\n",
       "        text-align: right;\n",
       "    }\n",
       "</style>\n",
       "<table border=\"1\" class=\"dataframe\">\n",
       "  <thead>\n",
       "    <tr style=\"text-align: right;\">\n",
       "      <th></th>\n",
       "      <th>VendorID</th>\n",
       "      <th>tpep_pickup_datetime</th>\n",
       "      <th>tpep_dropoff_datetime</th>\n",
       "      <th>passenger_count</th>\n",
       "      <th>trip_distance</th>\n",
       "      <th>pickup_longitude</th>\n",
       "      <th>pickup_latitude</th>\n",
       "      <th>RateCodeID</th>\n",
       "      <th>store_and_fwd_flag</th>\n",
       "      <th>dropoff_longitude</th>\n",
       "      <th>...</th>\n",
       "      <th>payment_type</th>\n",
       "      <th>fare_amount</th>\n",
       "      <th>extra</th>\n",
       "      <th>mta_tax</th>\n",
       "      <th>tip_amount</th>\n",
       "      <th>tolls_amount</th>\n",
       "      <th>improvement_surcharge</th>\n",
       "      <th>total_amount</th>\n",
       "      <th>pu_brgh</th>\n",
       "      <th>do_brgh</th>\n",
       "    </tr>\n",
       "  </thead>\n",
       "  <tbody>\n",
       "    <tr>\n",
       "      <th>0</th>\n",
       "      <td>2</td>\n",
       "      <td>2015-01-15 19:05:39</td>\n",
       "      <td>2015-01-15 19:23:42</td>\n",
       "      <td>1</td>\n",
       "      <td>1.59</td>\n",
       "      <td>-73.993896</td>\n",
       "      <td>40.750111</td>\n",
       "      <td>1</td>\n",
       "      <td>N</td>\n",
       "      <td>-73.974785</td>\n",
       "      <td>...</td>\n",
       "      <td>1</td>\n",
       "      <td>12.0</td>\n",
       "      <td>1.0</td>\n",
       "      <td>0.5</td>\n",
       "      <td>3.25</td>\n",
       "      <td>0.0</td>\n",
       "      <td>0.3</td>\n",
       "      <td>17.05</td>\n",
       "      <td>107</td>\n",
       "      <td>107</td>\n",
       "    </tr>\n",
       "    <tr>\n",
       "      <th>1</th>\n",
       "      <td>1</td>\n",
       "      <td>2015-01-10 20:33:38</td>\n",
       "      <td>2015-01-10 20:53:28</td>\n",
       "      <td>1</td>\n",
       "      <td>3.30</td>\n",
       "      <td>-74.001648</td>\n",
       "      <td>40.724243</td>\n",
       "      <td>1</td>\n",
       "      <td>N</td>\n",
       "      <td>-73.994415</td>\n",
       "      <td>...</td>\n",
       "      <td>1</td>\n",
       "      <td>14.5</td>\n",
       "      <td>0.5</td>\n",
       "      <td>0.5</td>\n",
       "      <td>2.00</td>\n",
       "      <td>0.0</td>\n",
       "      <td>0.3</td>\n",
       "      <td>17.80</td>\n",
       "      <td>107</td>\n",
       "      <td>107</td>\n",
       "    </tr>\n",
       "    <tr>\n",
       "      <th>2</th>\n",
       "      <td>1</td>\n",
       "      <td>2015-01-10 20:33:38</td>\n",
       "      <td>2015-01-10 20:43:41</td>\n",
       "      <td>1</td>\n",
       "      <td>1.80</td>\n",
       "      <td>-73.963341</td>\n",
       "      <td>40.802788</td>\n",
       "      <td>1</td>\n",
       "      <td>N</td>\n",
       "      <td>-73.951820</td>\n",
       "      <td>...</td>\n",
       "      <td>2</td>\n",
       "      <td>9.5</td>\n",
       "      <td>0.5</td>\n",
       "      <td>0.5</td>\n",
       "      <td>0.00</td>\n",
       "      <td>0.0</td>\n",
       "      <td>0.3</td>\n",
       "      <td>10.80</td>\n",
       "      <td>107</td>\n",
       "      <td>107</td>\n",
       "    </tr>\n",
       "    <tr>\n",
       "      <th>3</th>\n",
       "      <td>1</td>\n",
       "      <td>2015-01-10 20:33:39</td>\n",
       "      <td>2015-01-10 20:35:31</td>\n",
       "      <td>1</td>\n",
       "      <td>0.50</td>\n",
       "      <td>-74.009087</td>\n",
       "      <td>40.713818</td>\n",
       "      <td>1</td>\n",
       "      <td>N</td>\n",
       "      <td>-74.004326</td>\n",
       "      <td>...</td>\n",
       "      <td>2</td>\n",
       "      <td>3.5</td>\n",
       "      <td>0.5</td>\n",
       "      <td>0.5</td>\n",
       "      <td>0.00</td>\n",
       "      <td>0.0</td>\n",
       "      <td>0.3</td>\n",
       "      <td>4.80</td>\n",
       "      <td>107</td>\n",
       "      <td>107</td>\n",
       "    </tr>\n",
       "    <tr>\n",
       "      <th>4</th>\n",
       "      <td>1</td>\n",
       "      <td>2015-01-10 20:33:39</td>\n",
       "      <td>2015-01-10 20:52:58</td>\n",
       "      <td>1</td>\n",
       "      <td>3.00</td>\n",
       "      <td>-73.971176</td>\n",
       "      <td>40.762428</td>\n",
       "      <td>1</td>\n",
       "      <td>N</td>\n",
       "      <td>-74.004181</td>\n",
       "      <td>...</td>\n",
       "      <td>2</td>\n",
       "      <td>15.0</td>\n",
       "      <td>0.5</td>\n",
       "      <td>0.5</td>\n",
       "      <td>0.00</td>\n",
       "      <td>0.0</td>\n",
       "      <td>0.3</td>\n",
       "      <td>16.30</td>\n",
       "      <td>107</td>\n",
       "      <td>107</td>\n",
       "    </tr>\n",
       "  </tbody>\n",
       "</table>\n",
       "<p>5 rows × 21 columns</p>\n",
       "</div>"
      ],
      "text/plain": [
       "   VendorID tpep_pickup_datetime tpep_dropoff_datetime  passenger_count  \\\n",
       "0         2  2015-01-15 19:05:39   2015-01-15 19:23:42                1   \n",
       "1         1  2015-01-10 20:33:38   2015-01-10 20:53:28                1   \n",
       "2         1  2015-01-10 20:33:38   2015-01-10 20:43:41                1   \n",
       "3         1  2015-01-10 20:33:39   2015-01-10 20:35:31                1   \n",
       "4         1  2015-01-10 20:33:39   2015-01-10 20:52:58                1   \n",
       "\n",
       "   trip_distance  pickup_longitude  pickup_latitude  RateCodeID  \\\n",
       "0           1.59        -73.993896        40.750111           1   \n",
       "1           3.30        -74.001648        40.724243           1   \n",
       "2           1.80        -73.963341        40.802788           1   \n",
       "3           0.50        -74.009087        40.713818           1   \n",
       "4           3.00        -73.971176        40.762428           1   \n",
       "\n",
       "  store_and_fwd_flag  dropoff_longitude  ...  payment_type  fare_amount  \\\n",
       "0                  N         -73.974785  ...             1         12.0   \n",
       "1                  N         -73.994415  ...             1         14.5   \n",
       "2                  N         -73.951820  ...             2          9.5   \n",
       "3                  N         -74.004326  ...             2          3.5   \n",
       "4                  N         -74.004181  ...             2         15.0   \n",
       "\n",
       "   extra  mta_tax  tip_amount  tolls_amount  improvement_surcharge  \\\n",
       "0    1.0      0.5        3.25           0.0                    0.3   \n",
       "1    0.5      0.5        2.00           0.0                    0.3   \n",
       "2    0.5      0.5        0.00           0.0                    0.3   \n",
       "3    0.5      0.5        0.00           0.0                    0.3   \n",
       "4    0.5      0.5        0.00           0.0                    0.3   \n",
       "\n",
       "   total_amount  pu_brgh  do_brgh  \n",
       "0         17.05      107      107  \n",
       "1         17.80      107      107  \n",
       "2         10.80      107      107  \n",
       "3          4.80      107      107  \n",
       "4         16.30      107      107  \n",
       "\n",
       "[5 rows x 21 columns]"
      ]
     },
     "execution_count": 19,
     "metadata": {},
     "output_type": "execute_result"
    }
   ],
   "source": [
    "taxi2015.head()"
   ]
  },
  {
   "cell_type": "code",
   "execution_count": 20,
   "metadata": {},
   "outputs": [],
   "source": [
    "taxi_cor = taxi2015.query('pu_brgh != 0')\n",
    "taxi_cor = taxi_cor.query('do_brgh != 0')"
   ]
  },
  {
   "cell_type": "code",
   "execution_count": 21,
   "metadata": {},
   "outputs": [
    {
     "data": {
      "text/plain": [
       "107    11122767\n",
       "55       640551\n",
       "73       600195\n",
       "24        68248\n",
       "28         2428\n",
       "Name: do_brgh, dtype: int32"
      ]
     },
     "execution_count": 21,
     "metadata": {},
     "output_type": "execute_result"
    }
   ],
   "source": [
    "taxi_cor['do_brgh'].value_counts()"
   ]
  },
  {
   "cell_type": "code",
   "execution_count": 22,
   "metadata": {},
   "outputs": [
    {
     "data": {
      "text/plain": [
       "VendorID                 12434189\n",
       "tpep_pickup_datetime     12434189\n",
       "tpep_dropoff_datetime    12434189\n",
       "passenger_count          12434189\n",
       "trip_distance            12434189\n",
       "pickup_longitude         12434189\n",
       "pickup_latitude          12434189\n",
       "RateCodeID               12434189\n",
       "store_and_fwd_flag       12434189\n",
       "dropoff_longitude        12434189\n",
       "dropoff_latitude         12434189\n",
       "payment_type             12434189\n",
       "fare_amount              12434189\n",
       "extra                    12434189\n",
       "mta_tax                  12434189\n",
       "tip_amount               12434189\n",
       "tolls_amount             12434189\n",
       "improvement_surcharge    12434189\n",
       "total_amount             12434189\n",
       "pu_brgh                  12434189\n",
       "do_brgh                  12434189\n",
       "dtype: int64"
      ]
     },
     "execution_count": 22,
     "metadata": {},
     "output_type": "execute_result"
    }
   ],
   "source": [
    "taxi_cor.count()"
   ]
  },
  {
   "cell_type": "code",
   "execution_count": 23,
   "metadata": {},
   "outputs": [],
   "source": [
    "taxi_cor['interb']= (taxi_cor[[]].assign(interb=taxi_cor.pu_brgh != taxi_cor.do_brgh))*1"
   ]
  },
  {
   "cell_type": "code",
   "execution_count": 24,
   "metadata": {},
   "outputs": [
    {
     "name": "stdout",
     "output_type": "stream",
     "text": [
      "0    0\n",
      "1    0\n",
      "2    0\n",
      "3    0\n",
      "4    0\n",
      "Name: interb, dtype: int8\n"
     ]
    }
   ],
   "source": [
    "print(taxi_cor['interb'].head())"
   ]
  },
  {
   "cell_type": "code",
   "execution_count": 25,
   "metadata": {},
   "outputs": [],
   "source": [
    "taxi_intra = taxi_cor.query('interb== 0')\n",
    "taxi_inter = taxi_cor.query('interb!= 0')"
   ]
  },
  {
   "cell_type": "markdown",
   "metadata": {},
   "source": [
    "# Visualization with Datashader\n",
    "(You may remember me from other noteboks like...)  \n",
    "\n",
    "We're going to do 8 visualizations\n",
    "1) original data pickups\n",
    "2) original data dropoffs\n",
    "3) cuSpatial cleaned pickups\n",
    "4) cuSpatial cleaned dropoffs\n",
    "5) cleaned intraborough pickups\n",
    "6) cleaned intraborough dropoffs\n",
    "7) cleaned interborough pickups\n",
    "8) cleaned interborough dropoffs"
   ]
  },
  {
   "cell_type": "code",
   "execution_count": 26,
   "metadata": {},
   "outputs": [
    {
     "ename": "ModuleNotFoundError",
     "evalue": "No module named 'cuxfilter'",
     "output_type": "error",
     "traceback": [
      "\u001b[0;31m---------------------------------------------------------------------------\u001b[0m",
      "\u001b[0;31mModuleNotFoundError\u001b[0m                       Traceback (most recent call last)",
      "\u001b[0;32m<ipython-input-26-da2b847b6707>\u001b[0m in \u001b[0;36m<module>\u001b[0;34m\u001b[0m\n\u001b[0;32m----> 1\u001b[0;31m \u001b[0;32mimport\u001b[0m \u001b[0mcuxfilter\u001b[0m\u001b[0;34m\u001b[0m\u001b[0;34m\u001b[0m\u001b[0m\n\u001b[0m\u001b[1;32m      2\u001b[0m \u001b[0;32mfrom\u001b[0m \u001b[0mbokeh\u001b[0m \u001b[0;32mimport\u001b[0m \u001b[0mpalettes\u001b[0m\u001b[0;34m\u001b[0m\u001b[0;34m\u001b[0m\u001b[0m\n\u001b[1;32m      3\u001b[0m \u001b[0;32mfrom\u001b[0m \u001b[0mcuxfilter\u001b[0m\u001b[0;34m.\u001b[0m\u001b[0mlayouts\u001b[0m \u001b[0;32mimport\u001b[0m \u001b[0mdouble_feature\u001b[0m\u001b[0;34m\u001b[0m\u001b[0;34m\u001b[0m\u001b[0m\n",
      "\u001b[0;31mModuleNotFoundError\u001b[0m: No module named 'cuxfilter'"
     ]
    }
   ],
   "source": [
    "import cuxfilter\n",
    "from bokeh import palettes\n",
    "from cuxfilter.layouts import double_feature"
   ]
  },
  {
   "cell_type": "code",
   "execution_count": null,
   "metadata": {},
   "outputs": [],
   "source": [
    "from pyproj import Proj, Transformer\n",
    "map_cux= cudf.DataFrame()\n",
    "def makeXfilter(x, y):\n",
    "    temp= cudf.DataFrame()\n",
    "    transform_4326_to_3857 = Transformer.from_crs('epsg:4326', 'epsg:3857')\n",
    "    temp['x'], temp['y'] = transform_4326_to_3857.transform(\n",
    "                                                x.to_array(), y.to_array()\n",
    "                                            )\n",
    "    # Filter over Manhattan\n",
    "    temp = temp[\n",
    "        (temp.x > -8239910.23) & (temp.x < -8229529.24) & (temp.y > 4968481.34) & (temp.y < 4983152.92)\n",
    "    ]\n",
    "    print(temp.head())\n",
    "    return temp.x, temp.y\n",
    "\n",
    "map_cux['pu_x'], map_cux['pu_y'] = makeXfilter(taxi2015['pickup_latitude'], taxi2015['pickup_longitude'])\n",
    "map_cux['do_x'], map_cux['do_y'] = makeXfilter(taxi2015['dropoff_latitude'],taxi2015['dropoff_longitude'])\n",
    "map_cux['pu_x_cor'], map_cux['pu_y_cor'] = makeXfilter(taxi_cor['pickup_latitude'], taxi_cor['pickup_longitude'])\n",
    "map_cux['do_x_cor'], map_cux['do_y_cor'] = makeXfilter(taxi_cor['dropoff_latitude'],taxi_cor['dropoff_longitude'])\n",
    "\n",
    "map_cux['pu_x_intra'], map_cux['pu_y_intra'] = makeXfilter(taxi_intra['pickup_latitude'], taxi_intra['pickup_longitude'])\n",
    "map_cux['do_x_intra'], map_cux['do_y_intra'] = makeXfilter(taxi_intra['dropoff_latitude'],taxi_intra['dropoff_longitude'])\n",
    "map_cux['pu_x_inter'], map_cux['pu_y_inter'] = makeXfilter(taxi_inter['pickup_latitude'], taxi_inter['pickup_longitude'])\n",
    "map_cux['do_x_inter'], map_cux['do_y_inter'] = makeXfilter(taxi_inter['dropoff_latitude'],taxi_inter['dropoff_longitude'])\n",
    "print(map_cux.head())\n",
    "cux = cuxfilter.DataFrame.from_dataframe(map_cux)"
   ]
  },
  {
   "cell_type": "code",
   "execution_count": null,
   "metadata": {},
   "outputs": [],
   "source": [
    "from bokeh.tile_providers import get_provider as gp\n",
    "tile_provider = gp('CARTODBPOSITRON')"
   ]
  },
  {
   "cell_type": "code",
   "execution_count": null,
   "metadata": {},
   "outputs": [],
   "source": [
    "chart1 = cuxfilter.charts.scatter_geo(x='pu_x',\n",
    "                                         y='pu_y',\n",
    "                                         aggregate_fn='count',\n",
    "                                         tile_provider=tile_provider, x_range=(-8239910.23,-8229529.24), y_range=(4968481.34,4983152.92))\n",
    "chart2 = cuxfilter.charts.scatter_geo(x='do_x',\n",
    "                                         y='do_y',\n",
    "                                         aggregate_fn='count',\n",
    "                                         tile_provider=tile_provider, x_range=(-8239910.23,-8229529.24), y_range=(4968481.34,4983152.92))\n",
    "chart3 = cuxfilter.charts.scatter_geo(x='pu_x_cor',\n",
    "                                         y='pu_y_cor',\n",
    "                                         aggregate_fn='count',\n",
    "                                         tile_provider=tile_provider, x_range=(-8239910.23,-8229529.24), y_range=(4968481.34,4983152.92))\n",
    "chart4 = cuxfilter.charts.scatter_geo(x='do_x_cor',\n",
    "                                         y='do_y_cor',\n",
    "                                         aggregate_fn='count',\n",
    "                                         tile_provider=tile_provider, x_range=(-8239910.23,-8229529.24), y_range=(4968481.34,4983152.92))\n",
    "chart5 = cuxfilter.charts.scatter_geo(x='pu_x_intra',\n",
    "                                         y='pu_y_intra',\n",
    "                                         aggregate_fn='count',\n",
    "                                         tile_provider=tile_provider, x_range=(-8239910.23,-8229529.24), y_range=(4968481.34,4983152.92))\n",
    "chart6 = cuxfilter.charts.scatter_geo(x='do_x_intra',\n",
    "                                         y='do_y_intra',\n",
    "                                         aggregate_fn='count',\n",
    "                                         tile_provider=tile_provider, x_range=(-8239910.23,-8229529.24), y_range=(4968481.34,4983152.92))\n",
    "chart7 = cuxfilter.charts.scatter_geo(x='pu_x_inter',\n",
    "                                         y='pu_y_inter',\n",
    "                                         aggregate_fn='count',\n",
    "                                         tile_provider=tile_provider, x_range=(-8239910.23,-8229529.24), y_range=(4968481.34,4983152.92))\n",
    "chart8 = cuxfilter.charts.scatter_geo(x='do_x_inter',\n",
    "                                         y='do_y_inter',\n",
    "                                         aggregate_fn='count',\n",
    "                                         tile_provider=tile_provider, x_range=(-8239910.23,-8229529.24), y_range=(4968481.34,4983152.92))\n",
    "#chart3 = cuxfilter.charts.bar('passenger_count', data_points=9)"
   ]
  },
  {
   "cell_type": "code",
   "execution_count": null,
   "metadata": {},
   "outputs": [],
   "source": [
    "d = cux.dashboard([chart1, chart2, chart3, chart4, chart5, chart6, chart7, chart8], layout=cuxfilter.layouts.three_by_three, theme=cuxfilter.themes.dark, title= 'NYC TAXI DATASET')"
   ]
  },
  {
   "cell_type": "code",
   "execution_count": null,
   "metadata": {},
   "outputs": [],
   "source": [
    "d"
   ]
  },
  {
   "cell_type": "code",
   "execution_count": null,
   "metadata": {},
   "outputs": [],
   "source": [
    "await d.preview()"
   ]
  },
  {
   "cell_type": "code",
   "execution_count": null,
   "metadata": {},
   "outputs": [],
   "source": [
    "d.show('<add your notebook server's url>:<add your notebook server's port number>)"
   ]
  },
  {
   "cell_type": "code",
   "execution_count": null,
   "metadata": {},
   "outputs": [],
   "source": []
  }
 ],
 "metadata": {
  "kernelspec": {
   "display_name": "Python 3",
   "language": "python",
   "name": "python3"
  },
  "language_info": {
   "codemirror_mode": {
    "name": "ipython",
    "version": 3
   },
   "file_extension": ".py",
   "mimetype": "text/x-python",
   "name": "python",
   "nbconvert_exporter": "python",
   "pygments_lexer": "ipython3",
   "version": "3.7.6"
  }
 },
 "nbformat": 4,
 "nbformat_minor": 4
}
