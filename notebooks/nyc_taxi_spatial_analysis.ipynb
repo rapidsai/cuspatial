{
 "cells": [
  {
   "cell_type": "markdown",
   "metadata": {},
   "source": [
    "# NYC Taxi Spatial Notebook\n",
    "\n",
    "The New York Yellow Cab datasets have long been interesting large datasets to both observe the behavior of NYCers and test performance.  However, the dataset has long been known to have noise and bad data within it.  Also, we haven't really been able to analyze how NYCers travel between their 5 boroughs and surrounding areas.  \n",
    "\n",
    "`cuSpatial`, the GPU-accelerated RAPIDS spatial library, can now allow everyone to quickly both clean the data to analyze travel between only the 5 boroughs as well as let us dive deeper into the interborough behavior of NYCers.\n",
    "\n",
    "In this notebook, we will primarily demonstrate \n",
    "- `cuSpatial`'s `Point in Polygon` (PIP) and `Window Points` (WP) capabilities \n",
    "- how to use them effectively in a workflow alongside other RAPIDS libraries, like `cudf` and `cuXFilter`.  \n",
    "\n",
    "We'll also show:\n",
    "- how polygons data work in cuSpatial with features, rings, and coordinates\n",
    "- how to analyze specific features in polygons with PIP\n",
    "- a small CPU comparison\n",
    "- how to visualize your data spatial data with cuXFilter\n",
    "- methods of cleaning spatial data with cuSpatial and cuXFilter"
   ]
  },
  {
   "cell_type": "code",
   "execution_count": 1,
   "metadata": {},
   "outputs": [],
   "source": [
    "import cuspatial\n",
    "import geopandas as gpd\n",
    "import cudf\n",
    "from numba import cuda\n",
    "import numpy as np"
   ]
  },
  {
   "cell_type": "markdown",
   "metadata": {},
   "source": [
    "## Add Notebook Ports\n",
    "Before you go on your click-fest through this notebook, **please add your notebook server's URL and port**\n",
    "- local server, use: `127.0.0.1:<port>`\n",
    "- remote server, use `<notebook ip address>:<notebook server port>`\n",
    "\n",
    "If you don't do this correctly, the **notebook's visualiztion will FAIL!!**"
   ]
  },
  {
   "cell_type": "code",
   "execution_count": null,
   "metadata": {},
   "outputs": [],
   "source": [
    "#for cuXfilter Bokeh server\n",
    "url = '127.0.0.1' # if not on local machine, make this your notebook server's url, like '192.168.1.100' # \n",
    "port = '8888'     # set this to your notebook server's port"
   ]
  },
  {
   "cell_type": "markdown",
   "metadata": {},
   "source": [
    "# Get your data"
   ]
  },
  {
   "cell_type": "code",
   "execution_count": 4,
   "metadata": {},
   "outputs": [
    {
     "name": "stdout",
     "output_type": "stream",
     "text": [
      "zones.zip found\n"
     ]
    }
   ],
   "source": [
    "!if [ ! -f \"zones.zip\" ]; then curl https://s3.amazonaws.com/nyc-tlc/misc/taxi_zones.zip -o zones.zip; else echo \"zones.zip found\"; fi"
   ]
  },
  {
   "cell_type": "code",
   "execution_count": 5,
   "metadata": {},
   "outputs": [
    {
     "name": "stdout",
     "output_type": "stream",
     "text": [
      "taxi2015.csv found\n"
     ]
    }
   ],
   "source": [
    "!if [ !  -f \"taxi2015.csv\" ]; then curl https://s3.amazonaws.com/nyc-tlc/trip+data/yellow_tripdata_2015-01.csv -o taxi2015.csv; else echo \"taxi2015.csv found\"; fi"
   ]
  },
  {
   "cell_type": "code",
   "execution_count": 6,
   "metadata": {},
   "outputs": [
    {
     "name": "stdout",
     "output_type": "stream",
     "text": [
      "NYC_boroughs.json found\n"
     ]
    }
   ],
   "source": [
    "! if [ ! -f \"NYC_boroughs.json\" ]; then curl \"https://data.cityofnewyork.us/api/geospatial/tqmj-j8zm?method=export&format=GeoJSON\" > NYC_boroughs.json; else echo \"NYC_boroughs.json found\"; fi"
   ]
  },
  {
   "cell_type": "code",
   "execution_count": 7,
   "metadata": {},
   "outputs": [
    {
     "name": "stdout",
     "output_type": "stream",
     "text": [
      "CPU times: user 762 ms, sys: 259 ms, total: 1.02 s\n",
      "Wall time: 1.02 s\n"
     ]
    }
   ],
   "source": [
    "%%time\n",
    "NYC_boroughs = gpd.read_file('NYC_boroughs.json')\n",
    "NYC_boroughs.to_file('NYC_boroughs.shp')\n",
    "NYC_gpu = cuspatial.read_polygon_shapefile('NYC_boroughs.shp')"
   ]
  },
  {
   "cell_type": "markdown",
   "metadata": {},
   "source": [
    "# Let's check out the shape file\n",
    "\n",
    "cuSpatial geometry uses a packed format. In this object, `NYC_gpu`, the first GPU-array in the tuple contains the feature positions `f_pos`. `Feature 0` is the first 24 rings, `Feature 1` is the set of rings from index 24-28, and so forth.\n",
    "\n",
    "`r_pos` are the ring positions of each feature. `Ring 0` is the first 12 coordinate pairs, `Ring 1` is the coordinate pairs from index 12-511, and so forth.\n",
    "\n",
    "Finally the `DataFrame` at position `2` in `NYC_gpu` are the 75519 coordinates used in all 5 features, and the 106 rings that compose them.\n"
   ]
  },
  {
   "cell_type": "code",
   "execution_count": 8,
   "metadata": {},
   "outputs": [
    {
     "name": "stdout",
     "output_type": "stream",
     "text": [
      "0            Bronx\n",
      "1    Staten Island\n",
      "2         Brooklyn\n",
      "3           Queens\n",
      "4        Manhattan\n",
      "Name: boro_name, dtype: object\n",
      "(0     24\n",
      "1     28\n",
      "2     55\n",
      "3     73\n",
      "4    107\n",
      "Name: f_pos, dtype: int32, 0         12\n",
      "1        511\n",
      "2        523\n",
      "3        528\n",
      "4        536\n",
      "       ...  \n",
      "102    70054\n",
      "103    70300\n",
      "104    75278\n",
      "105    75291\n",
      "106    75519\n",
      "Name: r_pos, Length: 107, dtype: int32,                x          y\n",
      "0     -73.896809  40.795808\n",
      "1     -73.896785  40.796329\n",
      "2     -73.897131  40.796798\n",
      "3     -73.897883  40.797117\n",
      "4     -73.898521  40.796936\n",
      "...          ...        ...\n",
      "75514 -73.907743  40.872846\n",
      "75515 -73.907465  40.873547\n",
      "75516 -73.907088  40.874326\n",
      "75517 -73.906917  40.875056\n",
      "75518 -73.906651  40.875753\n",
      "\n",
      "[75519 rows x 2 columns])\n"
     ]
    }
   ],
   "source": [
    "print(NYC_boroughs.boro_name) # take note of Borough names for later\n",
    "print(NYC_gpu)"
   ]
  },
  {
   "cell_type": "code",
   "execution_count": 9,
   "metadata": {},
   "outputs": [
    {
     "name": "stdout",
     "output_type": "stream",
     "text": [
      "             x          y\n",
      "511 -73.898330  40.802413\n",
      "512 -73.899387  40.801936\n",
      "513 -73.899489  40.800901\n",
      "514 -73.900037  40.800909\n",
      "515 -73.899716  40.800799\n",
      "516 -73.899787  40.799510\n",
      "517 -73.900210  40.799264\n",
      "518 -73.899025  40.799172\n",
      "519 -73.898640  40.799101\n",
      "520 -73.897985  40.799604\n",
      "521 -73.896467  40.800790\n"
     ]
    }
   ],
   "source": [
    "t = NYC_gpu[2].iloc[511:522]\n",
    "print(t)"
   ]
  },
  {
   "cell_type": "markdown",
   "metadata": {},
   "source": [
    "You can see above the 11 vertices that make up `Feature 0`, `Ring 1`."
   ]
  },
  {
   "cell_type": "markdown",
   "metadata": {},
   "source": [
    "## Working with Polygons\n",
    "Let's look at and dive into the elements of the read shapefile using cuSpatial"
   ]
  },
  {
   "cell_type": "code",
   "execution_count": 10,
   "metadata": {},
   "outputs": [
    {
     "name": "stdout",
     "output_type": "stream",
     "text": [
      "Polygon Bounds: 0     24\n",
      "1     28\n",
      "2     55\n",
      "3     73\n",
      "4    107\n",
      "Name: f_pos, dtype: int32\n",
      "Last Vertex: 0         12\n",
      "1        511\n",
      "2        523\n",
      "3        528\n",
      "4        536\n",
      "       ...  \n",
      "102    70054\n",
      "103    70300\n",
      "104    75278\n",
      "105    75291\n",
      "106    75519\n",
      "Name: r_pos, Length: 107, dtype: int32\n",
      "Longitude:  0       -73.896809\n",
      "1       -73.896785\n",
      "2       -73.897131\n",
      "3       -73.897883\n",
      "4       -73.898521\n",
      "           ...    \n",
      "75514   -73.907743\n",
      "75515   -73.907465\n",
      "75516   -73.907088\n",
      "75517   -73.906917\n",
      "75518   -73.906651\n",
      "Name: x, Length: 75519, dtype: float64\n",
      "Latitude:  0        40.795808\n",
      "1        40.796329\n",
      "2        40.796798\n",
      "3        40.797117\n",
      "4        40.796936\n",
      "           ...    \n",
      "75514    40.872846\n",
      "75515    40.873547\n",
      "75516    40.874326\n",
      "75517    40.875056\n",
      "75518    40.875753\n",
      "Name: y, Length: 75519, dtype: float64\n"
     ]
    }
   ],
   "source": [
    "print(\"Polygon Bounds:\" , NYC_gpu[0]) # upper bound of the rings that make up the polygon (feature)\n",
    "print(\"Last Vertex:\" , NYC_gpu[1]) # this is the position of the last vertex in each ring\n",
    "\n",
    "# You can get the lon/lat by \n",
    "print(\"Longitude: \", NYC_gpu[2]['x']) # prints lon\n",
    "print(\"Latitude: \" , NYC_gpu[2]['y']) # prints lat\n",
    "      \n",
    "NYC_gpu[2]['x'] = NYC_gpu[2]['x']\n",
    "NYC_gpu[2]['y'] = NYC_gpu[2]['y']"
   ]
  },
  {
   "cell_type": "code",
   "execution_count": 11,
   "metadata": {},
   "outputs": [
    {
     "data": {
      "text/plain": [
       "0       12\n",
       "1      511\n",
       "2      523\n",
       "3      528\n",
       "4      536\n",
       "5      561\n",
       "6      581\n",
       "7     1968\n",
       "8     2065\n",
       "9     2255\n",
       "10    2260\n",
       "11    2389\n",
       "12    2496\n",
       "13    2633\n",
       "14    2638\n",
       "15    2643\n",
       "16    2649\n",
       "17    2657\n",
       "18    2664\n",
       "19    2680\n",
       "20    2685\n",
       "21    2690\n",
       "22    2714\n",
       "23    8509\n",
       "24    8556\n",
       "Name: r_pos, dtype: int32"
      ]
     },
     "execution_count": 11,
     "metadata": {},
     "output_type": "execute_result"
    }
   ],
   "source": [
    "NYC_gpu[1].head(25) #this set of rings are NYC_gpu[1][0] (the first polygon). This data is packed.  "
   ]
  },
  {
   "cell_type": "markdown",
   "metadata": {},
   "source": [
    "## Taxi Data\n",
    "Let's import the taxi data.  Newer years have pickup/drop off location ids that you would have to cross correlate.  Older years, like 2015 give you a lon/lat values.  We'll be using those ideas"
   ]
  },
  {
   "cell_type": "code",
   "execution_count": 12,
   "metadata": {},
   "outputs": [
    {
     "name": "stdout",
     "output_type": "stream",
     "text": [
      "VendorID                   int64\n",
      "tpep_pickup_datetime      object\n",
      "tpep_dropoff_datetime     object\n",
      "passenger_count            int64\n",
      "trip_distance            float64\n",
      "pickup_longitude         float64\n",
      "pickup_latitude          float64\n",
      "RateCodeID                 int64\n",
      "store_and_fwd_flag        object\n",
      "dropoff_longitude        float64\n",
      "dropoff_latitude         float64\n",
      "payment_type               int64\n",
      "fare_amount              float64\n",
      "extra                    float64\n",
      "mta_tax                  float64\n",
      "tip_amount               float64\n",
      "tolls_amount             float64\n",
      "improvement_surcharge    float64\n",
      "total_amount             float64\n",
      "dtype: object\n"
     ]
    }
   ],
   "source": [
    "taxi2015 = cudf.read_csv(\"taxi2015.csv\")\n",
    "print(taxi2015.dtypes)"
   ]
  },
  {
   "cell_type": "code",
   "execution_count": 13,
   "metadata": {},
   "outputs": [
    {
     "data": {
      "text/plain": [
       "VendorID                 12748986\n",
       "tpep_pickup_datetime     12748986\n",
       "tpep_dropoff_datetime    12748986\n",
       "passenger_count          12748986\n",
       "trip_distance            12748986\n",
       "pickup_longitude         12748986\n",
       "pickup_latitude          12748986\n",
       "RateCodeID               12748986\n",
       "store_and_fwd_flag       12748986\n",
       "dropoff_longitude        12748986\n",
       "dropoff_latitude         12748986\n",
       "payment_type             12748986\n",
       "fare_amount              12748986\n",
       "extra                    12748986\n",
       "mta_tax                  12748986\n",
       "tip_amount               12748986\n",
       "tolls_amount             12748986\n",
       "improvement_surcharge    12748983\n",
       "total_amount             12748986\n",
       "dtype: int64"
      ]
     },
     "execution_count": 13,
     "metadata": {},
     "output_type": "execute_result"
    }
   ],
   "source": [
    "taxi2015.count()"
   ]
  },
  {
   "cell_type": "markdown",
   "metadata": {},
   "source": [
    "As you can see, the columns that we're interested in for our spatial analysis are `pickup_longitude`, `pickup_latitude`, `dropoff_longitude`, and `dropoff_latitude`.  However, they are `float64`. If we convert to `float32` we'll have GPU storage for twice as many features. Also, `float32` has plenty of precision for lon/lat computations."
   ]
  },
  {
   "cell_type": "code",
   "execution_count": 14,
   "metadata": {},
   "outputs": [],
   "source": [
    "taxi2015['pickup_longitude'] = taxi2015['pickup_longitude']\n",
    "taxi2015['pickup_latitude'] = taxi2015['pickup_latitude']\n",
    "\n",
    "taxi2015['dropoff_longitude'] = taxi2015['dropoff_longitude']\n",
    "taxi2015['dropoff_latitude'] = taxi2015['dropoff_latitude']"
   ]
  },
  {
   "cell_type": "markdown",
   "metadata": {},
   "source": [
    "## GPU Point-In-Polygon\n",
    "\n",
    "- 12m pickup locations\n",
    "- 12m dropoff locations\n",
    "- 5 borough features\n",
    "- 107 borough polygons\n",
    "- 75518 borough coordinates\n",
    "\n",
    "Now that we've collected the set of pickup locations and dropoff locations, we can use `cuSpatial.point_in_polygon_bitmap` to quickly determine which pickups and drop-offs occur in each borough. That is, 5 boroughs composed of a total of 107 polygons."
   ]
  },
  {
   "cell_type": "code",
   "execution_count": 15,
   "metadata": {},
   "outputs": [
    {
     "name": "stdout",
     "output_type": "stream",
     "text": [
      "CPU times: user 27.5 s, sys: 15.4 ms, total: 27.6 s\n",
      "Wall time: 27.6 s\n"
     ]
    }
   ],
   "source": [
    "%%time\n",
    "\n",
    "NYC_gpu[0].index = [\"Bronx\", \"Staten Island\", \"Brooklyn\", \"Queens\", \"Manhattan\"]\n",
    "\n",
    "pickups = cuspatial.point_in_polygon_bitmap(taxi2015['pickup_longitude'] , taxi2015['pickup_latitude'], NYC_gpu[0], NYC_gpu[1], NYC_gpu[2]['x'], NYC_gpu[2]['y'])\n",
    "dropoffs = cuspatial.point_in_polygon_bitmap(taxi2015['dropoff_longitude'] , taxi2015['dropoff_latitude'], NYC_gpu[0], NYC_gpu[1], NYC_gpu[2]['x'], NYC_gpu[2]['y'])"
   ]
  },
  {
   "cell_type": "code",
   "execution_count": 16,
   "metadata": {},
   "outputs": [
    {
     "data": {
      "text/html": [
       "<div>\n",
       "<style scoped>\n",
       "    .dataframe tbody tr th:only-of-type {\n",
       "        vertical-align: middle;\n",
       "    }\n",
       "\n",
       "    .dataframe tbody tr th {\n",
       "        vertical-align: top;\n",
       "    }\n",
       "\n",
       "    .dataframe thead th {\n",
       "        text-align: right;\n",
       "    }\n",
       "</style>\n",
       "<table border=\"1\" class=\"dataframe\">\n",
       "  <thead>\n",
       "    <tr style=\"text-align: right;\">\n",
       "      <th></th>\n",
       "      <th>Bronx</th>\n",
       "      <th>Staten Island</th>\n",
       "      <th>Brooklyn</th>\n",
       "      <th>Queens</th>\n",
       "      <th>Manhattan</th>\n",
       "    </tr>\n",
       "  </thead>\n",
       "  <tbody>\n",
       "    <tr>\n",
       "      <th>0</th>\n",
       "      <td>False</td>\n",
       "      <td>False</td>\n",
       "      <td>False</td>\n",
       "      <td>False</td>\n",
       "      <td>True</td>\n",
       "    </tr>\n",
       "    <tr>\n",
       "      <th>1</th>\n",
       "      <td>False</td>\n",
       "      <td>False</td>\n",
       "      <td>False</td>\n",
       "      <td>False</td>\n",
       "      <td>True</td>\n",
       "    </tr>\n",
       "    <tr>\n",
       "      <th>2</th>\n",
       "      <td>False</td>\n",
       "      <td>False</td>\n",
       "      <td>False</td>\n",
       "      <td>False</td>\n",
       "      <td>True</td>\n",
       "    </tr>\n",
       "    <tr>\n",
       "      <th>3</th>\n",
       "      <td>False</td>\n",
       "      <td>False</td>\n",
       "      <td>False</td>\n",
       "      <td>False</td>\n",
       "      <td>True</td>\n",
       "    </tr>\n",
       "    <tr>\n",
       "      <th>4</th>\n",
       "      <td>False</td>\n",
       "      <td>False</td>\n",
       "      <td>False</td>\n",
       "      <td>False</td>\n",
       "      <td>True</td>\n",
       "    </tr>\n",
       "  </tbody>\n",
       "</table>\n",
       "</div>"
      ],
      "text/plain": [
       "   Bronx  Staten Island  Brooklyn  Queens  Manhattan\n",
       "0  False          False     False   False       True\n",
       "1  False          False     False   False       True\n",
       "2  False          False     False   False       True\n",
       "3  False          False     False   False       True\n",
       "4  False          False     False   False       True"
      ]
     },
     "execution_count": 16,
     "metadata": {},
     "output_type": "execute_result"
    }
   ],
   "source": [
    "pickups.head()"
   ]
  },
  {
   "cell_type": "code",
   "execution_count": 17,
   "metadata": {},
   "outputs": [
    {
     "data": {
      "text/html": [
       "<div>\n",
       "<style scoped>\n",
       "    .dataframe tbody tr th:only-of-type {\n",
       "        vertical-align: middle;\n",
       "    }\n",
       "\n",
       "    .dataframe tbody tr th {\n",
       "        vertical-align: top;\n",
       "    }\n",
       "\n",
       "    .dataframe thead th {\n",
       "        text-align: right;\n",
       "    }\n",
       "</style>\n",
       "<table border=\"1\" class=\"dataframe\">\n",
       "  <thead>\n",
       "    <tr style=\"text-align: right;\">\n",
       "      <th></th>\n",
       "      <th>Bronx</th>\n",
       "      <th>Staten Island</th>\n",
       "      <th>Brooklyn</th>\n",
       "      <th>Queens</th>\n",
       "      <th>Manhattan</th>\n",
       "    </tr>\n",
       "  </thead>\n",
       "  <tbody>\n",
       "    <tr>\n",
       "      <th>0</th>\n",
       "      <td>False</td>\n",
       "      <td>False</td>\n",
       "      <td>False</td>\n",
       "      <td>False</td>\n",
       "      <td>True</td>\n",
       "    </tr>\n",
       "    <tr>\n",
       "      <th>1</th>\n",
       "      <td>False</td>\n",
       "      <td>False</td>\n",
       "      <td>False</td>\n",
       "      <td>False</td>\n",
       "      <td>True</td>\n",
       "    </tr>\n",
       "    <tr>\n",
       "      <th>2</th>\n",
       "      <td>False</td>\n",
       "      <td>False</td>\n",
       "      <td>False</td>\n",
       "      <td>False</td>\n",
       "      <td>True</td>\n",
       "    </tr>\n",
       "    <tr>\n",
       "      <th>3</th>\n",
       "      <td>False</td>\n",
       "      <td>False</td>\n",
       "      <td>False</td>\n",
       "      <td>False</td>\n",
       "      <td>True</td>\n",
       "    </tr>\n",
       "    <tr>\n",
       "      <th>4</th>\n",
       "      <td>False</td>\n",
       "      <td>False</td>\n",
       "      <td>False</td>\n",
       "      <td>False</td>\n",
       "      <td>True</td>\n",
       "    </tr>\n",
       "  </tbody>\n",
       "</table>\n",
       "</div>"
      ],
      "text/plain": [
       "   Bronx  Staten Island  Brooklyn  Queens  Manhattan\n",
       "0  False          False     False   False       True\n",
       "1  False          False     False   False       True\n",
       "2  False          False     False   False       True\n",
       "3  False          False     False   False       True\n",
       "4  False          False     False   False       True"
      ]
     },
     "execution_count": 17,
     "metadata": {},
     "output_type": "execute_result"
    }
   ],
   "source": [
    "dropoffs.head()"
   ]
  },
  {
   "cell_type": "markdown",
   "metadata": {},
   "source": [
    "We just computed point in polygon for 25 million points against 75.5k other points in `3.07s`. That's really fast. Simply computing the pairwise distance between all 25m points and the 75.5k polygon coordinates is `25000000*75500=2 trillion` comparisons. We're **NOT going to compare full CPU times**.  We will take a subset, to give you a taste though."
   ]
  },
  {
   "cell_type": "markdown",
   "metadata": {},
   "source": [
    "## CPU Point-In-Polygon\n",
    "\n",
    "Comparing GPU speed with CPU speed is always a concern with RAPIDS. We want to be much, much faster on GPU. The next few cells pull out a single ring from our dataset, then runs point-in-polygon using `Shapely`, one of the most popular CPU python GIS libraries."
   ]
  },
  {
   "cell_type": "markdown",
   "metadata": {},
   "source": [
    "### Getting the Data\n",
    "\n",
    "Previously, we detected which points fall inside of which features using `cuspatial.point_in_polygon_bitmap`. Lets make sure that the CPU comparison is interesting by selecting a ring that we know contains points for comparison.\n",
    "\n",
    "Instead of computing `point_in_polygon` for our five original features, lets modify the call to use the rings instead."
   ]
  },
  {
   "cell_type": "code",
   "execution_count": 18,
   "metadata": {},
   "outputs": [
    {
     "name": "stdout",
     "output_type": "stream",
     "text": [
      "      0      1      2      3      4      5      6      7      8      9   ...  \\\n",
      "0  False  False  False  False  False  False  False  False  False  False  ...   \n",
      "1  False  False  False  False  False  False  False  False  False  False  ...   \n",
      "2  False  False  False  False  False  False  False  False  False  False  ...   \n",
      "3  False  False  False  False  False  False  False  False  False  False  ...   \n",
      "4  False  False  False  False  False  False  False  False  False  False  ...   \n",
      "\n",
      "      22     23     24     25     26     27     28     29     30     31  \n",
      "0  False  False  False  False  False  False  False  False  False  False  \n",
      "1  False  False  False  False  False  False  False  False  False  False  \n",
      "2  False  False  False  False  False  False  False  False  False  False  \n",
      "3  False  False  False  False  False  False  False  False  False  False  \n",
      "4  False  False  False  False  False  False  False  False  False  False  \n",
      "\n",
      "[5 rows x 32 columns]\n",
      "20    2685\n",
      "21    2690\n",
      "22    2714\n",
      "23    8509\n",
      "24    8556\n",
      "25    8565\n",
      "Name: r_pos, dtype: int32\n",
      "False\n"
     ]
    }
   ],
   "source": [
    "ring_pickups = cuspatial.point_in_polygon_bitmap(taxi2015['pickup_longitude'] , taxi2015['pickup_latitude'], cudf.Series(np.arange(2,34)), NYC_gpu[1], NYC_gpu[2]['x'], NYC_gpu[2]['y'])\n",
    "print(ring_pickups.head())\n",
    "print(NYC_gpu[1][20:26])\n",
    "print(ring_pickups[24][3799])"
   ]
  },
  {
   "cell_type": "code",
   "execution_count": 19,
   "metadata": {},
   "outputs": [
    {
     "name": "stdout",
     "output_type": "stream",
     "text": [
      "Int64Index([], dtype='int64')\n",
      "False\n",
      "False\n",
      "True\n",
      "False\n",
      "False\n",
      "False\n",
      "pickup_longitude   -73.904068\n",
      "pickup_latitude     40.852001\n",
      "Name: 3799, dtype: float64\n"
     ]
    }
   ],
   "source": [
    "ring_pickups.sum()\n",
    "print(ring_pickups[24].index[ring_pickups[24]])\n",
    "print(ring_pickups[20][3799])\n",
    "print(ring_pickups[21][3799])\n",
    "print(ring_pickups[22][3799])\n",
    "print(ring_pickups[23][3799])\n",
    "print(ring_pickups[24][3799])\n",
    "print(ring_pickups[25][3799])\n",
    "first_true = taxi2015[['pickup_longitude', 'pickup_latitude']].iloc[3799,:]\n",
    "print(first_true)"
   ]
  },
  {
   "cell_type": "markdown",
   "metadata": {},
   "source": [
    "By substituting `np.arange(32)` for the `fpos` argument, we're telling cuspatial to compute which points fall into which rings. Rings 24 and 28 have points in them."
   ]
  },
  {
   "cell_type": "code",
   "execution_count": 20,
   "metadata": {},
   "outputs": [
    {
     "data": {
      "text/plain": [
       "20    2685\n",
       "21    2690\n",
       "22    2714\n",
       "23    8509\n",
       "24    8556\n",
       "25    8565\n",
       "Name: r_pos, dtype: int32"
      ]
     },
     "execution_count": 20,
     "metadata": {},
     "output_type": "execute_result"
    }
   ],
   "source": [
    "NYC_gpu[1][20:26]"
   ]
  },
  {
   "cell_type": "markdown",
   "metadata": {},
   "source": [
    "the 24th feature starts and ends on 2714 to 8509.  We'll use that for our temporary dataframe for our CPU run."
   ]
  },
  {
   "cell_type": "markdown",
   "metadata": {},
   "source": [
    "### CPU Benchmark\n",
    "\n",
    "In the following section we'll pull the ring from 8509:8556 from the source data, create a `Shapely` polygon from it, and use Shapely to run point_in_polygon on a small subset of the 12m taxi pickup locations."
   ]
  },
  {
   "cell_type": "code",
   "execution_count": 21,
   "metadata": {},
   "outputs": [],
   "source": [
    "from shapely.geometry.polygon import Polygon\n",
    "\n",
    "pol1 = NYC_gpu[2].iloc[2714:8509]\n",
    "pol2 = NYC_gpu[2].iloc[8509:8556]\n",
    "pol3 = NYC_gpu[2].iloc[8556:8565]\n",
    "shape1 = list(zip(pol1['x'].tolist(), pol1['y'].tolist()))\n",
    "shape2 = list(zip(pol2['x'].tolist(), pol2['y'].tolist()))\n",
    "shape3 = list(zip(pol3['x'].tolist(), pol3['y'].tolist()))"
   ]
  },
  {
   "cell_type": "code",
   "execution_count": 22,
   "metadata": {},
   "outputs": [
    {
     "name": "stdout",
     "output_type": "stream",
     "text": [
      "True\n",
      "False\n",
      "False\n"
     ]
    }
   ],
   "source": [
    "from shapely.geometry import Point\n",
    "first_point = Point(first_true.tolist())\n",
    "print(Polygon(shape1).contains(first_point))\n",
    "print(Polygon(shape2).contains(first_point))\n",
    "print(Polygon(shape3).contains(first_point))\n",
    "\n",
    "polygon = Polygon(shape1)"
   ]
  },
  {
   "cell_type": "markdown",
   "metadata": {},
   "source": [
    "We take a small sample of points from the original set of `pickup_latitudes` - 1m points. This will run 12x as fast as one 12m points, so that you can hopefully see the results quickly regardless of your individual machine performance.  Because they are randomly sampled, and 1/12th the size of the original data, we should see `in_polygon_24/12 = 9810/12 817` points in the test ring."
   ]
  },
  {
   "cell_type": "code",
   "execution_count": 23,
   "metadata": {},
   "outputs": [
    {
     "name": "stdout",
     "output_type": "stream",
     "text": [
      "POINT (-73.7820587158203 40.64459228515625)\n",
      "CPU times: user 7.05 s, sys: 83.9 ms, total: 7.13 s\n",
      "Wall time: 7.13 s\n"
     ]
    }
   ],
   "source": [
    "%%time\n",
    "from shapely.geometry import Point\n",
    "\n",
    "outcome = []\n",
    "outcome_yes = 0\n",
    "outcome_no = 0\n",
    "random_set = taxi2015[['pickup_longitude', 'pickup_latitude']].iloc[\n",
    "    np.random.choice(taxi2015.shape[0], 1000000),:]\n",
    "#random_set = taxi2015[['pickup_longitude', 'pickup_latitude']].iloc[0:5000,:]\n",
    "points = [Point(p) for p in list(zip(\n",
    "    random_set['pickup_longitude'].tolist(), random_set['pickup_latitude'].tolist()))]\n",
    "print(points[3799])"
   ]
  },
  {
   "cell_type": "markdown",
   "metadata": {},
   "source": [
    "Just converting the points from GPU back to host for the comparison takes a noticeable period of time.\n",
    "\n",
    "Now for the benchmark:"
   ]
  },
  {
   "cell_type": "code",
   "execution_count": 24,
   "metadata": {},
   "outputs": [
    {
     "name": "stdout",
     "output_type": "stream",
     "text": [
      "yes:  758 no:  999242\n",
      "CPU times: user 3.82 s, sys: 16.2 ms, total: 3.83 s\n",
      "Wall time: 3.83 s\n"
     ]
    }
   ],
   "source": [
    "%%time\n",
    "for i in range(0, len(points)):\n",
    "    point = points[i]\n",
    "    if(polygon.contains(point)):\n",
    "        outcome_yes += 1\n",
    "    else:\n",
    "        outcome_no += 1\n",
    "print(\"yes: \", outcome_yes, \"no: \" , outcome_no)"
   ]
  },
  {
   "cell_type": "markdown",
   "metadata": {},
   "source": [
    "A simple measure: 1m points inside of 1 polygon with 8509-2714=5795 vertices. This is `/12` as many points and `1/15` as many polygon points. Without running the full dataset, we can estimate that the final runtime would be `7.4s * 12 * 15 = 1332s`. That's a speed up of `1332 / 2.9 = 579`x using GPU instead of CPU!"
   ]
  },
  {
   "cell_type": "code",
   "execution_count": null,
   "metadata": {},
   "outputs": [],
   "source": []
  },
  {
   "cell_type": "markdown",
   "metadata": {},
   "source": [
    "# Making the Spatial data useful for the other RAPIDS libraries\n",
    "\n",
    "Now that we've identify the polygon membership status of every one of our 12m points, lets add that information back into our original dataframe. From that point we could easily save the data permanently for future use, or, run further analytics using cuML, as we'll continue this current example, load it into cuXFilter for visualization."
   ]
  },
  {
   "cell_type": "code",
   "execution_count": 25,
   "metadata": {},
   "outputs": [],
   "source": [
    "taxi2015['pickup_borough'] = 'external'\n",
    "taxi2015['pickup_borough'][pickups['Bronx']] = 'Bronx'\n",
    "taxi2015['pickup_borough'][pickups['Staten Island']] = 'Staten Island'\n",
    "taxi2015['pickup_borough'][pickups['Brooklyn']] = 'Brooklyn'\n",
    "taxi2015['pickup_borough'][pickups['Queens']] = 'Queens'\n",
    "taxi2015['pickup_borough'][pickups['Manhattan']] = 'Manhattan'\n",
    "taxi2015['dropoff_borough'] = 'external'\n",
    "taxi2015['dropoff_borough'][dropoffs['Bronx']] = 'Bronx'\n",
    "taxi2015['dropoff_borough'][dropoffs['Staten Island']] = 'Staten Island'\n",
    "taxi2015['dropoff_borough'][dropoffs['Brooklyn']] = 'Brooklyn'\n",
    "taxi2015['dropoff_borough'][dropoffs['Queens']] = 'Queens'\n",
    "taxi2015['dropoff_borough'][dropoffs['Manhattan']] = 'Manhattan'\n",
    "name_map = {\"external\": 0, \"Bronx\": 1 , \"Staten Island\": 2, \"Brooklyn\": 3, \"Queens\": 4, \"Manhattan\": 5}\n",
    "taxi2015['pickup_borough_integer'] = taxi2015['pickup_borough'].replace(name_map).astype('int32')\n",
    "taxi2015['dropoff_borough_integer'] = taxi2015['dropoff_borough'].replace(name_map).astype('int32')"
   ]
  },
  {
   "cell_type": "markdown",
   "metadata": {},
   "source": [
    "The following code block does what the above code block does. The above is much simpler. Am I missing a detail, or can we use the above?"
   ]
  },
  {
   "cell_type": "markdown",
   "metadata": {},
   "source": [
    "## Add the outputs to your taxi dataframe"
   ]
  },
  {
   "cell_type": "code",
   "execution_count": 26,
   "metadata": {},
   "outputs": [
    {
     "data": {
      "text/html": [
       "<div>\n",
       "<style scoped>\n",
       "    .dataframe tbody tr th:only-of-type {\n",
       "        vertical-align: middle;\n",
       "    }\n",
       "\n",
       "    .dataframe tbody tr th {\n",
       "        vertical-align: top;\n",
       "    }\n",
       "\n",
       "    .dataframe thead th {\n",
       "        text-align: right;\n",
       "    }\n",
       "</style>\n",
       "<table border=\"1\" class=\"dataframe\">\n",
       "  <thead>\n",
       "    <tr style=\"text-align: right;\">\n",
       "      <th></th>\n",
       "      <th>VendorID</th>\n",
       "      <th>tpep_pickup_datetime</th>\n",
       "      <th>tpep_dropoff_datetime</th>\n",
       "      <th>passenger_count</th>\n",
       "      <th>trip_distance</th>\n",
       "      <th>pickup_longitude</th>\n",
       "      <th>pickup_latitude</th>\n",
       "      <th>RateCodeID</th>\n",
       "      <th>store_and_fwd_flag</th>\n",
       "      <th>dropoff_longitude</th>\n",
       "      <th>...</th>\n",
       "      <th>extra</th>\n",
       "      <th>mta_tax</th>\n",
       "      <th>tip_amount</th>\n",
       "      <th>tolls_amount</th>\n",
       "      <th>improvement_surcharge</th>\n",
       "      <th>total_amount</th>\n",
       "      <th>pickup_borough</th>\n",
       "      <th>dropoff_borough</th>\n",
       "      <th>pickup_borough_integer</th>\n",
       "      <th>dropoff_borough_integer</th>\n",
       "    </tr>\n",
       "  </thead>\n",
       "  <tbody>\n",
       "    <tr>\n",
       "      <th>0</th>\n",
       "      <td>2</td>\n",
       "      <td>2015-01-15 19:05:39</td>\n",
       "      <td>2015-01-15 19:23:42</td>\n",
       "      <td>1</td>\n",
       "      <td>1.59</td>\n",
       "      <td>-73.993896</td>\n",
       "      <td>40.750111</td>\n",
       "      <td>1</td>\n",
       "      <td>N</td>\n",
       "      <td>-73.974785</td>\n",
       "      <td>...</td>\n",
       "      <td>1.0</td>\n",
       "      <td>0.5</td>\n",
       "      <td>3.25</td>\n",
       "      <td>0.0</td>\n",
       "      <td>0.3</td>\n",
       "      <td>17.05</td>\n",
       "      <td>Manhattan</td>\n",
       "      <td>Manhattan</td>\n",
       "      <td>5</td>\n",
       "      <td>5</td>\n",
       "    </tr>\n",
       "    <tr>\n",
       "      <th>1</th>\n",
       "      <td>1</td>\n",
       "      <td>2015-01-10 20:33:38</td>\n",
       "      <td>2015-01-10 20:53:28</td>\n",
       "      <td>1</td>\n",
       "      <td>3.30</td>\n",
       "      <td>-74.001648</td>\n",
       "      <td>40.724243</td>\n",
       "      <td>1</td>\n",
       "      <td>N</td>\n",
       "      <td>-73.994415</td>\n",
       "      <td>...</td>\n",
       "      <td>0.5</td>\n",
       "      <td>0.5</td>\n",
       "      <td>2.00</td>\n",
       "      <td>0.0</td>\n",
       "      <td>0.3</td>\n",
       "      <td>17.80</td>\n",
       "      <td>Manhattan</td>\n",
       "      <td>Manhattan</td>\n",
       "      <td>5</td>\n",
       "      <td>5</td>\n",
       "    </tr>\n",
       "    <tr>\n",
       "      <th>2</th>\n",
       "      <td>1</td>\n",
       "      <td>2015-01-10 20:33:38</td>\n",
       "      <td>2015-01-10 20:43:41</td>\n",
       "      <td>1</td>\n",
       "      <td>1.80</td>\n",
       "      <td>-73.963341</td>\n",
       "      <td>40.802788</td>\n",
       "      <td>1</td>\n",
       "      <td>N</td>\n",
       "      <td>-73.951820</td>\n",
       "      <td>...</td>\n",
       "      <td>0.5</td>\n",
       "      <td>0.5</td>\n",
       "      <td>0.00</td>\n",
       "      <td>0.0</td>\n",
       "      <td>0.3</td>\n",
       "      <td>10.80</td>\n",
       "      <td>Manhattan</td>\n",
       "      <td>Manhattan</td>\n",
       "      <td>5</td>\n",
       "      <td>5</td>\n",
       "    </tr>\n",
       "    <tr>\n",
       "      <th>3</th>\n",
       "      <td>1</td>\n",
       "      <td>2015-01-10 20:33:39</td>\n",
       "      <td>2015-01-10 20:35:31</td>\n",
       "      <td>1</td>\n",
       "      <td>0.50</td>\n",
       "      <td>-74.009087</td>\n",
       "      <td>40.713818</td>\n",
       "      <td>1</td>\n",
       "      <td>N</td>\n",
       "      <td>-74.004326</td>\n",
       "      <td>...</td>\n",
       "      <td>0.5</td>\n",
       "      <td>0.5</td>\n",
       "      <td>0.00</td>\n",
       "      <td>0.0</td>\n",
       "      <td>0.3</td>\n",
       "      <td>4.80</td>\n",
       "      <td>Manhattan</td>\n",
       "      <td>Manhattan</td>\n",
       "      <td>5</td>\n",
       "      <td>5</td>\n",
       "    </tr>\n",
       "    <tr>\n",
       "      <th>4</th>\n",
       "      <td>1</td>\n",
       "      <td>2015-01-10 20:33:39</td>\n",
       "      <td>2015-01-10 20:52:58</td>\n",
       "      <td>1</td>\n",
       "      <td>3.00</td>\n",
       "      <td>-73.971176</td>\n",
       "      <td>40.762428</td>\n",
       "      <td>1</td>\n",
       "      <td>N</td>\n",
       "      <td>-74.004181</td>\n",
       "      <td>...</td>\n",
       "      <td>0.5</td>\n",
       "      <td>0.5</td>\n",
       "      <td>0.00</td>\n",
       "      <td>0.0</td>\n",
       "      <td>0.3</td>\n",
       "      <td>16.30</td>\n",
       "      <td>Manhattan</td>\n",
       "      <td>Manhattan</td>\n",
       "      <td>5</td>\n",
       "      <td>5</td>\n",
       "    </tr>\n",
       "  </tbody>\n",
       "</table>\n",
       "<p>5 rows × 23 columns</p>\n",
       "</div>"
      ],
      "text/plain": [
       "   VendorID tpep_pickup_datetime tpep_dropoff_datetime  passenger_count  \\\n",
       "0         2  2015-01-15 19:05:39   2015-01-15 19:23:42                1   \n",
       "1         1  2015-01-10 20:33:38   2015-01-10 20:53:28                1   \n",
       "2         1  2015-01-10 20:33:38   2015-01-10 20:43:41                1   \n",
       "3         1  2015-01-10 20:33:39   2015-01-10 20:35:31                1   \n",
       "4         1  2015-01-10 20:33:39   2015-01-10 20:52:58                1   \n",
       "\n",
       "   trip_distance  pickup_longitude  pickup_latitude  RateCodeID  \\\n",
       "0           1.59        -73.993896        40.750111           1   \n",
       "1           3.30        -74.001648        40.724243           1   \n",
       "2           1.80        -73.963341        40.802788           1   \n",
       "3           0.50        -74.009087        40.713818           1   \n",
       "4           3.00        -73.971176        40.762428           1   \n",
       "\n",
       "  store_and_fwd_flag  dropoff_longitude  ...  extra  mta_tax  tip_amount  \\\n",
       "0                  N         -73.974785  ...    1.0      0.5        3.25   \n",
       "1                  N         -73.994415  ...    0.5      0.5        2.00   \n",
       "2                  N         -73.951820  ...    0.5      0.5        0.00   \n",
       "3                  N         -74.004326  ...    0.5      0.5        0.00   \n",
       "4                  N         -74.004181  ...    0.5      0.5        0.00   \n",
       "\n",
       "   tolls_amount  improvement_surcharge  total_amount  pickup_borough  \\\n",
       "0           0.0                    0.3         17.05       Manhattan   \n",
       "1           0.0                    0.3         17.80       Manhattan   \n",
       "2           0.0                    0.3         10.80       Manhattan   \n",
       "3           0.0                    0.3          4.80       Manhattan   \n",
       "4           0.0                    0.3         16.30       Manhattan   \n",
       "\n",
       "  dropoff_borough pickup_borough_integer  dropoff_borough_integer  \n",
       "0       Manhattan                      5                        5  \n",
       "1       Manhattan                      5                        5  \n",
       "2       Manhattan                      5                        5  \n",
       "3       Manhattan                      5                        5  \n",
       "4       Manhattan                      5                        5  \n",
       "\n",
       "[5 rows x 23 columns]"
      ]
     },
     "execution_count": 26,
     "metadata": {},
     "output_type": "execute_result"
    }
   ],
   "source": [
    "taxi2015.head()"
   ]
  },
  {
   "cell_type": "code",
   "execution_count": 27,
   "metadata": {},
   "outputs": [],
   "source": [
    "taxi2015['all_within_boroughs'] = (\n",
    "   (taxi2015['pickup_borough'] != 'external')\n",
    " & (taxi2015['dropoff_borough'] != 'external')\n",
    ")"
   ]
  },
  {
   "cell_type": "code",
   "execution_count": 28,
   "metadata": {},
   "outputs": [
    {
     "data": {
      "text/html": [
       "<div>\n",
       "<style scoped>\n",
       "    .dataframe tbody tr th:only-of-type {\n",
       "        vertical-align: middle;\n",
       "    }\n",
       "\n",
       "    .dataframe tbody tr th {\n",
       "        vertical-align: top;\n",
       "    }\n",
       "\n",
       "    .dataframe thead th {\n",
       "        text-align: right;\n",
       "    }\n",
       "</style>\n",
       "<table border=\"1\" class=\"dataframe\">\n",
       "  <thead>\n",
       "    <tr style=\"text-align: right;\">\n",
       "      <th></th>\n",
       "      <th>VendorID</th>\n",
       "      <th>tpep_pickup_datetime</th>\n",
       "      <th>tpep_dropoff_datetime</th>\n",
       "      <th>passenger_count</th>\n",
       "      <th>trip_distance</th>\n",
       "      <th>pickup_longitude</th>\n",
       "      <th>pickup_latitude</th>\n",
       "      <th>RateCodeID</th>\n",
       "      <th>store_and_fwd_flag</th>\n",
       "      <th>dropoff_longitude</th>\n",
       "      <th>...</th>\n",
       "      <th>mta_tax</th>\n",
       "      <th>tip_amount</th>\n",
       "      <th>tolls_amount</th>\n",
       "      <th>improvement_surcharge</th>\n",
       "      <th>total_amount</th>\n",
       "      <th>pickup_borough</th>\n",
       "      <th>dropoff_borough</th>\n",
       "      <th>pickup_borough_integer</th>\n",
       "      <th>dropoff_borough_integer</th>\n",
       "      <th>all_within_boroughs</th>\n",
       "    </tr>\n",
       "  </thead>\n",
       "  <tbody>\n",
       "    <tr>\n",
       "      <th>0</th>\n",
       "      <td>2</td>\n",
       "      <td>2015-01-15 19:05:39</td>\n",
       "      <td>2015-01-15 19:23:42</td>\n",
       "      <td>1</td>\n",
       "      <td>1.59</td>\n",
       "      <td>-73.993896</td>\n",
       "      <td>40.750111</td>\n",
       "      <td>1</td>\n",
       "      <td>N</td>\n",
       "      <td>-73.974785</td>\n",
       "      <td>...</td>\n",
       "      <td>0.5</td>\n",
       "      <td>3.25</td>\n",
       "      <td>0.0</td>\n",
       "      <td>0.3</td>\n",
       "      <td>17.05</td>\n",
       "      <td>Manhattan</td>\n",
       "      <td>Manhattan</td>\n",
       "      <td>5</td>\n",
       "      <td>5</td>\n",
       "      <td>True</td>\n",
       "    </tr>\n",
       "    <tr>\n",
       "      <th>1</th>\n",
       "      <td>1</td>\n",
       "      <td>2015-01-10 20:33:38</td>\n",
       "      <td>2015-01-10 20:53:28</td>\n",
       "      <td>1</td>\n",
       "      <td>3.30</td>\n",
       "      <td>-74.001648</td>\n",
       "      <td>40.724243</td>\n",
       "      <td>1</td>\n",
       "      <td>N</td>\n",
       "      <td>-73.994415</td>\n",
       "      <td>...</td>\n",
       "      <td>0.5</td>\n",
       "      <td>2.00</td>\n",
       "      <td>0.0</td>\n",
       "      <td>0.3</td>\n",
       "      <td>17.80</td>\n",
       "      <td>Manhattan</td>\n",
       "      <td>Manhattan</td>\n",
       "      <td>5</td>\n",
       "      <td>5</td>\n",
       "      <td>True</td>\n",
       "    </tr>\n",
       "    <tr>\n",
       "      <th>2</th>\n",
       "      <td>1</td>\n",
       "      <td>2015-01-10 20:33:38</td>\n",
       "      <td>2015-01-10 20:43:41</td>\n",
       "      <td>1</td>\n",
       "      <td>1.80</td>\n",
       "      <td>-73.963341</td>\n",
       "      <td>40.802788</td>\n",
       "      <td>1</td>\n",
       "      <td>N</td>\n",
       "      <td>-73.951820</td>\n",
       "      <td>...</td>\n",
       "      <td>0.5</td>\n",
       "      <td>0.00</td>\n",
       "      <td>0.0</td>\n",
       "      <td>0.3</td>\n",
       "      <td>10.80</td>\n",
       "      <td>Manhattan</td>\n",
       "      <td>Manhattan</td>\n",
       "      <td>5</td>\n",
       "      <td>5</td>\n",
       "      <td>True</td>\n",
       "    </tr>\n",
       "    <tr>\n",
       "      <th>3</th>\n",
       "      <td>1</td>\n",
       "      <td>2015-01-10 20:33:39</td>\n",
       "      <td>2015-01-10 20:35:31</td>\n",
       "      <td>1</td>\n",
       "      <td>0.50</td>\n",
       "      <td>-74.009087</td>\n",
       "      <td>40.713818</td>\n",
       "      <td>1</td>\n",
       "      <td>N</td>\n",
       "      <td>-74.004326</td>\n",
       "      <td>...</td>\n",
       "      <td>0.5</td>\n",
       "      <td>0.00</td>\n",
       "      <td>0.0</td>\n",
       "      <td>0.3</td>\n",
       "      <td>4.80</td>\n",
       "      <td>Manhattan</td>\n",
       "      <td>Manhattan</td>\n",
       "      <td>5</td>\n",
       "      <td>5</td>\n",
       "      <td>True</td>\n",
       "    </tr>\n",
       "    <tr>\n",
       "      <th>4</th>\n",
       "      <td>1</td>\n",
       "      <td>2015-01-10 20:33:39</td>\n",
       "      <td>2015-01-10 20:52:58</td>\n",
       "      <td>1</td>\n",
       "      <td>3.00</td>\n",
       "      <td>-73.971176</td>\n",
       "      <td>40.762428</td>\n",
       "      <td>1</td>\n",
       "      <td>N</td>\n",
       "      <td>-74.004181</td>\n",
       "      <td>...</td>\n",
       "      <td>0.5</td>\n",
       "      <td>0.00</td>\n",
       "      <td>0.0</td>\n",
       "      <td>0.3</td>\n",
       "      <td>16.30</td>\n",
       "      <td>Manhattan</td>\n",
       "      <td>Manhattan</td>\n",
       "      <td>5</td>\n",
       "      <td>5</td>\n",
       "      <td>True</td>\n",
       "    </tr>\n",
       "  </tbody>\n",
       "</table>\n",
       "<p>5 rows × 24 columns</p>\n",
       "</div>"
      ],
      "text/plain": [
       "   VendorID tpep_pickup_datetime tpep_dropoff_datetime  passenger_count  \\\n",
       "0         2  2015-01-15 19:05:39   2015-01-15 19:23:42                1   \n",
       "1         1  2015-01-10 20:33:38   2015-01-10 20:53:28                1   \n",
       "2         1  2015-01-10 20:33:38   2015-01-10 20:43:41                1   \n",
       "3         1  2015-01-10 20:33:39   2015-01-10 20:35:31                1   \n",
       "4         1  2015-01-10 20:33:39   2015-01-10 20:52:58                1   \n",
       "\n",
       "   trip_distance  pickup_longitude  pickup_latitude  RateCodeID  \\\n",
       "0           1.59        -73.993896        40.750111           1   \n",
       "1           3.30        -74.001648        40.724243           1   \n",
       "2           1.80        -73.963341        40.802788           1   \n",
       "3           0.50        -74.009087        40.713818           1   \n",
       "4           3.00        -73.971176        40.762428           1   \n",
       "\n",
       "  store_and_fwd_flag  dropoff_longitude  ...  mta_tax  tip_amount  \\\n",
       "0                  N         -73.974785  ...      0.5        3.25   \n",
       "1                  N         -73.994415  ...      0.5        2.00   \n",
       "2                  N         -73.951820  ...      0.5        0.00   \n",
       "3                  N         -74.004326  ...      0.5        0.00   \n",
       "4                  N         -74.004181  ...      0.5        0.00   \n",
       "\n",
       "   tolls_amount  improvement_surcharge  total_amount  pickup_borough  \\\n",
       "0           0.0                    0.3         17.05       Manhattan   \n",
       "1           0.0                    0.3         17.80       Manhattan   \n",
       "2           0.0                    0.3         10.80       Manhattan   \n",
       "3           0.0                    0.3          4.80       Manhattan   \n",
       "4           0.0                    0.3         16.30       Manhattan   \n",
       "\n",
       "  dropoff_borough pickup_borough_integer  dropoff_borough_integer  \\\n",
       "0       Manhattan                      5                        5   \n",
       "1       Manhattan                      5                        5   \n",
       "2       Manhattan                      5                        5   \n",
       "3       Manhattan                      5                        5   \n",
       "4       Manhattan                      5                        5   \n",
       "\n",
       "   all_within_boroughs  \n",
       "0                 True  \n",
       "1                 True  \n",
       "2                 True  \n",
       "3                 True  \n",
       "4                 True  \n",
       "\n",
       "[5 rows x 24 columns]"
      ]
     },
     "execution_count": 28,
     "metadata": {},
     "output_type": "execute_result"
    }
   ],
   "source": [
    "taxi2015.head()"
   ]
  },
  {
   "cell_type": "code",
   "execution_count": 29,
   "metadata": {},
   "outputs": [
    {
     "data": {
      "text/plain": [
       "Manhattan        11150550\n",
       "Brooklyn           642234\n",
       "Queens             602715\n",
       "external           282554\n",
       "Bronx               68489\n",
       "Staten Island        2444\n",
       "Name: dropoff_borough, dtype: int32"
      ]
     },
     "execution_count": 29,
     "metadata": {},
     "output_type": "execute_result"
    }
   ],
   "source": [
    "taxi2015['dropoff_borough'].value_counts()"
   ]
  },
  {
   "cell_type": "code",
   "execution_count": 30,
   "metadata": {},
   "outputs": [
    {
     "data": {
      "text/plain": [
       "Manhattan        11612333\n",
       "Queens             640693\n",
       "external           256123\n",
       "Brooklyn           229809\n",
       "Bronx                9840\n",
       "Staten Island         188\n",
       "Name: pickup_borough, dtype: int32"
      ]
     },
     "execution_count": 30,
     "metadata": {},
     "output_type": "execute_result"
    }
   ],
   "source": [
    "taxi2015['pickup_borough'].value_counts()"
   ]
  },
  {
   "cell_type": "code",
   "execution_count": 31,
   "metadata": {},
   "outputs": [
    {
     "data": {
      "text/plain": [
       "True     12434190\n",
       "False      314796\n",
       "Name: all_within_boroughs, dtype: int32"
      ]
     },
     "execution_count": 31,
     "metadata": {},
     "output_type": "execute_result"
    }
   ],
   "source": [
    "taxi2015['all_within_boroughs'].value_counts()"
   ]
  },
  {
   "cell_type": "code",
   "execution_count": 32,
   "metadata": {},
   "outputs": [],
   "source": [
    "taxi2015['interborough']= (taxi2015[[]].assign(interborough=taxi2015.pickup_borough != taxi2015.dropoff_borough))"
   ]
  },
  {
   "cell_type": "code",
   "execution_count": 33,
   "metadata": {},
   "outputs": [
    {
     "data": {
      "text/plain": [
       "False    11275954\n",
       "True      1473032\n",
       "Name: interborough, dtype: int32"
      ]
     },
     "execution_count": 33,
     "metadata": {},
     "output_type": "execute_result"
    }
   ],
   "source": [
    "taxi2015['interborough'].value_counts()"
   ]
  },
  {
   "cell_type": "markdown",
   "metadata": {},
   "source": [
    "# Cleaning the Data\n",
    "Now that we have some great analytics, let's do what we came here to do: get a clean, 5 borough only dataset with no drop offs in the middle of the water. There are two ways to clean the data, made possible by using cuspatial: \n",
    "    1. through cuspatial (no visualization required)\n",
    "    1. through cuxfilter (has awesome visualizations, but it is required to create an output)\n",
    "    \n",
    "## Cleaning with cuspatial \n",
    "With cuSpatial, we can easily query the data on `all_within_boroughs` or where `pickup_borough` and `dropoff_borough` are `!=0`.  Since we created `all_within_boroughs` mostly for an easy option two, and you'd probably not do that in your spatial workflow, we'll show how to do it the latter way.  "
   ]
  },
  {
   "cell_type": "code",
   "execution_count": 34,
   "metadata": {},
   "outputs": [],
   "source": [
    "taxi_cuS_cleaned = taxi2015[\n",
    "    (\n",
    "        (taxi2015['pickup_borough'] != 'external')\n",
    "      & (taxi2015['dropoff_borough'] != 'external')\n",
    "    )\n",
    "]"
   ]
  },
  {
   "cell_type": "markdown",
   "metadata": {},
   "source": [
    "The `True` and `False` values don't equal up to our full dataset numbers. The remainder, \"None\" type, will contain the extra-borough transportation as well as the dirty data.  Good to look at with interest, but outside of our scope.  If you want to clean this data as well, you'll been boundary maps of th rest of the TriState area.  "
   ]
  },
  {
   "cell_type": "markdown",
   "metadata": {},
   "source": [
    "## Cleaning using cuXFilter\n",
    "(You may remember me from other notebooks like...)  \n",
    "\n",
    "First, we're going to have a little fun with this.  All those new parameters we created will be put to use.  We're going to an interactive visualization on the whole `taxi2015` dataset.  In the end you'll be able to see:\n",
    "1. original data pickups\n",
    "1. original data dropoffs\n",
    "1. cuSpatial cleaned pickups\n",
    "1. cuSpatial cleaned dropoffs\n",
    "1. original data and cleaned intraborough pickups\n",
    "1. original data and cleaned intraborough dropoffs\n",
    "1. original data and cleaned interborough pickups\n",
    "1. original data and cleaned interborough dropoffs\n",
    "1. and more!\n",
    "\n",
    "To do this, we're going to \n",
    "1. convert the pickup and drop off coordinates from lat/lon to EPSG:4326 format\n",
    "1. prep the bokeh server to show a background map to overlay our data\n",
    "1. create some charts to plot pickup and drop off points\n",
    "1. create some more charts to help filter the data by parameters of interest, like \n",
    " 1. pickup borough by borough\n",
    " 1. dropoff borough by borough\n",
    " 1. Whether the trip was interborough\n",
    " 1. and a quick filter on whether or not the whole trip was within NYC's 5 boroughs (yes, the \"easy button\" cleaning filter)"
   ]
  },
  {
   "cell_type": "code",
   "execution_count": 35,
   "metadata": {},
   "outputs": [],
   "source": [
    "import cuxfilter\n",
    "from bokeh import palettes\n",
    "from cuxfilter.layouts import double_feature"
   ]
  },
  {
   "cell_type": "code",
   "execution_count": 36,
   "metadata": {},
   "outputs": [
    {
     "name": "stdout",
     "output_type": "stream",
     "text": [
      "              x             y\n",
      "0 -8.236963e+06  4.975553e+06\n",
      "1 -8.237826e+06  4.971752e+06\n",
      "2 -8.233561e+06  4.983296e+06\n",
      "3 -8.238654e+06  4.970221e+06\n",
      "4 -8.234434e+06  4.977363e+06\n",
      "              x             y\n",
      "0 -8.234835e+06  4.975627e+06\n",
      "1 -8.237021e+06  4.976875e+06\n",
      "2 -8.232279e+06  4.986477e+06\n",
      "3 -8.238124e+06  4.971127e+06\n",
      "4 -8.238108e+06  4.974457e+06\n"
     ]
    }
   ],
   "source": [
    "from pyproj import Proj, Transformer\n",
    "def makeXfilter(x, y):\n",
    "    temp= cudf.DataFrame()\n",
    "    transform_4326_to_3857 = Transformer.from_crs('epsg:4326', 'epsg:3857')\n",
    "    temp['x'], temp['y'] = transform_4326_to_3857.transform(\n",
    "                                                x.to_array(), y.to_array()\n",
    "                                            )\n",
    "    print(temp.head())\n",
    "    return temp.x, temp.y\n",
    "\n",
    "taxi2015['pu_x'], taxi2015['pu_y'] = makeXfilter(taxi2015['pickup_latitude'], taxi2015['pickup_longitude'])\n",
    "taxi2015['do_x'], taxi2015['do_y'] = makeXfilter(taxi2015['dropoff_latitude'],taxi2015['dropoff_longitude'])\n",
    "cux = cuxfilter.DataFrame.from_dataframe(taxi2015)"
   ]
  },
  {
   "cell_type": "code",
   "execution_count": 37,
   "metadata": {},
   "outputs": [],
   "source": [
    "from bokeh.tile_providers import get_provider as gp\n",
    "tile_provider = gp('CARTODBPOSITRON')"
   ]
  },
  {
   "cell_type": "markdown",
   "metadata": {},
   "source": [
    "### Create your charts and launch the dashboard"
   ]
  },
  {
   "cell_type": "code",
   "execution_count": 38,
   "metadata": {},
   "outputs": [],
   "source": [
    "label_map = {\n",
    "    0:\"external\", \n",
    "    1:\"Bronx\",\n",
    "    2:\"Staten Island\",\n",
    "    3:\"Brooklyn\", \n",
    "    4:\"Queens\", \n",
    "    5:\"Manhattan\"\n",
    "}\n",
    "chart0 = cuxfilter.charts.scatter_geo(x='pu_x',\n",
    "                                      y='pu_y',\n",
    "                                      title='NYC Taxi Pickups',\n",
    "                                      aggregate_fn='count',\n",
    "                                      tile_provider=tile_provider, x_range=(-8267428.97,-8207328.23), y_range=(4935861.67,5000548.55))\n",
    "chart1 = cuxfilter.charts.scatter_geo(x='do_x',\n",
    "                                      y='do_y',\n",
    "                                      title='NYC Taxi Dropoffs',\n",
    "                                      aggregate_fn='count',\n",
    "                                      tile_provider=tile_provider, x_range=(-8267428.97,-8207328.23), y_range=(4935861.67,5000548.55))\n",
    "chart2 = cuxfilter.charts.multi_select('pickup_borough_integer', label_map=label_map)\n",
    "chart3 = cuxfilter.charts.multi_select('dropoff_borough_integer', label_map=label_map)"
   ]
  },
  {
   "cell_type": "code",
   "execution_count": null,
   "metadata": {},
   "outputs": [],
   "source": [
    "d = cux.dashboard([chart0, chart1, chart2, chart3], layout=cuxfilter.layouts.feature_and_base, theme=cuxfilter.themes.dark, title= 'NYC TAXI DATASET')"
   ]
  },
  {
   "cell_type": "code",
   "execution_count": null,
   "metadata": {},
   "outputs": [],
   "source": [
    "d"
   ]
  },
  {
   "cell_type": "code",
   "execution_count": null,
   "metadata": {},
   "outputs": [],
   "source": [
    "d.show(url+':'+port)"
   ]
  },
  {
   "cell_type": "markdown",
   "metadata": {},
   "source": [
    "# WARNING!\n",
    "Before you stop the data viz, please \n",
    "1. select all boroughs that aren't `external` in `pickup_borough_integer` and `dropoff_borough_integer`.  This will give you a cleaned dataset\n",
    "1. Then, run the next cell to export the data in the visualizations as a dataframe.  \n",
    "\n",
    "This will give you a similar result to the `taxi_cuS_cleaned` dataset.  Then, we'll stop the visualization and compare the two datasets for similarity, just to prove that they are the same."
   ]
  },
  {
   "cell_type": "code",
   "execution_count": 42,
   "metadata": {},
   "outputs": [
    {
     "name": "stdout",
     "output_type": "stream",
     "text": [
      "final query pickup_borough_integer in (1,2,3,4,5) and dropoff_borough_integer in (1,2,3,4,5)\n"
     ]
    }
   ],
   "source": [
    "taxi_cuX_cleaned = d.export()"
   ]
  },
  {
   "cell_type": "code",
   "execution_count": 43,
   "metadata": {},
   "outputs": [
    {
     "data": {
      "text/html": [
       "<div>\n",
       "<style scoped>\n",
       "    .dataframe tbody tr th:only-of-type {\n",
       "        vertical-align: middle;\n",
       "    }\n",
       "\n",
       "    .dataframe tbody tr th {\n",
       "        vertical-align: top;\n",
       "    }\n",
       "\n",
       "    .dataframe thead th {\n",
       "        text-align: right;\n",
       "    }\n",
       "</style>\n",
       "<table border=\"1\" class=\"dataframe\">\n",
       "  <thead>\n",
       "    <tr style=\"text-align: right;\">\n",
       "      <th></th>\n",
       "      <th>VendorID</th>\n",
       "      <th>tpep_pickup_datetime</th>\n",
       "      <th>tpep_dropoff_datetime</th>\n",
       "      <th>passenger_count</th>\n",
       "      <th>trip_distance</th>\n",
       "      <th>pickup_longitude</th>\n",
       "      <th>pickup_latitude</th>\n",
       "      <th>RateCodeID</th>\n",
       "      <th>store_and_fwd_flag</th>\n",
       "      <th>dropoff_longitude</th>\n",
       "      <th>...</th>\n",
       "      <th>pickup_borough</th>\n",
       "      <th>dropoff_borough</th>\n",
       "      <th>pickup_borough_integer</th>\n",
       "      <th>dropoff_borough_integer</th>\n",
       "      <th>all_within_boroughs</th>\n",
       "      <th>interborough</th>\n",
       "      <th>pu_x</th>\n",
       "      <th>pu_y</th>\n",
       "      <th>do_x</th>\n",
       "      <th>do_y</th>\n",
       "    </tr>\n",
       "  </thead>\n",
       "  <tbody>\n",
       "    <tr>\n",
       "      <th>0</th>\n",
       "      <td>2</td>\n",
       "      <td>2015-01-15 19:05:39</td>\n",
       "      <td>2015-01-15 19:23:42</td>\n",
       "      <td>1</td>\n",
       "      <td>1.59</td>\n",
       "      <td>-73.993896</td>\n",
       "      <td>40.750111</td>\n",
       "      <td>1</td>\n",
       "      <td>N</td>\n",
       "      <td>-73.974785</td>\n",
       "      <td>...</td>\n",
       "      <td>Manhattan</td>\n",
       "      <td>Manhattan</td>\n",
       "      <td>5</td>\n",
       "      <td>5</td>\n",
       "      <td>True</td>\n",
       "      <td>False</td>\n",
       "      <td>-8.236963e+06</td>\n",
       "      <td>4.975553e+06</td>\n",
       "      <td>-8.234835e+06</td>\n",
       "      <td>4.975627e+06</td>\n",
       "    </tr>\n",
       "    <tr>\n",
       "      <th>1</th>\n",
       "      <td>1</td>\n",
       "      <td>2015-01-10 20:33:38</td>\n",
       "      <td>2015-01-10 20:53:28</td>\n",
       "      <td>1</td>\n",
       "      <td>3.30</td>\n",
       "      <td>-74.001648</td>\n",
       "      <td>40.724243</td>\n",
       "      <td>1</td>\n",
       "      <td>N</td>\n",
       "      <td>-73.994415</td>\n",
       "      <td>...</td>\n",
       "      <td>Manhattan</td>\n",
       "      <td>Manhattan</td>\n",
       "      <td>5</td>\n",
       "      <td>5</td>\n",
       "      <td>True</td>\n",
       "      <td>False</td>\n",
       "      <td>-8.237826e+06</td>\n",
       "      <td>4.971752e+06</td>\n",
       "      <td>-8.237021e+06</td>\n",
       "      <td>4.976875e+06</td>\n",
       "    </tr>\n",
       "    <tr>\n",
       "      <th>2</th>\n",
       "      <td>1</td>\n",
       "      <td>2015-01-10 20:33:38</td>\n",
       "      <td>2015-01-10 20:43:41</td>\n",
       "      <td>1</td>\n",
       "      <td>1.80</td>\n",
       "      <td>-73.963341</td>\n",
       "      <td>40.802788</td>\n",
       "      <td>1</td>\n",
       "      <td>N</td>\n",
       "      <td>-73.951820</td>\n",
       "      <td>...</td>\n",
       "      <td>Manhattan</td>\n",
       "      <td>Manhattan</td>\n",
       "      <td>5</td>\n",
       "      <td>5</td>\n",
       "      <td>True</td>\n",
       "      <td>False</td>\n",
       "      <td>-8.233561e+06</td>\n",
       "      <td>4.983296e+06</td>\n",
       "      <td>-8.232279e+06</td>\n",
       "      <td>4.986477e+06</td>\n",
       "    </tr>\n",
       "    <tr>\n",
       "      <th>3</th>\n",
       "      <td>1</td>\n",
       "      <td>2015-01-10 20:33:39</td>\n",
       "      <td>2015-01-10 20:35:31</td>\n",
       "      <td>1</td>\n",
       "      <td>0.50</td>\n",
       "      <td>-74.009087</td>\n",
       "      <td>40.713818</td>\n",
       "      <td>1</td>\n",
       "      <td>N</td>\n",
       "      <td>-74.004326</td>\n",
       "      <td>...</td>\n",
       "      <td>Manhattan</td>\n",
       "      <td>Manhattan</td>\n",
       "      <td>5</td>\n",
       "      <td>5</td>\n",
       "      <td>True</td>\n",
       "      <td>False</td>\n",
       "      <td>-8.238654e+06</td>\n",
       "      <td>4.970221e+06</td>\n",
       "      <td>-8.238124e+06</td>\n",
       "      <td>4.971127e+06</td>\n",
       "    </tr>\n",
       "    <tr>\n",
       "      <th>4</th>\n",
       "      <td>1</td>\n",
       "      <td>2015-01-10 20:33:39</td>\n",
       "      <td>2015-01-10 20:52:58</td>\n",
       "      <td>1</td>\n",
       "      <td>3.00</td>\n",
       "      <td>-73.971176</td>\n",
       "      <td>40.762428</td>\n",
       "      <td>1</td>\n",
       "      <td>N</td>\n",
       "      <td>-74.004181</td>\n",
       "      <td>...</td>\n",
       "      <td>Manhattan</td>\n",
       "      <td>Manhattan</td>\n",
       "      <td>5</td>\n",
       "      <td>5</td>\n",
       "      <td>True</td>\n",
       "      <td>False</td>\n",
       "      <td>-8.234434e+06</td>\n",
       "      <td>4.977363e+06</td>\n",
       "      <td>-8.238108e+06</td>\n",
       "      <td>4.974457e+06</td>\n",
       "    </tr>\n",
       "  </tbody>\n",
       "</table>\n",
       "<p>5 rows × 29 columns</p>\n",
       "</div>"
      ],
      "text/plain": [
       "   VendorID tpep_pickup_datetime tpep_dropoff_datetime  passenger_count  \\\n",
       "0         2  2015-01-15 19:05:39   2015-01-15 19:23:42                1   \n",
       "1         1  2015-01-10 20:33:38   2015-01-10 20:53:28                1   \n",
       "2         1  2015-01-10 20:33:38   2015-01-10 20:43:41                1   \n",
       "3         1  2015-01-10 20:33:39   2015-01-10 20:35:31                1   \n",
       "4         1  2015-01-10 20:33:39   2015-01-10 20:52:58                1   \n",
       "\n",
       "   trip_distance  pickup_longitude  pickup_latitude  RateCodeID  \\\n",
       "0           1.59        -73.993896        40.750111           1   \n",
       "1           3.30        -74.001648        40.724243           1   \n",
       "2           1.80        -73.963341        40.802788           1   \n",
       "3           0.50        -74.009087        40.713818           1   \n",
       "4           3.00        -73.971176        40.762428           1   \n",
       "\n",
       "  store_and_fwd_flag  dropoff_longitude  ...  pickup_borough dropoff_borough  \\\n",
       "0                  N         -73.974785  ...       Manhattan       Manhattan   \n",
       "1                  N         -73.994415  ...       Manhattan       Manhattan   \n",
       "2                  N         -73.951820  ...       Manhattan       Manhattan   \n",
       "3                  N         -74.004326  ...       Manhattan       Manhattan   \n",
       "4                  N         -74.004181  ...       Manhattan       Manhattan   \n",
       "\n",
       "  pickup_borough_integer  dropoff_borough_integer  all_within_boroughs  \\\n",
       "0                      5                        5                 True   \n",
       "1                      5                        5                 True   \n",
       "2                      5                        5                 True   \n",
       "3                      5                        5                 True   \n",
       "4                      5                        5                 True   \n",
       "\n",
       "   interborough          pu_x          pu_y          do_x          do_y  \n",
       "0         False -8.236963e+06  4.975553e+06 -8.234835e+06  4.975627e+06  \n",
       "1         False -8.237826e+06  4.971752e+06 -8.237021e+06  4.976875e+06  \n",
       "2         False -8.233561e+06  4.983296e+06 -8.232279e+06  4.986477e+06  \n",
       "3         False -8.238654e+06  4.970221e+06 -8.238124e+06  4.971127e+06  \n",
       "4         False -8.234434e+06  4.977363e+06 -8.238108e+06  4.974457e+06  \n",
       "\n",
       "[5 rows x 29 columns]"
      ]
     },
     "execution_count": 43,
     "metadata": {},
     "output_type": "execute_result"
    }
   ],
   "source": [
    "taxi_cuX_cleaned.head()"
   ]
  },
  {
   "cell_type": "code",
   "execution_count": 44,
   "metadata": {},
   "outputs": [],
   "source": [
    "d.stop()"
   ]
  },
  {
   "cell_type": "markdown",
   "metadata": {},
   "source": [
    "# Comparing the data\n",
    "Let's checking that the data between the cleaned datasets, `taxi_cuS_cleaned` and `taxi_cuX_cleaned` are the same."
   ]
  },
  {
   "cell_type": "code",
   "execution_count": 45,
   "metadata": {},
   "outputs": [
    {
     "name": "stdout",
     "output_type": "stream",
     "text": [
      "   VendorID tpep_pickup_datetime tpep_dropoff_datetime  passenger_count  \\\n",
      "0         2  2015-01-15 19:05:39   2015-01-15 19:23:42                1   \n",
      "1         1  2015-01-10 20:33:38   2015-01-10 20:53:28                1   \n",
      "2         1  2015-01-10 20:33:38   2015-01-10 20:43:41                1   \n",
      "3         1  2015-01-10 20:33:39   2015-01-10 20:35:31                1   \n",
      "4         1  2015-01-10 20:33:39   2015-01-10 20:52:58                1   \n",
      "\n",
      "   trip_distance  pickup_longitude  pickup_latitude  RateCodeID  \\\n",
      "0           1.59        -73.993896        40.750111           1   \n",
      "1           3.30        -74.001648        40.724243           1   \n",
      "2           1.80        -73.963341        40.802788           1   \n",
      "3           0.50        -74.009087        40.713818           1   \n",
      "4           3.00        -73.971176        40.762428           1   \n",
      "\n",
      "  store_and_fwd_flag  dropoff_longitude  ...  pickup_borough dropoff_borough  \\\n",
      "0                  N         -73.974785  ...       Manhattan       Manhattan   \n",
      "1                  N         -73.994415  ...       Manhattan       Manhattan   \n",
      "2                  N         -73.951820  ...       Manhattan       Manhattan   \n",
      "3                  N         -74.004326  ...       Manhattan       Manhattan   \n",
      "4                  N         -74.004181  ...       Manhattan       Manhattan   \n",
      "\n",
      "  pickup_borough_integer  dropoff_borough_integer  all_within_boroughs  \\\n",
      "0                      5                        5                 True   \n",
      "1                      5                        5                 True   \n",
      "2                      5                        5                 True   \n",
      "3                      5                        5                 True   \n",
      "4                      5                        5                 True   \n",
      "\n",
      "   interborough          pu_x          pu_y          do_x          do_y  \n",
      "0         False -8.236963e+06  4.975553e+06 -8.234835e+06  4.975627e+06  \n",
      "1         False -8.237826e+06  4.971752e+06 -8.237021e+06  4.976875e+06  \n",
      "2         False -8.233561e+06  4.983296e+06 -8.232279e+06  4.986477e+06  \n",
      "3         False -8.238654e+06  4.970221e+06 -8.238124e+06  4.971127e+06  \n",
      "4         False -8.234434e+06  4.977363e+06 -8.238108e+06  4.974457e+06  \n",
      "\n",
      "[5 rows x 29 columns]\n",
      "   VendorID tpep_pickup_datetime tpep_dropoff_datetime  passenger_count  \\\n",
      "0         2  2015-01-15 19:05:39   2015-01-15 19:23:42                1   \n",
      "1         1  2015-01-10 20:33:38   2015-01-10 20:53:28                1   \n",
      "2         1  2015-01-10 20:33:38   2015-01-10 20:43:41                1   \n",
      "3         1  2015-01-10 20:33:39   2015-01-10 20:35:31                1   \n",
      "4         1  2015-01-10 20:33:39   2015-01-10 20:52:58                1   \n",
      "\n",
      "   trip_distance  pickup_longitude  pickup_latitude  RateCodeID  \\\n",
      "0           1.59        -73.993896        40.750111           1   \n",
      "1           3.30        -74.001648        40.724243           1   \n",
      "2           1.80        -73.963341        40.802788           1   \n",
      "3           0.50        -74.009087        40.713818           1   \n",
      "4           3.00        -73.971176        40.762428           1   \n",
      "\n",
      "  store_and_fwd_flag  dropoff_longitude  ...  tip_amount  tolls_amount  \\\n",
      "0                  N         -73.974785  ...        3.25           0.0   \n",
      "1                  N         -73.994415  ...        2.00           0.0   \n",
      "2                  N         -73.951820  ...        0.00           0.0   \n",
      "3                  N         -74.004326  ...        0.00           0.0   \n",
      "4                  N         -74.004181  ...        0.00           0.0   \n",
      "\n",
      "   improvement_surcharge  total_amount  pickup_borough dropoff_borough  \\\n",
      "0                    0.3         17.05       Manhattan       Manhattan   \n",
      "1                    0.3         17.80       Manhattan       Manhattan   \n",
      "2                    0.3         10.80       Manhattan       Manhattan   \n",
      "3                    0.3          4.80       Manhattan       Manhattan   \n",
      "4                    0.3         16.30       Manhattan       Manhattan   \n",
      "\n",
      "  pickup_borough_integer  dropoff_borough_integer  all_within_boroughs  \\\n",
      "0                      5                        5                 True   \n",
      "1                      5                        5                 True   \n",
      "2                      5                        5                 True   \n",
      "3                      5                        5                 True   \n",
      "4                      5                        5                 True   \n",
      "\n",
      "   interborough  \n",
      "0         False  \n",
      "1         False  \n",
      "2         False  \n",
      "3         False  \n",
      "4         False  \n",
      "\n",
      "[5 rows x 25 columns]\n",
      "VendorID                   12434190\n",
      "tpep_pickup_datetime       12434190\n",
      "tpep_dropoff_datetime      12434190\n",
      "passenger_count            12434190\n",
      "trip_distance              12434190\n",
      "pickup_longitude           12434190\n",
      "pickup_latitude            12434190\n",
      "RateCodeID                 12434190\n",
      "store_and_fwd_flag         12434190\n",
      "dropoff_longitude          12434190\n",
      "dropoff_latitude           12434190\n",
      "payment_type               12434190\n",
      "fare_amount                12434190\n",
      "extra                      12434190\n",
      "mta_tax                    12434190\n",
      "tip_amount                 12434190\n",
      "tolls_amount               12434190\n",
      "improvement_surcharge      12434190\n",
      "total_amount               12434190\n",
      "pickup_borough             12434190\n",
      "dropoff_borough            12434190\n",
      "pickup_borough_integer     12434190\n",
      "dropoff_borough_integer    12434190\n",
      "all_within_boroughs        12434190\n",
      "interborough               12434190\n",
      "pu_x                       12434190\n",
      "pu_y                       12434190\n",
      "do_x                       12434190\n",
      "do_y                       12434190\n",
      "dtype: int64\n",
      "VendorID                   12434190\n",
      "tpep_pickup_datetime       12434190\n",
      "tpep_dropoff_datetime      12434190\n",
      "passenger_count            12434190\n",
      "trip_distance              12434190\n",
      "pickup_longitude           12434190\n",
      "pickup_latitude            12434190\n",
      "RateCodeID                 12434190\n",
      "store_and_fwd_flag         12434190\n",
      "dropoff_longitude          12434190\n",
      "dropoff_latitude           12434190\n",
      "payment_type               12434190\n",
      "fare_amount                12434190\n",
      "extra                      12434190\n",
      "mta_tax                    12434190\n",
      "tip_amount                 12434190\n",
      "tolls_amount               12434190\n",
      "improvement_surcharge      12434190\n",
      "total_amount               12434190\n",
      "pickup_borough             12434190\n",
      "dropoff_borough            12434190\n",
      "pickup_borough_integer     12434190\n",
      "dropoff_borough_integer    12434190\n",
      "all_within_boroughs        12434190\n",
      "interborough               12434190\n",
      "dtype: int64\n"
     ]
    }
   ],
   "source": [
    "print(taxi_cuX_cleaned.head())\n",
    "print(taxi_cuS_cleaned.head())\n",
    "print(taxi_cuX_cleaned.count())\n",
    "print(taxi_cuS_cleaned.count())"
   ]
  },
  {
   "cell_type": "markdown",
   "metadata": {},
   "source": [
    "So far, so good.  Now let's compare each element in each column and row."
   ]
  },
  {
   "cell_type": "code",
   "execution_count": 46,
   "metadata": {},
   "outputs": [
    {
     "name": "stdout",
     "output_type": "stream",
     "text": [
      "Index(['VendorID', 'tpep_pickup_datetime', 'tpep_dropoff_datetime',\n",
      "       'passenger_count', 'trip_distance', 'pickup_longitude',\n",
      "       'pickup_latitude', 'RateCodeID', 'store_and_fwd_flag',\n",
      "       'dropoff_longitude', 'dropoff_latitude', 'payment_type', 'fare_amount',\n",
      "       'extra', 'mta_tax', 'tip_amount', 'tolls_amount',\n",
      "       'improvement_surcharge', 'total_amount', 'pickup_borough',\n",
      "       'dropoff_borough', 'pickup_borough_integer', 'dropoff_borough_integer',\n",
      "       'all_within_boroughs', 'interborough', 'pu_x', 'pu_y', 'do_x', 'do_y'],\n",
      "      dtype='object')\n",
      "Index(['VendorID', 'tpep_pickup_datetime', 'tpep_dropoff_datetime',\n",
      "       'passenger_count', 'trip_distance', 'pickup_longitude',\n",
      "       'pickup_latitude', 'RateCodeID', 'store_and_fwd_flag',\n",
      "       'dropoff_longitude', 'dropoff_latitude', 'payment_type', 'fare_amount',\n",
      "       'extra', 'mta_tax', 'tip_amount', 'tolls_amount',\n",
      "       'improvement_surcharge', 'total_amount', 'pickup_borough',\n",
      "       'dropoff_borough', 'pickup_borough_integer', 'dropoff_borough_integer',\n",
      "       'all_within_boroughs', 'interborough'],\n",
      "      dtype='object')\n",
      "# of differences in column VendorID:  0\n",
      "# of differences in column tpep_pickup_datetime:  0\n",
      "# of differences in column tpep_dropoff_datetime:  0\n",
      "# of differences in column passenger_count:  0\n",
      "# of differences in column trip_distance:  0\n",
      "# of differences in column pickup_longitude:  0\n",
      "# of differences in column pickup_latitude:  0\n",
      "# of differences in column RateCodeID:  0\n",
      "# of differences in column store_and_fwd_flag:  0\n",
      "# of differences in column dropoff_longitude:  0\n",
      "# of differences in column dropoff_latitude:  0\n",
      "# of differences in column payment_type:  0\n",
      "# of differences in column fare_amount:  0\n",
      "# of differences in column extra:  0\n",
      "# of differences in column mta_tax:  0\n",
      "# of differences in column tip_amount:  0\n",
      "# of differences in column tolls_amount:  0\n",
      "# of differences in column improvement_surcharge:  0\n",
      "# of differences in column total_amount:  0\n",
      "# of differences in column pickup_borough:  0\n",
      "# of differences in column dropoff_borough:  0\n",
      "# of differences in column pickup_borough_integer:  0\n",
      "# of differences in column dropoff_borough_integer:  0\n",
      "# of differences in column all_within_boroughs:  0\n",
      "# of differences in column interborough:  0\n"
     ]
    }
   ],
   "source": [
    "print(taxi_cuX_cleaned.columns)\n",
    "print(taxi_cuS_cleaned.columns)\n",
    "for i in range(0, len(taxi_cuS_cleaned.columns)):\n",
    "               diff = (taxi_cuX_cleaned.iloc[:,i] != taxi_cuS_cleaned.iloc[:,i]).sum()\n",
    "               print(\"# of differences in column \" + taxi_cuX_cleaned.columns[i]+ ': ', diff)"
   ]
  },
  {
   "cell_type": "markdown",
   "metadata": {},
   "source": [
    "These should all be 0.  Hooray! (if not, you didn't follow directions :) )"
   ]
  },
  {
   "cell_type": "markdown",
   "metadata": {},
   "source": [
    "# Analyzing interesting interborough behaviours of NYCers\n",
    "So now that we have cleaned data of yellow cab trips, and verified it vusially using cuXFilter, we can use cuSpatial to see who is coming from where and why. One bit of curiousness is why, unlike the rest of the region, does Rockaway/Seaside have so many dropoffs, not almost no pickups.  This happens both with interborough and intraborough travel.  It's also Janurary, so nature tourism seems...unlikely.  Let's find out where these people are coming from.\n",
    "\n",
    "To begin, we have to make a box with the latitudes and longitudes of our area of interest\n",
    "40.633869, -73.748353\n",
    "40.559571, -73.877628"
   ]
  },
  {
   "cell_type": "code",
   "execution_count": 47,
   "metadata": {},
   "outputs": [
    {
     "name": "stdout",
     "output_type": "stream",
     "text": [
      "431\n"
     ]
    }
   ],
   "source": [
    "pu_points_inside = cuspatial.window_points(\n",
    "    40.559571, -73.877628,  40.633869, -73.748353, taxi2015['pickup_latitude'], taxi2015['pickup_longitude']\n",
    ")\n",
    "print(pu_points_inside.shape[0])"
   ]
  },
  {
   "cell_type": "code",
   "execution_count": 48,
   "metadata": {},
   "outputs": [
    {
     "name": "stdout",
     "output_type": "stream",
     "text": [
      "1453\n",
      "              x          y\n",
      "0     40.625492 -73.780495\n",
      "1     40.618229 -73.779617\n",
      "2     40.596161 -73.766403\n",
      "3     40.600056 -73.763321\n",
      "4     40.597908 -73.776009\n",
      "...         ...        ...\n",
      "1448  40.593910 -73.755951\n",
      "1449  40.596855 -73.772598\n",
      "1450  40.599525 -73.782089\n",
      "1451  40.574512 -73.858978\n",
      "1452  40.590324 -73.797195\n",
      "\n",
      "[1453 rows x 2 columns]\n"
     ]
    }
   ],
   "source": [
    "do_points_inside = cuspatial.window_points(\n",
    "    40.559571, -73.877628,  40.633869, -73.748353, taxi2015['dropoff_latitude'], taxi2015['dropoff_longitude']\n",
    ")\n",
    "print(do_points_inside.shape[0])\n",
    "print(do_points_inside)"
   ]
  },
  {
   "cell_type": "markdown",
   "metadata": {},
   "source": [
    "So, that's over 3x the pickup traffic.  Where is this influx coming from?  Let's merge back the other data on these points."
   ]
  },
  {
   "cell_type": "code",
   "execution_count": 49,
   "metadata": {},
   "outputs": [],
   "source": [
    "pickups = pickups*1\n",
    "dropoffs = dropoffs*1\n",
    "taxi2015 = taxi2015.join(pickups)"
   ]
  },
  {
   "cell_type": "code",
   "execution_count": 50,
   "metadata": {},
   "outputs": [
    {
     "data": {
      "text/html": [
       "<div>\n",
       "<style scoped>\n",
       "    .dataframe tbody tr th:only-of-type {\n",
       "        vertical-align: middle;\n",
       "    }\n",
       "\n",
       "    .dataframe tbody tr th {\n",
       "        vertical-align: top;\n",
       "    }\n",
       "\n",
       "    .dataframe thead th {\n",
       "        text-align: right;\n",
       "    }\n",
       "</style>\n",
       "<table border=\"1\" class=\"dataframe\">\n",
       "  <thead>\n",
       "    <tr style=\"text-align: right;\">\n",
       "      <th></th>\n",
       "      <th>VendorID</th>\n",
       "      <th>tpep_pickup_datetime</th>\n",
       "      <th>tpep_dropoff_datetime</th>\n",
       "      <th>passenger_count</th>\n",
       "      <th>trip_distance</th>\n",
       "      <th>pickup_longitude</th>\n",
       "      <th>pickup_latitude</th>\n",
       "      <th>RateCodeID</th>\n",
       "      <th>store_and_fwd_flag</th>\n",
       "      <th>dropoff_longitude</th>\n",
       "      <th>...</th>\n",
       "      <th>interborough</th>\n",
       "      <th>pu_x</th>\n",
       "      <th>pu_y</th>\n",
       "      <th>do_x</th>\n",
       "      <th>do_y</th>\n",
       "      <th>Bronx</th>\n",
       "      <th>Staten Island</th>\n",
       "      <th>Brooklyn</th>\n",
       "      <th>Queens</th>\n",
       "      <th>Manhattan</th>\n",
       "    </tr>\n",
       "  </thead>\n",
       "  <tbody>\n",
       "    <tr>\n",
       "      <th>3488</th>\n",
       "      <td>1</td>\n",
       "      <td>2015-01-11 00:38:14</td>\n",
       "      <td>2015-01-11 00:55:13</td>\n",
       "      <td>1</td>\n",
       "      <td>2.0</td>\n",
       "      <td>-73.980522</td>\n",
       "      <td>40.744232</td>\n",
       "      <td>1</td>\n",
       "      <td>N</td>\n",
       "      <td>-73.988129</td>\n",
       "      <td>...</td>\n",
       "      <td>False</td>\n",
       "      <td>-8.235474e+06</td>\n",
       "      <td>4.974689e+06</td>\n",
       "      <td>-8.236321e+06</td>\n",
       "      <td>4.971210e+06</td>\n",
       "      <td>0</td>\n",
       "      <td>0</td>\n",
       "      <td>0</td>\n",
       "      <td>0</td>\n",
       "      <td>1</td>\n",
       "    </tr>\n",
       "    <tr>\n",
       "      <th>3489</th>\n",
       "      <td>1</td>\n",
       "      <td>2015-01-11 00:38:15</td>\n",
       "      <td>2015-01-11 00:48:17</td>\n",
       "      <td>1</td>\n",
       "      <td>2.8</td>\n",
       "      <td>0.000000</td>\n",
       "      <td>0.000000</td>\n",
       "      <td>1</td>\n",
       "      <td>N</td>\n",
       "      <td>0.000000</td>\n",
       "      <td>...</td>\n",
       "      <td>False</td>\n",
       "      <td>0.000000e+00</td>\n",
       "      <td>0.000000e+00</td>\n",
       "      <td>0.000000e+00</td>\n",
       "      <td>0.000000e+00</td>\n",
       "      <td>0</td>\n",
       "      <td>0</td>\n",
       "      <td>0</td>\n",
       "      <td>0</td>\n",
       "      <td>0</td>\n",
       "    </tr>\n",
       "    <tr>\n",
       "      <th>3490</th>\n",
       "      <td>1</td>\n",
       "      <td>2015-01-11 00:38:15</td>\n",
       "      <td>2015-01-11 01:11:20</td>\n",
       "      <td>1</td>\n",
       "      <td>12.7</td>\n",
       "      <td>-73.997078</td>\n",
       "      <td>40.736382</td>\n",
       "      <td>1</td>\n",
       "      <td>N</td>\n",
       "      <td>-73.893898</td>\n",
       "      <td>...</td>\n",
       "      <td>True</td>\n",
       "      <td>-8.237317e+06</td>\n",
       "      <td>4.973535e+06</td>\n",
       "      <td>-8.225831e+06</td>\n",
       "      <td>4.991296e+06</td>\n",
       "      <td>0</td>\n",
       "      <td>0</td>\n",
       "      <td>0</td>\n",
       "      <td>0</td>\n",
       "      <td>1</td>\n",
       "    </tr>\n",
       "    <tr>\n",
       "      <th>3491</th>\n",
       "      <td>1</td>\n",
       "      <td>2015-01-11 00:38:15</td>\n",
       "      <td>2015-01-11 00:46:33</td>\n",
       "      <td>4</td>\n",
       "      <td>1.3</td>\n",
       "      <td>-73.986359</td>\n",
       "      <td>40.739956</td>\n",
       "      <td>1</td>\n",
       "      <td>N</td>\n",
       "      <td>-74.005478</td>\n",
       "      <td>...</td>\n",
       "      <td>False</td>\n",
       "      <td>-8.236124e+06</td>\n",
       "      <td>4.974061e+06</td>\n",
       "      <td>-8.238252e+06</td>\n",
       "      <td>4.974359e+06</td>\n",
       "      <td>0</td>\n",
       "      <td>0</td>\n",
       "      <td>0</td>\n",
       "      <td>0</td>\n",
       "      <td>1</td>\n",
       "    </tr>\n",
       "    <tr>\n",
       "      <th>3492</th>\n",
       "      <td>1</td>\n",
       "      <td>2015-01-11 00:38:16</td>\n",
       "      <td>2015-01-11 00:58:56</td>\n",
       "      <td>1</td>\n",
       "      <td>4.5</td>\n",
       "      <td>-74.003876</td>\n",
       "      <td>40.732872</td>\n",
       "      <td>1</td>\n",
       "      <td>N</td>\n",
       "      <td>-73.962509</td>\n",
       "      <td>...</td>\n",
       "      <td>False</td>\n",
       "      <td>-8.238074e+06</td>\n",
       "      <td>4.973020e+06</td>\n",
       "      <td>-8.233469e+06</td>\n",
       "      <td>4.979692e+06</td>\n",
       "      <td>0</td>\n",
       "      <td>0</td>\n",
       "      <td>0</td>\n",
       "      <td>0</td>\n",
       "      <td>1</td>\n",
       "    </tr>\n",
       "  </tbody>\n",
       "</table>\n",
       "<p>5 rows × 34 columns</p>\n",
       "</div>"
      ],
      "text/plain": [
       "      VendorID tpep_pickup_datetime tpep_dropoff_datetime  passenger_count  \\\n",
       "3488         1  2015-01-11 00:38:14   2015-01-11 00:55:13                1   \n",
       "3489         1  2015-01-11 00:38:15   2015-01-11 00:48:17                1   \n",
       "3490         1  2015-01-11 00:38:15   2015-01-11 01:11:20                1   \n",
       "3491         1  2015-01-11 00:38:15   2015-01-11 00:46:33                4   \n",
       "3492         1  2015-01-11 00:38:16   2015-01-11 00:58:56                1   \n",
       "\n",
       "      trip_distance  pickup_longitude  pickup_latitude  RateCodeID  \\\n",
       "3488            2.0        -73.980522        40.744232           1   \n",
       "3489            2.8          0.000000         0.000000           1   \n",
       "3490           12.7        -73.997078        40.736382           1   \n",
       "3491            1.3        -73.986359        40.739956           1   \n",
       "3492            4.5        -74.003876        40.732872           1   \n",
       "\n",
       "     store_and_fwd_flag  dropoff_longitude  ...  interborough          pu_x  \\\n",
       "3488                  N         -73.988129  ...         False -8.235474e+06   \n",
       "3489                  N           0.000000  ...         False  0.000000e+00   \n",
       "3490                  N         -73.893898  ...          True -8.237317e+06   \n",
       "3491                  N         -74.005478  ...         False -8.236124e+06   \n",
       "3492                  N         -73.962509  ...         False -8.238074e+06   \n",
       "\n",
       "              pu_y          do_x          do_y  Bronx  Staten Island  \\\n",
       "3488  4.974689e+06 -8.236321e+06  4.971210e+06      0              0   \n",
       "3489  0.000000e+00  0.000000e+00  0.000000e+00      0              0   \n",
       "3490  4.973535e+06 -8.225831e+06  4.991296e+06      0              0   \n",
       "3491  4.974061e+06 -8.238252e+06  4.974359e+06      0              0   \n",
       "3492  4.973020e+06 -8.233469e+06  4.979692e+06      0              0   \n",
       "\n",
       "      Brooklyn  Queens  Manhattan  \n",
       "3488         0       0          1  \n",
       "3489         0       0          0  \n",
       "3490         0       0          1  \n",
       "3491         0       0          1  \n",
       "3492         0       0          1  \n",
       "\n",
       "[5 rows x 34 columns]"
      ]
     },
     "execution_count": 50,
     "metadata": {},
     "output_type": "execute_result"
    }
   ],
   "source": [
    "taxi2015.head()"
   ]
  },
  {
   "cell_type": "code",
   "execution_count": 51,
   "metadata": {},
   "outputs": [],
   "source": [
    "taxi2015['x'] = taxi2015['dropoff_latitude']\n",
    "taxi2015['y'] = taxi2015['dropoff_longitude']\n",
    "rwys = do_points_inside.merge(taxi2015)"
   ]
  },
  {
   "cell_type": "markdown",
   "metadata": {},
   "source": [
    "Let's also do some time analysis and see the frequency of rides per day.  This requires us to modify the date a bit."
   ]
  },
  {
   "cell_type": "code",
   "execution_count": 52,
   "metadata": {},
   "outputs": [],
   "source": [
    "rwys['tpep_pickup_datetime']=rwys['tpep_pickup_datetime'].str.timestamp2int(format=\"%Y-%m-%d %H:%M:%S\")"
   ]
  },
  {
   "cell_type": "code",
   "execution_count": 53,
   "metadata": {},
   "outputs": [],
   "source": [
    "rwys['tpep_pickup_datetime']=rwys['tpep_pickup_datetime'].astype('datetime64[s]')\n",
    "rwys['day_of_the_month']=rwys['tpep_pickup_datetime'].dt.day\n",
    "rwys['time_of_the_day']= rwys['tpep_pickup_datetime'].dt.hour"
   ]
  },
  {
   "cell_type": "code",
   "execution_count": 54,
   "metadata": {},
   "outputs": [
    {
     "name": "stdout",
     "output_type": "stream",
     "text": [
      "    index  day_of_the_month  # of Rides  Day of the Month\n",
      "0      20               135         135                20\n",
      "1       8                97          97                 8\n",
      "2      12                97          97                12\n",
      "3      13                94          94                13\n",
      "4      14                84          84                14\n",
      "5       9                78          78                 9\n",
      "6      10                63          63                10\n",
      "7      11                58          58                11\n",
      "8       7                51          51                 7\n",
      "9      22                48          48                22\n",
      "10     21                45          45                21\n",
      "11      4                44          44                 4\n",
      "12      6                44          44                 6\n",
      "13     17                44          44                17\n",
      "14     30                43          43                30\n",
      "15      1                41          41                 1\n",
      "16      5                39          39                 5\n",
      "17     15                39          39                15\n",
      "18     19                38          38                19\n",
      "19     29                38          38                29\n",
      "20     18                37          37                18\n",
      "21     28                37          37                28\n",
      "22     16                35          35                16\n",
      "23     24                34          34                24\n",
      "24     31                32          32                31\n",
      "25     25                31          31                25\n",
      "26     23                29          29                23\n",
      "27      2                28          28                 2\n",
      "28     26                27          27                26\n",
      "29      3                26          26                 3\n",
      "30     27                 9           9                27\n"
     ]
    }
   ],
   "source": [
    "day_freq = cudf.DataFrame()\n",
    "day_freq = rwys['day_of_the_month'].value_counts().reset_index()\n",
    "day_freq['# of Rides'] = day_freq['day_of_the_month']\n",
    "day_freq['Day of the Month'] = day_freq['index']\n",
    "print(day_freq)"
   ]
  },
  {
   "cell_type": "code",
   "execution_count": 55,
   "metadata": {},
   "outputs": [
    {
     "data": {
      "application/vnd.holoviews_exec.v0+json": "",
      "text/html": [
       "<div id='1321'>\n",
       "\n",
       "\n",
       "\n",
       "\n",
       "\n",
       "  <div class=\"bk-root\" id=\"a6537874-eac9-4ef0-8bd9-8ecdbfb63903\" data-root-id=\"1321\"></div>\n",
       "</div>\n",
       "<script type=\"application/javascript\">\n",
       "    function msg_handler(msg) {\n",
       "      var metadata = msg.metadata;\n",
       "      var buffers = msg.buffers;\n",
       "      var msg = msg.content.data;\n",
       "      if ((metadata.msg_type == \"Ready\")) {\n",
       "        if (metadata.content) {\n",
       "          console.log(\"Python callback returned following output:\", metadata.content);\n",
       "        }\n",
       "      } else if (metadata.msg_type == \"Error\") {\n",
       "        console.log(\"Python failed with the following traceback:\", metadata.traceback)\n",
       "      } else {\n",
       "        \n",
       "var plot_id = \"1321\";\n",
       "\n",
       "if ((plot_id in window.PyViz.plot_index) && (window.PyViz.plot_index[plot_id] != null)) {\n",
       "  var plot = window.PyViz.plot_index[plot_id];\n",
       "} else if ((Bokeh !== undefined) && (plot_id in Bokeh.index)) {\n",
       "  var plot = Bokeh.index[plot_id];\n",
       "}\n",
       "\n",
       "if (plot == null) {\n",
       "  return\n",
       "}\n",
       "\n",
       "if (plot_id in window.PyViz.receivers) {\n",
       "  var receiver = window.PyViz.receivers[plot_id];\n",
       "} else {\n",
       "  var receiver = new Bokeh.protocol.Receiver();\n",
       "  window.PyViz.receivers[plot_id] = receiver;\n",
       "}\n",
       "\n",
       "if ((buffers != undefined) && (buffers.length > 0)) {\n",
       "  receiver.consume(buffers[0].buffer)\n",
       "} else {\n",
       "  receiver.consume(msg)\n",
       "}\n",
       "\n",
       "const comm_msg = receiver.message;\n",
       "if ((comm_msg != null) && (Object.keys(comm_msg.content).length > 0)) {\n",
       "  plot.model.document.apply_json_patch(comm_msg.content, comm_msg.buffers)\n",
       "}\n",
       "\n",
       "      }\n",
       "    }\n",
       "    if ((window.PyViz == undefined) || (!window.PyViz.comm_manager)) {\n",
       "      console.log(\"Could not find comm manager\")\n",
       "    } else {\n",
       "      window.PyViz.comm_manager.register_target('1321', '59afb5107b9946f3959f053d51db1ae0', msg_handler);\n",
       "    }\n",
       "    \n",
       "(function(root) {\n",
       "  function embed_document(root) {\n",
       "    \n",
       "  var docs_json = {\"3e438b32-41a1-43eb-b289-e0a4b994be45\":{\"roots\":{\"references\":[{\"attributes\":{\"callback\":null},\"id\":\"1293\",\"type\":\"DataRange1d\"},{\"attributes\":{\"code\":\"\\nif (!window.PyViz) {\\n  return;\\n}\\nvar events = [];\\nvar receiver = window.PyViz.receivers['1321'];\\nif (receiver &&\\n        receiver._partial &&\\n        receiver._partial.content &&\\n        receiver._partial.content.events) {\\n    events = receiver._partial.content.events;\\n}\\n\\nfor (var event of events) {\\n  if ((event.kind === 'ModelChanged') && (event.attr === 'callback_throttle') &&\\n      (cb_obj.id === event.model.id) &&\\n      (JSON.stringify(cb_obj['callback_throttle']) === JSON.stringify(event.new))) {\\n    events.pop(events.indexOf(event))\\n    return;\\n  }\\n}\\n\\ndata = {callback_throttle: cb_obj['callback_throttle'], 'id': cb_obj.id};\\ncb_obj.event_name = 'callback_throttle';\\n\\nfunction unique_events(events) {\\n  // Processes the event queue ignoring duplicate events\\n  // of the same type\\n  var unique = [];\\n  var unique_events = [];\\n  for (var i=0; i<events.length; i++) {\\n    var _tmpevent = events[i];\\n    event = _tmpevent[0];\\n    data = _tmpevent[1];\\n    if (unique_events.indexOf(event)===-1) {\\n      unique.unshift(data);\\n      unique_events.push(event);\\n      }\\n  }\\n  return unique;\\n}\\n\\nfunction process_events(comm_status) {\\n  // Iterates over event queue and sends events via Comm\\n  var events = unique_events(comm_status.event_buffer);\\n  for (var i=0; i<events.length; i++) {\\n    var data = events[i];\\n    var comm = window.PyViz.comms[data[\\\"comm_id\\\"]];\\n    comm.send(data);\\n  }\\n  comm_status.event_buffer = [];\\n}\\n\\nfunction on_msg(msg) {\\n  // Receives acknowledgement from Python, processing event\\n  // and unblocking Comm if event queue empty\\n  var metadata = msg.metadata;\\n  var comm_id = metadata.comm_id\\n  var comm_status = window.PyViz.comm_status[comm_id];\\n  if (comm_status.event_buffer.length) {\\n    process_events(comm_status);\\n    comm_status.blocked = true;\\n    comm_status.time = Date.now()+50;\\n  } else {\\n    comm_status.blocked = false;\\n  }\\n  comm_status.event_buffer = [];\\n  if ((metadata.msg_type == \\\"Ready\\\") && metadata.content) {\\n    console.log(\\\"Python callback returned following output:\\\", metadata.content);\\n  } else if (metadata.msg_type == \\\"Error\\\") {\\n    console.log(\\\"Python failed with the following traceback:\\\", metadata.traceback)\\n  }\\n}\\n\\n// Initialize Comm\\nif ((window.PyViz == undefined) || (window.PyViz.comm_manager == undefined)) { return }\\nvar comm = window.PyViz.comm_manager.get_client_comm(\\\"1321\\\", \\\"f16e1f9d32dc4334bdbc57e413cded75\\\", on_msg);\\nif (!comm) {\\n  return\\n}\\n\\n// Initialize event queue and timeouts for Comm\\nvar comm_status = window.PyViz.comm_status[\\\"f16e1f9d32dc4334bdbc57e413cded75\\\"];\\nif (comm_status === undefined) {\\n  comm_status = {event_buffer: [], blocked: false, time: Date.now()}\\n  window.PyViz.comm_status[\\\"f16e1f9d32dc4334bdbc57e413cded75\\\"] = comm_status\\n}\\n\\n// Add current event to queue and process queue if not blocked\\nvar event_name = cb_obj.event_name;\\nif (event_name === undefined) {\\n  // we are a widget not an event... fake a key.\\n  event_name = Object.keys(data).join(',');\\n}\\ndata['comm_id'] = \\\"f16e1f9d32dc4334bdbc57e413cded75\\\";\\nvar timeout = comm_status.time + 20000;\\nif ((comm_status.blocked && (Date.now() < timeout))) {\\n  comm_status.event_buffer.unshift([event_name, data]);\\n} else {\\n  comm_status.event_buffer.unshift([event_name, data]);\\n  setTimeout(function() { process_events(comm_status); }, 50);\\n  comm_status.blocked = true;\\n  comm_status.time = Date.now()+50;\\n}\\n\"},\"id\":\"1332\",\"type\":\"CustomJS\"},{\"attributes\":{\"code\":\"\\nif (!window.PyViz) {\\n  return;\\n}\\nvar events = [];\\nvar receiver = window.PyViz.receivers['1321'];\\nif (receiver &&\\n        receiver._partial &&\\n        receiver._partial.content &&\\n        receiver._partial.content.events) {\\n    events = receiver._partial.content.events;\\n}\\n\\nfor (var event of events) {\\n  if ((event.kind === 'ModelChanged') && (event.attr === 'bar_color') &&\\n      (cb_obj.id === event.model.id) &&\\n      (JSON.stringify(cb_obj['bar_color']) === JSON.stringify(event.new))) {\\n    events.pop(events.indexOf(event))\\n    return;\\n  }\\n}\\n\\ndata = {bar_color: cb_obj['bar_color'], 'id': cb_obj.id};\\ncb_obj.event_name = 'bar_color';\\n\\nfunction unique_events(events) {\\n  // Processes the event queue ignoring duplicate events\\n  // of the same type\\n  var unique = [];\\n  var unique_events = [];\\n  for (var i=0; i<events.length; i++) {\\n    var _tmpevent = events[i];\\n    event = _tmpevent[0];\\n    data = _tmpevent[1];\\n    if (unique_events.indexOf(event)===-1) {\\n      unique.unshift(data);\\n      unique_events.push(event);\\n      }\\n  }\\n  return unique;\\n}\\n\\nfunction process_events(comm_status) {\\n  // Iterates over event queue and sends events via Comm\\n  var events = unique_events(comm_status.event_buffer);\\n  for (var i=0; i<events.length; i++) {\\n    var data = events[i];\\n    var comm = window.PyViz.comms[data[\\\"comm_id\\\"]];\\n    comm.send(data);\\n  }\\n  comm_status.event_buffer = [];\\n}\\n\\nfunction on_msg(msg) {\\n  // Receives acknowledgement from Python, processing event\\n  // and unblocking Comm if event queue empty\\n  var metadata = msg.metadata;\\n  var comm_id = metadata.comm_id\\n  var comm_status = window.PyViz.comm_status[comm_id];\\n  if (comm_status.event_buffer.length) {\\n    process_events(comm_status);\\n    comm_status.blocked = true;\\n    comm_status.time = Date.now()+50;\\n  } else {\\n    comm_status.blocked = false;\\n  }\\n  comm_status.event_buffer = [];\\n  if ((metadata.msg_type == \\\"Ready\\\") && metadata.content) {\\n    console.log(\\\"Python callback returned following output:\\\", metadata.content);\\n  } else if (metadata.msg_type == \\\"Error\\\") {\\n    console.log(\\\"Python failed with the following traceback:\\\", metadata.traceback)\\n  }\\n}\\n\\n// Initialize Comm\\nif ((window.PyViz == undefined) || (window.PyViz.comm_manager == undefined)) { return }\\nvar comm = window.PyViz.comm_manager.get_client_comm(\\\"1321\\\", \\\"f16e1f9d32dc4334bdbc57e413cded75\\\", on_msg);\\nif (!comm) {\\n  return\\n}\\n\\n// Initialize event queue and timeouts for Comm\\nvar comm_status = window.PyViz.comm_status[\\\"f16e1f9d32dc4334bdbc57e413cded75\\\"];\\nif (comm_status === undefined) {\\n  comm_status = {event_buffer: [], blocked: false, time: Date.now()}\\n  window.PyViz.comm_status[\\\"f16e1f9d32dc4334bdbc57e413cded75\\\"] = comm_status\\n}\\n\\n// Add current event to queue and process queue if not blocked\\nvar event_name = cb_obj.event_name;\\nif (event_name === undefined) {\\n  // we are a widget not an event... fake a key.\\n  event_name = Object.keys(data).join(',');\\n}\\ndata['comm_id'] = \\\"f16e1f9d32dc4334bdbc57e413cded75\\\";\\nvar timeout = comm_status.time + 20000;\\nif ((comm_status.blocked && (Date.now() < timeout))) {\\n  comm_status.event_buffer.unshift([event_name, data]);\\n} else {\\n  comm_status.event_buffer.unshift([event_name, data]);\\n  setTimeout(function() { process_events(comm_status); }, 50);\\n  comm_status.blocked = true;\\n  comm_status.time = Date.now()+50;\\n}\\n\"},\"id\":\"1330\",\"type\":\"CustomJS\"},{\"attributes\":{\"code\":\"\\nif (!window.PyViz) {\\n  return;\\n}\\nvar events = [];\\nvar receiver = window.PyViz.receivers['1321'];\\nif (receiver &&\\n        receiver._partial &&\\n        receiver._partial.content &&\\n        receiver._partial.content.events) {\\n    events = receiver._partial.content.events;\\n}\\n\\nfor (var event of events) {\\n  if ((event.kind === 'ModelChanged') && (event.attr === 'callback_policy') &&\\n      (cb_obj.id === event.model.id) &&\\n      (JSON.stringify(cb_obj['callback_policy']) === JSON.stringify(event.new))) {\\n    events.pop(events.indexOf(event))\\n    return;\\n  }\\n}\\n\\ndata = {callback_policy: cb_obj['callback_policy'], 'id': cb_obj.id};\\ncb_obj.event_name = 'callback_policy';\\n\\nfunction unique_events(events) {\\n  // Processes the event queue ignoring duplicate events\\n  // of the same type\\n  var unique = [];\\n  var unique_events = [];\\n  for (var i=0; i<events.length; i++) {\\n    var _tmpevent = events[i];\\n    event = _tmpevent[0];\\n    data = _tmpevent[1];\\n    if (unique_events.indexOf(event)===-1) {\\n      unique.unshift(data);\\n      unique_events.push(event);\\n      }\\n  }\\n  return unique;\\n}\\n\\nfunction process_events(comm_status) {\\n  // Iterates over event queue and sends events via Comm\\n  var events = unique_events(comm_status.event_buffer);\\n  for (var i=0; i<events.length; i++) {\\n    var data = events[i];\\n    var comm = window.PyViz.comms[data[\\\"comm_id\\\"]];\\n    comm.send(data);\\n  }\\n  comm_status.event_buffer = [];\\n}\\n\\nfunction on_msg(msg) {\\n  // Receives acknowledgement from Python, processing event\\n  // and unblocking Comm if event queue empty\\n  var metadata = msg.metadata;\\n  var comm_id = metadata.comm_id\\n  var comm_status = window.PyViz.comm_status[comm_id];\\n  if (comm_status.event_buffer.length) {\\n    process_events(comm_status);\\n    comm_status.blocked = true;\\n    comm_status.time = Date.now()+50;\\n  } else {\\n    comm_status.blocked = false;\\n  }\\n  comm_status.event_buffer = [];\\n  if ((metadata.msg_type == \\\"Ready\\\") && metadata.content) {\\n    console.log(\\\"Python callback returned following output:\\\", metadata.content);\\n  } else if (metadata.msg_type == \\\"Error\\\") {\\n    console.log(\\\"Python failed with the following traceback:\\\", metadata.traceback)\\n  }\\n}\\n\\n// Initialize Comm\\nif ((window.PyViz == undefined) || (window.PyViz.comm_manager == undefined)) { return }\\nvar comm = window.PyViz.comm_manager.get_client_comm(\\\"1321\\\", \\\"f16e1f9d32dc4334bdbc57e413cded75\\\", on_msg);\\nif (!comm) {\\n  return\\n}\\n\\n// Initialize event queue and timeouts for Comm\\nvar comm_status = window.PyViz.comm_status[\\\"f16e1f9d32dc4334bdbc57e413cded75\\\"];\\nif (comm_status === undefined) {\\n  comm_status = {event_buffer: [], blocked: false, time: Date.now()}\\n  window.PyViz.comm_status[\\\"f16e1f9d32dc4334bdbc57e413cded75\\\"] = comm_status\\n}\\n\\n// Add current event to queue and process queue if not blocked\\nvar event_name = cb_obj.event_name;\\nif (event_name === undefined) {\\n  // we are a widget not an event... fake a key.\\n  event_name = Object.keys(data).join(',');\\n}\\ndata['comm_id'] = \\\"f16e1f9d32dc4334bdbc57e413cded75\\\";\\nvar timeout = comm_status.time + 20000;\\nif ((comm_status.blocked && (Date.now() < timeout))) {\\n  comm_status.event_buffer.unshift([event_name, data]);\\n} else {\\n  comm_status.event_buffer.unshift([event_name, data]);\\n  setTimeout(function() { process_events(comm_status); }, 50);\\n  comm_status.blocked = true;\\n  comm_status.time = Date.now()+50;\\n}\\n\"},\"id\":\"1331\",\"type\":\"CustomJS\"},{\"attributes\":{\"callback\":null,\"data\":{\"top\":{\"__ndarray__\":\"AAAAAACAREAAAAAAAAA8QAAAAAAAADpAAAAAAAAARkAAAAAAAIBDQAAAAAAAAEZAAAAAAACASUAAAAAAAEBYQAAAAAAAgFNAAAAAAACAT0AAAAAAAABNQAAAAAAAQFhAAAAAAACAV0AAAAAAAABVQAAAAAAAgENAAAAAAACAQUAAAAAAAABGQAAAAAAAgEJAAAAAAAAAQ0AAAAAAAOBgQAAAAAAAgEZAAAAAAAAASEAAAAAAAAA9QAAAAAAAAEFAAAAAAAAAP0AAAAAAAAA7QAAAAAAAACJAAAAAAACAQkAAAAAAAABDQAAAAAAAgEVAAAAAAAAAQEA=\",\"dtype\":\"float64\",\"shape\":[31]},\"x\":{\"__ndarray__\":\"AAAAAAAAAAAAAAAAAADwPwAAAAAAAABAAAAAAAAACEAAAAAAAAAQQAAAAAAAABRAAAAAAAAAGEAAAAAAAAAcQAAAAAAAACBAAAAAAAAAIkAAAAAAAAAkQAAAAAAAACZAAAAAAAAAKEAAAAAAAAAqQAAAAAAAACxAAAAAAAAALkAAAAAAAAAwQAAAAAAAADFAAAAAAAAAMkAAAAAAAAAzQAAAAAAAADRAAAAAAAAANUAAAAAAAAA2QAAAAAAAADdAAAAAAAAAOEAAAAAAAAA5QAAAAAAAADpAAAAAAAAAO0AAAAAAAAA8QAAAAAAAAD1AAAAAAAAAPkA=\",\"dtype\":\"float64\",\"shape\":[31]}},\"selected\":{\"id\":\"1327\",\"type\":\"Selection\"},\"selection_policy\":{\"id\":\"1328\",\"type\":\"UnionRenderers\"}},\"id\":\"1287\",\"type\":\"ColumnDataSource\"},{\"attributes\":{\"callback\":null},\"id\":\"1291\",\"type\":\"DataRange1d\"},{\"attributes\":{\"code\":\"\\nif (!window.PyViz) {\\n  return;\\n}\\nvar events = [];\\nvar receiver = window.PyViz.receivers['1321'];\\nif (receiver &&\\n        receiver._partial &&\\n        receiver._partial.content &&\\n        receiver._partial.content.events) {\\n    events = receiver._partial.content.events;\\n}\\n\\nfor (var event of events) {\\n  if ((event.kind === 'ModelChanged') && (event.attr === 'orientation') &&\\n      (cb_obj.id === event.model.id) &&\\n      (JSON.stringify(cb_obj['orientation']) === JSON.stringify(event.new))) {\\n    events.pop(events.indexOf(event))\\n    return;\\n  }\\n}\\n\\ndata = {orientation: cb_obj['orientation'], 'id': cb_obj.id};\\ncb_obj.event_name = 'orientation';\\n\\nfunction unique_events(events) {\\n  // Processes the event queue ignoring duplicate events\\n  // of the same type\\n  var unique = [];\\n  var unique_events = [];\\n  for (var i=0; i<events.length; i++) {\\n    var _tmpevent = events[i];\\n    event = _tmpevent[0];\\n    data = _tmpevent[1];\\n    if (unique_events.indexOf(event)===-1) {\\n      unique.unshift(data);\\n      unique_events.push(event);\\n      }\\n  }\\n  return unique;\\n}\\n\\nfunction process_events(comm_status) {\\n  // Iterates over event queue and sends events via Comm\\n  var events = unique_events(comm_status.event_buffer);\\n  for (var i=0; i<events.length; i++) {\\n    var data = events[i];\\n    var comm = window.PyViz.comms[data[\\\"comm_id\\\"]];\\n    comm.send(data);\\n  }\\n  comm_status.event_buffer = [];\\n}\\n\\nfunction on_msg(msg) {\\n  // Receives acknowledgement from Python, processing event\\n  // and unblocking Comm if event queue empty\\n  var metadata = msg.metadata;\\n  var comm_id = metadata.comm_id\\n  var comm_status = window.PyViz.comm_status[comm_id];\\n  if (comm_status.event_buffer.length) {\\n    process_events(comm_status);\\n    comm_status.blocked = true;\\n    comm_status.time = Date.now()+50;\\n  } else {\\n    comm_status.blocked = false;\\n  }\\n  comm_status.event_buffer = [];\\n  if ((metadata.msg_type == \\\"Ready\\\") && metadata.content) {\\n    console.log(\\\"Python callback returned following output:\\\", metadata.content);\\n  } else if (metadata.msg_type == \\\"Error\\\") {\\n    console.log(\\\"Python failed with the following traceback:\\\", metadata.traceback)\\n  }\\n}\\n\\n// Initialize Comm\\nif ((window.PyViz == undefined) || (window.PyViz.comm_manager == undefined)) { return }\\nvar comm = window.PyViz.comm_manager.get_client_comm(\\\"1321\\\", \\\"f16e1f9d32dc4334bdbc57e413cded75\\\", on_msg);\\nif (!comm) {\\n  return\\n}\\n\\n// Initialize event queue and timeouts for Comm\\nvar comm_status = window.PyViz.comm_status[\\\"f16e1f9d32dc4334bdbc57e413cded75\\\"];\\nif (comm_status === undefined) {\\n  comm_status = {event_buffer: [], blocked: false, time: Date.now()}\\n  window.PyViz.comm_status[\\\"f16e1f9d32dc4334bdbc57e413cded75\\\"] = comm_status\\n}\\n\\n// Add current event to queue and process queue if not blocked\\nvar event_name = cb_obj.event_name;\\nif (event_name === undefined) {\\n  // we are a widget not an event... fake a key.\\n  event_name = Object.keys(data).join(',');\\n}\\ndata['comm_id'] = \\\"f16e1f9d32dc4334bdbc57e413cded75\\\";\\nvar timeout = comm_status.time + 20000;\\nif ((comm_status.blocked && (Date.now() < timeout))) {\\n  comm_status.event_buffer.unshift([event_name, data]);\\n} else {\\n  comm_status.event_buffer.unshift([event_name, data]);\\n  setTimeout(function() { process_events(comm_status); }, 50);\\n  comm_status.blocked = true;\\n  comm_status.time = Date.now()+50;\\n}\\n\"},\"id\":\"1337\",\"type\":\"CustomJS\"},{\"attributes\":{},\"id\":\"1300\",\"type\":\"BasicTicker\"},{\"attributes\":{\"below\":[{\"id\":\"1299\",\"type\":\"LinearAxis\"}],\"center\":[{\"id\":\"1303\",\"type\":\"Grid\"},{\"id\":\"1308\",\"type\":\"Grid\"}],\"left\":[{\"id\":\"1304\",\"type\":\"LinearAxis\"}],\"renderers\":[{\"id\":\"1319\",\"type\":\"GlyphRenderer\"}],\"subscribed_events\":[\"reset\"],\"title\":{\"id\":\"1289\",\"type\":\"Title\"},\"toolbar\":{\"id\":\"1312\",\"type\":\"Toolbar\"},\"x_range\":{\"id\":\"1291\",\"type\":\"DataRange1d\"},\"x_scale\":{\"id\":\"1295\",\"type\":\"LinearScale\"},\"y_range\":{\"id\":\"1293\",\"type\":\"DataRange1d\"},\"y_scale\":{\"id\":\"1297\",\"type\":\"LinearScale\"}},\"id\":\"1288\",\"subtype\":\"Figure\",\"type\":\"Plot\"},{\"attributes\":{\"code\":\"\\nif (!window.PyViz) {\\n  return;\\n}\\nvar events = [];\\nvar receiver = window.PyViz.receivers['1321'];\\nif (receiver &&\\n        receiver._partial &&\\n        receiver._partial.content &&\\n        receiver._partial.content.events) {\\n    events = receiver._partial.content.events;\\n}\\n\\nfor (var event of events) {\\n  if ((event.kind === 'ModelChanged') && (event.attr === 'title') &&\\n      (cb_obj.id === event.model.id) &&\\n      (JSON.stringify(cb_obj['title']) === JSON.stringify(event.new))) {\\n    events.pop(events.indexOf(event))\\n    return;\\n  }\\n}\\n\\ndata = {title: cb_obj['title'], 'id': cb_obj.id};\\ncb_obj.event_name = 'title';\\n\\nfunction unique_events(events) {\\n  // Processes the event queue ignoring duplicate events\\n  // of the same type\\n  var unique = [];\\n  var unique_events = [];\\n  for (var i=0; i<events.length; i++) {\\n    var _tmpevent = events[i];\\n    event = _tmpevent[0];\\n    data = _tmpevent[1];\\n    if (unique_events.indexOf(event)===-1) {\\n      unique.unshift(data);\\n      unique_events.push(event);\\n      }\\n  }\\n  return unique;\\n}\\n\\nfunction process_events(comm_status) {\\n  // Iterates over event queue and sends events via Comm\\n  var events = unique_events(comm_status.event_buffer);\\n  for (var i=0; i<events.length; i++) {\\n    var data = events[i];\\n    var comm = window.PyViz.comms[data[\\\"comm_id\\\"]];\\n    comm.send(data);\\n  }\\n  comm_status.event_buffer = [];\\n}\\n\\nfunction on_msg(msg) {\\n  // Receives acknowledgement from Python, processing event\\n  // and unblocking Comm if event queue empty\\n  var metadata = msg.metadata;\\n  var comm_id = metadata.comm_id\\n  var comm_status = window.PyViz.comm_status[comm_id];\\n  if (comm_status.event_buffer.length) {\\n    process_events(comm_status);\\n    comm_status.blocked = true;\\n    comm_status.time = Date.now()+50;\\n  } else {\\n    comm_status.blocked = false;\\n  }\\n  comm_status.event_buffer = [];\\n  if ((metadata.msg_type == \\\"Ready\\\") && metadata.content) {\\n    console.log(\\\"Python callback returned following output:\\\", metadata.content);\\n  } else if (metadata.msg_type == \\\"Error\\\") {\\n    console.log(\\\"Python failed with the following traceback:\\\", metadata.traceback)\\n  }\\n}\\n\\n// Initialize Comm\\nif ((window.PyViz == undefined) || (window.PyViz.comm_manager == undefined)) { return }\\nvar comm = window.PyViz.comm_manager.get_client_comm(\\\"1321\\\", \\\"f16e1f9d32dc4334bdbc57e413cded75\\\", on_msg);\\nif (!comm) {\\n  return\\n}\\n\\n// Initialize event queue and timeouts for Comm\\nvar comm_status = window.PyViz.comm_status[\\\"f16e1f9d32dc4334bdbc57e413cded75\\\"];\\nif (comm_status === undefined) {\\n  comm_status = {event_buffer: [], blocked: false, time: Date.now()}\\n  window.PyViz.comm_status[\\\"f16e1f9d32dc4334bdbc57e413cded75\\\"] = comm_status\\n}\\n\\n// Add current event to queue and process queue if not blocked\\nvar event_name = cb_obj.event_name;\\nif (event_name === undefined) {\\n  // we are a widget not an event... fake a key.\\n  event_name = Object.keys(data).join(',');\\n}\\ndata['comm_id'] = \\\"f16e1f9d32dc4334bdbc57e413cded75\\\";\\nvar timeout = comm_status.time + 20000;\\nif ((comm_status.blocked && (Date.now() < timeout))) {\\n  comm_status.event_buffer.unshift([event_name, data]);\\n} else {\\n  comm_status.event_buffer.unshift([event_name, data]);\\n  setTimeout(function() { process_events(comm_status); }, 50);\\n  comm_status.blocked = true;\\n  comm_status.time = Date.now()+50;\\n}\\n\"},\"id\":\"1336\",\"type\":\"CustomJS\"},{\"attributes\":{},\"id\":\"1323\",\"type\":\"BasicTickFormatter\"},{\"attributes\":{\"code\":\"\\nif (!window.PyViz) {\\n  return;\\n}\\nvar events = [];\\nvar receiver = window.PyViz.receivers['1321'];\\nif (receiver &&\\n        receiver._partial &&\\n        receiver._partial.content &&\\n        receiver._partial.content.events) {\\n    events = receiver._partial.content.events;\\n}\\n\\nfor (var event of events) {\\n  if ((event.kind === 'ModelChanged') && (event.attr === 'end') &&\\n      (cb_obj.id === event.model.id) &&\\n      (JSON.stringify(cb_obj['end']) === JSON.stringify(event.new))) {\\n    events.pop(events.indexOf(event))\\n    return;\\n  }\\n}\\n\\ndata = {end: cb_obj['end'], 'id': cb_obj.id};\\ncb_obj.event_name = 'end';\\n\\nfunction unique_events(events) {\\n  // Processes the event queue ignoring duplicate events\\n  // of the same type\\n  var unique = [];\\n  var unique_events = [];\\n  for (var i=0; i<events.length; i++) {\\n    var _tmpevent = events[i];\\n    event = _tmpevent[0];\\n    data = _tmpevent[1];\\n    if (unique_events.indexOf(event)===-1) {\\n      unique.unshift(data);\\n      unique_events.push(event);\\n      }\\n  }\\n  return unique;\\n}\\n\\nfunction process_events(comm_status) {\\n  // Iterates over event queue and sends events via Comm\\n  var events = unique_events(comm_status.event_buffer);\\n  for (var i=0; i<events.length; i++) {\\n    var data = events[i];\\n    var comm = window.PyViz.comms[data[\\\"comm_id\\\"]];\\n    comm.send(data);\\n  }\\n  comm_status.event_buffer = [];\\n}\\n\\nfunction on_msg(msg) {\\n  // Receives acknowledgement from Python, processing event\\n  // and unblocking Comm if event queue empty\\n  var metadata = msg.metadata;\\n  var comm_id = metadata.comm_id\\n  var comm_status = window.PyViz.comm_status[comm_id];\\n  if (comm_status.event_buffer.length) {\\n    process_events(comm_status);\\n    comm_status.blocked = true;\\n    comm_status.time = Date.now()+50;\\n  } else {\\n    comm_status.blocked = false;\\n  }\\n  comm_status.event_buffer = [];\\n  if ((metadata.msg_type == \\\"Ready\\\") && metadata.content) {\\n    console.log(\\\"Python callback returned following output:\\\", metadata.content);\\n  } else if (metadata.msg_type == \\\"Error\\\") {\\n    console.log(\\\"Python failed with the following traceback:\\\", metadata.traceback)\\n  }\\n}\\n\\n// Initialize Comm\\nif ((window.PyViz == undefined) || (window.PyViz.comm_manager == undefined)) { return }\\nvar comm = window.PyViz.comm_manager.get_client_comm(\\\"1321\\\", \\\"f16e1f9d32dc4334bdbc57e413cded75\\\", on_msg);\\nif (!comm) {\\n  return\\n}\\n\\n// Initialize event queue and timeouts for Comm\\nvar comm_status = window.PyViz.comm_status[\\\"f16e1f9d32dc4334bdbc57e413cded75\\\"];\\nif (comm_status === undefined) {\\n  comm_status = {event_buffer: [], blocked: false, time: Date.now()}\\n  window.PyViz.comm_status[\\\"f16e1f9d32dc4334bdbc57e413cded75\\\"] = comm_status\\n}\\n\\n// Add current event to queue and process queue if not blocked\\nvar event_name = cb_obj.event_name;\\nif (event_name === undefined) {\\n  // we are a widget not an event... fake a key.\\n  event_name = Object.keys(data).join(',');\\n}\\ndata['comm_id'] = \\\"f16e1f9d32dc4334bdbc57e413cded75\\\";\\nvar timeout = comm_status.time + 20000;\\nif ((comm_status.blocked && (Date.now() < timeout))) {\\n  comm_status.event_buffer.unshift([event_name, data]);\\n} else {\\n  comm_status.event_buffer.unshift([event_name, data]);\\n  setTimeout(function() { process_events(comm_status); }, 50);\\n  comm_status.blocked = true;\\n  comm_status.time = Date.now()+50;\\n}\\n\"},\"id\":\"1335\",\"type\":\"CustomJS\"},{\"attributes\":{},\"id\":\"1297\",\"type\":\"LinearScale\"},{\"attributes\":{\"code\":\"\\nif (!window.PyViz) {\\n  return;\\n}\\nvar events = [];\\nvar receiver = window.PyViz.receivers['1321'];\\nif (receiver &&\\n        receiver._partial &&\\n        receiver._partial.content &&\\n        receiver._partial.content.events) {\\n    events = receiver._partial.content.events;\\n}\\n\\nfor (var event of events) {\\n  if ((event.kind === 'ModelChanged') && (event.attr === 'disabled') &&\\n      (cb_obj.id === event.model.id) &&\\n      (JSON.stringify(cb_obj['disabled']) === JSON.stringify(event.new))) {\\n    events.pop(events.indexOf(event))\\n    return;\\n  }\\n}\\n\\ndata = {disabled: cb_obj['disabled'], 'id': cb_obj.id};\\ncb_obj.event_name = 'disabled';\\n\\nfunction unique_events(events) {\\n  // Processes the event queue ignoring duplicate events\\n  // of the same type\\n  var unique = [];\\n  var unique_events = [];\\n  for (var i=0; i<events.length; i++) {\\n    var _tmpevent = events[i];\\n    event = _tmpevent[0];\\n    data = _tmpevent[1];\\n    if (unique_events.indexOf(event)===-1) {\\n      unique.unshift(data);\\n      unique_events.push(event);\\n      }\\n  }\\n  return unique;\\n}\\n\\nfunction process_events(comm_status) {\\n  // Iterates over event queue and sends events via Comm\\n  var events = unique_events(comm_status.event_buffer);\\n  for (var i=0; i<events.length; i++) {\\n    var data = events[i];\\n    var comm = window.PyViz.comms[data[\\\"comm_id\\\"]];\\n    comm.send(data);\\n  }\\n  comm_status.event_buffer = [];\\n}\\n\\nfunction on_msg(msg) {\\n  // Receives acknowledgement from Python, processing event\\n  // and unblocking Comm if event queue empty\\n  var metadata = msg.metadata;\\n  var comm_id = metadata.comm_id\\n  var comm_status = window.PyViz.comm_status[comm_id];\\n  if (comm_status.event_buffer.length) {\\n    process_events(comm_status);\\n    comm_status.blocked = true;\\n    comm_status.time = Date.now()+50;\\n  } else {\\n    comm_status.blocked = false;\\n  }\\n  comm_status.event_buffer = [];\\n  if ((metadata.msg_type == \\\"Ready\\\") && metadata.content) {\\n    console.log(\\\"Python callback returned following output:\\\", metadata.content);\\n  } else if (metadata.msg_type == \\\"Error\\\") {\\n    console.log(\\\"Python failed with the following traceback:\\\", metadata.traceback)\\n  }\\n}\\n\\n// Initialize Comm\\nif ((window.PyViz == undefined) || (window.PyViz.comm_manager == undefined)) { return }\\nvar comm = window.PyViz.comm_manager.get_client_comm(\\\"1321\\\", \\\"f16e1f9d32dc4334bdbc57e413cded75\\\", on_msg);\\nif (!comm) {\\n  return\\n}\\n\\n// Initialize event queue and timeouts for Comm\\nvar comm_status = window.PyViz.comm_status[\\\"f16e1f9d32dc4334bdbc57e413cded75\\\"];\\nif (comm_status === undefined) {\\n  comm_status = {event_buffer: [], blocked: false, time: Date.now()}\\n  window.PyViz.comm_status[\\\"f16e1f9d32dc4334bdbc57e413cded75\\\"] = comm_status\\n}\\n\\n// Add current event to queue and process queue if not blocked\\nvar event_name = cb_obj.event_name;\\nif (event_name === undefined) {\\n  // we are a widget not an event... fake a key.\\n  event_name = Object.keys(data).join(',');\\n}\\ndata['comm_id'] = \\\"f16e1f9d32dc4334bdbc57e413cded75\\\";\\nvar timeout = comm_status.time + 20000;\\nif ((comm_status.blocked && (Date.now() < timeout))) {\\n  comm_status.event_buffer.unshift([event_name, data]);\\n} else {\\n  comm_status.event_buffer.unshift([event_name, data]);\\n  setTimeout(function() { process_events(comm_status); }, 50);\\n  comm_status.blocked = true;\\n  comm_status.time = Date.now()+50;\\n}\\n\"},\"id\":\"1334\",\"type\":\"CustomJS\"},{\"attributes\":{},\"id\":\"1295\",\"type\":\"LinearScale\"},{\"attributes\":{},\"id\":\"1310\",\"type\":\"WheelZoomTool\"},{\"attributes\":{\"text\":\"Day of the Month\"},\"id\":\"1289\",\"type\":\"Title\"},{\"attributes\":{\"code\":\"\\nif (!window.PyViz) {\\n  return;\\n}\\nvar events = [];\\nvar receiver = window.PyViz.receivers['1321'];\\nif (receiver &&\\n        receiver._partial &&\\n        receiver._partial.content &&\\n        receiver._partial.content.events) {\\n    events = receiver._partial.content.events;\\n}\\n\\nfor (var event of events) {\\n  if ((event.kind === 'ModelChanged') && (event.attr === 'show_value') &&\\n      (cb_obj.id === event.model.id) &&\\n      (JSON.stringify(cb_obj['show_value']) === JSON.stringify(event.new))) {\\n    events.pop(events.indexOf(event))\\n    return;\\n  }\\n}\\n\\ndata = {show_value: cb_obj['show_value'], 'id': cb_obj.id};\\ncb_obj.event_name = 'show_value';\\n\\nfunction unique_events(events) {\\n  // Processes the event queue ignoring duplicate events\\n  // of the same type\\n  var unique = [];\\n  var unique_events = [];\\n  for (var i=0; i<events.length; i++) {\\n    var _tmpevent = events[i];\\n    event = _tmpevent[0];\\n    data = _tmpevent[1];\\n    if (unique_events.indexOf(event)===-1) {\\n      unique.unshift(data);\\n      unique_events.push(event);\\n      }\\n  }\\n  return unique;\\n}\\n\\nfunction process_events(comm_status) {\\n  // Iterates over event queue and sends events via Comm\\n  var events = unique_events(comm_status.event_buffer);\\n  for (var i=0; i<events.length; i++) {\\n    var data = events[i];\\n    var comm = window.PyViz.comms[data[\\\"comm_id\\\"]];\\n    comm.send(data);\\n  }\\n  comm_status.event_buffer = [];\\n}\\n\\nfunction on_msg(msg) {\\n  // Receives acknowledgement from Python, processing event\\n  // and unblocking Comm if event queue empty\\n  var metadata = msg.metadata;\\n  var comm_id = metadata.comm_id\\n  var comm_status = window.PyViz.comm_status[comm_id];\\n  if (comm_status.event_buffer.length) {\\n    process_events(comm_status);\\n    comm_status.blocked = true;\\n    comm_status.time = Date.now()+50;\\n  } else {\\n    comm_status.blocked = false;\\n  }\\n  comm_status.event_buffer = [];\\n  if ((metadata.msg_type == \\\"Ready\\\") && metadata.content) {\\n    console.log(\\\"Python callback returned following output:\\\", metadata.content);\\n  } else if (metadata.msg_type == \\\"Error\\\") {\\n    console.log(\\\"Python failed with the following traceback:\\\", metadata.traceback)\\n  }\\n}\\n\\n// Initialize Comm\\nif ((window.PyViz == undefined) || (window.PyViz.comm_manager == undefined)) { return }\\nvar comm = window.PyViz.comm_manager.get_client_comm(\\\"1321\\\", \\\"f16e1f9d32dc4334bdbc57e413cded75\\\", on_msg);\\nif (!comm) {\\n  return\\n}\\n\\n// Initialize event queue and timeouts for Comm\\nvar comm_status = window.PyViz.comm_status[\\\"f16e1f9d32dc4334bdbc57e413cded75\\\"];\\nif (comm_status === undefined) {\\n  comm_status = {event_buffer: [], blocked: false, time: Date.now()}\\n  window.PyViz.comm_status[\\\"f16e1f9d32dc4334bdbc57e413cded75\\\"] = comm_status\\n}\\n\\n// Add current event to queue and process queue if not blocked\\nvar event_name = cb_obj.event_name;\\nif (event_name === undefined) {\\n  // we are a widget not an event... fake a key.\\n  event_name = Object.keys(data).join(',');\\n}\\ndata['comm_id'] = \\\"f16e1f9d32dc4334bdbc57e413cded75\\\";\\nvar timeout = comm_status.time + 20000;\\nif ((comm_status.blocked && (Date.now() < timeout))) {\\n  comm_status.event_buffer.unshift([event_name, data]);\\n} else {\\n  comm_status.event_buffer.unshift([event_name, data]);\\n  setTimeout(function() { process_events(comm_status); }, 50);\\n  comm_status.blocked = true;\\n  comm_status.time = Date.now()+50;\\n}\\n\"},\"id\":\"1338\",\"type\":\"CustomJS\"},{\"attributes\":{},\"id\":\"1328\",\"type\":\"UnionRenderers\"},{\"attributes\":{\"code\":\"\\nif (!window.PyViz) {\\n  return;\\n}\\nvar events = [];\\nvar receiver = window.PyViz.receivers['1321'];\\nif (receiver &&\\n        receiver._partial &&\\n        receiver._partial.content &&\\n        receiver._partial.content.events) {\\n    events = receiver._partial.content.events;\\n}\\n\\nfor (var event of events) {\\n  if ((event.kind === 'ModelChanged') && (event.attr === 'direction') &&\\n      (cb_obj.id === event.model.id) &&\\n      (JSON.stringify(cb_obj['direction']) === JSON.stringify(event.new))) {\\n    events.pop(events.indexOf(event))\\n    return;\\n  }\\n}\\n\\ndata = {direction: cb_obj['direction'], 'id': cb_obj.id};\\ncb_obj.event_name = 'direction';\\n\\nfunction unique_events(events) {\\n  // Processes the event queue ignoring duplicate events\\n  // of the same type\\n  var unique = [];\\n  var unique_events = [];\\n  for (var i=0; i<events.length; i++) {\\n    var _tmpevent = events[i];\\n    event = _tmpevent[0];\\n    data = _tmpevent[1];\\n    if (unique_events.indexOf(event)===-1) {\\n      unique.unshift(data);\\n      unique_events.push(event);\\n      }\\n  }\\n  return unique;\\n}\\n\\nfunction process_events(comm_status) {\\n  // Iterates over event queue and sends events via Comm\\n  var events = unique_events(comm_status.event_buffer);\\n  for (var i=0; i<events.length; i++) {\\n    var data = events[i];\\n    var comm = window.PyViz.comms[data[\\\"comm_id\\\"]];\\n    comm.send(data);\\n  }\\n  comm_status.event_buffer = [];\\n}\\n\\nfunction on_msg(msg) {\\n  // Receives acknowledgement from Python, processing event\\n  // and unblocking Comm if event queue empty\\n  var metadata = msg.metadata;\\n  var comm_id = metadata.comm_id\\n  var comm_status = window.PyViz.comm_status[comm_id];\\n  if (comm_status.event_buffer.length) {\\n    process_events(comm_status);\\n    comm_status.blocked = true;\\n    comm_status.time = Date.now()+50;\\n  } else {\\n    comm_status.blocked = false;\\n  }\\n  comm_status.event_buffer = [];\\n  if ((metadata.msg_type == \\\"Ready\\\") && metadata.content) {\\n    console.log(\\\"Python callback returned following output:\\\", metadata.content);\\n  } else if (metadata.msg_type == \\\"Error\\\") {\\n    console.log(\\\"Python failed with the following traceback:\\\", metadata.traceback)\\n  }\\n}\\n\\n// Initialize Comm\\nif ((window.PyViz == undefined) || (window.PyViz.comm_manager == undefined)) { return }\\nvar comm = window.PyViz.comm_manager.get_client_comm(\\\"1321\\\", \\\"f16e1f9d32dc4334bdbc57e413cded75\\\", on_msg);\\nif (!comm) {\\n  return\\n}\\n\\n// Initialize event queue and timeouts for Comm\\nvar comm_status = window.PyViz.comm_status[\\\"f16e1f9d32dc4334bdbc57e413cded75\\\"];\\nif (comm_status === undefined) {\\n  comm_status = {event_buffer: [], blocked: false, time: Date.now()}\\n  window.PyViz.comm_status[\\\"f16e1f9d32dc4334bdbc57e413cded75\\\"] = comm_status\\n}\\n\\n// Add current event to queue and process queue if not blocked\\nvar event_name = cb_obj.event_name;\\nif (event_name === undefined) {\\n  // we are a widget not an event... fake a key.\\n  event_name = Object.keys(data).join(',');\\n}\\ndata['comm_id'] = \\\"f16e1f9d32dc4334bdbc57e413cded75\\\";\\nvar timeout = comm_status.time + 20000;\\nif ((comm_status.blocked && (Date.now() < timeout))) {\\n  comm_status.event_buffer.unshift([event_name, data]);\\n} else {\\n  comm_status.event_buffer.unshift([event_name, data]);\\n  setTimeout(function() { process_events(comm_status); }, 50);\\n  comm_status.blocked = true;\\n  comm_status.time = Date.now()+50;\\n}\\n\"},\"id\":\"1333\",\"type\":\"CustomJS\"},{\"attributes\":{\"fill_alpha\":{\"value\":0.1},\"fill_color\":{\"value\":\"#1f77b4\"},\"line_alpha\":{\"value\":0.1},\"line_color\":{\"value\":\"#1f77b4\"},\"top\":{\"field\":\"top\"},\"width\":{\"value\":0.9},\"x\":{\"field\":\"x\"}},\"id\":\"1318\",\"type\":\"VBar\"},{\"attributes\":{\"active_drag\":{\"id\":\"1309\",\"type\":\"PanTool\"},\"active_inspect\":\"auto\",\"active_multi\":null,\"active_scroll\":{\"id\":\"1310\",\"type\":\"WheelZoomTool\"},\"active_tap\":\"auto\",\"tools\":[{\"id\":\"1309\",\"type\":\"PanTool\"},{\"id\":\"1310\",\"type\":\"WheelZoomTool\"},{\"id\":\"1311\",\"type\":\"ResetTool\"}]},\"id\":\"1312\",\"type\":\"Toolbar\"},{\"attributes\":{\"fill_color\":{\"value\":\"#1f77b4\"},\"line_color\":{\"value\":\"#1f77b4\"},\"top\":{\"field\":\"top\"},\"width\":{\"value\":0.9},\"x\":{\"field\":\"x\"}},\"id\":\"1317\",\"type\":\"VBar\"},{\"attributes\":{},\"id\":\"1327\",\"type\":\"Selection\"},{\"attributes\":{},\"id\":\"1311\",\"type\":\"ResetTool\"},{\"attributes\":{\"source\":{\"id\":\"1287\",\"type\":\"ColumnDataSource\"}},\"id\":\"1320\",\"type\":\"CDSView\"},{\"attributes\":{\"code\":\"\\nif (!window.PyViz) {\\n  return;\\n}\\nvar events = [];\\nvar receiver = window.PyViz.receivers['1321'];\\nif (receiver &&\\n        receiver._partial &&\\n        receiver._partial.content &&\\n        receiver._partial.content.events) {\\n    events = receiver._partial.content.events;\\n}\\n\\nfor (var event of events) {\\n  if ((event.kind === 'ModelChanged') && (event.attr === 'value') &&\\n      (cb_obj.id === event.model.id) &&\\n      (JSON.stringify(cb_obj['value']) === JSON.stringify(event.new))) {\\n    events.pop(events.indexOf(event))\\n    return;\\n  }\\n}\\n\\ndata = {value: cb_obj['value'], 'id': cb_obj.id};\\ncb_obj.event_name = 'value';\\n\\nfunction unique_events(events) {\\n  // Processes the event queue ignoring duplicate events\\n  // of the same type\\n  var unique = [];\\n  var unique_events = [];\\n  for (var i=0; i<events.length; i++) {\\n    var _tmpevent = events[i];\\n    event = _tmpevent[0];\\n    data = _tmpevent[1];\\n    if (unique_events.indexOf(event)===-1) {\\n      unique.unshift(data);\\n      unique_events.push(event);\\n      }\\n  }\\n  return unique;\\n}\\n\\nfunction process_events(comm_status) {\\n  // Iterates over event queue and sends events via Comm\\n  var events = unique_events(comm_status.event_buffer);\\n  for (var i=0; i<events.length; i++) {\\n    var data = events[i];\\n    var comm = window.PyViz.comms[data[\\\"comm_id\\\"]];\\n    comm.send(data);\\n  }\\n  comm_status.event_buffer = [];\\n}\\n\\nfunction on_msg(msg) {\\n  // Receives acknowledgement from Python, processing event\\n  // and unblocking Comm if event queue empty\\n  var metadata = msg.metadata;\\n  var comm_id = metadata.comm_id\\n  var comm_status = window.PyViz.comm_status[comm_id];\\n  if (comm_status.event_buffer.length) {\\n    process_events(comm_status);\\n    comm_status.blocked = true;\\n    comm_status.time = Date.now()+50;\\n  } else {\\n    comm_status.blocked = false;\\n  }\\n  comm_status.event_buffer = [];\\n  if ((metadata.msg_type == \\\"Ready\\\") && metadata.content) {\\n    console.log(\\\"Python callback returned following output:\\\", metadata.content);\\n  } else if (metadata.msg_type == \\\"Error\\\") {\\n    console.log(\\\"Python failed with the following traceback:\\\", metadata.traceback)\\n  }\\n}\\n\\n// Initialize Comm\\nif ((window.PyViz == undefined) || (window.PyViz.comm_manager == undefined)) { return }\\nvar comm = window.PyViz.comm_manager.get_client_comm(\\\"1321\\\", \\\"f16e1f9d32dc4334bdbc57e413cded75\\\", on_msg);\\nif (!comm) {\\n  return\\n}\\n\\n// Initialize event queue and timeouts for Comm\\nvar comm_status = window.PyViz.comm_status[\\\"f16e1f9d32dc4334bdbc57e413cded75\\\"];\\nif (comm_status === undefined) {\\n  comm_status = {event_buffer: [], blocked: false, time: Date.now()}\\n  window.PyViz.comm_status[\\\"f16e1f9d32dc4334bdbc57e413cded75\\\"] = comm_status\\n}\\n\\n// Add current event to queue and process queue if not blocked\\nvar event_name = cb_obj.event_name;\\nif (event_name === undefined) {\\n  // we are a widget not an event... fake a key.\\n  event_name = Object.keys(data).join(',');\\n}\\ndata['comm_id'] = \\\"f16e1f9d32dc4334bdbc57e413cded75\\\";\\nvar timeout = comm_status.time + 20000;\\nif ((comm_status.blocked && (Date.now() < timeout))) {\\n  comm_status.event_buffer.unshift([event_name, data]);\\n} else {\\n  comm_status.event_buffer.unshift([event_name, data]);\\n  setTimeout(function() { process_events(comm_status); }, 50);\\n  comm_status.blocked = true;\\n  comm_status.time = Date.now()+50;\\n}\\n\"},\"id\":\"1342\",\"type\":\"CustomJS\"},{\"attributes\":{\"callback\":null,\"callback_policy\":\"continuous\",\"end\":31,\"js_property_callbacks\":{\"change:bar_color\":[{\"id\":\"1330\",\"type\":\"CustomJS\"}],\"change:callback_policy\":[{\"id\":\"1331\",\"type\":\"CustomJS\"}],\"change:callback_throttle\":[{\"id\":\"1332\",\"type\":\"CustomJS\"}],\"change:direction\":[{\"id\":\"1333\",\"type\":\"CustomJS\"}],\"change:disabled\":[{\"id\":\"1334\",\"type\":\"CustomJS\"}],\"change:end\":[{\"id\":\"1335\",\"type\":\"CustomJS\"}],\"change:orientation\":[{\"id\":\"1337\",\"type\":\"CustomJS\"}],\"change:show_value\":[{\"id\":\"1338\",\"type\":\"CustomJS\"}],\"change:start\":[{\"id\":\"1339\",\"type\":\"CustomJS\"}],\"change:step\":[{\"id\":\"1340\",\"type\":\"CustomJS\"}],\"change:title\":[{\"id\":\"1336\",\"type\":\"CustomJS\"}],\"change:tooltips\":[{\"id\":\"1341\",\"type\":\"CustomJS\"}],\"change:value\":[{\"id\":\"1342\",\"type\":\"CustomJS\"}]},\"margin\":[5,10,5,10],\"sizing_mode\":\"scale_width\",\"start\":1,\"value\":[1,31],\"width\":400},\"id\":\"1329\",\"type\":\"RangeSlider\"},{\"attributes\":{\"code\":\"\\nif (!window.PyViz) {\\n  return;\\n}\\nvar events = [];\\nvar receiver = window.PyViz.receivers['1321'];\\nif (receiver &&\\n        receiver._partial &&\\n        receiver._partial.content &&\\n        receiver._partial.content.events) {\\n    events = receiver._partial.content.events;\\n}\\n\\nfor (var event of events) {\\n  if ((event.kind === 'ModelChanged') && (event.attr === 'tooltips') &&\\n      (cb_obj.id === event.model.id) &&\\n      (JSON.stringify(cb_obj['tooltips']) === JSON.stringify(event.new))) {\\n    events.pop(events.indexOf(event))\\n    return;\\n  }\\n}\\n\\ndata = {tooltips: cb_obj['tooltips'], 'id': cb_obj.id};\\ncb_obj.event_name = 'tooltips';\\n\\nfunction unique_events(events) {\\n  // Processes the event queue ignoring duplicate events\\n  // of the same type\\n  var unique = [];\\n  var unique_events = [];\\n  for (var i=0; i<events.length; i++) {\\n    var _tmpevent = events[i];\\n    event = _tmpevent[0];\\n    data = _tmpevent[1];\\n    if (unique_events.indexOf(event)===-1) {\\n      unique.unshift(data);\\n      unique_events.push(event);\\n      }\\n  }\\n  return unique;\\n}\\n\\nfunction process_events(comm_status) {\\n  // Iterates over event queue and sends events via Comm\\n  var events = unique_events(comm_status.event_buffer);\\n  for (var i=0; i<events.length; i++) {\\n    var data = events[i];\\n    var comm = window.PyViz.comms[data[\\\"comm_id\\\"]];\\n    comm.send(data);\\n  }\\n  comm_status.event_buffer = [];\\n}\\n\\nfunction on_msg(msg) {\\n  // Receives acknowledgement from Python, processing event\\n  // and unblocking Comm if event queue empty\\n  var metadata = msg.metadata;\\n  var comm_id = metadata.comm_id\\n  var comm_status = window.PyViz.comm_status[comm_id];\\n  if (comm_status.event_buffer.length) {\\n    process_events(comm_status);\\n    comm_status.blocked = true;\\n    comm_status.time = Date.now()+50;\\n  } else {\\n    comm_status.blocked = false;\\n  }\\n  comm_status.event_buffer = [];\\n  if ((metadata.msg_type == \\\"Ready\\\") && metadata.content) {\\n    console.log(\\\"Python callback returned following output:\\\", metadata.content);\\n  } else if (metadata.msg_type == \\\"Error\\\") {\\n    console.log(\\\"Python failed with the following traceback:\\\", metadata.traceback)\\n  }\\n}\\n\\n// Initialize Comm\\nif ((window.PyViz == undefined) || (window.PyViz.comm_manager == undefined)) { return }\\nvar comm = window.PyViz.comm_manager.get_client_comm(\\\"1321\\\", \\\"f16e1f9d32dc4334bdbc57e413cded75\\\", on_msg);\\nif (!comm) {\\n  return\\n}\\n\\n// Initialize event queue and timeouts for Comm\\nvar comm_status = window.PyViz.comm_status[\\\"f16e1f9d32dc4334bdbc57e413cded75\\\"];\\nif (comm_status === undefined) {\\n  comm_status = {event_buffer: [], blocked: false, time: Date.now()}\\n  window.PyViz.comm_status[\\\"f16e1f9d32dc4334bdbc57e413cded75\\\"] = comm_status\\n}\\n\\n// Add current event to queue and process queue if not blocked\\nvar event_name = cb_obj.event_name;\\nif (event_name === undefined) {\\n  // we are a widget not an event... fake a key.\\n  event_name = Object.keys(data).join(',');\\n}\\ndata['comm_id'] = \\\"f16e1f9d32dc4334bdbc57e413cded75\\\";\\nvar timeout = comm_status.time + 20000;\\nif ((comm_status.blocked && (Date.now() < timeout))) {\\n  comm_status.event_buffer.unshift([event_name, data]);\\n} else {\\n  comm_status.event_buffer.unshift([event_name, data]);\\n  setTimeout(function() { process_events(comm_status); }, 50);\\n  comm_status.blocked = true;\\n  comm_status.time = Date.now()+50;\\n}\\n\"},\"id\":\"1341\",\"type\":\"CustomJS\"},{\"attributes\":{\"data_source\":{\"id\":\"1287\",\"type\":\"ColumnDataSource\"},\"glyph\":{\"id\":\"1317\",\"type\":\"VBar\"},\"hover_glyph\":null,\"muted_glyph\":null,\"nonselection_glyph\":{\"id\":\"1318\",\"type\":\"VBar\"},\"selection_glyph\":null,\"view\":{\"id\":\"1320\",\"type\":\"CDSView\"}},\"id\":\"1319\",\"type\":\"GlyphRenderer\"},{\"attributes\":{\"code\":\"\\nif (!window.PyViz) {\\n  return;\\n}\\nvar events = [];\\nvar receiver = window.PyViz.receivers['1321'];\\nif (receiver &&\\n        receiver._partial &&\\n        receiver._partial.content &&\\n        receiver._partial.content.events) {\\n    events = receiver._partial.content.events;\\n}\\n\\nfor (var event of events) {\\n  if ((event.kind === 'ModelChanged') && (event.attr === 'step') &&\\n      (cb_obj.id === event.model.id) &&\\n      (JSON.stringify(cb_obj['step']) === JSON.stringify(event.new))) {\\n    events.pop(events.indexOf(event))\\n    return;\\n  }\\n}\\n\\ndata = {step: cb_obj['step'], 'id': cb_obj.id};\\ncb_obj.event_name = 'step';\\n\\nfunction unique_events(events) {\\n  // Processes the event queue ignoring duplicate events\\n  // of the same type\\n  var unique = [];\\n  var unique_events = [];\\n  for (var i=0; i<events.length; i++) {\\n    var _tmpevent = events[i];\\n    event = _tmpevent[0];\\n    data = _tmpevent[1];\\n    if (unique_events.indexOf(event)===-1) {\\n      unique.unshift(data);\\n      unique_events.push(event);\\n      }\\n  }\\n  return unique;\\n}\\n\\nfunction process_events(comm_status) {\\n  // Iterates over event queue and sends events via Comm\\n  var events = unique_events(comm_status.event_buffer);\\n  for (var i=0; i<events.length; i++) {\\n    var data = events[i];\\n    var comm = window.PyViz.comms[data[\\\"comm_id\\\"]];\\n    comm.send(data);\\n  }\\n  comm_status.event_buffer = [];\\n}\\n\\nfunction on_msg(msg) {\\n  // Receives acknowledgement from Python, processing event\\n  // and unblocking Comm if event queue empty\\n  var metadata = msg.metadata;\\n  var comm_id = metadata.comm_id\\n  var comm_status = window.PyViz.comm_status[comm_id];\\n  if (comm_status.event_buffer.length) {\\n    process_events(comm_status);\\n    comm_status.blocked = true;\\n    comm_status.time = Date.now()+50;\\n  } else {\\n    comm_status.blocked = false;\\n  }\\n  comm_status.event_buffer = [];\\n  if ((metadata.msg_type == \\\"Ready\\\") && metadata.content) {\\n    console.log(\\\"Python callback returned following output:\\\", metadata.content);\\n  } else if (metadata.msg_type == \\\"Error\\\") {\\n    console.log(\\\"Python failed with the following traceback:\\\", metadata.traceback)\\n  }\\n}\\n\\n// Initialize Comm\\nif ((window.PyViz == undefined) || (window.PyViz.comm_manager == undefined)) { return }\\nvar comm = window.PyViz.comm_manager.get_client_comm(\\\"1321\\\", \\\"f16e1f9d32dc4334bdbc57e413cded75\\\", on_msg);\\nif (!comm) {\\n  return\\n}\\n\\n// Initialize event queue and timeouts for Comm\\nvar comm_status = window.PyViz.comm_status[\\\"f16e1f9d32dc4334bdbc57e413cded75\\\"];\\nif (comm_status === undefined) {\\n  comm_status = {event_buffer: [], blocked: false, time: Date.now()}\\n  window.PyViz.comm_status[\\\"f16e1f9d32dc4334bdbc57e413cded75\\\"] = comm_status\\n}\\n\\n// Add current event to queue and process queue if not blocked\\nvar event_name = cb_obj.event_name;\\nif (event_name === undefined) {\\n  // we are a widget not an event... fake a key.\\n  event_name = Object.keys(data).join(',');\\n}\\ndata['comm_id'] = \\\"f16e1f9d32dc4334bdbc57e413cded75\\\";\\nvar timeout = comm_status.time + 20000;\\nif ((comm_status.blocked && (Date.now() < timeout))) {\\n  comm_status.event_buffer.unshift([event_name, data]);\\n} else {\\n  comm_status.event_buffer.unshift([event_name, data]);\\n  setTimeout(function() { process_events(comm_status); }, 50);\\n  comm_status.blocked = true;\\n  comm_status.time = Date.now()+50;\\n}\\n\"},\"id\":\"1340\",\"type\":\"CustomJS\"},{\"attributes\":{},\"id\":\"1309\",\"type\":\"PanTool\"},{\"attributes\":{\"ticker\":{\"id\":\"1300\",\"type\":\"BasicTicker\"}},\"id\":\"1303\",\"type\":\"Grid\"},{\"attributes\":{\"dimension\":1,\"ticker\":{\"id\":\"1305\",\"type\":\"BasicTicker\"}},\"id\":\"1308\",\"type\":\"Grid\"},{\"attributes\":{},\"id\":\"1325\",\"type\":\"BasicTickFormatter\"},{\"attributes\":{\"children\":[{\"id\":\"1288\",\"subtype\":\"Figure\",\"type\":\"Plot\"},{\"id\":\"1329\",\"type\":\"RangeSlider\"}],\"margin\":[0,0,0,0],\"name\":\"Column00073\",\"sizing_mode\":\"scale_both\",\"width\":400},\"id\":\"1321\",\"type\":\"Column\"},{\"attributes\":{\"axis_label\":\"Day of the Month\",\"formatter\":{\"id\":\"1323\",\"type\":\"BasicTickFormatter\"},\"ticker\":{\"id\":\"1300\",\"type\":\"BasicTicker\"}},\"id\":\"1299\",\"type\":\"LinearAxis\"},{\"attributes\":{\"code\":\"\\nif (!window.PyViz) {\\n  return;\\n}\\nvar events = [];\\nvar receiver = window.PyViz.receivers['1321'];\\nif (receiver &&\\n        receiver._partial &&\\n        receiver._partial.content &&\\n        receiver._partial.content.events) {\\n    events = receiver._partial.content.events;\\n}\\n\\nfor (var event of events) {\\n  if ((event.kind === 'ModelChanged') && (event.attr === 'start') &&\\n      (cb_obj.id === event.model.id) &&\\n      (JSON.stringify(cb_obj['start']) === JSON.stringify(event.new))) {\\n    events.pop(events.indexOf(event))\\n    return;\\n  }\\n}\\n\\ndata = {start: cb_obj['start'], 'id': cb_obj.id};\\ncb_obj.event_name = 'start';\\n\\nfunction unique_events(events) {\\n  // Processes the event queue ignoring duplicate events\\n  // of the same type\\n  var unique = [];\\n  var unique_events = [];\\n  for (var i=0; i<events.length; i++) {\\n    var _tmpevent = events[i];\\n    event = _tmpevent[0];\\n    data = _tmpevent[1];\\n    if (unique_events.indexOf(event)===-1) {\\n      unique.unshift(data);\\n      unique_events.push(event);\\n      }\\n  }\\n  return unique;\\n}\\n\\nfunction process_events(comm_status) {\\n  // Iterates over event queue and sends events via Comm\\n  var events = unique_events(comm_status.event_buffer);\\n  for (var i=0; i<events.length; i++) {\\n    var data = events[i];\\n    var comm = window.PyViz.comms[data[\\\"comm_id\\\"]];\\n    comm.send(data);\\n  }\\n  comm_status.event_buffer = [];\\n}\\n\\nfunction on_msg(msg) {\\n  // Receives acknowledgement from Python, processing event\\n  // and unblocking Comm if event queue empty\\n  var metadata = msg.metadata;\\n  var comm_id = metadata.comm_id\\n  var comm_status = window.PyViz.comm_status[comm_id];\\n  if (comm_status.event_buffer.length) {\\n    process_events(comm_status);\\n    comm_status.blocked = true;\\n    comm_status.time = Date.now()+50;\\n  } else {\\n    comm_status.blocked = false;\\n  }\\n  comm_status.event_buffer = [];\\n  if ((metadata.msg_type == \\\"Ready\\\") && metadata.content) {\\n    console.log(\\\"Python callback returned following output:\\\", metadata.content);\\n  } else if (metadata.msg_type == \\\"Error\\\") {\\n    console.log(\\\"Python failed with the following traceback:\\\", metadata.traceback)\\n  }\\n}\\n\\n// Initialize Comm\\nif ((window.PyViz == undefined) || (window.PyViz.comm_manager == undefined)) { return }\\nvar comm = window.PyViz.comm_manager.get_client_comm(\\\"1321\\\", \\\"f16e1f9d32dc4334bdbc57e413cded75\\\", on_msg);\\nif (!comm) {\\n  return\\n}\\n\\n// Initialize event queue and timeouts for Comm\\nvar comm_status = window.PyViz.comm_status[\\\"f16e1f9d32dc4334bdbc57e413cded75\\\"];\\nif (comm_status === undefined) {\\n  comm_status = {event_buffer: [], blocked: false, time: Date.now()}\\n  window.PyViz.comm_status[\\\"f16e1f9d32dc4334bdbc57e413cded75\\\"] = comm_status\\n}\\n\\n// Add current event to queue and process queue if not blocked\\nvar event_name = cb_obj.event_name;\\nif (event_name === undefined) {\\n  // we are a widget not an event... fake a key.\\n  event_name = Object.keys(data).join(',');\\n}\\ndata['comm_id'] = \\\"f16e1f9d32dc4334bdbc57e413cded75\\\";\\nvar timeout = comm_status.time + 20000;\\nif ((comm_status.blocked && (Date.now() < timeout))) {\\n  comm_status.event_buffer.unshift([event_name, data]);\\n} else {\\n  comm_status.event_buffer.unshift([event_name, data]);\\n  setTimeout(function() { process_events(comm_status); }, 50);\\n  comm_status.blocked = true;\\n  comm_status.time = Date.now()+50;\\n}\\n\"},\"id\":\"1339\",\"type\":\"CustomJS\"},{\"attributes\":{},\"id\":\"1305\",\"type\":\"BasicTicker\"},{\"attributes\":{\"axis_label\":\"# of Rides\",\"formatter\":{\"id\":\"1325\",\"type\":\"BasicTickFormatter\"},\"ticker\":{\"id\":\"1305\",\"type\":\"BasicTicker\"}},\"id\":\"1304\",\"type\":\"LinearAxis\"}],\"root_ids\":[\"1321\"]},\"title\":\"Bokeh Application\",\"version\":\"1.4.0\"}};\n",
       "  var render_items = [{\"docid\":\"3e438b32-41a1-43eb-b289-e0a4b994be45\",\"roots\":{\"1321\":\"a6537874-eac9-4ef0-8bd9-8ecdbfb63903\"}}];\n",
       "  root.Bokeh.embed.embed_items_notebook(docs_json, render_items);\n",
       "\n",
       "  }\n",
       "  if (root.Bokeh !== undefined) {\n",
       "    embed_document(root);\n",
       "  } else {\n",
       "    var attempts = 0;\n",
       "    var timer = setInterval(function(root) {\n",
       "      if (root.Bokeh !== undefined) {\n",
       "        clearInterval(timer);\n",
       "        embed_document(root);\n",
       "      } else {\n",
       "        attempts++;\n",
       "        if (attempts > 100) {\n",
       "          clearInterval(timer);\n",
       "          console.log(\"Bokeh: ERROR: Unable to run BokehJS code because BokehJS library is missing\");\n",
       "        }\n",
       "      }\n",
       "    }, 10, root)\n",
       "  }\n",
       "})(window);</script>"
      ],
      "text/plain": [
       "Column(sizing_mode='scale_both', width=400)\n",
       "    [0] Bokeh(Figure)\n",
       "    [1] RangeSlider(end=31, sizing_mode='scale_width', start=1, step=1, value=(1, 31), width=400)"
      ]
     },
     "execution_count": 55,
     "metadata": {
      "application/vnd.holoviews_exec.v0+json": {
       "id": "1321"
      }
     },
     "output_type": "execute_result"
    }
   ],
   "source": [
    "cux = cuxfilter.DataFrame.from_dataframe(day_freq)\n",
    "chart1 = cuxfilter.charts.bar(\"Day of the Month\", \"# of Rides\")\n",
    "d = cux.dashboard([chart1], layout=cuxfilter.layouts.single_feature, theme=cuxfilter.themes.dark, title= 'NYC TAXI DATASET')\n",
    "chart1.view()"
   ]
  },
  {
   "cell_type": "markdown",
   "metadata": {},
   "source": [
    "As you can see, there was a spike of rides on the 19th of Janurary.  But where were they all from?"
   ]
  },
  {
   "cell_type": "markdown",
   "metadata": {},
   "source": [
    "Let's look at a heatmap of `Day of Month` and `Boroughs` filtered on `Time of Day` \n",
    "\n",
    "Recall: \n",
    "label_map = {\n",
    "    0:\"external\", \n",
    "    1:\"Bronx\",\n",
    "    2:\"Staten Island\",\n",
    "    3:\"Brooklyn\", \n",
    "    4:\"Queens\", \n",
    "    5:\"Manhattan\"\n",
    "}"
   ]
  },
  {
   "cell_type": "code",
   "execution_count": 56,
   "metadata": {},
   "outputs": [],
   "source": [
    "rwys = rwys.sort_values(['day_of_the_month'])"
   ]
  },
  {
   "cell_type": "code",
   "execution_count": null,
   "metadata": {},
   "outputs": [],
   "source": [
    "from cuxfilter import layouts, themes, DataFrame\n",
    "from cuxfilter.charts import heatmap\n",
    "from cuxfilter.charts import stacked_lines\n",
    "\n",
    "rwys = rwys.sort_values(['day_of_the_month'])\n",
    "cux = cuxfilter.DataFrame.from_dataframe(rwys)\n",
    "chart0 = heatmap(y='pickup_borough_integer', x='day_of_the_month', aggregate_fn='count',\n",
    "                            color_palette=palettes.inferno(256), point_size=20)\n",
    "chart1 = cuxfilter.charts.multi_select('time_of_the_day')\n",
    "chart2 = cuxfilter.charts.multi_select('pickup_borough_integer', label_map=label_map)\n",
    "chart3 = cuxfilter.charts.multi_select('dropoff_borough_integer', label_map=label_map)\n",
    "d = cux.dashboard([chart0, chart1, chart2, chart3], layout=layouts.single_feature, theme=themes.dark)\n",
    "d.show(url+':'+port)\n"
   ]
  },
  {
   "cell_type": "markdown",
   "metadata": {},
   "source": [
    "You should see that the spike of rides started to occur after 4PM on the 19th.  What's more, they were from pick ups that happened from outside of the 5 boroughs.  That's interesting, but we'll need to map this out.  For now, let's move on to the other days of high ridership."
   ]
  },
  {
   "cell_type": "code",
   "execution_count": 58,
   "metadata": {},
   "outputs": [],
   "source": [
    "d.stop()"
   ]
  },
  {
   "cell_type": "markdown",
   "metadata": {},
   "source": [
    "Let's examine the other days looking at `Time of Day` and `Boroughs` filtered on `Day of Month`\n",
    "\n",
    "Recall:\n",
    "label_map = {\n",
    "    0:\"external\", \n",
    "    1:\"Bronx\",\n",
    "    2:\"Staten Island\",\n",
    "    3:\"Brooklyn\", \n",
    "    4:\"Queens\", \n",
    "    5:\"Manhattan\"\n",
    "}"
   ]
  },
  {
   "cell_type": "code",
   "execution_count": null,
   "metadata": {},
   "outputs": [],
   "source": [
    "chart0 = heatmap(y='pickup_borough_integer', x='time_of_the_day', aggregate_fn='count',\n",
    "                            color_palette=palettes.inferno(256), point_size=20)\n",
    "chart1 = cuxfilter.charts.multi_select('day_of_the_month')\n",
    "chart2 = cuxfilter.charts.multi_select('pickup_borough_integer', label_map=label_map)\n",
    "chart3 = cuxfilter.charts.multi_select('dropoff_borough_integer', label_map=label_map)\n",
    "d = cux.dashboard([chart0, chart1, chart2, chart3], layout=layouts.single_feature, theme=themes.dark)\n",
    "d.show(url+':'+port)"
   ]
  },
  {
   "cell_type": "code",
   "execution_count": 60,
   "metadata": {},
   "outputs": [],
   "source": [
    "d.stop()"
   ]
  },
  {
   "cell_type": "markdown",
   "metadata": {},
   "source": [
    "On the 24 hour clock, for 7th, 11th, and 12th, it seems like most of the rides to the rockaways are at mid day from Queens, at the 9PM hour.  Let's verify this and see where those rides come from.  We'll do this by once again using the `scatter_geo` plot and having some `multi_select` filters"
   ]
  },
  {
   "cell_type": "markdown",
   "metadata": {},
   "source": [
    "### Now to create the charts"
   ]
  },
  {
   "cell_type": "code",
   "execution_count": 61,
   "metadata": {},
   "outputs": [
    {
     "name": "stdout",
     "output_type": "stream",
     "text": [
      "              x             y\n",
      "0 -8.232332e+06  4.979535e+06\n",
      "1 -8.235610e+06  4.974270e+06\n",
      "2 -8.231901e+06  4.979102e+06\n",
      "3 -8.234700e+06  4.975193e+06\n",
      "4 -8.232094e+06  4.969006e+06\n"
     ]
    }
   ],
   "source": [
    "rwys['rwys_x'], rwys['rwys_y'] = makeXfilter(rwys['pickup_latitude'], rwys['pickup_longitude'])\n",
    "cux = cuxfilter.DataFrame.from_dataframe(rwys)\n",
    "chart1 = cuxfilter.charts.scatter_geo(x='rwys_x',\n",
    "                                      y='rwys_y',\n",
    "                                      title='Where are the drop offs coming from?',\n",
    "                                         add_interaction=True , \n",
    "                                         color_palette=palettes.inferno(256) , # use bokeh color palettes to get more pop out colors\n",
    "                                         aggregate_col='time_of_the_day' , aggregate_fn='max',\n",
    "                                         tile_provider=tile_provider, x_range=(-8267428.97,-8207328.23), y_range=(4935861.67,5000548.55))\n",
    "chart2 = cuxfilter.charts.multi_select('pickup_borough_integer', label_map=label_map)\n",
    "chart3 = cuxfilter.charts.multi_select('dropoff_borough_integer', label_map=label_map)\n",
    "chart4 = cuxfilter.charts.multi_select('day_of_the_month')\n",
    "chart5 = cuxfilter.charts.multi_select('time_of_the_day')"
   ]
  },
  {
   "cell_type": "code",
   "execution_count": null,
   "metadata": {},
   "outputs": [],
   "source": [
    "d = cux.dashboard([chart1, chart2, chart3, chart4, chart5], layout=cuxfilter.layouts.single_feature, theme=cuxfilter.themes.dark, title= 'NYC TAXI DATASET')\n",
    "d.show(url+':'+port)"
   ]
  },
  {
   "cell_type": "markdown",
   "metadata": {},
   "source": [
    "Many of the pick up points seem to be at LaGuardia and JFK airports."
   ]
  },
  {
   "cell_type": "code",
   "execution_count": 63,
   "metadata": {},
   "outputs": [],
   "source": [
    "d.stop()"
   ]
  },
  {
   "cell_type": "markdown",
   "metadata": {},
   "source": [
    "And only because SOMEONE will ask \"why didn't we show 'day of the month' and 'time of the day' on the large visualization?\"..."
   ]
  },
  {
   "cell_type": "code",
   "execution_count": 64,
   "metadata": {},
   "outputs": [],
   "source": [
    "taxi2015['tpep_pickup_datetime']=taxi2015['tpep_pickup_datetime'].str.timestamp2int(format=\"%Y-%m-%d %H:%M:%S\")"
   ]
  },
  {
   "cell_type": "code",
   "execution_count": 65,
   "metadata": {},
   "outputs": [],
   "source": [
    "taxi2015['tpep_pickup_datetime']=taxi2015['tpep_pickup_datetime'].astype('datetime64[s]')\n",
    "taxi2015['day_of_the_month']=taxi2015['tpep_pickup_datetime'].dt.day\n",
    "taxi2015['time_of_the_day']= taxi2015['tpep_pickup_datetime'].dt.hour"
   ]
  },
  {
   "cell_type": "code",
   "execution_count": 66,
   "metadata": {},
   "outputs": [],
   "source": [
    "chart0 = cuxfilter.charts.scatter_geo(x='pu_x',\n",
    "                                      y='pu_y',\n",
    "                                      title='NYC Taxi Pickups',\n",
    "                                      aggregate_fn='count',\n",
    "                                      tile_provider=tile_provider, x_range=(-8267428.97,-8207328.23), y_range=(4935861.67,5000548.55))\n",
    "chart1 = cuxfilter.charts.scatter_geo(x='do_x',\n",
    "                                      y='do_y',\n",
    "                                      title='NYC Taxi Dropoffs',\n",
    "                                      aggregate_fn='count',\n",
    "                                      tile_provider=tile_provider, x_range=(-8267428.97,-8207328.23), y_range=(4935861.67,5000548.55))\n",
    "chart2 = cuxfilter.charts.multi_select('pickup_borough_integer', label_map=label_map)\n",
    "chart3 = cuxfilter.charts.multi_select('dropoff_borough_integer', label_map=label_map)\n",
    "chart4 = cuxfilter.charts.multi_select('day_of_the_month')\n",
    "chart5 = cuxfilter.charts.multi_select('time_of_the_day')"
   ]
  },
  {
   "cell_type": "code",
   "execution_count": null,
   "metadata": {},
   "outputs": [],
   "source": [
    "d = cux.dashboard([chart0, chart1, chart2, chart3, chart4, chart5], layout=cuxfilter.layouts.feature_and_base, theme=cuxfilter.themes.dark, title= 'NYC TAXI DATASET')\n",
    "d.show(url+':'+port)"
   ]
  },
  {
   "cell_type": "code",
   "execution_count": 68,
   "metadata": {},
   "outputs": [],
   "source": [
    "d.stop()"
   ]
  },
  {
   "cell_type": "code",
   "execution_count": null,
   "metadata": {},
   "outputs": [],
   "source": []
  }
 ],
 "metadata": {
  "kernelspec": {
   "display_name": "Python 3",
   "language": "python",
   "name": "python3"
  },
  "language_info": {
   "codemirror_mode": {
    "name": "ipython",
    "version": 3
   },
   "file_extension": ".py",
   "mimetype": "text/x-python",
   "name": "python",
   "nbconvert_exporter": "python",
   "pygments_lexer": "ipython3",
   "version": "3.6.10"
  }
 },
 "nbformat": 4,
 "nbformat_minor": 4
}
