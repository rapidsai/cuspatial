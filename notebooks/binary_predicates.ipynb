{
 "cells": [
  {
   "cell_type": "markdown",
   "id": "12084de2-e6cf-4759-9478-c0777672562d",
   "metadata": {},
   "source": [
    "# cuSpatial Binary Predicates Demo\n",
    "\n",
    "The following notebook exercises nine binary predicates available in cuSpatial:\n",
    "\n",
    "- contains\n",
    "- geom_equals\n",
    "- intersects\n",
    "- covers\n",
    "- crosses\n",
    "- disjoint\n",
    "- overlaps\n",
    "- touches\n",
    "- within\n",
    "\n",
    "The inputs are loaded from a large set of fundamental feature relationships implemented in `binpred_test_dispatch`."
   ]
  },
  {
   "cell_type": "code",
   "execution_count": 1,
   "id": "5a0464f6-6c53-420c-97f7-407534700fef",
   "metadata": {
    "tags": []
   },
   "outputs": [],
   "source": [
    "import cuspatial\n",
    "import numpy as np\n",
    "import time\n",
    "import geopandas\n",
    "from shapely.geometry import GeometryCollection\n",
    "from cuspatial.testing.test_geometries import (\n",
    "    features,\n",
    "    point_point_dispatch_list,\n",
    "    point_linestring_dispatch_list,\n",
    "    point_polygon_dispatch_list,\n",
    "    linestring_linestring_dispatch_list,\n",
    "    linestring_polygon_dispatch_list,\n",
    "    polygon_polygon_dispatch_list\n",
    ")\n",
    "import matplotlib.pyplot as plt\n",
    "import matplotlib.ticker as ticker\n",
    "import ipywidgets as widgets"
   ]
  },
  {
   "cell_type": "markdown",
   "id": "e1d3a030-bed7-41e3-8cb0-cf12fef134bb",
   "metadata": {
    "tags": []
   },
   "source": [
    "All of the feature pairs that are used in cuSpatial's binary predicate test functions are contained in `features`, a dictionary of named feature pairs with shapely geometries as values. Each of the `dispatch_list` objects contains a list of the feature names that are used in testing binary predicates."
   ]
  },
  {
   "cell_type": "code",
   "execution_count": 2,
   "id": "0b995412-610f-4d02-816a-fcbaf9044355",
   "metadata": {},
   "outputs": [],
   "source": [
    "# Create a gridded output so that we can visualize all of the features used in this benchmark\n",
    "def show_feature_table(features, width=6):\n",
    "    columns = [widgets.Output() for _ in range(len(features))]\n",
    "    for i in range(len(columns)):\n",
    "        with columns[i]:\n",
    "            display(GeometryCollection(features[i]))\n",
    "    rows = [columns[i:i + width] for i in range(0, len(columns), width)]\n",
    "    [display(widgets.HBox(row)) for row in rows]"
   ]
  },
  {
   "cell_type": "markdown",
   "id": "8777be86-a889-4472-a8a5-3a6356093a04",
   "metadata": {},
   "source": [
    "## Point-Point Relationships\n",
    "\n",
    "The following cell displays the features that are used in Point+Point predicates in this notebook:"
   ]
  },
  {
   "cell_type": "code",
   "execution_count": 3,
   "id": "3bf3b3eb-79f0-4e75-85dd-d7a43a3a4df4",
   "metadata": {
    "tags": []
   },
   "outputs": [
    {
     "data": {
      "application/vnd.jupyter.widget-view+json": {
       "model_id": "f5cef8dbf0ba4bc0aa5078fd44bd48c8",
       "version_major": 2,
       "version_minor": 0
      },
      "text/plain": [
       "HBox(children=(Output(), Output()))"
      ]
     },
     "metadata": {},
     "output_type": "display_data"
    },
    {
     "name": "stdout",
     "output_type": "stream",
     "text": [
      "2\n"
     ]
    }
   ],
   "source": [
    "show_feature_table([features[feature][1:3] for feature in point_point_dispatch_list])\n",
    "print(len(point_point_dispatch_list))"
   ]
  },
  {
   "cell_type": "markdown",
   "id": "ac9a6f51-85aa-4db1-a45f-3735ed6418e1",
   "metadata": {},
   "source": [
    "The binary predicates for Point-Point relationships all depend on whether or not the Points being compared are equal or unequal. Testing binary predicates for Point-Point relationships then depends on only two input pairs: Point equals Point and Point does not equal Point. The left output above shows two equal points, the right shows two-inequal points. The length of `point_point_dispatch_list` is 2.\n",
    "\n",
    "## Point-LineString Relationships\n",
    "\n",
    "The following cell displays the features that are used in Point+LineString predicates:"
   ]
  },
  {
   "cell_type": "code",
   "execution_count": 4,
   "id": "a3c3ad83-12cd-4105-9cc8-15700b1c24a6",
   "metadata": {
    "tags": []
   },
   "outputs": [
    {
     "data": {
      "application/vnd.jupyter.widget-view+json": {
       "model_id": "36e52a9f6b1e4780868b0618914aa5d0",
       "version_major": 2,
       "version_minor": 0
      },
      "text/plain": [
       "HBox(children=(Output(), Output(), Output()))"
      ]
     },
     "metadata": {},
     "output_type": "display_data"
    },
    {
     "name": "stdout",
     "output_type": "stream",
     "text": [
      "3\n"
     ]
    }
   ],
   "source": [
    "show_feature_table([features[feature][1:3] for feature in point_linestring_dispatch_list])\n",
    "print(len(point_linestring_dispatch_list))"
   ]
  },
  {
   "cell_type": "markdown",
   "id": "6c19d249-dced-4bad-9434-3c82015570d6",
   "metadata": {},
   "source": [
    "There are three relationships that a Point can have with a LineString: Disjoint, Point is equal to one of the LineString boundary points, and point falls between the LineString boundary points.\n",
    "\n",
    "## Point-Polygon Relationships\n",
    "\n",
    "The next cell demonstrates the four ways that a Point can relate with a Polygon:"
   ]
  },
  {
   "cell_type": "code",
   "execution_count": 5,
   "id": "037417d9-9024-4522-923b-bc99dc2dd1fb",
   "metadata": {
    "tags": []
   },
   "outputs": [
    {
     "data": {
      "application/vnd.jupyter.widget-view+json": {
       "model_id": "50c3e6cebcc247ba8d4a903d59138ba1",
       "version_major": 2,
       "version_minor": 0
      },
      "text/plain": [
       "HBox(children=(Output(), Output(), Output(), Output()))"
      ]
     },
     "metadata": {},
     "output_type": "display_data"
    },
    {
     "name": "stdout",
     "output_type": "stream",
     "text": [
      "4\n"
     ]
    }
   ],
   "source": [
    "show_feature_table([features[feature][1:3] for feature in point_polygon_dispatch_list])\n",
    "print(len(point_polygon_dispatch_list))"
   ]
  },
  {
   "cell_type": "markdown",
   "id": "29e564d2-f028-4d7d-bf10-89b08112528c",
   "metadata": {},
   "source": [
    "One additional relationship exists between a Point and a Polygon. A Point can:\n",
    "- Fall outside of the Polygon\n",
    "- Share a coordinate with the Polygon\n",
    "- Fall along the boundary of the Polygon\n",
    "- Fall in the interior of the Polygon\n",
    "\n",
    "This exhausts the ways that a Point can relate with another feature type. Next we must look at the ways that a LineString can relate with other feature types.\n",
    "\n",
    "## LineString-LineString Relationships\n",
    "\n",
    "The following cell demonstrates the ways that two LineStrings can relate:"
   ]
  },
  {
   "cell_type": "code",
   "execution_count": 6,
   "id": "26f49388-935f-4c38-a2e4-6cbb07c1456e",
   "metadata": {
    "tags": []
   },
   "outputs": [
    {
     "data": {
      "application/vnd.jupyter.widget-view+json": {
       "model_id": "93ea7aae845945818ce8c5b961e676f5",
       "version_major": 2,
       "version_minor": 0
      },
      "text/plain": [
       "HBox(children=(Output(), Output(), Output(), Output(), Output(), Output()))"
      ]
     },
     "metadata": {},
     "output_type": "display_data"
    },
    {
     "data": {
      "application/vnd.jupyter.widget-view+json": {
       "model_id": "50fe586cc76c4195a5e2b6ca0fd2381f",
       "version_major": 2,
       "version_minor": 0
      },
      "text/plain": [
       "HBox(children=(Output(), Output(), Output(), Output(), Output(), Output()))"
      ]
     },
     "metadata": {},
     "output_type": "display_data"
    },
    {
     "name": "stdout",
     "output_type": "stream",
     "text": [
      "12\n"
     ]
    }
   ],
   "source": [
    "show_feature_table([features[feature][1:3] for feature in linestring_linestring_dispatch_list])\n",
    "print(len(linestring_linestring_dispatch_list))"
   ]
  },
  {
   "cell_type": "markdown",
   "id": "d9bbb9a7-fbd0-42db-a663-99b5e40bd9bd",
   "metadata": {
    "tags": []
   },
   "source": [
    "These relationships are:\n",
    "- disjoint\n",
    "- equal\n",
    "- overlaps (interior)\n",
    "- share outer boundary point\n",
    "- share inner boundary point\n",
    "- touch along edge\n",
    "- touch multiple times along edge\n",
    "- crosses\n",
    "\n",
    "## LineString-Polygon Relationships\n",
    "\n",
    "The following cell demonstrates the relationships that can exist between a LineString and a Polygon:"
   ]
  },
  {
   "cell_type": "code",
   "execution_count": 7,
   "id": "ac85c54a-52bc-424c-a12b-3f29ccc93c78",
   "metadata": {
    "tags": []
   },
   "outputs": [
    {
     "data": {
      "application/vnd.jupyter.widget-view+json": {
       "model_id": "f4f78d79527b45f38414bde0b624a5e3",
       "version_major": 2,
       "version_minor": 0
      },
      "text/plain": [
       "HBox(children=(Output(), Output(), Output(), Output(), Output(), Output()))"
      ]
     },
     "metadata": {},
     "output_type": "display_data"
    },
    {
     "data": {
      "application/vnd.jupyter.widget-view+json": {
       "model_id": "bb24c01a58844121bbdc9a7dfcbc86d4",
       "version_major": 2,
       "version_minor": 0
      },
      "text/plain": [
       "HBox(children=(Output(), Output(), Output(), Output(), Output(), Output()))"
      ]
     },
     "metadata": {},
     "output_type": "display_data"
    },
    {
     "data": {
      "application/vnd.jupyter.widget-view+json": {
       "model_id": "5a60ee484365451493b9e98255637393",
       "version_major": 2,
       "version_minor": 0
      },
      "text/plain": [
       "HBox(children=(Output(), Output(), Output(), Output()))"
      ]
     },
     "metadata": {},
     "output_type": "display_data"
    },
    {
     "name": "stdout",
     "output_type": "stream",
     "text": [
      "16\n"
     ]
    }
   ],
   "source": [
    "show_feature_table([features[feature][1:3] for feature in linestring_polygon_dispatch_list])\n",
    "print(len(linestring_polygon_dispatch_list))"
   ]
  },
  {
   "cell_type": "markdown",
   "id": "eeb10f00-87e9-43bb-afeb-e0d13250832a",
   "metadata": {
    "tags": []
   },
   "source": [
    "These relationships are:\n",
    "- disjoint\n",
    "- touch polygon point\n",
    "- touch polygon edge\n",
    "- overlap polygon edge\n",
    "- partially overlap polygon edge\n",
    "- overlap inner edge\n",
    "- cross from point to point\n",
    "- cross from edge to edge\n",
    "- within\n",
    "- cross from exterior coordinates\n",
    "\n",
    "I noticed one is missing that can be added to cuSpatial's predicate tests: cross from point to edge\n",
    "\n",
    "## Polygon-Polygon Relationships\n",
    "\n",
    "The following cell demonstrates the relationships that can exist between two Polygons:"
   ]
  },
  {
   "cell_type": "code",
   "execution_count": 8,
   "id": "e46df3ab-896d-4d22-aaf0-46e2345d951a",
   "metadata": {
    "tags": []
   },
   "outputs": [
    {
     "data": {
      "application/vnd.jupyter.widget-view+json": {
       "model_id": "1ffa19716a6244509f8b9be9d3c530bf",
       "version_major": 2,
       "version_minor": 0
      },
      "text/plain": [
       "HBox(children=(Output(), Output(), Output(), Output(), Output(), Output()))"
      ]
     },
     "metadata": {},
     "output_type": "display_data"
    },
    {
     "data": {
      "application/vnd.jupyter.widget-view+json": {
       "model_id": "798c938721b64b41a1ab24cf01f0527b",
       "version_major": 2,
       "version_minor": 0
      },
      "text/plain": [
       "HBox(children=(Output(), Output(), Output(), Output(), Output()))"
      ]
     },
     "metadata": {},
     "output_type": "display_data"
    },
    {
     "name": "stdout",
     "output_type": "stream",
     "text": [
      "11\n"
     ]
    }
   ],
   "source": [
    "show_feature_table([features[feature][1:3] for feature in polygon_polygon_dispatch_list])\n",
    "print(len(polygon_polygon_dispatch_list))"
   ]
  },
  {
   "cell_type": "markdown",
   "id": "432075b2-3c65-4a06-a4ae-a9f8fdac3927",
   "metadata": {},
   "source": [
    "The names of these relationships are defined in `polygon_polygon_dispatch_list`:"
   ]
  },
  {
   "cell_type": "code",
   "execution_count": 9,
   "id": "248f8f31-b2a7-4dd0-b861-df1755f17ef0",
   "metadata": {
    "tags": []
   },
   "outputs": [
    {
     "name": "stdout",
     "output_type": "stream",
     "text": [
      "polygon-polygon-disjoint\n",
      "polygon-polygon-touch-point\n",
      "polygon-polygon-touch-edge\n",
      "polygon-polygon-overlap-edge\n",
      "polygon-polygon-overlap-inside-edge\n",
      "polygon-polygon-point-inside\n",
      "polygon-polygon-point-outside\n",
      "polygon-polygon-in-out-point\n",
      "polygon-polygon-in-point-point\n",
      "polygon-polygon-contained\n",
      "polygon-polygon-same\n"
     ]
    }
   ],
   "source": [
    "_ = [print(name) for name in polygon_polygon_dispatch_list]"
   ]
  },
  {
   "cell_type": "markdown",
   "id": "99f2f743-34e6-4ea7-8fcc-8ad31a183ac5",
   "metadata": {},
   "source": [
    "cuSpatial's implementation of binary predicates creates `GeoSeries` objects comprised of these shapes and their relationships, then uses a combination of the three basic predicates _point_in_polygon_, _intersects_, and _equals_ to compute results for the nine predicates listed above, comparing our results with the result of the same operation performed by `GeoPandas/Shapely`.\n",
    "\n",
    "Following are the functions used for benchmarking and comparisons with geopandas."
   ]
  },
  {
   "cell_type": "code",
   "execution_count": 10,
   "id": "515799dc-1a93-4e20-a3a7-499d1870e95d",
   "metadata": {
    "tags": []
   },
   "outputs": [],
   "source": [
    "def sample_test_data(features, dispatch_list, size, lib=cuspatial):\n",
    "    \"\"\"Creates either a cuspatial or geopandas GeoSeries object using the\n",
    "    Feature objects in `features`, the list of features to sample from in\n",
    "    `dispatch_list`, and the size of the resultant GeoSeries.\n",
    "    \"\"\"\n",
    "    geometry_tuples = [features[key][1:3] for key in dispatch_list]\n",
    "    geometries = [\n",
    "        [lhs_geo for lhs_geo, _ in geometry_tuples],\n",
    "        [rhs_geo for _, rhs_geo in geometry_tuples]\n",
    "    ]\n",
    "    lhs = lib.GeoSeries(list(geometries[0]))\n",
    "    rhs = lib.GeoSeries(list(geometries[1]))\n",
    "    np.random.seed(0)\n",
    "    lhs_picks = np.random.randint(0, len(lhs), size)\n",
    "    rhs_picks = np.random.randint(0, len(rhs), size)\n",
    "    return (\n",
    "        lhs[lhs_picks].reset_index(drop=True),\n",
    "        rhs[rhs_picks].reset_index(drop=True)\n",
    "    )"
   ]
  },
  {
   "cell_type": "code",
   "execution_count": 11,
   "id": "d3d32f9d-a485-4490-a27d-a1770d061939",
   "metadata": {
    "tags": []
   },
   "outputs": [],
   "source": [
    "def benchmark(features, dispatch_list, predicate, size, lib):\n",
    "    \"\"\"Times the speed of producing the test data as well as the predicate execution.\n",
    "    \"\"\"\n",
    "    (lhs, rhs) = sample_test_data(features, dispatch_list, size, lib)\n",
    "    fn = getattr(lhs, predicate)\n",
    "    predicate = time.time()\n",
    "    cuspatial_result = fn(rhs)\n",
    "    return size / (time.time() - predicate)"
   ]
  },
  {
   "cell_type": "code",
   "execution_count": 12,
   "id": "733485f5-5058-4b8b-8f74-a6000ef999d0",
   "metadata": {
    "tags": []
   },
   "outputs": [],
   "source": [
    "def benchmark_dispatch_list(dispatch_list, size, engines, predicates):\n",
    "    \"\"\"Returns a dictionary object of benchmark times for all of the\n",
    "    predicates of the form:\n",
    "    {\n",
    "        \"contains\": (\n",
    "            [geopandas_predicate_time],\n",
    "            [cuspatial_predicate_time],\n",
    "        ),\n",
    "        \"geom_equals\": (\n",
    "            [geopandas_predicate_time],\n",
    "            [cuspatial_predicate_time],\n",
    "        ),\n",
    "        ...\n",
    "    }\n",
    "    \"\"\"\n",
    "    return {predicate: [\n",
    "        benchmark(\n",
    "            features, dispatch_list, predicate, size, engine\n",
    "        ) for engine in engines] for predicate in predicates\n",
    "    }"
   ]
  },
  {
   "cell_type": "code",
   "execution_count": 13,
   "id": "817df6de-eb75-4139-9821-35b4704a2db6",
   "metadata": {
    "tags": []
   },
   "outputs": [],
   "source": [
    "\"\"\"List of engines and predicates to test.\"\"\"\n",
    "engines = [geopandas, cuspatial]\n",
    "predicates = [\n",
    "    'contains',\n",
    "    'geom_equals',\n",
    "    'intersects',\n",
    "    'covers',\n",
    "    'crosses',\n",
    "    'disjoint',\n",
    "    'overlaps',\n",
    "    'touches',\n",
    "    'within'\n",
    "]"
   ]
  },
  {
   "cell_type": "code",
   "execution_count": 14,
   "id": "046c4599-5cde-4151-9558-d018f1077f35",
   "metadata": {
    "tags": []
   },
   "outputs": [],
   "source": [
    "\"\"\"Chart rendering functions\"\"\"\n",
    "def plot_grouped_bars(results_dict, title):\n",
    "    values = np.array(list(results_dict.values()))\n",
    "    x = np.arange(len(predicates))  # The label locations\n",
    "    width = 0.35  # The width of the bars\n",
    "\n",
    "    fig, ax = plt.subplots()\n",
    "\n",
    "    # Plot bars\n",
    "    rects1 = ax.bar(x - width/2, values[:,0], width, label='GeoPandas', color='#36c9dd')\n",
    "    rects2 = ax.bar(x + width/2, values[:,1], width, label='cuSpatial', color='#7400ff')\n",
    "\n",
    "    # Add text for labels, title, custom x-axis tick labels, and legend\n",
    "    ax.set_ylabel('Binops per Second')\n",
    "    ax.set_yscale('log')\n",
    "    ax.set_title(title)\n",
    "    ax.set_xticks(x)\n",
    "    ax.set_xticklabels(predicates)\n",
    "    ax.legend()\n",
    "\n",
    "    fig.tight_layout()\n",
    "    plt.xticks(rotation=45)\n",
    "    plt.show()"
   ]
  },
  {
   "cell_type": "markdown",
   "id": "3a45dff0-161d-4e6d-80c0-b480d9bdde00",
   "metadata": {},
   "source": [
    "# Benchmarking Results\n",
    "\n",
    "The following cells demonstrate cuSpatial's binary predicate performance against GeoPandas for all of the features and groups of features defined in the various `dispatch_list` files. The size of each test is designed to keep execution time ~1-2m at most, so that results can be explored and displayed dynamically.\n",
    "\n",
    "# Point+Point Benchmarks"
   ]
  },
  {
   "cell_type": "code",
   "execution_count": 15,
   "id": "30cfa962-8370-4433-9fe4-111a25e19163",
   "metadata": {
    "tags": []
   },
   "outputs": [],
   "source": [
    "size = 1_000_000\n",
    "point_point_results = benchmark_dispatch_list(\n",
    "    point_point_dispatch_list,\n",
    "    size,\n",
    "    engines,\n",
    "    predicates \n",
    ")"
   ]
  },
  {
   "cell_type": "markdown",
   "id": "837f7c31-e8cb-4c9e-84fe-305cdad8898b",
   "metadata": {},
   "source": [
    "`point_point_results` contains the execution time for geopandas and cuspatial predicates using only `Points`. The performance gap continues to increase as the number of elements increases, until cuspatial `.loc` based indexing causes OOM errors around 200m Points."
   ]
  },
  {
   "cell_type": "code",
   "execution_count": 16,
   "id": "3d2edb5b-9ebb-4cf6-9eab-3d73a4b550c2",
   "metadata": {
    "tags": []
   },
   "outputs": [
    {
     "data": {
      "image/png": "[encoded data removed]",
      "text/plain": [
       "<Figure size 640x480 with 1 Axes>"
      ]
     },
     "metadata": {},
     "output_type": "display_data"
    }
   ],
   "source": [
    "plot_grouped_bars(point_point_results, 'Point-Point Binops: Log(10) Ops/Second')"
   ]
  },
  {
   "cell_type": "markdown",
   "id": "33e6de84-5f01-4856-aee6-72a2cb12b923",
   "metadata": {},
   "source": [
    "# Point+LineString Binops Benchmarks\n",
    "\n",
    "Noteworthy in the Point+LineString benchmark sets are the three predicates with the same execution time as GeoPandas: `contains`, `geom_equals`, and `covers`. This is because these predicates are all impossible, and each library simply terminates immediately returning `False` apparently based on the feature type.\n",
    "\n",
    "Also noteworthy are `crosses` and `overlaps` which cuSpatial demonstrates a massive performance increase. This is either because our algorithm for determining these predicates is more efficient than GeoPandas, or incorrect."
   ]
  },
  {
   "cell_type": "code",
   "execution_count": 17,
   "id": "0023d764-f632-4ee4-9fb7-1c223d428399",
   "metadata": {
    "tags": []
   },
   "outputs": [],
   "source": [
    "size = 10_000_000\n",
    "point_linestring_results = benchmark_dispatch_list(\n",
    "    point_linestring_dispatch_list,\n",
    "    size,\n",
    "    engines,\n",
    "    predicates\n",
    ")"
   ]
  },
  {
   "cell_type": "code",
   "execution_count": 18,
   "id": "c8a5067e-be86-460e-9a5b-92d71d6ad990",
   "metadata": {
    "tags": []
   },
   "outputs": [
    {
     "data": {
      "image/png": "[encoded data removed]",
      "text/plain": [
       "<Figure size 640x480 with 1 Axes>"
      ]
     },
     "metadata": {},
     "output_type": "display_data"
    }
   ],
   "source": [
    "plot_grouped_bars(point_linestring_results, 'Point-Linestring Binops: Log(10) Ops/Second')"
   ]
  },
  {
   "cell_type": "markdown",
   "id": "72ca19c3-7975-4170-b211-c01581edc4c8",
   "metadata": {},
   "source": [
    "# Point-Polygon Benchmarks\n",
    "\n",
    "Point+Polygon binops produce mixed results. See the graphs and speedup factor listed below.\n",
    "\n",
    "- `contains`, `geom_equals`, and `covers` have the same result as with Point+LineString: they are impossible, and terminated without a binop.\n",
    "- `intersection`: Take note of intersection here because Point+Polygon intersection is computed via Point+Polygon `.contains`, which demonstrates the biggest issue with our implementations of point-in-polygon and requires that we develop further optimizations. `quadtree_point_in_polygon` computes the relationship of every point in the rhs with every point in the lhs. The possible result matrix with 10m rows is of course 10mx10m, which cannot fit in memory. In order to use quadtree, the polygons need to have an indexing step to eliminate duplicates at least. `brute_force_point_in_polygon` only supports up to 31 polygons at a time, so handling a dataset of this size would require 10_000_000/31=322580 iterations. Because of these limitations, I have enabled `pairwise_point_in_polygon` to support the basic pairwise implementation of `.contains` as it is represented in GeoPandas. Unfortunately, while it supports the necessary data size, performance is inferior. Performance is inferior as a combination of the unoptimized speed of `pairwise_point_in_polygon` and the expensive indexing techniques designed to support, primarily, `quadtree_point_in_polygon`. The easiest optimization is to handle indexing differently for `pairwise_point_in_polygon`, since expensive and complicated techniques are not required for `Polygon.contains(Point)`. This doesn't solve the issue of indexing for more complicated geometry types. We will see this result repeat itself throughout the benchmarks.\n",
    "- `disjoint`: Contains an inefficiency based on calling `pairwise_linestring_intersection` that should be removed by the time you read this document in the containing pull request.\n",
    "- `within`: Within is the inverse of `.intersects` here and suffers from the same performance limitations."
   ]
  },
  {
   "cell_type": "code",
   "execution_count": 19,
   "id": "8fe862b1-7af0-43e7-ba57-0f620448d5b9",
   "metadata": {
    "tags": []
   },
   "outputs": [],
   "source": [
    "size = 10_000_000\n",
    "point_polygon_results = benchmark_dispatch_list(\n",
    "    point_polygon_dispatch_list,\n",
    "    size,\n",
    "    engines,\n",
    "    predicates\n",
    ")"
   ]
  },
  {
   "cell_type": "code",
   "execution_count": 20,
   "id": "c0eac545-24e7-49b0-bc19-4b451251852f",
   "metadata": {
    "tags": []
   },
   "outputs": [
    {
     "data": {
      "image/png": "[encoded data removed]",
      "text/plain": [
       "<Figure size 640x480 with 1 Axes>"
      ]
     },
     "metadata": {},
     "output_type": "display_data"
    }
   ],
   "source": [
    "plot_grouped_bars(point_polygon_results, 'Point-Polygon Binops: Log(10) Ops/Second')"
   ]
  },
  {
   "cell_type": "markdown",
   "id": "43083a6d-eb2c-4a99-8076-41ea018806e3",
   "metadata": {},
   "source": [
    "# LineString-LineString Benchmarks\n",
    "\n",
    "LineString results vary but all are largely satisfactory - this is due to the lack of an unoptimized `point_in_polygon` occurring in any of the operations."
   ]
  },
  {
   "cell_type": "code",
   "execution_count": null,
   "id": "785289d0-5b7a-4a26-9a9f-82091aa34153",
   "metadata": {
    "tags": []
   },
   "outputs": [],
   "source": [
    "size = 10_000_000\n",
    "linestring_linestring_results = benchmark_dispatch_list(\n",
    "    linestring_linestring_dispatch_list,\n",
    "    size,\n",
    "    engines,\n",
    "    predicates\n",
    ")"
   ]
  },
  {
   "cell_type": "code",
   "execution_count": null,
   "id": "ee3f26c4-3668-4505-8428-df002046fc26",
   "metadata": {},
   "outputs": [],
   "source": [
    "plot_grouped_bars(linestring_linestring_results, 'LineString-LineString Binops: Log(10) Ops/Second')"
   ]
  },
  {
   "cell_type": "markdown",
   "id": "c5503871-b7ba-47d7-bd80-1532833f9204",
   "metadata": {
    "tags": []
   },
   "source": [
    "# LineString-Polygon Benchmarks\n",
    "\n",
    "- `intersects` and `within` use a combination of intersection and point_in_polygon and the results are unsatisfying. There are likely performance improvements that can be made in the python implementation of intersection which would close the gap, but the underlying problem with `point_in_polygon` remains."
   ]
  },
  {
   "cell_type": "code",
   "execution_count": null,
   "id": "ae206b14-f1b9-49d2-8575-ddec9ac7a6f2",
   "metadata": {
    "tags": []
   },
   "outputs": [],
   "source": [
    "size = 5_000_000\n",
    "linestring_polygon_results = benchmark_dispatch_list(\n",
    "    linestring_polygon_dispatch_list,\n",
    "    size,\n",
    "    engines,\n",
    "    predicates\n",
    ")"
   ]
  },
  {
   "cell_type": "code",
   "execution_count": null,
   "id": "0373c7d7-7448-4860-9681-ed8b4aa8cdcb",
   "metadata": {
    "tags": []
   },
   "outputs": [],
   "source": [
    "plot_grouped_bars(linestring_polygon_results, 'LineString-Polygon Binops: Log(10) Ops/Second')"
   ]
  },
  {
   "cell_type": "markdown",
   "id": "bcf8e6d8-1098-4e52-a2c5-47ac12739da3",
   "metadata": {},
   "source": [
    "# Polygon-Polygon Benchmarks\n",
    "\n",
    "Performance is better with cuspatial than geopandas for many predicates, but not so much better that it is a really compelling use case. That's with the exception of `crosses` whose comparative performance is so astronomical that it suggests there may be an implementation issue."
   ]
  },
  {
   "cell_type": "code",
   "execution_count": null,
   "id": "e1c04e79-d029-45f9-8f8d-01d1b652cd95",
   "metadata": {},
   "outputs": [],
   "source": [
    "size = 5_000_000\n",
    "polygon_polygon_results = benchmark_dispatch_list(\n",
    "    polygon_polygon_dispatch_list,\n",
    "    size,\n",
    "    engines,\n",
    "    predicates\n",
    ")"
   ]
  },
  {
   "cell_type": "code",
   "execution_count": null,
   "id": "3abd06db-5f3a-41b2-97f4-2f72e52dc48e",
   "metadata": {
    "tags": []
   },
   "outputs": [],
   "source": [
    "plot_grouped_bars(polygon_polygon_results, 'Polygon+Polygon Binops: Log(10) Ops/Second')"
   ]
  },
  {
   "cell_type": "code",
   "execution_count": null,
   "id": "43a892cc-c6f9-43b8-b860-a01c45cbc8d3",
   "metadata": {},
   "outputs": [],
   "source": []
  }
 ],
 "metadata": {
  "kernelspec": {
   "display_name": "Python 3 (ipykernel)",
   "language": "python",
   "name": "python3"
  },
  "language_info": {
   "codemirror_mode": {
    "name": "ipython",
    "version": 3
   },
   "file_extension": ".py",
   "mimetype": "text/x-python",
   "name": "python",
   "nbconvert_exporter": "python",
   "pygments_lexer": "ipython3",
   "version": "3.10.12"
  }
 },
 "nbformat": 4,
 "nbformat_minor": 5
}
