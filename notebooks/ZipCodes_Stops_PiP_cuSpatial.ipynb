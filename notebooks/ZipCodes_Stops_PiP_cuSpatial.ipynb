{
 "cells": [
  {
   "cell_type": "markdown",
   "id": "458fe838-b143-4d31-9ddd-8efd0217f4a7",
   "metadata": {},
   "source": [
    "# Stop Sign Counting By Zipcodes in California"
   ]
  },
  {
   "cell_type": "markdown",
   "id": "6931011f-0d83-45ce-b254-4b5424b82624",
   "metadata": {},
   "source": [
    "This notebook demonstrates the use of geodataframe joins with point in polygon in cuSpatial\n",
    "\n",
    "## Prerequisite: Datasets\n",
    "\n",
    "Dataset used (TODO: discuss if need to self host):\n",
    "1. Stops (Signs and Stop lines) Dataset from OpenStreetMap: [Tag Page](https://wiki.openstreetmap.org/wiki/Tag:highway%3Dstop)\n",
    "2. USA ZipCode: [Download](https://catalog.data.gov/dataset/tiger-line-shapefile-2019-2010-nation-u-s-2010-census-5-digit-zip-code-tabulation-area-zcta5-na)\n",
    "3. USA States boundary: [link](https://osm-boundaries.com/)\n",
    "\n",
    "Download the datasets and save as:\n",
    "1. USA_Stops_Vertices.csv\n",
    "2. USA_Zipcodes_2019_Tiger.csv\n",
    "3. USA_States.csv"
   ]
  },
  {
   "cell_type": "markdown",
   "id": "497810f3-acf0-4472-a187-322413c9db11",
   "metadata": {},
   "source": [
    "## Overview\n",
    "\n",
    "Stop signs is a important symbol of city and road development in geographical information systems. This notebook processes all stop sign locations from the a dataset, using spatial joins to categorify them within the zipcodes boundaries that are located within California. This notebook does the following steps:\n",
    "1. Filters the zipcode boundaries that locates in California with spatial join.\n",
    "2. Filters the stop signs that locates in all the zipcodes with spatial join.\n",
    "3. Count the stop signs by zipcodes.\n",
    "4. Visualize the result on map."
   ]
  },
  {
   "cell_type": "code",
   "execution_count": 1,
   "id": "b2892e9a-ce32-4e5a-94a9-dd121d2a6ea3",
   "metadata": {},
   "outputs": [],
   "source": [
    "# Import Necessary Packages\n",
    "import cuspatial, cudf\n",
    "import pandas as pd\n",
    "import geopandas as gpd\n",
    "import numpy as np\n",
    "from shapely import wkt\n",
    "from tqdm.notebook import trange\n",
    "import pydeck as pdk"
   ]
  },
  {
   "cell_type": "markdown",
   "id": "044c84d9-2f82-4de5-a4c5-b7b9e5ef6b93",
   "metadata": {},
   "source": [
    "## Load Dataset and Cleanup\n",
    "\n",
    "We load the dataset and store them as device dataframe in cuspatial. Note that the second cell below loads the dataset with cuDF, then adopts geopandas to parse the WKT strings into shapely objects. This is a slow step performed on CPU and requires data transfer between device and host."
   ]
  },
  {
   "cell_type": "code",
   "execution_count": 2,
   "id": "fcb48a9c-f968-486c-8cb8-7e0de6cc7f1c",
   "metadata": {},
   "outputs": [],
   "source": [
    "# Import Stop Sign CSV\n",
    "d_stops = cudf.read_csv(\"USA_Stops_Vertices.csv\", usecols=[\"x\", \"y\"])"
   ]
  },
  {
   "cell_type": "code",
   "execution_count": 3,
   "id": "b12cfa00-ad8d-4b9c-93cf-c1a511f8d513",
   "metadata": {},
   "outputs": [],
   "source": [
    "#Import CSV of Zipcodes\n",
    "d_zip = cudf.read_csv(\n",
    "    \"USA_Zipcodes_2019_Tiger.csv\",\n",
    "    usecols=[\"WKT\", \"ZCTA5CE10\", \"INTPTLAT10\", \"INTPTLON10\"])\n",
    "d_zip.INTPTLAT10 = d_zip.INTPTLAT10.astype(\"float\")\n",
    "d_zip.INTPTLON10 = d_zip.INTPTLON10.astype(\"float\")"
   ]
  },
  {
   "cell_type": "code",
   "execution_count": 4,
   "id": "583856a2-0b29-48c1-ade7-3840f640c5e7",
   "metadata": {},
   "outputs": [],
   "source": [
    "# Load WKT as shapely objects\n",
    "h_zip = d_zip.to_pandas()\n",
    "h_zip[\"WKT\"] = h_zip[\"WKT\"].apply(wkt.loads)\n",
    "h_zip = gpd.GeoDataFrame(h_zip, geometry=\"WKT\", crs='epsg:4326')\n",
    "\n",
    "# Roundtrip back to geopandas\n",
    "d_zip = cuspatial.from_geopandas(h_zip)"
   ]
  },
  {
   "cell_type": "code",
   "execution_count": 5,
   "id": "a13b228d-9a60-4f32-b548-fa6f4240e75e",
   "metadata": {
    "tags": []
   },
   "outputs": [],
   "source": [
    "# Load State Boundaries\n",
    "states = gpd.read_file(\"USA_States.csv\", geometry='WKT', crs='epsg:4326')\n",
    "d_states = cuspatial.from_geopandas(states)"
   ]
  },
  {
   "cell_type": "code",
   "execution_count": 6,
   "id": "33da801e-01a3-4c9f-bbba-0c61dc7677d9",
   "metadata": {
    "tags": []
   },
   "outputs": [],
   "source": [
    "class QuadTree:\n",
    "    \"\"\"Helper class to use cuspatial quadtree interface\n",
    "    \"\"\"\n",
    "    def __init__(self,\n",
    "                 df,\n",
    "                 x_column,\n",
    "                 y_column,\n",
    "                 x_min=None,\n",
    "                 x_max=None,\n",
    "                 y_min=None,\n",
    "                 y_max=None,\n",
    "                 scale = 100,\n",
    "                 max_depth = 3,\n",
    "                 min_size = 12):\n",
    "\n",
    "        self.x_min = df[x_column].min() if not x_min else x_min\n",
    "        self.x_max = df[x_column].max() if not x_max else x_max\n",
    "        self.y_min = df[y_column].min() if not y_min else y_min\n",
    "        self.y_max = df[y_column].max() if not y_max else y_max\n",
    "        \n",
    "        self.scale = scale\n",
    "        self.max_depth = max_depth\n",
    "        self.min_size = min_size\n",
    "\n",
    "        self.point_df = df\n",
    "        self.x_column = x_column\n",
    "        self.y_column = y_column\n",
    "        \n",
    "        self.polygon_point_mapping = None\n",
    "        \n",
    "        self.point_indices, self.quadtree = (\n",
    "            cuspatial.quadtree_on_points(df[x_column],\n",
    "                                         df[y_column],\n",
    "                                         self.x_min,\n",
    "                                         self.x_max,\n",
    "                                         self.y_min,\n",
    "                                         self.y_max,\n",
    "                                         self.scale,\n",
    "                                         self.max_depth,\n",
    "                                         self.min_size))\n",
    "\n",
    "    def set_polygon(self, df, poly_column, verbose=True):\n",
    "        rng = trange if verbose else range\n",
    "\n",
    "        polys = df[poly_column]\n",
    "\n",
    "        parts = polys.polygons.part_offset\n",
    "        rings = polys.polygons.ring_offset\n",
    "        x = polys.polygons.x\n",
    "        y = polys.polygons.y\n",
    "        partials = []\n",
    "\n",
    "        stride = 100\n",
    "\n",
    "        geometries = cudf.Series(polys.polygons.geometry_offset)\n",
    "        for start in trange(0, len(parts), stride):\n",
    "            end = min(start + stride, len(parts))\n",
    "            \n",
    "            poly_bboxes = cuspatial.polygon_bounding_boxes(\n",
    "                parts[start:end],\n",
    "                rings,\n",
    "                x,\n",
    "                y\n",
    "            )\n",
    "            intersections = cuspatial.join_quadtree_and_bounding_boxes(\n",
    "                self.quadtree, poly_bboxes, self.x_min, self.x_max, self.y_min, self.y_max, self.scale, self.max_depth\n",
    "            )\n",
    "            partial_polygon_point_mapping = cuspatial.quadtree_point_in_polygon(\n",
    "                intersections,\n",
    "                self.quadtree,\n",
    "                self.point_indices,\n",
    "                self.point_df[self.x_column],\n",
    "                self.point_df[self.y_column],\n",
    "                parts[start:end],\n",
    "                rings,\n",
    "                x,\n",
    "                y\n",
    "            )\n",
    "            \n",
    "            part_index = partial_polygon_point_mapping.polygon_index + start\n",
    "            polygon_index = geometries.searchsorted(part_index, side=\"right\")-1\n",
    "            partial_polygon_point_mapping.polygon_index = polygon_index\n",
    "            partials.append(partial_polygon_point_mapping)\n",
    "\n",
    "        self.polygon_point_mapping = cudf.concat(partials, axis=0)\n",
    "        self.polygon_point_mapping = self.polygon_point_mapping.reset_index(drop=True)\n",
    "        \n",
    "        idx_of_idx = self.point_indices.take(\n",
    "            self.polygon_point_mapping.point_index\n",
    "        ).reset_index(drop=True)\n",
    "        \n",
    "        self.polygon_point_mapping.point_index = idx_of_idx\n",
    "        self.polygon_df = df\n",
    "\n",
    "    def _subset_geodf(self, geodf, columns):\n",
    "        res = cudf.DataFrame()\n",
    "        for col in columns:\n",
    "            res[col] = geodf[col]\n",
    "        return res\n",
    "\n",
    "    def points(self, columns = None):\n",
    "        if self.polygon_point_mapping is None:\n",
    "            raise ValueError(\"First set polygon dataframe.\")\n",
    "        \n",
    "        if not columns:\n",
    "            df = self.point_df\n",
    "        else:\n",
    "            df = self._subset_geodf(self.point_df, columns)\n",
    "\n",
    "        if any(dtype == \"geometry\" for dtype in df.dtypes):\n",
    "            df = cuspatial.GeoDataFrame(df)\n",
    "        \n",
    "        mapping = self.polygon_point_mapping\n",
    "        res = df.iloc[mapping.point_index]\n",
    "        res = res.reset_index(drop=True)\n",
    "        res[\"polygon_index\"] = mapping.polygon_index\n",
    "        res[\"point_index\"] = mapping.point_index\n",
    "        return res\n",
    "\n",
    "    def polygons(self, columns = None):\n",
    "        if self.polygon_point_mapping is None:\n",
    "            raise ValueError(\"First set polygon dataframe.\")\n",
    "        \n",
    "        if not columns:\n",
    "            df = self.polygon_df\n",
    "        else:\n",
    "            df = self._subset_geodf(self.polygon_df, columns)\n",
    "        \n",
    "        if any(dtype == \"geometry\" for dtype in df.dtypes):\n",
    "            df = cuspatial.GeoDataFrame(df)\n",
    "        \n",
    "        mapping = self.polygon_point_mapping\n",
    "        res = df.iloc[mapping.polygon_index]\n",
    "        res = res.reset_index(drop=True)\n",
    "        res[\"polygon_index\"] = mapping.polygon_index\n",
    "        res[\"point_index\"] = mapping.point_index\n",
    "        return res\n",
    "    \n",
    "    def point_left_join_polygon(self, point_columns=None, polygon_columns=None):\n",
    "        points = self.points(point_columns)\n",
    "        polygons = self.polygons(polygon_columns)\n",
    "        joined = points.merge(polygons, on=[\"polygon_index\", \"point_index\"], how=\"left\")\n",
    "        joined = joined.drop([\"polygon_index\", \"point_index\"], axis=1)\n",
    "        return cuspatial.GeoDataFrame(joined)"
   ]
  },
  {
   "cell_type": "markdown",
   "id": "eda8fb4c-39ec-44e2-9163-cbbdd91eeb1d",
   "metadata": {},
   "source": [
    "## Filtering Zipcode by its Geometric Center\n",
    "\n",
    "The Zipcode Dataset contains boundaries for all zipcodes in the US. The below uses the geometric center for each zipcode and uses cuspatial's quadtree interface to filter zipcodes that locates only in California."
   ]
  },
  {
   "cell_type": "code",
   "execution_count": 7,
   "id": "c0cadafb-acae-41d6-bbca-c10a8201699c",
   "metadata": {
    "tags": []
   },
   "outputs": [
    {
     "data": {
      "application/vnd.jupyter.widget-view+json": {
       "model_id": "70974753d4ba4ac79ee50b0816679087",
       "version_major": 2,
       "version_minor": 0
      },
      "text/plain": [
       "  0%|          | 0/15 [00:00<?, ?it/s]"
      ]
     },
     "metadata": {},
     "output_type": "display_data"
    }
   ],
   "source": [
    "# Use quadtree to filter zip codes\n",
    "\n",
    "# Build a point quadtree using the geometric center of the zip code region\n",
    "zipcode_quadtree = QuadTree(d_zip, x_column=\"INTPTLON10\", y_column=\"INTPTLAT10\")\n",
    "\n",
    "# Pass boundary\n",
    "zipcode_quadtree.set_polygon(d_states, poly_column='geometry')\n",
    "\n",
    "# Join state and zip code boundaries\n",
    "zipcode_by_state = zipcode_quadtree.point_left_join_polygon([\"WKT\", \"ZCTA5CE10\"], [\"STUSPS\"])\n",
    "\n",
    "# Get Californian zipcodes\n",
    "CA_zipcode = zipcode_by_state[zipcode_by_state.STUSPS == 'CA']"
   ]
  },
  {
   "cell_type": "code",
   "execution_count": 8,
   "id": "b4712b74-aad8-41f3-9106-d73d9df344db",
   "metadata": {
    "tags": []
   },
   "outputs": [
    {
     "data": {
      "text/plain": [
       "(1762, 467666)"
      ]
     },
     "execution_count": 8,
     "metadata": {},
     "output_type": "execute_result"
    }
   ],
   "source": [
    "len(CA_zipcode), len(d_stops)"
   ]
  },
  {
   "cell_type": "markdown",
   "id": "6446d81b-006a-4a0b-995b-a001c9b7766f",
   "metadata": {},
   "source": [
    "## Join stop signs dataset with California Zipcode boundaries\n",
    "\n",
    "The below joins the stop sign dataset (460K data points) with all zip code boundaries in California (1700 data points)."
   ]
  },
  {
   "cell_type": "code",
   "execution_count": 9,
   "id": "370ee37c-1311-4f54-9b0c-afd862c489aa",
   "metadata": {
    "tags": []
   },
   "outputs": [
    {
     "data": {
      "application/vnd.jupyter.widget-view+json": {
       "model_id": "cf69553058774b27b53ec670167ec1e8",
       "version_major": 2,
       "version_minor": 0
      },
      "text/plain": [
       "  0%|          | 0/21 [00:00<?, ?it/s]"
      ]
     },
     "metadata": {},
     "output_type": "display_data"
    }
   ],
   "source": [
    "# Build a 2nd quadtree with all stop signs in US\n",
    "stop_quadtree = QuadTree(d_stops, x_column='x', y_column='y')\n",
    "\n",
    "# Pass zip code polygons\n",
    "stop_quadtree.set_polygon(CA_zipcode, poly_column=\"WKT\")\n",
    "\n",
    "# Join the stop signs and the zip code dataframe\n",
    "stop_by_zipcode = stop_quadtree.point_left_join_polygon([\"x\", \"y\"], [\"ZCTA5CE10\"])"
   ]
  },
  {
   "cell_type": "code",
   "execution_count": 10,
   "id": "5674f74a-9315-4e1f-ac0d-c45a1b97ae3e",
   "metadata": {
    "tags": []
   },
   "outputs": [
    {
     "data": {
      "text/html": [
       "<div>\n",
       "<style scoped>\n",
       "    .dataframe tbody tr th:only-of-type {\n",
       "        vertical-align: middle;\n",
       "    }\n",
       "\n",
       "    .dataframe tbody tr th {\n",
       "        vertical-align: top;\n",
       "    }\n",
       "\n",
       "    .dataframe thead th {\n",
       "        text-align: right;\n",
       "    }\n",
       "</style>\n",
       "<table border=\"1\" class=\"dataframe\">\n",
       "  <thead>\n",
       "    <tr style=\"text-align: right;\">\n",
       "      <th></th>\n",
       "      <th>x</th>\n",
       "      <th>y</th>\n",
       "      <th>ZCTA5CE10</th>\n",
       "    </tr>\n",
       "  </thead>\n",
       "  <tbody>\n",
       "    <tr>\n",
       "      <th>0</th>\n",
       "      <td>-118.438872</td>\n",
       "      <td>34.175839</td>\n",
       "      <td>91401</td>\n",
       "    </tr>\n",
       "    <tr>\n",
       "      <th>1</th>\n",
       "      <td>-118.438872</td>\n",
       "      <td>34.175680</td>\n",
       "      <td>91401</td>\n",
       "    </tr>\n",
       "    <tr>\n",
       "      <th>2</th>\n",
       "      <td>-118.442066</td>\n",
       "      <td>34.176668</td>\n",
       "      <td>91401</td>\n",
       "    </tr>\n",
       "    <tr>\n",
       "      <th>3</th>\n",
       "      <td>-118.442298</td>\n",
       "      <td>34.176667</td>\n",
       "      <td>91401</td>\n",
       "    </tr>\n",
       "    <tr>\n",
       "      <th>4</th>\n",
       "      <td>-118.442066</td>\n",
       "      <td>34.177578</td>\n",
       "      <td>91401</td>\n",
       "    </tr>\n",
       "  </tbody>\n",
       "</table>\n",
       "</div>"
      ],
      "text/plain": [
       "            x          y ZCTA5CE10\n",
       "0 -118.438872  34.175839     91401\n",
       "1 -118.438872  34.175680     91401\n",
       "2 -118.442066  34.176668     91401\n",
       "3 -118.442298  34.176667     91401\n",
       "4 -118.442066  34.177578     91401\n",
       "(GPU)"
      ]
     },
     "execution_count": 10,
     "metadata": {},
     "output_type": "execute_result"
    }
   ],
   "source": [
    "stop_by_zipcode.head()"
   ]
  },
  {
   "cell_type": "markdown",
   "id": "4b61f534-faa4-4465-b47b-fb717169f30e",
   "metadata": {},
   "source": [
    "## Zipcode counting with cuDF\n",
    "\n",
    "The below resorts to [cuDF](https://docs.rapids.ai/api/cudf/stable/index.html) and counts the number of stop signs per zip code. Then merge the geometry information from the zipcode dataset."
   ]
  },
  {
   "cell_type": "code",
   "execution_count": 11,
   "id": "247d716c-4718-4aba-8d4f-5f816852194d",
   "metadata": {
    "tags": []
   },
   "outputs": [
    {
     "data": {
      "text/plain": [
       "(ZCTA5CE10\n",
       " 90034    399\n",
       " 94501    128\n",
       " 92114     86\n",
       " 93543     17\n",
       " 90502      2\n",
       " Name: stop_count, dtype: int32,\n",
       " 1338)"
      ]
     },
     "execution_count": 11,
     "metadata": {},
     "output_type": "execute_result"
    }
   ],
   "source": [
    "# Count the Stop Signs by California Zip Codes\n",
    "stop_counts = stop_by_zipcode.groupby(\"ZCTA5CE10\").x.count().rename(\"stop_count\")\n",
    "stop_counts.head(), len(stop_counts)"
   ]
  },
  {
   "cell_type": "code",
   "execution_count": 12,
   "id": "ccf31694-275d-4987-a318-79bc1ea79e73",
   "metadata": {
    "tags": []
   },
   "outputs": [
    {
     "name": "stdout",
     "output_type": "stream",
     "text": [
      "DataFrame Size:  1762\n"
     ]
    }
   ],
   "source": [
    "# Fetch the polygon boundaries\n",
    "stop_counts_and_bounds = cuspatial.GeoDataFrame(CA_zipcode.merge(stop_counts, on=\"ZCTA5CE10\", how=\"left\"))\n",
    "stop_counts_and_bounds[\"stop_count\"] = stop_counts_and_bounds[\"stop_count\"].astype(\"int\").fillna(0)\n",
    "print(\"DataFrame Size: \", len(stop_counts_and_bounds))"
   ]
  },
  {
   "cell_type": "code",
   "execution_count": 13,
   "id": "966ca3a4-fc19-4235-8251-6a1a8692995b",
   "metadata": {
    "tags": []
   },
   "outputs": [
    {
     "data": {
      "text/html": [
       "<div>\n",
       "<style scoped>\n",
       "    .dataframe tbody tr th:only-of-type {\n",
       "        vertical-align: middle;\n",
       "    }\n",
       "\n",
       "    .dataframe tbody tr th {\n",
       "        vertical-align: top;\n",
       "    }\n",
       "\n",
       "    .dataframe thead th {\n",
       "        text-align: right;\n",
       "    }\n",
       "</style>\n",
       "<table border=\"1\" class=\"dataframe\">\n",
       "  <thead>\n",
       "    <tr style=\"text-align: right;\">\n",
       "      <th></th>\n",
       "      <th>WKT</th>\n",
       "      <th>ZCTA5CE10</th>\n",
       "      <th>STUSPS</th>\n",
       "      <th>stop_count</th>\n",
       "    </tr>\n",
       "  </thead>\n",
       "  <tbody>\n",
       "    <tr>\n",
       "      <th>25407</th>\n",
       "      <td>POLYGON ((-117.80192 34.05094, -117.80168 34.0...</td>\n",
       "      <td>91766</td>\n",
       "      <td>CA</td>\n",
       "      <td>27</td>\n",
       "    </tr>\n",
       "    <tr>\n",
       "      <th>25538</th>\n",
       "      <td>POLYGON ((-123.28057 41.59464, -123.27830 41.6...</td>\n",
       "      <td>96032</td>\n",
       "      <td>CA</td>\n",
       "      <td>2</td>\n",
       "    </tr>\n",
       "    <tr>\n",
       "      <th>25545</th>\n",
       "      <td>POLYGON ((-122.71085 41.99296, -122.71084 41.9...</td>\n",
       "      <td>96044</td>\n",
       "      <td>CA</td>\n",
       "      <td>13</td>\n",
       "    </tr>\n",
       "    <tr>\n",
       "      <th>25547</th>\n",
       "      <td>POLYGON ((-122.90051 40.35854, -122.90048 40.3...</td>\n",
       "      <td>96047</td>\n",
       "      <td>CA</td>\n",
       "      <td>3</td>\n",
       "    </tr>\n",
       "    <tr>\n",
       "      <th>25406</th>\n",
       "      <td>MULTIPOLYGON (((-114.55600 32.78118, -114.5560...</td>\n",
       "      <td>92222</td>\n",
       "      <td>CA</td>\n",
       "      <td>0</td>\n",
       "    </tr>\n",
       "  </tbody>\n",
       "</table>\n",
       "</div>"
      ],
      "text/plain": [
       "                                                     WKT ZCTA5CE10 STUSPS  \\\n",
       "25407  POLYGON ((-117.80192 34.05094, -117.80168 34.0...     91766     CA   \n",
       "25538  POLYGON ((-123.28057 41.59464, -123.27830 41.6...     96032     CA   \n",
       "25545  POLYGON ((-122.71085 41.99296, -122.71084 41.9...     96044     CA   \n",
       "25547  POLYGON ((-122.90051 40.35854, -122.90048 40.3...     96047     CA   \n",
       "25406  MULTIPOLYGON (((-114.55600 32.78118, -114.5560...     92222     CA   \n",
       "\n",
       "       stop_count  \n",
       "25407          27  \n",
       "25538           2  \n",
       "25545          13  \n",
       "25547           3  \n",
       "25406           0  "
      ]
     },
     "execution_count": 13,
     "metadata": {},
     "output_type": "execute_result"
    }
   ],
   "source": [
    "# Move dataframe to host for visualization\n",
    "host_df = stop_counts_and_bounds.to_geopandas()\n",
    "host_df.head()"
   ]
  },
  {
   "cell_type": "code",
   "execution_count": 14,
   "id": "cbc9ed92-83ab-41dc-9911-2d21695be433",
   "metadata": {
    "tags": []
   },
   "outputs": [],
   "source": [
    "host_df = host_df.rename({\"WKT\": \"geometry\"}, axis=1)"
   ]
  },
  {
   "cell_type": "code",
   "execution_count": 15,
   "id": "20126863-4efa-4e70-9d11-dd51b7df71a3",
   "metadata": {
    "tags": []
   },
   "outputs": [
    {
     "data": {
      "text/html": [
       "<div>\n",
       "<style scoped>\n",
       "    .dataframe tbody tr th:only-of-type {\n",
       "        vertical-align: middle;\n",
       "    }\n",
       "\n",
       "    .dataframe tbody tr th {\n",
       "        vertical-align: top;\n",
       "    }\n",
       "\n",
       "    .dataframe thead th {\n",
       "        text-align: right;\n",
       "    }\n",
       "</style>\n",
       "<table border=\"1\" class=\"dataframe\">\n",
       "  <thead>\n",
       "    <tr style=\"text-align: right;\">\n",
       "      <th></th>\n",
       "      <th>geometry</th>\n",
       "      <th>ZCTA5CE10</th>\n",
       "      <th>STUSPS</th>\n",
       "      <th>stop_count</th>\n",
       "    </tr>\n",
       "  </thead>\n",
       "  <tbody>\n",
       "    <tr>\n",
       "      <th>25407</th>\n",
       "      <td>POLYGON ((-117.80192 34.05094, -117.80168 34.0...</td>\n",
       "      <td>91766</td>\n",
       "      <td>CA</td>\n",
       "      <td>27</td>\n",
       "    </tr>\n",
       "    <tr>\n",
       "      <th>25538</th>\n",
       "      <td>POLYGON ((-123.28057 41.59464, -123.27830 41.6...</td>\n",
       "      <td>96032</td>\n",
       "      <td>CA</td>\n",
       "      <td>2</td>\n",
       "    </tr>\n",
       "    <tr>\n",
       "      <th>25545</th>\n",
       "      <td>POLYGON ((-122.71085 41.99296, -122.71084 41.9...</td>\n",
       "      <td>96044</td>\n",
       "      <td>CA</td>\n",
       "      <td>13</td>\n",
       "    </tr>\n",
       "    <tr>\n",
       "      <th>25547</th>\n",
       "      <td>POLYGON ((-122.90051 40.35854, -122.90048 40.3...</td>\n",
       "      <td>96047</td>\n",
       "      <td>CA</td>\n",
       "      <td>3</td>\n",
       "    </tr>\n",
       "    <tr>\n",
       "      <th>25406</th>\n",
       "      <td>MULTIPOLYGON (((-114.55600 32.78118, -114.5560...</td>\n",
       "      <td>92222</td>\n",
       "      <td>CA</td>\n",
       "      <td>0</td>\n",
       "    </tr>\n",
       "    <tr>\n",
       "      <th>...</th>\n",
       "      <td>...</td>\n",
       "      <td>...</td>\n",
       "      <td>...</td>\n",
       "      <td>...</td>\n",
       "    </tr>\n",
       "    <tr>\n",
       "      <th>19532</th>\n",
       "      <td>POLYGON ((-122.26230 37.83786, -122.26218 37.8...</td>\n",
       "      <td>94618</td>\n",
       "      <td>CA</td>\n",
       "      <td>115</td>\n",
       "    </tr>\n",
       "    <tr>\n",
       "      <th>19533</th>\n",
       "      <td>POLYGON ((-122.21027 37.78804, -122.20993 37.7...</td>\n",
       "      <td>94619</td>\n",
       "      <td>CA</td>\n",
       "      <td>217</td>\n",
       "    </tr>\n",
       "    <tr>\n",
       "      <th>19214</th>\n",
       "      <td>POLYGON ((-120.46465 40.21273, -120.46454 40.2...</td>\n",
       "      <td>96121</td>\n",
       "      <td>CA</td>\n",
       "      <td>0</td>\n",
       "    </tr>\n",
       "    <tr>\n",
       "      <th>19524</th>\n",
       "      <td>POLYGON ((-122.19735 37.77162, -122.19728 37.7...</td>\n",
       "      <td>94605</td>\n",
       "      <td>CA</td>\n",
       "      <td>894</td>\n",
       "    </tr>\n",
       "    <tr>\n",
       "      <th>19522</th>\n",
       "      <td>POLYGON ((-122.23468 37.79983, -122.23379 37.8...</td>\n",
       "      <td>94602</td>\n",
       "      <td>CA</td>\n",
       "      <td>45</td>\n",
       "    </tr>\n",
       "  </tbody>\n",
       "</table>\n",
       "<p>1762 rows × 4 columns</p>\n",
       "</div>"
      ],
      "text/plain": [
       "                                                geometry ZCTA5CE10 STUSPS  \\\n",
       "25407  POLYGON ((-117.80192 34.05094, -117.80168 34.0...     91766     CA   \n",
       "25538  POLYGON ((-123.28057 41.59464, -123.27830 41.6...     96032     CA   \n",
       "25545  POLYGON ((-122.71085 41.99296, -122.71084 41.9...     96044     CA   \n",
       "25547  POLYGON ((-122.90051 40.35854, -122.90048 40.3...     96047     CA   \n",
       "25406  MULTIPOLYGON (((-114.55600 32.78118, -114.5560...     92222     CA   \n",
       "...                                                  ...       ...    ...   \n",
       "19532  POLYGON ((-122.26230 37.83786, -122.26218 37.8...     94618     CA   \n",
       "19533  POLYGON ((-122.21027 37.78804, -122.20993 37.7...     94619     CA   \n",
       "19214  POLYGON ((-120.46465 40.21273, -120.46454 40.2...     96121     CA   \n",
       "19524  POLYGON ((-122.19735 37.77162, -122.19728 37.7...     94605     CA   \n",
       "19522  POLYGON ((-122.23468 37.79983, -122.23379 37.8...     94602     CA   \n",
       "\n",
       "       stop_count  \n",
       "25407          27  \n",
       "25538           2  \n",
       "25545          13  \n",
       "25547           3  \n",
       "25406           0  \n",
       "...           ...  \n",
       "19532         115  \n",
       "19533         217  \n",
       "19214           0  \n",
       "19524         894  \n",
       "19522          45  \n",
       "\n",
       "[1762 rows x 4 columns]"
      ]
     },
     "execution_count": 15,
     "metadata": {},
     "output_type": "execute_result"
    }
   ],
   "source": [
    "host_df"
   ]
  },
  {
   "cell_type": "markdown",
   "id": "d1f2af42-affb-4e9e-ac24-b5583641a366",
   "metadata": {},
   "source": [
    "## Visualization\n",
    "\n",
    "Now, we visualize the stop sign count results using [PyDeck](https://deckgl.readthedocs.io/en/latest/index.html)."
   ]
  },
  {
   "cell_type": "code",
   "execution_count": 16,
   "id": "6a9cb2d6-c7d3-4063-9b24-47101dba0044",
   "metadata": {},
   "outputs": [],
   "source": [
    "# Visualize the Dataset\n",
    "\n",
    "# Geo Center of CA: 120°4.9'W 36°57.9'N\n",
    "view_state = pdk.ViewState(\n",
    "    **{\"latitude\": 33.96500, \"longitude\": -118.08167, \"zoom\": 6, \"maxZoom\": 16, \"pitch\": 95, \"bearing\": 0}\n",
    ")\n",
    "\n",
    "gpd_layer = pdk.Layer(\n",
    "        \"GeoJsonLayer\",\n",
    "        data=host_df[[\"geometry\", \"stop_count\", \"ZCTA5CE10\"]],\n",
    "        get_polygon=\"geometry\",\n",
    "        get_elevation=\"stop_count\",\n",
    "        extruded=True,\n",
    "        elevation_scale=50,\n",
    "        get_fill_color=[227,74,51],\n",
    "        get_line_color=[255, 255, 255],\n",
    "        auto_highlight=True,\n",
    "        filled=True,\n",
    "        wireframe=True,\n",
    "        pickable=True\n",
    "    )\n",
    "\n",
    "tooltip = {\"html\": \"<b>Stop Sign Count:</b> {stop_count} <br> <b>ZipCode: {ZCTA5CE10}\"}\n",
    "\n",
    "r = pdk.Deck(\n",
    "    gpd_layer,\n",
    "    initial_view_state=view_state,\n",
    "    map_style=pdk.map_styles.LIGHT,\n",
    "    tooltip=tooltip,\n",
    ")\n",
    "\n",
    "# Time consuming since it contains ~1700 polygons\n",
    "r.to_html(\"geopandas_layer.html\", notebook_display=False)"
   ]
  },
  {
   "cell_type": "markdown",
   "id": "e05fc526-c935-417f-9f53-0f13a0c6d02a",
   "metadata": {},
   "source": [
    "### Open geopandas_layer.html to see visulization result\n",
    "\n",
    "![stop_per_state_map](stop_states.png)"
   ]
  },
  {
   "cell_type": "code",
   "execution_count": null,
   "id": "b7611be2-6dbe-40a5-ae9e-51283737d3f2",
   "metadata": {},
   "outputs": [],
   "source": []
  }
 ],
 "metadata": {
  "kernelspec": {
   "display_name": "Python 3 (ipykernel)",
   "language": "python",
   "name": "python3"
  },
  "language_info": {
   "codemirror_mode": {
    "name": "ipython",
    "version": 3
   },
   "file_extension": ".py",
   "mimetype": "text/x-python",
   "name": "python",
   "nbconvert_exporter": "python",
   "pygments_lexer": "ipython3",
   "version": "3.9.16"
  }
 },
 "nbformat": 4,
 "nbformat_minor": 5
}
