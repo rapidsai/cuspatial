{
 "cells": [
  {
   "cell_type": "markdown",
   "id": "6e155f6c-ada2-4a48-a967-84aa1f0ef011",
   "metadata": {
    "tags": []
   },
   "source": [
    "# cuSpatial API Demo - Reverse Geocoding\n",
    "GTC April 2023 Michael Wang and Thomson Comer\n",
    "\n",
    "Demo System: Intel Xeon Gold 3.4Ghz, 48GB RAM, 32GB GV100 GPU\n",
    "\n",
    "The following notebook demonstrates the use of cuSpatial to perform analytics using large datasets.\n",
    "\n",
    "The structure of the notebook is as follows:\n",
    "1. Imports\n",
    "1. Read datasets: National Address Database (NAD), NYC Taxi Zones Polygons, 2015 NYC Taxi pickup/dropoff information with lon/lat. Also convert epsg:2263 (NYC Long Island) to WGS.\n",
    "1. Convert separate lon/lat columns in DataFrames into cuspatial.GeoSeries\n",
    "1. Compute number of addresses and pickups in each zone\n",
    "1. Compute addresses for each pickup in one zone\n",
    "\n",
    "## Data\n",
    "\n",
    "[National Address Database](https://nationaladdressdata.s3.amazonaws.com/NAD_r12_TXT.zip)\n",
    "\n",
    "[NYC Taxi Zones](https://d37ci6vzurychx.cloudfront.net/misc/taxi_zones.zip)\n",
    "\n",
    "[taxi2015.csv](https://rapidsai-data.s3.us-east-2.amazonaws.com/viz-data/nyc_taxi.tar.gz)"
   ]
  },
  {
   "cell_type": "markdown",
   "id": "dc3c05f8-ba7a-44de-9f94-c6bc1b3cf17c",
   "metadata": {
    "slideshow": {
     "slide_type": "skip"
    },
    "source_hidden": true,
    "tags": []
   },
   "source": [
    "<style>\n",
    ":table {\n",
    "    background-color:transparent;\n",
    "}\n",
    "</style>\n",
    "<table align=\"center\" style=\"background-color: transparent\">\n",
    "    <!--\n",
    "    <td>\n",
    "        <img src=\"https://www.transportation.gov/sites/dot.gov/files/images/NAD_Partners_20221201_v12_Release_0.jpg\" width=\"350\" height=\"400\" float=\"left\">\n",
    "    </td>\n",
    "    -->\n",
    "    <td>\n",
    "        <img src=\"https://www.dropbox.com/s/rql9lo7we92k9wc/nad-addresses.png?dl=1\" width=\"350\">\n",
    "    </td>\n",
    "    <td>\n",
    "        <img src=\"https://www.dropbox.com/s/bj4ad8iba5p6u77/nyc-taxi-zones.png?raw=1\" width=\"350\" height=\"400\">\n",
    "    </td>\n",
    "    <td>\n",
    "        <img src=\"https://www.dropbox.com/s/i516rqruz97fd2q/nyc-taxi-pickups.png?dl=1\" float=\"left\" width=\"330\">\n",
    "    </td>\n",
    "</table>\n",
    "\n",
    "I/O\n",
    " \n",
    "- National Address Database (NAD): \n",
    "- NYC Taxi Zones Shapefile (zones)\n",
    "- NYC 2015 Taxi Pickups and Dropoffs with Lon/Lat Coords (taxi2015)"
   ]
  },
  {
   "cell_type": "code",
   "execution_count": null,
   "id": "77a16fd2-9ae1-4725-bf0a-97b9ecd9dc18",
   "metadata": {
    "tags": []
   },
   "outputs": [],
   "source": [
    "%%time\n",
    "import cudf\n",
    "import cuspatial\n",
    "import geopandas\n",
    "\n",
    "cudf.set_option(\"spill\", True) "
   ]
  },
  {
   "cell_type": "code",
   "execution_count": null,
   "id": "393edadb-fc55-4bb6-a16c-b8ba40817324",
   "metadata": {
    "tags": []
   },
   "outputs": [],
   "source": [
    "%%time\n",
    "# I/O (18GB NAD, 265 borough polygons, 13m taxi pickups and dropoffs.\n",
    "NAD = cudf.read_csv('NAD_r11.txt', usecols=[\n",
    "    'State',\n",
    "    'Longitude',\n",
    "    'Latitude',\n",
    "])\n",
    "NAD = NAD[NAD['State'] == 'NY']\n",
    "NAD_Street = cudf.read_csv('NAD_r11.txt', usecols=[\n",
    "    'State',\n",
    "    'StN_PreDir',\n",
    "    'StreetName',\n",
    "    'StN_PosTyp',\n",
    "    'Add_Number',\n",
    "])\n",
    "NAD_Street = NAD_Street[NAD_Street['State'] == 'NY']\n",
    "# Read taxi_zones.zip shapefile with GeoPandas, then convert to epsg:4326 for lon/lat\n",
    "host_zones = geopandas.read_file('taxi_zones.zip')\n",
    "host_lonlat = host_zones.to_crs(epsg=4326)\n",
    "zones = cuspatial.from_geopandas(host_lonlat)\n",
    "zones.set_index(zones['OBJECTID'], inplace=True)\n",
    "taxi2015 = cudf.read_csv('taxi2015.csv')"
   ]
  },
  {
   "cell_type": "markdown",
   "id": "d889dfd1-a7a6-4fb0-8e26-a2e0eafc474f",
   "metadata": {},
   "source": [
    "<center><img src=\"https://www.dropbox.com/s/pp75u59z5uxwrlz/table-to-geoseries.png?dl=1\" width=500></center>"
   ]
  },
  {
   "cell_type": "code",
   "execution_count": null,
   "id": "da697bb0-d405-4c0e-8030-4b2b099ab863",
   "metadata": {},
   "outputs": [],
   "source": [
    "%%time\n",
    "# Convert DataFrames to GeoSeries\n",
    "\n",
    "pickups = cuspatial.GeoSeries.from_points_xy(\n",
    "    cudf.DataFrame({\n",
    "        'x': taxi2015['pickup_longitude'],\n",
    "        'y': taxi2015['pickup_latitude'],\n",
    "    }).interleave_columns()\n",
    ")\n",
    "addresses = cuspatial.GeoSeries.from_points_xy(\n",
    "    cudf.DataFrame({\n",
    "        'x': NAD['Longitude'],\n",
    "        'y': NAD['Latitude'],\n",
    "    }).interleave_columns()\n",
    ")"
   ]
  },
  {
   "cell_type": "code",
   "execution_count": null,
   "id": "97a423bb-7058-42bc-b8d9-d6af1cd16edd",
   "metadata": {},
   "outputs": [],
   "source": [
    "%%time\n",
    "zone_addresses = zones['geometry'].contains_properly(addresses, allpairs=True)\n",
    "display(zone_addresses)"
   ]
  },
  {
   "cell_type": "code",
   "execution_count": null,
   "id": "eb654b04-86d8-4a5f-9b61-78894457d00b",
   "metadata": {},
   "outputs": [],
   "source": [
    "%%time\n",
    "zone_pickups = zones['geometry'].iloc[0:120].contains_properly(pickups, allpairs=True)\n",
    "display(zone_pickups)\n",
    "\n",
    "# You can do it one of two ways: .contains_properly, or write the pip yourself."
   ]
  },
  {
   "cell_type": "code",
   "execution_count": null,
   "id": "896a796f-a80c-42a4-a6d4-c106b17e613f",
   "metadata": {
    "tags": []
   },
   "outputs": [],
   "source": [
    "%%time\n",
    "# Add pickup and address counts to zones dataframe\n",
    "\n",
    "zones[\"pickup_count\"] = zone_pickups.groupby('polygon_index').count()\n",
    "zones[\"address_count\"] = zone_addresses.groupby('polygon_index').count()\n",
    "zones.head(12)"
   ]
  },
  {
   "cell_type": "markdown",
   "id": "290d231a-2648-4ab1-9d33-97deecca689b",
   "metadata": {},
   "source": [
    "# Computing distances\n",
    "## Cartesian product via tiling\n",
    "\n",
    "<center><img src=\"https://www.dropbox.com/s/wlcr9fugq79nyut/tiled-cartesian-product.png?dl=1\" width=650></center>"
   ]
  },
  {
   "cell_type": "code",
   "execution_count": null,
   "id": "559fc631-35d1-456c-af31-c8e89bc23789",
   "metadata": {},
   "outputs": [],
   "source": [
    "%%time\n",
    "\n",
    "NEIGHBORHOOD_ID = 12\n",
    "\n",
    "# Let's make two GeoSeries: For each zone, create a GeoSeries with all address Points\n",
    "# repeated the number of times there are pickups in that zone, and another GeoSeries with\n",
    "# the opposite: all pickups Points repeated the number of times there are addresses in that\n",
    "# zone.\n",
    "\n",
    "# addresses tiled\n",
    "zone_address_point_ids = zone_addresses['point_index'][zone_addresses['polygon_index'] == NEIGHBORHOOD_ID]\n",
    "pickups_count = len(zone_pickups[zone_pickups['polygon_index'] == NEIGHBORHOOD_ID])\n",
    "addresses_tiled = NAD.iloc[\n",
    "    zone_address_point_ids\n",
    "].tile(pickups_count)\n",
    "\n",
    "# pickups tiled\n",
    "zone_pickup_point_ids = zone_pickups['point_index'][zone_pickups['polygon_index'] == NEIGHBORHOOD_ID]\n",
    "addresses_count = len(zone_addresses[zone_addresses['polygon_index'] == NEIGHBORHOOD_ID])\n",
    "pickups_tiled = taxi2015[[\n",
    "    'pickup_longitude',\n",
    "    'pickup_latitude'\n",
    "]].iloc[\n",
    "    zone_pickup_point_ids\n",
    "].tile(addresses_count)\n",
    "\n",
    "pickup_points = cuspatial.GeoSeries.from_points_xy(\n",
    "    cudf.DataFrame({\n",
    "        'x': pickups_tiled['pickup_longitude'],\n",
    "        'y': pickups_tiled['pickup_latitude']   \n",
    "    }).interleave_columns()\n",
    ")\n",
    "address_points = cuspatial.GeoSeries.from_points_xy(\n",
    "    cudf.DataFrame({\n",
    "        'x': addresses_tiled['Longitude'],\n",
    "        'y': addresses_tiled['Latitude']\n",
    "    }).interleave_columns()\n",
    ")\n",
    "len(address_points)"
   ]
  },
  {
   "cell_type": "markdown",
   "id": "dcba649c-4adf-42ab-bc0a-2c2ebe8fa7d5",
   "metadata": {},
   "source": [
    "<center><img src=\"https://www.dropbox.com/s/30rntm6p67mw96c/pairwise_point_distance.png?dl=1\" width=550></center>"
   ]
  },
  {
   "cell_type": "code",
   "execution_count": null,
   "id": "27e5f68c-ad66-428d-8cd6-6e1268d5e884",
   "metadata": {},
   "outputs": [],
   "source": [
    "%%time\n",
    "# get the list of addresses and their indices that are closest to a pickup point\n",
    "\n",
    "haversines = cuspatial.haversine_distance(pickup_points, address_points)\n",
    "\n",
    "gb_df = cudf.DataFrame({\n",
    "    'address': addresses_tiled.index,\n",
    "    'pickup': pickups_tiled.index,\n",
    "    'distance': haversines\n",
    "})\n",
    "\n",
    "address_indices_of_nearest = gb_df[['address', 'distance']].groupby('address').idxmin()\n",
    "pickup_indices_of_nearest = gb_df[['pickup', 'distance']].groupby('pickup').idxmin()\n",
    "address_nearest_pickups = gb_df.loc[address_indices_of_nearest['distance']]\n",
    "pickups_nearest_address = gb_df.loc[pickup_indices_of_nearest['distance']]"
   ]
  },
  {
   "cell_type": "markdown",
   "id": "4b70ac6f-98ef-4df7-8f15-c0bb98934758",
   "metadata": {},
   "source": [
    "# We're almost there\n",
    "\n",
    "### We have the index of the addresses and their pickups"
   ]
  },
  {
   "cell_type": "code",
   "execution_count": null,
   "id": "7abd09dd-8207-4550-88bb-0ccbd32c4055",
   "metadata": {
    "scrolled": true,
    "tags": []
   },
   "outputs": [],
   "source": [
    "# Original data nearest pickups and addresses\n",
    "\n",
    "nearest_pickups = taxi2015.iloc[pickups_nearest_address['pickup']]\n",
    "nearest_addresses_lonlat = NAD.loc[pickups_nearest_address['address']]"
   ]
  },
  {
   "cell_type": "code",
   "execution_count": null,
   "id": "94d52460-d36a-4cbc-bf5a-f1be82b89eea",
   "metadata": {},
   "outputs": [],
   "source": [
    "%%time\n",
    "# Concatenate address fields\n",
    "\n",
    "def build_address_string(NAD_Street):\n",
    "    blanks = cudf.Series([' '] * len(NAD_Street))\n",
    "    blanks.index = NAD_Street.index\n",
    "    NAD_Street['StN_PreDir'] = NAD_Street['StN_PreDir'].fillna('')\n",
    "    NAD_Street['StN_PosTyp'] = NAD_Street['StN_PosTyp'].fillna('')\n",
    "    street_names = NAD_Street['Add_Number'].astype('str').str.cat(\n",
    "        blanks\n",
    "    ).str.cat(\n",
    "        NAD_Street['StN_PreDir']\n",
    "    ).str.cat(\n",
    "        blanks\n",
    "    ).str.cat(\n",
    "        NAD_Street['StreetName']\n",
    "    ).str.cat(\n",
    "        blanks\n",
    "    ).str.cat(\n",
    "        NAD_Street['StN_PosTyp']\n",
    "    )\n",
    "    return street_names.str.replace('  ', ' ')\n",
    "\n",
    "nearest_addresses_street_name = NAD_Street.loc[pickups_nearest_address['address']]\n",
    "street_names = build_address_string(nearest_addresses_street_name)"
   ]
  },
  {
   "cell_type": "markdown",
   "id": "434321bd-78f4-4547-acb2-8977e271beb0",
   "metadata": {
    "tags": []
   },
   "source": [
    "# Last Step"
   ]
  },
  {
   "cell_type": "code",
   "execution_count": null,
   "id": "070bc274-1642-49d5-903b-ee4baabe8a22",
   "metadata": {
    "tags": []
   },
   "outputs": [],
   "source": [
    "%%time\n",
    "# Attach the street names to the original pickups dataframe\n",
    "\n",
    "# save the taxi2015 index\n",
    "no_index = nearest_pickups.reset_index()\n",
    "# set taxi2015 street names and distances based on their iloc positions\n",
    "no_index['pickup_address'] = street_names.reset_index(drop=True)\n",
    "no_index['distance'] = pickups_nearest_address['distance'].reset_index(drop=True)\n",
    "# return the index\n",
    "taxi_pickups_with_address = no_index.set_index(no_index['index'])\n",
    "taxi_pickups_with_address.drop('index', inplace=True, axis=1)\n",
    "\n",
    "display(taxi_pickups_with_address[[\n",
    "    'tpep_pickup_datetime',\n",
    "    'passenger_count',\n",
    "    'trip_distance',\n",
    "    'distance',\n",
    "    'pickup_longitude',\n",
    "    'pickup_latitude',\n",
    "    'fare_amount',\n",
    "    'tip_amount',\n",
    "    'pickup_address'\n",
    "]])\n",
    "display(taxi_pickups_with_address[[\n",
    "    'pickup_latitude',\n",
    "    'pickup_longitude',\n",
    "    'pickup_address',\n",
    "    'distance'\n",
    "]].sort_values('distance'))"
   ]
  },
  {
   "cell_type": "markdown",
   "id": "88b7dead-84e6-49c3-b33d-5ee1076d6d60",
   "metadata": {},
   "source": [
    "# Use cuXfilter to display these coordinates"
   ]
  },
  {
   "cell_type": "code",
   "execution_count": null,
   "id": "18d67ad6-861e-42f8-a2b1-3277cb6cf0f2",
   "metadata": {},
   "outputs": [],
   "source": [
    "import cuxfilter\n",
    "from bokeh import palettes\n",
    "from cuxfilter.layouts import feature_and_double_base\n",
    "import cupy as cp\n",
    "\n",
    "from pyproj import Proj, Transformer\n",
    "\n",
    "display_pickups = taxi2015.iloc[address_nearest_pickups['pickup']]\n",
    "display_addresses = NAD.loc[address_nearest_pickups['address']]\n",
    "\n",
    "combined_pickups_and_addresses = cudf.concat([\n",
    "    display_pickups[['pickup_longitude', 'pickup_latitude']].rename(\n",
    "        columns={\n",
    "            'pickup_longitude': 'Longitude',\n",
    "            'pickup_latitude': 'Latitude'\n",
    "        }\n",
    "    ),\n",
    "    display_addresses[['Longitude', 'Latitude']]], axis=0\n",
    ")\n",
    "combined_pickups_and_addresses['color'] = cp.repeat(cp.array([1, 2]), len(\n",
    "    combined_pickups_and_addresses\n",
    ")//2)\n",
    "# Back to NYC CRS for display\n",
    "transform_4326_to_3857 = Transformer.from_crs('epsg:4326', 'epsg:3857')\n",
    "combined_pickups_and_addresses['location_x'], combined_pickups_and_addresses['location_y'] = transform_4326_to_3857.transform(\n",
    "    combined_pickups_and_addresses['Latitude'].values_host, combined_pickups_and_addresses['Longitude'].values_host\n",
    ")"
   ]
  },
  {
   "cell_type": "code",
   "execution_count": null,
   "id": "1a7242e4-973d-412f-aa58-cf295c07bbbf",
   "metadata": {},
   "outputs": [],
   "source": [
    "cux_df = cuxfilter.DataFrame.from_dataframe(combined_pickups_and_addresses)\n",
    "chart1 = cuxfilter.charts.scatter(\n",
    "    title=\"Matched address pickup pairs\",\n",
    "    x='location_x',\n",
    "    y='location_y',\n",
    "    color_palette=[\"Green\", \"Red\"],\n",
    "    aggregate_col=\"color\", aggregate_fn=\"mean\",\n",
    "    unselected_alpha=0.0,\n",
    "    tile_provider=\"CartoLight\", x_range=(-8239910.23,-8229529.24), y_range=(4968481.34,4983152.92),\n",
    ")\n",
    "d = cux_df.dashboard([chart1],  theme=cuxfilter.themes.dark, title= 'NYC TAXI DATASSET')"
   ]
  },
  {
   "cell_type": "code",
   "execution_count": null,
   "id": "2623c6ee-ce00-4e51-862a-afc72c31a50c",
   "metadata": {},
   "outputs": [],
   "source": [
    "chart1.view()"
   ]
  },
  {
   "cell_type": "code",
   "execution_count": null,
   "id": "daa2558d",
   "metadata": {},
   "outputs": [],
   "source": []
  }
 ],
 "metadata": {
  "kernelspec": {
   "display_name": "Python 3 (ipykernel)",
   "language": "python",
   "name": "python3"
  },
  "language_info": {
   "codemirror_mode": {
    "name": "ipython",
    "version": 3
   },
   "file_extension": ".py",
   "mimetype": "text/x-python",
   "name": "python",
   "nbconvert_exporter": "python",
   "pygments_lexer": "ipython3",
   "version": "3.8.16"
  },
  "trusted": true
 },
 "nbformat": 4,
 "nbformat_minor": 5
}
